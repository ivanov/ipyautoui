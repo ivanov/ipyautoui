{
 "cells": [
  {
   "cell_type": "code",
   "execution_count": 1,
   "id": "13eb9538",
   "metadata": {},
   "outputs": [],
   "source": [
    "%run __init__.py"
   ]
  },
  {
   "cell_type": "code",
   "execution_count": 2,
   "id": "9cbf9935",
   "metadata": {},
   "outputs": [],
   "source": [
    "import pathlib\n",
    "import os\n",
    "import subprocess\n",
    "import pathlib\n",
    "import pandas as pd\n",
    "import numpy as np\n",
    "from IPython.display import display, JSON, Markdown, HTML, IFrame, clear_output, Image\n",
    "import time\n",
    "from markdown import markdown\n",
    "import copy\n",
    "from dataclasses import dataclass, asdict, field\n",
    "from dacite import from_dict\n",
    "from typing import List, Dict, Callable, Type\n",
    "import typing\n",
    "import enum\n",
    "import getpass\n",
    "\n",
    "import ipydatagrid as ipg\n",
    "import ipywidgets as widgets\n",
    "from halo import HaloNotebook\n",
    "import plotly.io as pio\n",
    "\n",
    "#  from mf library\n",
    "try: \n",
    "    from mf_file_utilities import go as open_file\n",
    "except:\n",
    "    def open_file(path):\n",
    "        subprocess.call(['open', path])\n",
    "try:      \n",
    "    from xlsxtemplater import from_excel\n",
    "except:\n",
    "    pass\n",
    "\n",
    "#  local imports\n",
    "from ipyautoui.mydocstring_display import display_module_docstring\n",
    "from ipyautoui._utils import del_matching, md_fromfile, display_python_file, read_json, read_yaml, read_txt\n",
    "#from ipyrun._runconfig import Output, Outputs, File\n",
    "from ipyautoui.constants import BUTTON_WIDTH_MIN, BUTTON_HEIGHT_MIN\n"
   ]
  },
  {
   "cell_type": "code",
   "execution_count": 3,
   "id": "ffaac7b1",
   "metadata": {},
   "outputs": [],
   "source": [
    "#  NOT IN USE - need a way to display pdf's!\n",
    "#  https://github.com/voila-dashboards/voila/issues/659\n",
    "#  i think this is resolved... need to make sure the path given is relative to the notebook... \n",
    "\n",
    "# def served_pdf():\n",
    "#     value=r'<iframe width=\"500\" height=\"600\" src=\"https://www.w3.org/WAI/ER/tests/xhtml/testfiles/resources/pdf/dummy.pdf\" frameborder=\"1\" allowfullscreen></iframe>'\n",
    "#     myhtml =widgets.HTML(\n",
    "#         value=value,\n",
    "#         placeholder='Some HTML',\n",
    "#         description='Some HTML',\n",
    "#     )\n",
    "#     display(myhtml)\n",
    "    \n",
    "# def local_pdf():\n",
    "#     value=r'<iframe width=\"500\" height=\"600\" src=\"../test_filetypes/eg_pdf.pdf\" frameborder=\"1\" allowfullscreen></iframe>'\n",
    "#     myhtml =widgets.HTML(\n",
    "#         value=value,\n",
    "#         placeholder='Some HTML',\n",
    "#         description='Some HTML',\n",
    "#     )\n",
    "#     display(myhtml)\n",
    "    \n",
    "# def fromfile_pdf():\n",
    "#     value=r'<iframe width=\"500\" height=\"600\" src=\"file:///mnt/c/engDev/git_mf/ipyrun/test_filetypes/eg_pdf.pdf\" frameborder=\"1\" allowfullscreen></iframe>'\n",
    "#     myhtml =widgets.HTML(\n",
    "#         value=value,\n",
    "#         placeholder='Some HTML',\n",
    "#         description='Some HTML',\n",
    "#     )\n",
    "#     display(myhtml)\n",
    "\n",
    "#served_pdf()\n",
    "#local_pdf()\n",
    "#fromfile_pdf()"
   ]
  },
  {
   "cell_type": "code",
   "execution_count": 4,
   "id": "20767db4",
   "metadata": {},
   "outputs": [],
   "source": [
    "def _markdown(value='_Markdown_',\n",
    "              **kwargs):\n",
    "    \"\"\"\n",
    "    a simple template for markdown text input that templates required input\n",
    "    fields. additional user defined fields can be added as kwargs\n",
    "    \"\"\"\n",
    "    _kwargs = {}\n",
    "    _kwargs['value'] = markdown(value)  # required field\n",
    "    _kwargs.update(kwargs)  # user overides\n",
    "    return widgets.HTML(**_kwargs)\n",
    "\n",
    "def mdboldstr(string, di):\n",
    "    return '__{}__: {}'.format(string,di[string])\n",
    "\n",
    "def mdnorms(di):\n",
    "    return mdboldstr('ProjectNo', di) + ' ........ ' + mdboldstr('Date', di) + ' ........ ' + mdboldstr('Author', di)\n",
    "\n",
    "def mdwildcars(di):\n",
    "    exclude = ['sheet_name', 'xlsx_params', 'xlsx_exporter', 'ProjectNo', 'Date', 'Author', 'df', 'grid']\n",
    "    others = {k:v for k,v in di.items() if k not in exclude}\n",
    "    mdstr = ''\n",
    "    for k, v in others.items():\n",
    "        mdstr = mdstr + '__{}__: {}<br>'.format(k,v) \n",
    "    return mdstr\n",
    "\n",
    "def mdheader(di):\n",
    "    return '### {} \\n {} <br> {}'.format(\n",
    "        di['sheet_name'], mdnorms(di), mdwildcars(di)\n",
    "    )\n",
    "\n",
    "def xlsxtemplated_display(li):\n",
    "    \"\"\"\n",
    "    displays xlsxtemplated (written using xlsxtemplater) using ipydatagrid\n",
    "    \"\"\"\n",
    "    for l in li:\n",
    "        l['grid'] = default_grid(l['df'])\n",
    "        display(Markdown(mdheader(l)))\n",
    "        display(l['grid'])\n",
    "#  string = 'ProjectNo'\n",
    "#  mdheader(di)"
   ]
  },
  {
   "cell_type": "code",
   "execution_count": 5,
   "id": "d833953d",
   "metadata": {},
   "outputs": [
    {
     "data": {
      "application/vnd.jupyter.widget-view+json": {
       "model_id": "5cd84e6348ec4d3b8cf57373766fb669",
       "version_major": 2,
       "version_minor": 0
      },
      "text/plain": [
       "HBox(children=(ToggleButton(value=False, button_style='primary', description='primary'), HTML(value='<p><code>…"
      ]
     },
     "metadata": {},
     "output_type": "display_data"
    },
    {
     "data": {
      "application/vnd.jupyter.widget-view+json": {
       "model_id": "538c1d56811f4fc285c5dae43dd52e9a",
       "version_major": 2,
       "version_minor": 0
      },
      "text/plain": [
       "HBox(children=(ToggleButton(value=False, button_style='success', description='success'), HTML(value='<p><code>…"
      ]
     },
     "metadata": {},
     "output_type": "display_data"
    },
    {
     "data": {
      "application/vnd.jupyter.widget-view+json": {
       "model_id": "20a7e2d5ef15433ea4080e385eb1cc80",
       "version_major": 2,
       "version_minor": 0
      },
      "text/plain": [
       "HBox(children=(ToggleButton(value=False, button_style='info', description='info'), HTML(value='<p><code>widget…"
      ]
     },
     "metadata": {},
     "output_type": "display_data"
    },
    {
     "data": {
      "application/vnd.jupyter.widget-view+json": {
       "model_id": "3546318781694ed3a1cd8882a66db5d0",
       "version_major": 2,
       "version_minor": 0
      },
      "text/plain": [
       "HBox(children=(ToggleButton(value=False, button_style='warning', description='warning'), HTML(value='<p><code>…"
      ]
     },
     "metadata": {},
     "output_type": "display_data"
    },
    {
     "data": {
      "application/vnd.jupyter.widget-view+json": {
       "model_id": "d2f96382f3a24b598b75d550ef3fad5b",
       "version_major": 2,
       "version_minor": 0
      },
      "text/plain": [
       "HBox(children=(ToggleButton(value=False, button_style='danger', description='danger'), HTML(value='<p><code>wi…"
      ]
     },
     "metadata": {},
     "output_type": "display_data"
    }
   ],
   "source": [
    "def display_button_styles():\n",
    "    \"\"\"displays default ipywidget button styles\"\"\"\n",
    "    styles = ['primary', 'success', 'info', 'warning', 'danger']\n",
    "    for s in styles:\n",
    "        b = widgets.ToggleButton(description=s, button_style=s)\n",
    "        t = _markdown('```widgets.ToggleButton(description=\"{}\", button_style=\"{}\")```'.format(s,s))\n",
    "        display(widgets.HBox([b,t]))\n",
    "if __name__ == \"__main__\":\n",
    "    display_button_styles()"
   ]
  },
  {
   "cell_type": "code",
   "execution_count": 6,
   "id": "d4c1cf9f",
   "metadata": {},
   "outputs": [
    {
     "data": {
      "application/vnd.jupyter.widget-view+json": {
       "model_id": "f14d11b92e88493caf104cf2bd0a97c0",
       "version_major": 2,
       "version_minor": 0
      },
      "text/plain": [
       "DataGrid(auto_fit_columns=True, auto_fit_params={'area': 'all', 'padding': 30, 'numCols': None}, corner_render…"
      ]
     },
     "metadata": {},
     "output_type": "display_data"
    }
   ],
   "source": [
    "def get_ext(fpth):\n",
    "    \"\"\"get file extension including compound json files\"\"\"\n",
    "    return ''.join(pathlib.Path(fpth).suffixes)\n",
    "\n",
    "def Vega(spec):\n",
    "    \"\"\"\n",
    "    render Vega in jupyterlab\n",
    "    https://github.com/jupyterlab/jupyterlab/blob/master/examples/vega/vega-extension.ipynb\n",
    "    \"\"\"\n",
    "    bundle = {}\n",
    "    bundle['application/vnd.vega.v5+json'] = spec\n",
    "    display(bundle, raw=True);\n",
    "\n",
    "def VegaLite(spec):\n",
    "    \"\"\"\n",
    "    render VegaLite in jupyterlab\n",
    "    https://github.com/jupyterlab/jupyterlab/blob/master/examples/vega/vega-extension.ipynb\n",
    "    \"\"\"\n",
    "    bundle = {}\n",
    "    bundle['application/vnd.vegalite.v4+json'] = spec\n",
    "    display(bundle, raw=True);\n",
    "\n",
    "\n",
    "def default_grid(df, **kwargs):\n",
    "    \"\"\"\n",
    "    thin wrapper for ipy.DataGrid\n",
    "\n",
    "    Code:\n",
    "        _kwargs = {\n",
    "            'layout':{'width':'100%', 'height':'400px'}\n",
    "        }\n",
    "        _kwargs.update(kwargs)  # user overides\n",
    "        g = ipg.DataGrid(df, **_kwargs)\n",
    "        return g\n",
    "\n",
    "    \"\"\"\n",
    "\n",
    "    _kwargs = {\n",
    "        'layout':{'width':'100%', 'height':'400px'},\n",
    "        'auto_fit_columns': True\n",
    "    }\n",
    "    _kwargs.update(kwargs)  # user overides\n",
    "    g = ipg.DataGrid(df, **_kwargs)\n",
    "    return g\n",
    "\n",
    "if __name__ == \"__main__\":\n",
    "    df = pd.DataFrame.from_dict({'a':['a','b'],'b':['a','b']})\n",
    "    display(default_grid(df))"
   ]
  },
  {
   "cell_type": "code",
   "execution_count": 7,
   "id": "b90b0c56",
   "metadata": {
    "lines_to_next_cell": 1
   },
   "outputs": [],
   "source": [
    "class PreviewPy():\n",
    "    \"\"\"\n",
    "    pass the class either a filepath or an imported\n",
    "    module and get a display output of the modules\n",
    "    docstring with a toggle option to view the code\n",
    "    \"\"\"\n",
    "    def __init__(self, module, preview_script=True):\n",
    "        self.input = module\n",
    "        self.preview_script = preview_script\n",
    "        self.out = widgets.Output()\n",
    "        self.fpth = self._handle_input()\n",
    "        self._init_form()\n",
    "        self._init_controls()\n",
    "        self._show_docstring()\n",
    "\n",
    "    def _handle_input(self):\n",
    "        if str(type(self.input)) == \"<class 'module'>\":\n",
    "            fpth = self.input.__file__\n",
    "        else:\n",
    "            fpth = self.input\n",
    "        if os.path.splitext(fpth)[1] != '.py':\n",
    "            print('{0}: not a python file'.format(fpth))\n",
    "        return fpth\n",
    "\n",
    "    def _init_form(self):\n",
    "        self.script_name = os.path.splitext(os.path.basename(self.fpth))[0]\n",
    "        self.title = widgets.HTML('')\n",
    "        self.show_fpth = _markdown('``` {} ```'.format(self.fpth))          \n",
    "        self.show_me_the_code = widgets.ToggleButton(\n",
    "                              layout=widgets.Layout(width=BUTTON_WIDTH_MIN)\n",
    "        )\n",
    "        self.headerbox = widgets.VBox([widgets.HBox([self.show_me_the_code, self.title]), self.show_fpth])\n",
    "                               \n",
    "        if self.preview_script:\n",
    "            display(self.headerbox)\n",
    "            \n",
    "    def _init_controls(self):\n",
    "        self.show_me_the_code.observe(self._show_me_the_code, 'value')\n",
    "    \n",
    "    def _update_title(self):\n",
    "        self.title.value = '<b>{}</b>: {}'.format(self.script_name, self.description)\n",
    "\n",
    "    def _show_docstring(self):\n",
    "        self.show_me_the_code.icon='scroll'\n",
    "        self.show_me_the_code.tooltip='show the raw python code'\n",
    "        self.show_me_the_code.button_style='warning'\n",
    "        self.description = 'script documentation'\n",
    "        self._update_title()\n",
    "        with self.out:\n",
    "            clear_output()\n",
    "            display_module_docstring(self.fpth)\n",
    "\n",
    "    def _show_me_the_code(self, sender):\n",
    "        self.show_me_the_code.icon='book'\n",
    "        self.show_me_the_code.tooltip='show the python script documentation'\n",
    "        self.show_me_the_code.button_style='info'\n",
    "        self.description = 'python script'\n",
    "        self._update_title()\n",
    "        with self.out:\n",
    "            clear_output()\n",
    "            if self.show_me_the_code.value:\n",
    "                display(display_python_file(self.fpth))\n",
    "            else:\n",
    "                self._show_docstring()\n",
    "\n",
    "    def display(self):\n",
    "        display(self.out)\n",
    "\n",
    "    def _ipython_display_(self):\n",
    "        self.display()\n",
    "\n",
    "def pdf_prev(fpth):\n",
    "    display(IFrame(fpth, width=1000, height=600))\n",
    "\n",
    "def csv_prev(fpth):\n",
    "    \"\"\"\n",
    "    previes dataframe using the awesome ipydatagrid\n",
    "\n",
    "    Reference:\n",
    "        ipydatagrid\n",
    "    \"\"\"\n",
    "    data = del_matching(pd.read_csv(fpth),'Unnamed')\n",
    "    try:\n",
    "        g = default_grid(data)\n",
    "        display(g)\n",
    "    except:\n",
    "        display(data.style)\n",
    "\n",
    "def vegajson_prev(fpth):\n",
    "    \"\"\"display a plotly json file\"\"\"\n",
    "    display(Vega(read_json(fpth)))\n",
    "\n",
    "def vegalitejson_prev(fpth):\n",
    "    \"\"\"display a plotly json file\"\"\"\n",
    "    display(VegaLite(read_json(fpth)))\n",
    "\n",
    "def plotlyjson_prev(fpth):\n",
    "    \"\"\"display a plotly json file\"\"\"\n",
    "    if type(fpth) is not str:\n",
    "        fpth = str(fpth)\n",
    "    display(pio.read_json(fpth))\n",
    "\n",
    "def ipyuijson_prev(fpth):\n",
    "    print('add here!')\n",
    "\n",
    "def json_prev(fpth):\n",
    "    display(JSON(read_json(fpth)))\n",
    "\n",
    "def yaml_prev(fpth):\n",
    "    data = read_yaml(fpth)\n",
    "    display(JSON(data))\n",
    "\n",
    "def img_prev(fpth):\n",
    "    display(Image(fpth))\n",
    "\n",
    "def md_prev(fpth):\n",
    "    display(Markdown(\"`IMAGES WON'T DISPLAY UNLESS THE MARKDOWN FILE IS IN THE SAME FOLDER AS THIS JUPYTER NOTEBOOK`\"))\n",
    "    md_fromfile(fpth)\n",
    "\n",
    "def py_prev(fpth):\n",
    "    \"\"\"\n",
    "    pass the fpth of a python file and get a\n",
    "    rendered view of the code.\n",
    "    \"\"\"\n",
    "    p = PreviewPy(fpth)\n",
    "    display(p)\n",
    "\n",
    "def txt_prev(fpth):\n",
    "    display(Markdown(\"```{}```\".format(read_txt(fpth, read_lines=False))))\n",
    "\n",
    "def xl_prev(fpth):\n",
    "    \"\"\"display excel. if xlsxtemplated display as Grid, otherwise as _open_option\"\"\"\n",
    "    li = from_excel(fpth)\n",
    "    if li is not None:\n",
    "        xlsxtemplated_display(li)\n",
    "        return True\n",
    "    else:\n",
    "        return False\n",
    "        #self._open_option()"
   ]
  },
  {
   "cell_type": "code",
   "execution_count": 31,
   "id": "1814dc4d",
   "metadata": {
    "tags": []
   },
   "outputs": [
    {
     "data": {
      "application/vnd.jupyter.widget-view+json": {
       "model_id": "7962df11ede944d19b319c193b12185f",
       "version_major": 2,
       "version_minor": 0
      },
      "text/plain": [
       "VBox(children=(HBox(children=(HBox(children=(Button(disabled=True, icon='check', layout=Layout(height='25px', …"
      ]
     },
     "metadata": {},
     "output_type": "display_data"
    }
   ],
   "source": [
    "\n",
    "def string_of_time(t):\n",
    "    return time.strftime('%Y-%m-%d %H:%M:%S', time.localtime(t))\n",
    "\n",
    "def st_mtime_string(path):\n",
    "    try: \n",
    "        t = path.stat().st_mtime\n",
    "        return string_of_time(t)\n",
    "    except:\n",
    "        return '####-##-## ##:##:##'\n",
    "\n",
    "# Enum for size units\n",
    "class SIZE_UNIT(enum.Enum):\n",
    "    BYTES = 1\n",
    "    KB = 2\n",
    "    MB = 3\n",
    "    GB = 4\n",
    "    \n",
    "def convert_unit(size_in_bytes, unit):\n",
    "    \"\"\" Convert the size from bytes to other units like KB, MB or GB\"\"\"\n",
    "    if unit == SIZE_UNIT.KB:\n",
    "        return size_in_bytes/1024\n",
    "    elif unit == SIZE_UNIT.MB:\n",
    "        return size_in_bytes/(1024*1024)\n",
    "    elif unit == SIZE_UNIT.GB:\n",
    "        return size_in_bytes/(1024*1024*1024)\n",
    "    else:\n",
    "        return np.round(size_in_bytes,2)\n",
    "    \n",
    "def format_number(number, sigfigs=3):\n",
    "    return '{:g}'.format(float('{:.{p}g}'.format(number, p=sigfigs)))\n",
    "\n",
    "def get_file_size(path:pathlib.Path, size_type = SIZE_UNIT.KB, sigfigs=3):\n",
    "    \"\"\" Get file in size in given unit like KB, MB or GB\"\"\"\n",
    "    if path.is_file():\n",
    "        return format_number(convert_unit(path.stat().st_size, size_type))\n",
    "    else:\n",
    "        return '-'\n",
    "    \n",
    "def get_file_data(path):\n",
    "    return '<b>--</b> {} <b>--</b> <i>{}</i> <b>--</b> <i>{} KB</i>'.format(\n",
    "                getpass.getuser(), st_mtime_string(path),get_file_size(path))\n",
    "\n",
    "def open_ui(fpth: str):\n",
    "    \"\"\"\n",
    "    creates open file and open folder buttons\n",
    "    fpth used for building tooltip\n",
    "    \n",
    "    Args:\n",
    "        fpth\n",
    "    \n",
    "    Returns:\n",
    "        openpreview\n",
    "        openfile\n",
    "        openfolder\n",
    "    \"\"\"\n",
    "    if type(fpth) != pathlib.Path:\n",
    "        fpth = pathlib.Path(fpth)\n",
    "    isfile = widgets.Button(disabled=True,layout=widgets.Layout(width=BUTTON_WIDTH_MIN, height=BUTTON_HEIGHT_MIN))\n",
    "    openpreview = widgets.ToggleButton(\n",
    "        icon='eye', \n",
    "        layout=widgets.Layout(width=BUTTON_WIDTH_MIN, height=BUTTON_HEIGHT_MIN),\n",
    "        tooltip='preview file: {0}'.format(fpth),\n",
    "        style={'font_weight': 'bold','button_color':None}) \n",
    "    openfile = widgets.Button(\n",
    "        layout=widgets.Layout(width=BUTTON_WIDTH_MIN, height=BUTTON_HEIGHT_MIN),\n",
    "        icon='fa-file',\n",
    "        tooltip='open file: {0}'.format(fpth),\n",
    "        style={'font_weight': 'bold','button_color':None})   #,'button_color':'white'\n",
    "    openfolder = widgets.Button(\n",
    "        #description='+', \n",
    "        layout=widgets.Layout(width=BUTTON_WIDTH_MIN, height=BUTTON_HEIGHT_MIN),#,height='20px'\n",
    "        icon='fa-folder',\n",
    "        tooltip='open folder: {0}'.format(os.path.dirname(fpth)),\n",
    "        style={'font_weight': 'bold','button_color':None}) #,'button_color':'LightYellow'\n",
    "    filename = widgets.HTML(\n",
    "        '<b>{0}</b>'.format(fpth.name),layout=widgets.Layout(justify_items='center'))   \n",
    "    data = widgets.HTML(get_file_data(fpth),layout=widgets.Layout(justify_items='center'))   \n",
    "    return isfile, openpreview, openfile, openfolder, filename, data\n",
    "\n",
    "    \n",
    "class UiFile():\n",
    "    \"\"\"generic ipywidget file object\"\"\"\n",
    "    def __init__(self, path, save=True):\n",
    "        self.path = pathlib.Path(path)\n",
    "        self._init_form()\n",
    "        self._update_file()\n",
    "        \n",
    "    def _init_form(self):\n",
    "        self.isfile, self.openpreview, self.openfile, self.openfolder, self.filename, self.data = open_ui(self.path)\n",
    "        self.box_isfile = widgets.HBox([self.isfile],layout=widgets.Layout(width='40px'))\n",
    "        self.box_file = widgets.HBox([self.box_isfile, self.openpreview, self.openfile, self.openfolder, self.filename, self.data])\n",
    "    \n",
    "    def _update_file(self):\n",
    "        #self.spinner.stop()\n",
    "        #self.box_isfile.children = [self.isfile]\n",
    "        if self.path.is_file():\n",
    "            self.isfile.icon='fa-check'\n",
    "            self.isfile.style={'button_color':'SpringGreen'}\n",
    "        else:\n",
    "            self.isfile.icon='fa-times'\n",
    "            self.isfile.style={'button_color':'red'}\n",
    "        self.data.value = get_file_data(self.path)\n",
    "        \n",
    "    def _activate_waiting(self, wait_time=None):\n",
    "        self.isfile.icon='fa-circle'\n",
    "        self.isfile.style={'button_color':'yellow'}\n",
    "#         spinner = HaloNotebook(animation='marquee', spinner='dots')\n",
    "#         with spinner.output:\n",
    "#             spinner.start()\n",
    "#             self.box_isfile.children = [spinner.output]\n",
    "    \n",
    "        \n",
    "    def display(self):\n",
    "        display(self.box_file) \n",
    "        \n",
    "    def _ipython_display_(self):\n",
    "        self.display()\n",
    "        \n",
    "default_file_renderers = {\n",
    "        '.csv': csv_prev,\n",
    "        '.json': json_prev,\n",
    "        '.plotly': plotlyjson_prev,\n",
    "        '.plotly.json': plotlyjson_prev,\n",
    "        '.vg.json': vegajson_prev,\n",
    "        '.vl.json': vegalitejson_prev,\n",
    "        '.ipyui.json': ipyuijson_prev,\n",
    "        '.yaml': yaml_prev,\n",
    "        '.yml': yaml_prev,\n",
    "        '.png': img_prev,\n",
    "        '.jpg': img_prev,\n",
    "        '.jpeg': img_prev,\n",
    "        #'.obj': obj_prev, # add ipyvolume viewer? \n",
    "        '.txt': txt_prev,\n",
    "        '.md': md_prev,\n",
    "        '.py': py_prev,\n",
    "        '.pdf': pdf_prev,\n",
    "    }\n",
    "\n",
    "def preview_path(path: typing.Union[str, pathlib.Path],\n",
    "                 default_file_renderers: Dict[str, Callable] = default_file_renderers,\n",
    "                 user_file_renderers: Dict[str, Callable] = None):\n",
    "    if user_file_renderers is None:\n",
    "        user_file_renderers = {}\n",
    "    path = pathlib.Path(path)\n",
    "    ext = get_ext(path)\n",
    "    ext_map = {**default_file_renderers, **user_file_renderers}\n",
    "    if ext not in list(ext_map.keys()):\n",
    "        display(Markdown('cannot preview this file type'));\n",
    "    else:\n",
    "        fn = ext_map[ext]\n",
    "        fn(path)\n",
    "\n",
    "class DisplayFile():\n",
    "    \"\"\"\n",
    "    displays the contents of a file in the notebook.\n",
    "    \"\"\"\n",
    "    def __init__(self,\n",
    "                 path: typing.Union[str, pathlib.Path],\n",
    "                 default_file_renderers: Dict[str, Callable] = default_file_renderers,\n",
    "                 user_file_renderers: Dict[str, Callable] = None,\n",
    "                 newroot=pathlib.PureWindowsPath('J:/'),\n",
    "                 auto_open: bool=False\n",
    "                ):\n",
    "        \"\"\"\n",
    "        comes with the following default renderers:\n",
    "            default_file_renderers = {\n",
    "                    '.csv': csv_prev,\n",
    "                    '.json': json_prev,\n",
    "                    '.plotly': plotlyjson_prev,\n",
    "                    '.plotly.json': plotlyjson_prev,\n",
    "                    '.vg.json': vegajson_prev,\n",
    "                    '.vl.json': vegalitejson_prev,\n",
    "                    '.ipyui.json': ipyuijson_prev,\n",
    "                    '.yaml': yaml_prev,\n",
    "                    '.yml': yaml_prev,\n",
    "                    '.png': img_prev,\n",
    "                    '.jpg': img_prev,\n",
    "                    '.jpeg': img_prev,\n",
    "                    #'.obj': obj_prev, # add ipyvolume viewer? \n",
    "                    '.txt': txt_prev,\n",
    "                    '.md': md_prev,\n",
    "                    '.py': py_prev,\n",
    "                    '.pdf': pdf_prev,\n",
    "                }\n",
    "        user_file_renderers can be passed to class provided they have the correct\n",
    "        dict format:\n",
    "            user_file_renderers = {'.ext': myrenderer}\n",
    "        notice that the class allows for \"compound\" filetypes, especially useful for .json files\n",
    "        if you want to display the data in a specific way. \n",
    "        \n",
    "        Args:\n",
    "            fpth (str): filepath to display\n",
    "            user_file_renderers: Dict[str, Callable] = None : user defined file renderers to extend\n",
    "                the class\n",
    "                \n",
    "        Usage:\n",
    "            fpth = 'default_config.yaml'\n",
    "            DisplayFile(fpth).preview_fpth()\n",
    "        \n",
    "        How to extend:\n",
    "            if you want to update the class definition for a compound filetype that you have created, \n",
    "            you can do so using functools as follows:\n",
    "            ```\n",
    "                DisplayFile('default_config.test.yaml').preview_fpth()  # '.test.yaml' ext doesn't exist so renderer defaults to .yaml\n",
    "                \n",
    "                import functools\n",
    "                user_file_renderers = {'.test.yaml': txt_prev}\n",
    "                DisplayFile = functools.partial(DisplayFile, user_file_renderers=user_file_renderers)\n",
    "                DisplayFile('default_config.test.yaml').preview_fpth()  # display yaml file as txt_prev renderer\n",
    "            ```\n",
    "        \"\"\"\n",
    "        self.ui_file = UiFile(path)\n",
    "        self.fdir = self.ui_file.path.parent\n",
    "        self.ext = get_ext(self.ui_file.path)\n",
    "        self.newroot = newroot\n",
    "        self.out_caller = widgets.Output()\n",
    "        self.out = widgets.Output()\n",
    "        self.default_file_renderers = default_file_renderers\n",
    "        self.user_file_renderers = user_file_renderers\n",
    "        self._open_form()\n",
    "        self._init_controls()\n",
    "        if auto_open: \n",
    "            self.ui_file.openpreview.value = True\n",
    "            \n",
    "    @property\n",
    "    def path(self):\n",
    "        return self.ui_file.path\n",
    "            \n",
    "    def _activate_waiting(self):\n",
    "        self.ui_file._activate_waiting()\n",
    "        \n",
    "    def _update_file(self):\n",
    "        self.ui_file._update_file()\n",
    "\n",
    "    def preview_path(self):\n",
    "        preview_path(self.ui_file.path, \n",
    "                     default_file_renderers=self.default_file_renderers,\n",
    "                     user_file_renderers=self.user_file_renderers)\n",
    "        \n",
    "        \n",
    "    def _open_form(self):\n",
    "        self.open_ui = widgets.VBox([self.ui_file.box_file, self.out_caller, self.out])\n",
    "        \n",
    "    def _init_controls(self):\n",
    "        self.ui_file.openfile.on_click(self._openfile)\n",
    "        self.ui_file.openfolder.on_click(self._openfolder)\n",
    "        self.ui_file.openpreview.observe(self._openpreview, names='value')\n",
    "\n",
    "    def _open_option(self, sender):\n",
    "        self._open_form()\n",
    "        self._init_controls()\n",
    "        display(self.open_form)\n",
    "                                    \n",
    "    def _openpreview(self, onchange):\n",
    "        if self.ui_file.openpreview.value:\n",
    "            self.ui_file.openpreview.icon ='eye-slash'\n",
    "            with self.out:\n",
    "                self.preview_path()\n",
    "        else:\n",
    "            self.ui_file.openpreview.icon = 'eye'\n",
    "            with self.out:\n",
    "                clear_output()\n",
    "                                    \n",
    "    def _openfile(self, sender):\n",
    "        with self.out_caller:\n",
    "            clear_output()\n",
    "            open_file(self.ui_file.path,newroot=self.newroot)\n",
    "            time.sleep(5)\n",
    "            clear_output()\n",
    "        \n",
    "    def _openfolder(self, sender):\n",
    "        with self.out_caller:\n",
    "            clear_output()\n",
    "            open_file(self.fdir,newroot=self.newroot)\n",
    "            time.sleep(5)\n",
    "            clear_output()\n",
    "            \n",
    "    def display(self):\n",
    "        display(self.open_ui) \n",
    "        \n",
    "    def _ipython_display_(self):\n",
    "        self.display()\n",
    "            \n",
    "if __name__ == \"__main__\":\n",
    "    fpth = '/mnt/c/engDev/git_mf/20200707_JohnGunstone_PersonalDevelopmentPlan.docx'\n",
    "    fpth1 = '/mnt/c/engDev/git_mf/click_test.py'\n",
    "    #file = File(fpth)\n",
    "    #file.note = 'this is a long file note describing the file'\n",
    "    d = DisplayFile(fpth1, newroot=pathlib.PureWindowsPath('C:/'), auto_open=True)\n",
    "    display(d)#.preview_fpth()"
   ]
  },
  {
   "cell_type": "code",
   "execution_count": 32,
   "id": "b3939fb6-b93f-4a9c-8aa4-0ee2fdfeaa34",
   "metadata": {},
   "outputs": [
    {
     "data": {
      "application/vnd.jupyter.widget-view+json": {
       "model_id": "6332f060528242298e0d477c2d4b143b",
       "version_major": 2,
       "version_minor": 0
      },
      "text/plain": [
       "VBox(children=(VBox(children=(HBox(children=(HBox(children=(Button(disabled=True, icon='check', layout=Layout(…"
      ]
     },
     "metadata": {},
     "output_type": "display_data"
    }
   ],
   "source": [
    "class DisplayFiles():\n",
    "    def __init__(self, paths: typing.List[pathlib.Path], auto_open: bool=False):\n",
    "        self.display_files = [DisplayFile(p, auto_open=auto_open) for p in paths]\n",
    "        self._init_form()\n",
    "        \n",
    "    def _init_form(self):\n",
    "        self.box_files = widgets.VBox([d.open_ui for d in self.display_files])\n",
    "      \n",
    "    @property\n",
    "    def paths(self):\n",
    "        return [d.path for d in self.display_files]\n",
    "        \n",
    "    def display(self):\n",
    "        display(self.box_files) \n",
    "        \n",
    "    def _ipython_display_(self):\n",
    "        self.display()\n",
    "        \n",
    "    def _activate_waiting(self):\n",
    "        [d.ui_file._activate_waiting() for d in self.display_files]\n",
    "        \n",
    "    def _update_files(self):\n",
    "        [d.ui_file._update_file() for d in self.display_files]\n",
    "        \n",
    "if __name__ == \"__main__\":\n",
    "    files = DisplayFiles([fpth, fpth1])\n",
    "    display(files)"
   ]
  },
  {
   "cell_type": "code",
   "execution_count": 33,
   "id": "56409bed",
   "metadata": {},
   "outputs": [
    {
     "data": {
      "text/markdown": [
       "### Example0"
      ],
      "text/plain": [
       "<IPython.core.display.Markdown object>"
      ]
     },
     "metadata": {},
     "output_type": "display_data"
    },
    {
     "data": {
      "text/markdown": [
       "display single file"
      ],
      "text/plain": [
       "<IPython.core.display.Markdown object>"
      ]
     },
     "metadata": {},
     "output_type": "display_data"
    },
    {
     "data": {
      "text/markdown": [
       "cannot preview this file type"
      ],
      "text/plain": [
       "<IPython.core.display.Markdown object>"
      ]
     },
     "metadata": {},
     "output_type": "display_data"
    },
    {
     "data": {
      "text/plain": [
       "None"
      ]
     },
     "metadata": {},
     "output_type": "display_data"
    },
    {
     "data": {
      "text/markdown": [
       "---"
      ],
      "text/plain": [
       "<IPython.core.display.Markdown object>"
      ]
     },
     "metadata": {},
     "output_type": "display_data"
    },
    {
     "data": {
      "text/markdown": [],
      "text/plain": [
       "<IPython.core.display.Markdown object>"
      ]
     },
     "metadata": {},
     "output_type": "display_data"
    },
    {
     "data": {
      "text/markdown": [
       "### Example5"
      ],
      "text/plain": [
       "<IPython.core.display.Markdown object>"
      ]
     },
     "metadata": {},
     "output_type": "display_data"
    },
    {
     "data": {
      "text/markdown": [
       "display single Output"
      ],
      "text/plain": [
       "<IPython.core.display.Markdown object>"
      ]
     },
     "metadata": {},
     "output_type": "display_data"
    },
    {
     "data": {
      "application/vnd.jupyter.widget-view+json": {
       "model_id": "fd5de53637794070a611c14d98737198",
       "version_major": 2,
       "version_minor": 0
      },
      "text/plain": [
       "VBox(children=(HBox(children=(HBox(children=(Button(disabled=True, icon='times', layout=Layout(height='25px', …"
      ]
     },
     "metadata": {},
     "output_type": "display_data"
    },
    {
     "data": {
      "text/markdown": [
       "---"
      ],
      "text/plain": [
       "<IPython.core.display.Markdown object>"
      ]
     },
     "metadata": {},
     "output_type": "display_data"
    },
    {
     "data": {
      "text/markdown": [],
      "text/plain": [
       "<IPython.core.display.Markdown object>"
      ]
     },
     "metadata": {},
     "output_type": "display_data"
    },
    {
     "data": {
      "text/markdown": [
       "### Example5"
      ],
      "text/plain": [
       "<IPython.core.display.Markdown object>"
      ]
     },
     "metadata": {},
     "output_type": "display_data"
    },
    {
     "data": {
      "text/markdown": [
       "display single Output"
      ],
      "text/plain": [
       "<IPython.core.display.Markdown object>"
      ]
     },
     "metadata": {},
     "output_type": "display_data"
    },
    {
     "data": {
      "application/vnd.jupyter.widget-view+json": {
       "model_id": "cd35e63243d34bc49af874acf9b9bcac",
       "version_major": 2,
       "version_minor": 0
      },
      "text/plain": [
       "HBox(children=(Output(), Output()), layout=Layout(justify_content='space-around'))"
      ]
     },
     "metadata": {},
     "output_type": "display_data"
    },
    {
     "data": {
      "text/markdown": [
       "---"
      ],
      "text/plain": [
       "<IPython.core.display.Markdown object>"
      ]
     },
     "metadata": {},
     "output_type": "display_data"
    },
    {
     "data": {
      "text/markdown": [],
      "text/plain": [
       "<IPython.core.display.Markdown object>"
      ]
     },
     "metadata": {},
     "output_type": "display_data"
    },
    {
     "data": {
      "text/markdown": [
       "### Example6"
      ],
      "text/plain": [
       "<IPython.core.display.Markdown object>"
      ]
     },
     "metadata": {},
     "output_type": "display_data"
    },
    {
     "data": {
      "text/markdown": [
       "display multiple Outputs"
      ],
      "text/plain": [
       "<IPython.core.display.Markdown object>"
      ]
     },
     "metadata": {},
     "output_type": "display_data"
    },
    {
     "data": {
      "application/vnd.jupyter.widget-view+json": {
       "model_id": "9f96068e3ead4c7ba982bc2280d2fb30",
       "version_major": 2,
       "version_minor": 0
      },
      "text/plain": [
       "VBox(children=(VBox(children=(HBox(children=(HBox(children=(Button(disabled=True, icon='times', layout=Layout(…"
      ]
     },
     "metadata": {},
     "output_type": "display_data"
    },
    {
     "data": {
      "text/markdown": [
       "---"
      ],
      "text/plain": [
       "<IPython.core.display.Markdown object>"
      ]
     },
     "metadata": {},
     "output_type": "display_data"
    },
    {
     "data": {
      "text/markdown": [],
      "text/plain": [
       "<IPython.core.display.Markdown object>"
      ]
     },
     "metadata": {},
     "output_type": "display_data"
    }
   ],
   "source": [
    "if __name__ =='__main__':\n",
    "    # NOTE FOR FUTURE:\n",
    "    # the below can be used to make documentation that looks at all functions or classes\n",
    "    # rather than only the module level docstring. this would be an update to the PreviewPy class\n",
    "    # +\n",
    "    #from inspect import getmembers, isfunction, isclass\n",
    "    #from mf_modules import mydocstring_display\n",
    "\n",
    "    #functions_list = [o for o in getmembers(mydocstring_display) if isfunction(o[1])]\n",
    "    #class_list = [o for o in getmembers(mydocstring_display) if isclass(o[1])]\n",
    "    #functions_list\n",
    "    #class_list\n",
    "    # -\n",
    "\n",
    "    fdir = os.path.dirname(os.path.realpath('__file__'))\n",
    "    rel_fdir = os.path.join('..','test_filetypes')\n",
    "\n",
    "    fpths = list(pathlib.Path(fdir).glob('*'))\n",
    "    #fpths = [os.path.join(rel,  fpth for fpth in fpths ]\n",
    "\n",
    "    # single file\n",
    "    d0 = DisplayFile(fpths[0])\n",
    "    display(Markdown('### Example0'))\n",
    "    display(Markdown('''display single file'''))\n",
    "    display(d0.preview_path())\n",
    "    display(Markdown('---'))\n",
    "    display(Markdown(''))\n",
    "    \n",
    "    # single Output\n",
    "    #o0 = Output(fpth=fpths[0])\n",
    "    p0 = DisplayFile(fpths[0])\n",
    "    display(Markdown('### Example5'))\n",
    "    display(Markdown('''display single Output'''))\n",
    "    display(p0)\n",
    "    display(Markdown('---'))\n",
    "    display(Markdown(''))\n",
    "    \n",
    "    # single Output side by side\n",
    "    #o0 = Output(fpth=fpths[0])\n",
    "    p0 = DisplayFile(fpths[0])\n",
    "    display(Markdown('### Example5'))\n",
    "    display(Markdown('''display single Output'''))\n",
    "    out1 = widgets.Output()\n",
    "    out2 = widgets.Output()\n",
    "    with out1: \n",
    "        display(p0)\n",
    "    with out2: \n",
    "        display(p0)\n",
    "    display(widgets.HBox([out1, out2], layout=widgets.Layout(justify_content='space-around')))\n",
    "    display(Markdown('---'))\n",
    "    display(Markdown(''))\n",
    "    \n",
    "    # multiple Outputs\n",
    "    # outputs = [Output(f) for f in fpths]\n",
    "    p1 = DisplayFiles(fpths)\n",
    "    display(Markdown('### Example6'))\n",
    "    display(Markdown('''display multiple Outputs'''))\n",
    "    display(p1)\n",
    "    display(Markdown('---'))\n",
    "    display(Markdown(''))"
   ]
  },
  {
   "cell_type": "code",
   "execution_count": 12,
   "id": "c3488489",
   "metadata": {},
   "outputs": [],
   "source": [
    "if __name__ == \"__main__\":\n",
    "    p1._activate_waiting()\n",
    "    time.sleep(2)\n",
    "    p1._update_files()"
   ]
  },
  {
   "cell_type": "code",
   "execution_count": 39,
   "id": "c856a012-e679-489a-ad7f-210358a4f90e",
   "metadata": {},
   "outputs": [
    {
     "data": {
      "text/markdown": [
       "### Example7"
      ],
      "text/plain": [
       "<IPython.core.display.Markdown object>"
      ]
     },
     "metadata": {},
     "output_type": "display_data"
    },
    {
     "data": {
      "text/markdown": [
       "extend standard supported filetypes"
      ],
      "text/plain": [
       "<IPython.core.display.Markdown object>"
      ]
     },
     "metadata": {},
     "output_type": "display_data"
    },
    {
     "data": {
      "application/vnd.jupyter.widget-view+json": {
       "model_id": "90c369fea59546c4bda64d0d81ef01b5",
       "version_major": 2,
       "version_minor": 0
      },
      "text/plain": [
       "VBox(children=(HBox(children=(HBox(children=(Button(disabled=True, icon='check', layout=Layout(height='25px', …"
      ]
     },
     "metadata": {},
     "output_type": "display_data"
    }
   ],
   "source": [
    "if __name__ == \"__main__\":\n",
    "    display(Markdown('### Example7'))\n",
    "    display(Markdown('''extend standard supported filetypes'''))\n",
    "    #import\n",
    "    from ipyautoui.test_schema import TestAutoLogic\n",
    "    from ipyautoui.autoui import AutoUi, AutoUiConfig\n",
    "    from ipyautoui.constants import load_test_constants\n",
    "    tests_constants = load_test_constants()\n",
    "    config_ui = AutoUiConfig(ext='.aui.json', pydantic_model=TestAutoLogic)\n",
    "    TestUiDisplay = AutoUi.create_displayfile(config_autoui=config_ui)\n",
    "    def test_ui_prev(fpth):\n",
    "        display(TestUiDisplay(fpth))\n",
    "    \n",
    "    test_ui = DisplayFile(path=tests_constants.PATH_TEST_AUI, user_file_renderers={'.aui.json':test_ui_prev})\n",
    "\n",
    "    display(test_ui)"
   ]
  }
 ],
 "metadata": {
  "jupytext": {
   "formats": "ipynb,py:light"
  },
  "kernelspec": {
   "display_name": "Python 3 (ipykernel)",
   "language": "python",
   "name": "python3"
  },
  "language_info": {
   "codemirror_mode": {
    "name": "ipython",
    "version": 3
   },
   "file_extension": ".py",
   "mimetype": "text/x-python",
   "name": "python",
   "nbconvert_exporter": "python",
   "pygments_lexer": "ipython3",
   "version": "3.9.7"
  }
 },
 "nbformat": 4,
 "nbformat_minor": 5
}
