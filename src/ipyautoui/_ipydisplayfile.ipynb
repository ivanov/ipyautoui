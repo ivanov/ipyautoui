{
 "cells": [
  {
   "cell_type": "code",
   "execution_count": 1,
   "id": "13eb9538",
   "metadata": {},
   "outputs": [],
   "source": [
    "%run __init__.py"
   ]
  },
  {
   "cell_type": "code",
   "execution_count": 6,
   "id": "9cbf9935",
   "metadata": {
    "lines_to_next_cell": 1
   },
   "outputs": [
    {
     "ename": "ModuleNotFoundError",
     "evalue": "No module named 'ipyrun'",
     "output_type": "error",
     "traceback": [
      "\u001b[0;31m---------------------------------------------------------------------------\u001b[0m",
      "\u001b[0;31mModuleNotFoundError\u001b[0m                       Traceback (most recent call last)",
      "\u001b[0;32m/tmp/ipykernel_1358/3652515880.py\u001b[0m in \u001b[0;36m<module>\u001b[0;34m\u001b[0m\n\u001b[1;32m     29\u001b[0m \u001b[0;31m#  local imports\u001b[0m\u001b[0;34m\u001b[0m\u001b[0;34m\u001b[0m\u001b[0m\n\u001b[1;32m     30\u001b[0m \u001b[0;34m\u001b[0m\u001b[0m\n\u001b[0;32m---> 31\u001b[0;31m \u001b[0;32mfrom\u001b[0m \u001b[0mipyrun\u001b[0m\u001b[0;34m.\u001b[0m\u001b[0mmydocstring_display\u001b[0m \u001b[0;32mimport\u001b[0m \u001b[0mdisplay_module_docstring\u001b[0m\u001b[0;34m\u001b[0m\u001b[0;34m\u001b[0m\u001b[0m\n\u001b[0m\u001b[1;32m     32\u001b[0m \u001b[0;32mfrom\u001b[0m \u001b[0mipyrun\u001b[0m\u001b[0;34m.\u001b[0m\u001b[0mutils\u001b[0m \u001b[0;32mimport\u001b[0m \u001b[0mdel_matching\u001b[0m\u001b[0;34m,\u001b[0m \u001b[0mmd_fromfile\u001b[0m\u001b[0;34m,\u001b[0m \u001b[0mdisplay_python_file\u001b[0m\u001b[0;34m,\u001b[0m \u001b[0mrecursive_glob\u001b[0m\u001b[0;34m,\u001b[0m \u001b[0mtime_meta_data\u001b[0m\u001b[0;34m,\u001b[0m \u001b[0mread_json\u001b[0m\u001b[0;34m,\u001b[0m \u001b[0mread_yaml\u001b[0m\u001b[0;34m,\u001b[0m \u001b[0mread_txt\u001b[0m\u001b[0;34m\u001b[0m\u001b[0;34m\u001b[0m\u001b[0m\n\u001b[1;32m     33\u001b[0m \u001b[0;32mfrom\u001b[0m \u001b[0mipyrun\u001b[0m\u001b[0;34m.\u001b[0m\u001b[0m_runconfig\u001b[0m \u001b[0;32mimport\u001b[0m \u001b[0mOutput\u001b[0m\u001b[0;34m,\u001b[0m \u001b[0mOutputs\u001b[0m\u001b[0;34m,\u001b[0m \u001b[0mFile\u001b[0m\u001b[0;34m\u001b[0m\u001b[0;34m\u001b[0m\u001b[0m\n",
      "\u001b[0;31mModuleNotFoundError\u001b[0m: No module named 'ipyrun'"
     ]
    }
   ],
   "source": [
    "import pathlib\n",
    "import os\n",
    "import subprocess\n",
    "import pathlib\n",
    "import pandas as pd\n",
    "from IPython.display import display, JSON, Markdown, HTML, IFrame, clear_output, Image\n",
    "import time\n",
    "import ipydatagrid as ipg\n",
    "import ipywidgets as widgets\n",
    "from markdown import markdown\n",
    "import plotly.io as pio\n",
    "import copy\n",
    "from dataclasses import dataclass, asdict, field\n",
    "from dacite import from_dict\n",
    "from typing import List, Dict, Callable, Type\n",
    "import getpass\n",
    "\n",
    "#  from mf library\n",
    "try: \n",
    "    from mf_file_utilities import go as open_file\n",
    "except:\n",
    "    def open_file(path):\n",
    "        subprocess.call(['open', path])\n",
    "try:      \n",
    "    from xlsxtemplater import from_excel\n",
    "except:\n",
    "    pass\n",
    "\n",
    "#  local imports\n",
    "\n",
    "from ipyrun.mydocstring_display import display_module_docstring\n",
    "from ipyrun.utils import del_matching, md_fromfile, display_python_file, recursive_glob, time_meta_data, read_json, read_yaml, read_txt\n",
    "from ipyrun._runconfig import Output, Outputs, File\n",
    "from ipyrun.constants import BUTTON_WIDTH_MIN, BUTTON_HEIGHT_MIN, FDIR_PACKAGE\n",
    "\n",
    "from halo import HaloNotebook"
   ]
  },
  {
   "cell_type": "code",
   "execution_count": 2,
   "id": "f1c32cf3-1d65-4af9-9813-28a7a051a846",
   "metadata": {},
   "outputs": [],
   "source": [
    "from mf_file_utilities import go as open_file"
   ]
  },
  {
   "cell_type": "code",
   "execution_count": 3,
   "id": "f233c7b5-e8f5-4608-b832-c0ae742526cd",
   "metadata": {},
   "outputs": [
    {
     "data": {
      "text/plain": [
       "\u001b[0;31mSignature:\u001b[0m\n",
       "\u001b[0mopen_file\u001b[0m\u001b[0;34m(\u001b[0m\u001b[0;34m\u001b[0m\n",
       "\u001b[0;34m\u001b[0m    \u001b[0mpath\u001b[0m\u001b[0;34m:\u001b[0m \u001b[0mpathlib\u001b[0m\u001b[0;34m.\u001b[0m\u001b[0mPurePath\u001b[0m\u001b[0;34m,\u001b[0m\u001b[0;34m\u001b[0m\n",
       "\u001b[0;34m\u001b[0m    \u001b[0moldroot\u001b[0m\u001b[0;34m=\u001b[0m\u001b[0;32mNone\u001b[0m\u001b[0;34m,\u001b[0m\u001b[0;34m\u001b[0m\n",
       "\u001b[0;34m\u001b[0m    \u001b[0mnewroot\u001b[0m\u001b[0;34m=\u001b[0m\u001b[0mPureWindowsPath\u001b[0m\u001b[0;34m(\u001b[0m\u001b[0;34m'J:/'\u001b[0m\u001b[0;34m)\u001b[0m\u001b[0;34m,\u001b[0m\u001b[0;34m\u001b[0m\n",
       "\u001b[0;34m\u001b[0m    \u001b[0mdebug\u001b[0m\u001b[0;34m=\u001b[0m\u001b[0;32mFalse\u001b[0m\u001b[0;34m,\u001b[0m\u001b[0;34m\u001b[0m\n",
       "\u001b[0;34m\u001b[0m    \u001b[0mopen_simple\u001b[0m\u001b[0;34m=\u001b[0m\u001b[0;32mFalse\u001b[0m\u001b[0;34m,\u001b[0m\u001b[0;34m\u001b[0m\n",
       "\u001b[0;34m\u001b[0m\u001b[0;34m)\u001b[0m\u001b[0;34m\u001b[0m\u001b[0;34m\u001b[0m\u001b[0m\n",
       "\u001b[0;31mDocstring:\u001b[0m\n",
       "wrapper / wizard for opening folders and files from the server using the browser.\n",
       "requires Max Fordham AppLauncher app to be installed on the users machine. \n",
       "has functions that swaps out linux server root for users system windows equivalent \n",
       "so the the files can be opened using AppLauncher. \n",
       "\n",
       "works by calling Javascript in the browser, so the Javascript must be \"displayed\". \n",
       "this requires the ipywidgets.output widget when using with Voila. see example below. \n",
       "\n",
       "Args:\n",
       "    fpth (pathlib.PurePath or str): filepath or folder to open. if str passed assumes it is \n",
       "        linux filetype\n",
       "    oldroot (str or pathlib.PurePath, optional): root dir to remove. Defaults to None. if None\n",
       "        searches path for common roots to remove. see TU_COMMON_PATHS for default paths\n",
       "        ```python\n",
       "        from mf_file_utilities.constants import TU_COMMON_PATHS\n",
       "        ```\n",
       "    newroot (str or pathlib.PurePath, optional): new root to add. Defaults to PATH_JDRIVE.\n",
       "        if newroot is None the path is unchanged.\n",
       "    debug (bool, optional): displays print functions. Defaults to False.\n",
       "    open_simple (bool, optional): if True simply opens path with subprocess. Defaults to False.\n",
       "        if open_simple:\n",
       "            subprocess.call(['open', path])\n",
       "\n",
       "Returns:\n",
       "    None, opens path with users system default browser\n",
       "\n",
       "Example:\n",
       "    #  how to use with widgets\n",
       "    import ipywidgets as widgets\n",
       "    from IPython.display import display, Markdown, clear_output\n",
       "    from mf_file_utilities.applauncher_wrapper import open_windows_fpth\n",
       "    \n",
       "    def fn_open(click):\n",
       "        display(Markdown('doesnt work as the Javascript doesnt get injected into the browser'))\n",
       "        display(open_windows_fpth(fpth))\n",
       "\n",
       "    def fn1_open(click):\n",
       "        with out:\n",
       "            clear_output()\n",
       "            display(Markdown('works as the Javascript gets injected into the browser'))\n",
       "            go(path)\n",
       "\n",
       "    fpth = r'J:\\J4321\\DigitalDesignTeam\\MfOpenBIM\\Reference Material\\PAS 14191.pdf'\n",
       "    path = pathlib.PureWindowsPath(fpth)\n",
       "    button_open = widgets.Button(icon='fa-folder-open', button_style='danger')\n",
       "    button_open.on_click(fn_open)\n",
       "    button_open1 = widgets.Button(icon='fa-folder-open', button_style='success')\n",
       "    button_open1.on_click(fn1_open)\n",
       "    out = widgets.Output()\n",
       "    display(Markdown('## Using Javacript and AppLauncher to open files and folders'))\n",
       "    display(widgets.HBox([button_open,button_open1]))\n",
       "    display(out)\n",
       "\u001b[0;31mFile:\u001b[0m      ~/miniconda3/envs/ipyautoui/lib/python3.9/site-packages/mf_file_utilities/applauncher_wrapper.py\n",
       "\u001b[0;31mType:\u001b[0m      function\n"
      ]
     },
     "metadata": {},
     "output_type": "display_data"
    }
   ],
   "source": [
    "?open_file"
   ]
  },
  {
   "cell_type": "code",
   "execution_count": 3,
   "id": "ffaac7b1",
   "metadata": {},
   "outputs": [],
   "source": [
    "#  NOT IN USE - need a way to display pdf's!\n",
    "#  https://github.com/voila-dashboards/voila/issues/659\n",
    "#  i think this is resolved... need to make sure the path given is relative to the notebook... \n",
    "\n",
    "# def served_pdf():\n",
    "#     value=r'<iframe width=\"500\" height=\"600\" src=\"https://www.w3.org/WAI/ER/tests/xhtml/testfiles/resources/pdf/dummy.pdf\" frameborder=\"1\" allowfullscreen></iframe>'\n",
    "#     myhtml =widgets.HTML(\n",
    "#         value=value,\n",
    "#         placeholder='Some HTML',\n",
    "#         description='Some HTML',\n",
    "#     )\n",
    "#     display(myhtml)\n",
    "    \n",
    "# def local_pdf():\n",
    "#     value=r'<iframe width=\"500\" height=\"600\" src=\"../test_filetypes/eg_pdf.pdf\" frameborder=\"1\" allowfullscreen></iframe>'\n",
    "#     myhtml =widgets.HTML(\n",
    "#         value=value,\n",
    "#         placeholder='Some HTML',\n",
    "#         description='Some HTML',\n",
    "#     )\n",
    "#     display(myhtml)\n",
    "    \n",
    "# def fromfile_pdf():\n",
    "#     value=r'<iframe width=\"500\" height=\"600\" src=\"file:///mnt/c/engDev/git_mf/ipyrun/test_filetypes/eg_pdf.pdf\" frameborder=\"1\" allowfullscreen></iframe>'\n",
    "#     myhtml =widgets.HTML(\n",
    "#         value=value,\n",
    "#         placeholder='Some HTML',\n",
    "#         description='Some HTML',\n",
    "#     )\n",
    "#     display(myhtml)\n",
    "\n",
    "#served_pdf()\n",
    "#local_pdf()\n",
    "#fromfile_pdf()"
   ]
  },
  {
   "cell_type": "code",
   "execution_count": 4,
   "id": "20767db4",
   "metadata": {},
   "outputs": [],
   "source": [
    "def _markdown(value='_Markdown_',\n",
    "              **kwargs):\n",
    "    \"\"\"\n",
    "    a simple template for markdown text input that templates required input\n",
    "    fields. additional user defined fields can be added as kwargs\n",
    "    \"\"\"\n",
    "    _kwargs = {}\n",
    "    _kwargs['value'] = markdown(value)  # required field\n",
    "    _kwargs.update(kwargs)  # user overides\n",
    "    return widgets.HTML(**_kwargs)\n",
    "\n",
    "def mdboldstr(string, di):\n",
    "    return '__{}__: {}'.format(string,di[string])\n",
    "\n",
    "def mdnorms(di):\n",
    "    return mdboldstr('ProjectNo', di) + ' ........ ' + mdboldstr('Date', di) + ' ........ ' + mdboldstr('Author', di)\n",
    "\n",
    "def mdwildcars(di):\n",
    "    exclude = ['sheet_name', 'xlsx_params', 'xlsx_exporter', 'ProjectNo', 'Date', 'Author', 'df', 'grid']\n",
    "    others = {k:v for k,v in di.items() if k not in exclude}\n",
    "    mdstr = ''\n",
    "    for k, v in others.items():\n",
    "        mdstr = mdstr + '__{}__: {}<br>'.format(k,v) \n",
    "    return mdstr\n",
    "\n",
    "def mdheader(di):\n",
    "    return '### {} \\n {} <br> {}'.format(\n",
    "        di['sheet_name'], mdnorms(di), mdwildcars(di)\n",
    "    )\n",
    "\n",
    "def xlsxtemplated_display(li):\n",
    "    \"\"\"\n",
    "    displays xlsxtemplated (written using xlsxtemplater) using ipydatagrid\n",
    "    \"\"\"\n",
    "    for l in li:\n",
    "        l['grid'] = default_grid(l['df'])\n",
    "        display(Markdown(mdheader(l)))\n",
    "        display(l['grid'])\n",
    "#  string = 'ProjectNo'\n",
    "#  mdheader(di)"
   ]
  },
  {
   "cell_type": "code",
   "execution_count": 5,
   "id": "d833953d",
   "metadata": {},
   "outputs": [
    {
     "data": {
      "application/vnd.jupyter.widget-view+json": {
       "model_id": "936736cac94f425b8fdc497704780ce8",
       "version_major": 2,
       "version_minor": 0
      },
      "text/plain": [
       "HBox(children=(ToggleButton(value=False, button_style='primary', description='primary'), HTML(value='<p><code>…"
      ]
     },
     "metadata": {},
     "output_type": "display_data"
    },
    {
     "data": {
      "application/vnd.jupyter.widget-view+json": {
       "model_id": "986f8fcded5848bd9c5b7a5623c45d5a",
       "version_major": 2,
       "version_minor": 0
      },
      "text/plain": [
       "HBox(children=(ToggleButton(value=False, button_style='success', description='success'), HTML(value='<p><code>…"
      ]
     },
     "metadata": {},
     "output_type": "display_data"
    },
    {
     "data": {
      "application/vnd.jupyter.widget-view+json": {
       "model_id": "7023be72482641bdb3ea18fd1519e2fb",
       "version_major": 2,
       "version_minor": 0
      },
      "text/plain": [
       "HBox(children=(ToggleButton(value=False, button_style='info', description='info'), HTML(value='<p><code>widget…"
      ]
     },
     "metadata": {},
     "output_type": "display_data"
    },
    {
     "data": {
      "application/vnd.jupyter.widget-view+json": {
       "model_id": "6528b8a496c546ad8e09af83e69d542a",
       "version_major": 2,
       "version_minor": 0
      },
      "text/plain": [
       "HBox(children=(ToggleButton(value=False, button_style='warning', description='warning'), HTML(value='<p><code>…"
      ]
     },
     "metadata": {},
     "output_type": "display_data"
    },
    {
     "data": {
      "application/vnd.jupyter.widget-view+json": {
       "model_id": "a73415c0923c4b90a8b6f24bc0399f2e",
       "version_major": 2,
       "version_minor": 0
      },
      "text/plain": [
       "HBox(children=(ToggleButton(value=False, button_style='danger', description='danger'), HTML(value='<p><code>wi…"
      ]
     },
     "metadata": {},
     "output_type": "display_data"
    }
   ],
   "source": [
    "def display_button_styles():\n",
    "    \"\"\"displays default ipywidget button styles\"\"\"\n",
    "    styles = ['primary', 'success', 'info', 'warning', 'danger']\n",
    "    for s in styles:\n",
    "        b = widgets.ToggleButton(description=s, button_style=s)\n",
    "        t = _markdown('```widgets.ToggleButton(description=\"{}\", button_style=\"{}\")```'.format(s,s))\n",
    "        display(widgets.HBox([b,t]))\n",
    "if __name__ == \"__main__\":\n",
    "    display_button_styles()"
   ]
  },
  {
   "cell_type": "code",
   "execution_count": 6,
   "id": "d4c1cf9f",
   "metadata": {},
   "outputs": [
    {
     "data": {
      "application/vnd.jupyter.widget-view+json": {
       "model_id": "981d278f7c6c4e88931884468fbdad10",
       "version_major": 2,
       "version_minor": 0
      },
      "text/plain": [
       "DataGrid(auto_fit_columns=True, auto_fit_params={'area': 'all', 'padding': 30, 'numCols': None}, corner_render…"
      ]
     },
     "metadata": {},
     "output_type": "display_data"
    }
   ],
   "source": [
    "def get_ext(fpth):\n",
    "    \"\"\"get file extension including compound json files\"\"\"\n",
    "    return ''.join(pathlib.Path(fpth).suffixes)\n",
    "\n",
    "def Vega(spec):\n",
    "    \"\"\"\n",
    "    render Vega in jupyterlab\n",
    "    https://github.com/jupyterlab/jupyterlab/blob/master/examples/vega/vega-extension.ipynb\n",
    "    \"\"\"\n",
    "    bundle = {}\n",
    "    bundle['application/vnd.vega.v5+json'] = spec\n",
    "    display(bundle, raw=True);\n",
    "\n",
    "def VegaLite(spec):\n",
    "    \"\"\"\n",
    "    render VegaLite in jupyterlab\n",
    "    https://github.com/jupyterlab/jupyterlab/blob/master/examples/vega/vega-extension.ipynb\n",
    "    \"\"\"\n",
    "    bundle = {}\n",
    "    bundle['application/vnd.vegalite.v4+json'] = spec\n",
    "    display(bundle, raw=True);\n",
    "\n",
    "\n",
    "def default_grid(df, **kwargs):\n",
    "    \"\"\"\n",
    "    thin wrapper for ipy.DataGrid\n",
    "\n",
    "    Code:\n",
    "        _kwargs = {\n",
    "            'layout':{'width':'100%', 'height':'400px'}\n",
    "        }\n",
    "        _kwargs.update(kwargs)  # user overides\n",
    "        g = ipg.DataGrid(df, **_kwargs)\n",
    "        return g\n",
    "\n",
    "    \"\"\"\n",
    "\n",
    "    _kwargs = {\n",
    "        'layout':{'width':'100%', 'height':'400px'},\n",
    "        'auto_fit_columns': True\n",
    "    }\n",
    "    _kwargs.update(kwargs)  # user overides\n",
    "    g = ipg.DataGrid(df, **_kwargs)\n",
    "    return g\n",
    "\n",
    "if __name__ == \"__main__\":\n",
    "    df = pd.DataFrame.from_dict({'a':['a','b'],'b':['a','b']})\n",
    "    display(default_grid(df))"
   ]
  },
  {
   "cell_type": "code",
   "execution_count": 7,
   "id": "b90b0c56",
   "metadata": {
    "lines_to_next_cell": 1
   },
   "outputs": [],
   "source": [
    "class PreviewPy():\n",
    "    \"\"\"\n",
    "    pass the class either a filepath or an imported\n",
    "    module and get a display output of the modules\n",
    "    docstring with a toggle option to view the code\n",
    "    \"\"\"\n",
    "    def __init__(self, module, preview_script=True):\n",
    "        self.input = module\n",
    "        self.preview_script = preview_script\n",
    "        self.out = widgets.Output()\n",
    "        self.fpth = self._handle_input()\n",
    "        self._init_form()\n",
    "        self._init_controls()\n",
    "        self._show_docstring()\n",
    "\n",
    "    def _handle_input(self):\n",
    "        if str(type(self.input)) == \"<class 'module'>\":\n",
    "            fpth = self.input.__file__\n",
    "        else:\n",
    "            fpth = self.input\n",
    "        if os.path.splitext(fpth)[1] != '.py':\n",
    "            print('{0}: not a python file'.format(fpth))\n",
    "        return fpth\n",
    "\n",
    "    def _init_form(self):\n",
    "        self.script_name = os.path.splitext(os.path.basename(self.fpth))[0]\n",
    "        self.title = widgets.HTML('')\n",
    "        self.show_fpth = _markdown('``` {} ```'.format(self.fpth))          \n",
    "        self.show_me_the_code = widgets.ToggleButton(\n",
    "                              layout=widgets.Layout(width=BUTTON_WIDTH_MIN)\n",
    "        )\n",
    "        self.headerbox = widgets.VBox([widgets.HBox([self.show_me_the_code, self.title]), self.show_fpth])\n",
    "                               \n",
    "        if self.preview_script:\n",
    "            display(self.headerbox)\n",
    "            \n",
    "    def _init_controls(self):\n",
    "        self.show_me_the_code.observe(self._show_me_the_code, 'value')\n",
    "    \n",
    "    def _update_title(self):\n",
    "        self.title.value = '<b>{}</b>: {}'.format(self.script_name, self.description)\n",
    "\n",
    "    def _show_docstring(self):\n",
    "        self.show_me_the_code.icon='scroll'\n",
    "        self.show_me_the_code.tooltip='show the raw python code'\n",
    "        self.show_me_the_code.button_style='warning'\n",
    "        self.description = 'script documentation'\n",
    "        self._update_title()\n",
    "        with self.out:\n",
    "            clear_output()\n",
    "            display_module_docstring(self.fpth)\n",
    "\n",
    "    def _show_me_the_code(self, sender):\n",
    "        self.show_me_the_code.icon='book'\n",
    "        self.show_me_the_code.tooltip='show the python script documentation'\n",
    "        self.show_me_the_code.button_style='info'\n",
    "        self.description = 'python script'\n",
    "        self._update_title()\n",
    "        with self.out:\n",
    "            clear_output()\n",
    "            if self.show_me_the_code.value:\n",
    "                display(display_python_file(self.fpth))\n",
    "            else:\n",
    "                self._show_docstring()\n",
    "\n",
    "    def display(self):\n",
    "        display(self.out)\n",
    "\n",
    "    def _ipython_display_(self):\n",
    "        self.display()\n",
    "\n",
    "def pdf_prev(fpth):\n",
    "    display(IFrame(fpth, width=1000, height=600))\n",
    "\n",
    "def csv_prev(fpth):\n",
    "    \"\"\"\n",
    "    previes dataframe using the awesome ipydatagrid\n",
    "\n",
    "    Reference:\n",
    "        ipydatagrid\n",
    "    \"\"\"\n",
    "    data = del_matching(pd.read_csv(fpth),'Unnamed')\n",
    "    try:\n",
    "        g = default_grid(data)\n",
    "        display(g)\n",
    "    except:\n",
    "        display(data.style)\n",
    "\n",
    "def vegajson_prev(fpth):\n",
    "    \"\"\"display a plotly json file\"\"\"\n",
    "    display(Vega(read_json(fpth)))\n",
    "\n",
    "def vegalitejson_prev(fpth):\n",
    "    \"\"\"display a plotly json file\"\"\"\n",
    "    display(VegaLite(read_json(fpth)))\n",
    "\n",
    "def plotlyjson_prev(fpth):\n",
    "    \"\"\"display a plotly json file\"\"\"\n",
    "    if type(fpth) is not str:\n",
    "        fpth = str(fpth)\n",
    "    display(pio.read_json(fpth))\n",
    "\n",
    "def ipyuijson_prev(fpth):\n",
    "    print('add here!')\n",
    "\n",
    "def json_prev(fpth):\n",
    "    display(JSON(read_json(fpth)))\n",
    "\n",
    "def yaml_prev(fpth):\n",
    "    data = read_yaml(fpth)\n",
    "    display(JSON(data))\n",
    "\n",
    "def img_prev(fpth):\n",
    "    display(Image(fpth))\n",
    "\n",
    "def md_prev(fpth):\n",
    "    display(Markdown(\"`IMAGES WON'T DISPLAY UNLESS THE MARKDOWN FILE IS IN THE SAME FOLDER AS THIS JUPYTER NOTEBOOK`\"))\n",
    "    md_fromfile(fpth)\n",
    "\n",
    "def py_prev(fpth):\n",
    "    \"\"\"\n",
    "    pass the fpth of a python file and get a\n",
    "    rendered view of the code.\n",
    "    \"\"\"\n",
    "    p = PreviewPy(fpth)\n",
    "    display(p)\n",
    "\n",
    "def txt_prev(fpth):\n",
    "    display(Markdown(\"```{}```\".format(read_txt(fpth, read_lines=False))))\n",
    "\n",
    "def xl_prev(fpth):\n",
    "    \"\"\"display excel. if xlsxtemplated display as Grid, otherwise as _open_option\"\"\"\n",
    "    li = from_excel(fpth)\n",
    "    if li is not None:\n",
    "        xlsxtemplated_display(li)\n",
    "        return True\n",
    "    else:\n",
    "        return False\n",
    "        #self._open_option()"
   ]
  },
  {
   "cell_type": "code",
   "execution_count": 15,
   "id": "1814dc4d",
   "metadata": {
    "tags": []
   },
   "outputs": [
    {
     "data": {
      "application/vnd.jupyter.widget-view+json": {
       "model_id": "264b94c416ef4b0583261a6765f64f05",
       "version_major": 2,
       "version_minor": 0
      },
      "text/plain": [
       "VBox(children=(HBox(children=(HBox(children=(Button(disabled=True, icon='check', layout=Layout(height='25px', …"
      ]
     },
     "metadata": {},
     "output_type": "display_data"
    }
   ],
   "source": [
    "import typing\n",
    "import enum\n",
    "import getpass\n",
    "import numpy as np\n",
    "\n",
    "def string_of_time(t):\n",
    "    return time.strftime('%Y-%m-%d %H:%M:%S', time.localtime(t))\n",
    "\n",
    "def st_mtime_string(path):\n",
    "    try: \n",
    "        t = path.stat().st_mtime\n",
    "        return string_of_time(t)\n",
    "    except:\n",
    "        return '####-##-## ##:##:##'\n",
    "\n",
    "# Enum for size units\n",
    "class SIZE_UNIT(enum.Enum):\n",
    "    BYTES = 1\n",
    "    KB = 2\n",
    "    MB = 3\n",
    "    GB = 4\n",
    "    \n",
    "def convert_unit(size_in_bytes, unit):\n",
    "    \"\"\" Convert the size from bytes to other units like KB, MB or GB\"\"\"\n",
    "    if unit == SIZE_UNIT.KB:\n",
    "        return size_in_bytes/1024\n",
    "    elif unit == SIZE_UNIT.MB:\n",
    "        return size_in_bytes/(1024*1024)\n",
    "    elif unit == SIZE_UNIT.GB:\n",
    "        return size_in_bytes/(1024*1024*1024)\n",
    "    else:\n",
    "        return np.round(size_in_bytes,2)\n",
    "    \n",
    "def format_number(number, sigfigs=3):\n",
    "    return '{:g}'.format(float('{:.{p}g}'.format(number, p=sigfigs)))\n",
    "\n",
    "def get_file_size(path:pathlib.Path, size_type = SIZE_UNIT.KB, sigfigs=3):\n",
    "    \"\"\" Get file in size in given unit like KB, MB or GB\"\"\"\n",
    "    if path.is_file():\n",
    "        return format_number(convert_unit(path.stat().st_size, size_type))\n",
    "    else:\n",
    "        return '-'\n",
    "    \n",
    "def get_file_data(path):\n",
    "    return '<b>--</b> {} <b>--</b> <i>{}</i> <b>--</b> <i>{} KB</i>'.format(\n",
    "                getpass.getuser(), st_mtime_string(path),get_file_size(path))\n",
    "\n",
    "def open_ui(fpth: str):\n",
    "    \"\"\"\n",
    "    creates open file and open folder buttons\n",
    "    fpth used for building tooltip\n",
    "    \n",
    "    Args:\n",
    "        fpth\n",
    "    \n",
    "    Returns:\n",
    "        openpreview\n",
    "        openfile\n",
    "        openfolder\n",
    "    \"\"\"\n",
    "    if type(fpth) != pathlib.Path:\n",
    "        fpth = pathlib.Path(fpth)\n",
    "    isfile = widgets.Button(disabled=True,layout=widgets.Layout(width=BUTTON_WIDTH_MIN, height=BUTTON_HEIGHT_MIN))\n",
    "    openpreview = widgets.ToggleButton(\n",
    "        icon='eye', \n",
    "        layout=widgets.Layout(width=BUTTON_WIDTH_MIN, height=BUTTON_HEIGHT_MIN),\n",
    "        tooltip='preview file: {0}'.format(fpth),\n",
    "        style={'font_weight': 'bold','button_color':None}) \n",
    "    openfile = widgets.Button(\n",
    "        layout=widgets.Layout(width=BUTTON_WIDTH_MIN, height=BUTTON_HEIGHT_MIN),\n",
    "        icon='fa-file',\n",
    "        tooltip='open file: {0}'.format(fpth),\n",
    "        style={'font_weight': 'bold','button_color':None})   #,'button_color':'white'\n",
    "    openfolder = widgets.Button(\n",
    "        #description='+', \n",
    "        layout=widgets.Layout(width=BUTTON_WIDTH_MIN, height=BUTTON_HEIGHT_MIN),#,height='20px'\n",
    "        icon='fa-folder',\n",
    "        tooltip='open folder: {0}'.format(os.path.dirname(fpth)),\n",
    "        style={'font_weight': 'bold','button_color':None}) #,'button_color':'LightYellow'\n",
    "    filename = widgets.HTML(\n",
    "        '<b>{0}</b>'.format(fpth.name),layout=widgets.Layout(justify_items='center'))   \n",
    "    data = widgets.HTML(get_file_data(fpth),layout=widgets.Layout(justify_items='center'))   \n",
    "    return isfile, openpreview, openfile, openfolder, filename, data\n",
    "\n",
    "# if __name__ == \"__main__\":\n",
    "#     test_box = widgets.HBox()\n",
    "#     test_box.children = list(open_ui('z_del_notebooks.bat'))\n",
    "#     display(test_box)\n",
    "    \n",
    "class UiFile():\n",
    "    def __init__(self, path, save=True):\n",
    "        self.path = pathlib.Path(path)\n",
    "        self._init_form()\n",
    "        self._update_file()\n",
    "        \n",
    "    def _init_form(self):\n",
    "        self.isfile, self.openpreview, self.openfile, self.openfolder, self.filename, self.data = open_ui(self.path)\n",
    "        self.box_isfile = widgets.HBox([self.isfile],layout=widgets.Layout(width='40px'))\n",
    "        self.box_file = widgets.HBox([self.box_isfile, self.openpreview, self.openfile, self.openfolder, self.filename, self.data])\n",
    "    \n",
    "    def _update_file(self):\n",
    "        #self.spinner.stop()\n",
    "        #self.box_isfile.children = [self.isfile]\n",
    "        if self.path.is_file():\n",
    "            self.isfile.icon='fa-check'\n",
    "            self.isfile.style={'button_color':'SpringGreen'}\n",
    "        else:\n",
    "            self.isfile.icon='fa-times'\n",
    "            self.isfile.style={'button_color':'red'}\n",
    "        self.data.value = get_file_data(self.path)\n",
    "        \n",
    "    def _activate_waiting(self, wait_time=None):\n",
    "        self.isfile.icon='fa-circle'\n",
    "        self.isfile.style={'button_color':'yellow'}\n",
    "#         spinner = HaloNotebook(animation='marquee', spinner='dots')\n",
    "#         with spinner.output:\n",
    "#             spinner.start()\n",
    "#             self.box_isfile.children = [spinner.output]\n",
    "    \n",
    "        \n",
    "    def display(self):\n",
    "        display(self.box_file) \n",
    "        \n",
    "    def _ipython_display_(self):\n",
    "        self.display()\n",
    "        \n",
    "default_file_renderers = {\n",
    "        '.csv': csv_prev,\n",
    "        '.json': json_prev,\n",
    "        '.plotly': plotlyjson_prev,\n",
    "        '.plotly.json': plotlyjson_prev,\n",
    "        '.plotly.json': plotlyjson_prev,\n",
    "        '.vg.json': vegajson_prev,\n",
    "        '.vl.json': vegalitejson_prev,\n",
    "        '.ipyui.json': ipyuijson_prev,\n",
    "        '.yaml': yaml_prev,\n",
    "        '.yml': yaml_prev,\n",
    "        '.png': img_prev,\n",
    "        '.jpg': img_prev,\n",
    "        '.jpeg': img_prev,\n",
    "        #'.obj': obj_prev, # add ipyvolume viewer? \n",
    "        '.txt': txt_prev,\n",
    "        '.md': md_prev,\n",
    "        '.py': py_prev,\n",
    "        '.pdf': pdf_prev,\n",
    "    }\n",
    "\n",
    "def preview_path(path: typing.Union[str, pathlib.Path],\n",
    "                 default_file_renderers: Dict[str, Callable] = default_file_renderers,\n",
    "                 user_file_renderers: Dict[str, Callable] = None):\n",
    "    if user_file_renderers is None:\n",
    "        user_file_renderers = {}\n",
    "    path = pathlib.Path(path)\n",
    "    ext = get_ext(path)\n",
    "    ext_map = {**default_file_renderers, **user_file_renderers}\n",
    "    if ext not in list(ext_map.keys()):\n",
    "        display(Markdown('cannot preview this file type'));\n",
    "    else:\n",
    "        fn = ext_map[ext]\n",
    "        fn(path)\n",
    "\n",
    "class DisplayFile():\n",
    "    \"\"\"\n",
    "    displays the contents of a file in the notebook.\n",
    "    \"\"\"\n",
    "    def __init__(self,\n",
    "                 path: typing.Union[str, pathlib.Path],\n",
    "                 default_file_renderers: Dict[str, Callable] = default_file_renderers,\n",
    "                 user_file_renderers: Dict[str, Callable] = None,\n",
    "                 newroot=pathlib.PureWindowsPath('J:/'),\n",
    "                 auto_open: bool=False\n",
    "                ):\n",
    "        \"\"\"\n",
    "        comes with the following default renderers:\n",
    "            default_file_renderers = {\n",
    "                    '.csv': csv_prev,\n",
    "                    '.json': json_prev,\n",
    "                    '.plotly': plotlyjson_prev,\n",
    "                    '.plotly.json': plotlyjson_prev,\n",
    "                    '.vg.json': vegajson_prev,\n",
    "                    '.vl.json': vegalitejson_prev,\n",
    "                    '.ipyui.json': ipyuijson_prev,\n",
    "                    '.yaml': yaml_prev,\n",
    "                    '.yml': yaml_prev,\n",
    "                    '.png': img_prev,\n",
    "                    '.jpg': img_prev,\n",
    "                    '.jpeg': img_prev,\n",
    "                    #'.obj': obj_prev, # add ipyvolume viewer? \n",
    "                    '.txt': txt_prev,\n",
    "                    '.md': md_prev,\n",
    "                    '.py': py_prev,\n",
    "                    '.pdf': pdf_prev,\n",
    "                }\n",
    "        user_file_renderers can be passed to class provided they have the correct\n",
    "        dict format:\n",
    "            user_file_renderers = {'.ext': myrenderer}\n",
    "        notice that the class allows for \"compound\" filetypes, especially useful for .json files\n",
    "        if you want to display the data in a specific way. \n",
    "        \n",
    "        Args:\n",
    "            fpth (str): filepath to display\n",
    "            user_file_renderers: Dict[str, Callable] = None : user defined file renderers to extend\n",
    "                the class\n",
    "                \n",
    "        Usage:\n",
    "            fpth = 'default_config.yaml'\n",
    "            DisplayFile(fpth).preview_fpth()\n",
    "        \n",
    "        How to extend:\n",
    "            if you want to update the class definition for a compound filetype that you have created, \n",
    "            you can do so using functools as follows:\n",
    "            ```\n",
    "                DisplayFile('default_config.test.yaml').preview_fpth()  # '.test.yaml' ext doesn't exist so renderer defaults to .yaml\n",
    "                \n",
    "                import functools\n",
    "                user_file_renderers = {'.test.yaml': txt_prev}\n",
    "                DisplayFile = functools.partial(DisplayFile, user_file_renderers=user_file_renderers)\n",
    "                DisplayFile('default_config.test.yaml').preview_fpth()  # display yaml file as txt_prev renderer\n",
    "            ```\n",
    "        \"\"\"\n",
    "        self.ui_file = UiFile(path)\n",
    "        self.fdir = self.ui_file.path.parent\n",
    "        self.ext = get_ext(self.path)\n",
    "        self.newroot = newroot\n",
    "        self.out_caller = widgets.Output()\n",
    "        self.out = widgets.Output()\n",
    "        self.default_file_renderers = default_file_renderers\n",
    "        self.user_file_renderers = user_file_renderers\n",
    "        self._open_form()\n",
    "        self._init_controls()\n",
    "        if auto_open: \n",
    "            self.ui_file.openpreview.value = True\n",
    "            \n",
    "    @property\n",
    "    def path(self):\n",
    "        return self.ui_file.path\n",
    "            \n",
    "    def _activate_waiting(self):\n",
    "        self.ui_file._activate_waiting()\n",
    "        \n",
    "    def _update_file(self):\n",
    "        self.ui_file._update_file()\n",
    "\n",
    "    def preview_fpth(self):\n",
    "        preview_path(self.ui_file.path)\n",
    "        \n",
    "    def _open_form(self):\n",
    "        self.open_ui = widgets.VBox([self.ui_file.box_file, self.out_caller, self.out])\n",
    "        \n",
    "    def _init_controls(self):\n",
    "        self.ui_file.openfile.on_click(self._openfile)\n",
    "        self.ui_file.openfolder.on_click(self._openfolder)\n",
    "        self.ui_file.openpreview.observe(self._openpreview, names='value')\n",
    "\n",
    "    def _open_option(self, sender):\n",
    "        self._open_form()\n",
    "        self._init_controls()\n",
    "        display(self.open_form)\n",
    "                                    \n",
    "    def _openpreview(self, onchange):\n",
    "        if self.ui_file.openpreview.value:\n",
    "            self.ui_file.openpreview.icon ='eye-slash'\n",
    "            with self.out:\n",
    "                preview_path(self.path)\n",
    "        else:\n",
    "            self.ui_file.openpreview.icon = 'eye'\n",
    "            with self.out:\n",
    "                clear_output()\n",
    "                                    \n",
    "    def _openfile(self, sender):\n",
    "        with self.out_caller:\n",
    "            clear_output()\n",
    "            open_file(self.path,newroot=self.newroot)\n",
    "            time.sleep(5)\n",
    "            clear_output()\n",
    "        \n",
    "    def _openfolder(self, sender):\n",
    "        with self.out_caller:\n",
    "            clear_output()\n",
    "            open_file(self.fdir,newroot=self.newroot)\n",
    "            time.sleep(5)\n",
    "            clear_output()\n",
    "            \n",
    "    def display(self):\n",
    "        display(self.open_ui) \n",
    "        \n",
    "    def _ipython_display_(self):\n",
    "        self.display()\n",
    "            \n",
    "if __name__ == \"__main__\":\n",
    "    fpth = '/mnt/c/engDev/git_mf/20200707_JohnGunstone_PersonalDevelopmentPlan.docx'\n",
    "    fpth1 = '/mnt/c/engDev/git_mf/click_test.py'\n",
    "    #file = File(fpth)\n",
    "    #file.note = 'this is a long file note describing the file'\n",
    "    d = DisplayFile(fpth1, newroot=pathlib.PureWindowsPath('C:/'), auto_open=True)\n",
    "    display(d)#.preview_fpth()"
   ]
  },
  {
   "cell_type": "code",
   "execution_count": 31,
   "id": "0717137d-e748-4e09-bb1f-592dd80d2699",
   "metadata": {},
   "outputs": [
    {
     "data": {
      "application/vnd.jupyter.widget-view+json": {
       "model_id": "a5d05785181342c39e3af432c2e05e1e",
       "version_major": 2,
       "version_minor": 0
      },
      "text/plain": [
       "VBox(children=(HBox(children=(ToggleButton(value=False, icon='plus', layout=Layout(height='25px', width='41px'…"
      ]
     },
     "metadata": {},
     "output_type": "display_data"
    },
    {
     "data": {
      "application/vnd.jupyter.widget-view+json": {
       "model_id": "6c8a0239591c4056b170cca1d0fa70e8",
       "version_major": 2,
       "version_minor": 0
      },
      "text/plain": [
       "Output()"
      ]
     },
     "metadata": {},
     "output_type": "display_data"
    }
   ],
   "source": [
    "from mfom.ui_docheader import DocumentHeaderUi\n",
    "\n",
    "doc = DocumentHeaderUi(fdir=pathlib.Path('.'))\n",
    "doc"
   ]
  },
  {
   "cell_type": "code",
   "execution_count": 33,
   "id": "52ace79f-40ba-4f0c-9f53-371b26dfcd01",
   "metadata": {},
   "outputs": [
    {
     "data": {
      "text/plain": [
       "\u001b[0;31mType:\u001b[0m        module\n",
       "\u001b[0;31mString form:\u001b[0m <module 'mfom' from '/home/jovyan/miniconda3/envs/mf_base1/lib/python3.9/site-packages/mfom/__init__.py'>\n",
       "\u001b[0;31mFile:\u001b[0m        ~/miniconda3/envs/mf_base1/lib/python3.9/site-packages/mfom/__init__.py\n",
       "\u001b[0;31mDocstring:\u001b[0m  \n",
       "Top-level package for mfom.\n",
       "\n",
       "naming follow camelCase (or pascalCase) convention, aligning with IFC JSON. \n",
       "i.e.:\n",
       "    Valid:\n",
       "        \"globalId\": \"028c968f-687d-484e-9c0a-5048a923b8c4\"\n",
       "\n",
       "    Not valid:\n",
       "        \"GlobalId\": \"028c968f-687d-484e-9c0a-5048a923b8c4\"\n",
       "        \"global_id\": \"028c968f-687d-484e-9c0a-5048a923b8c4\"\n",
       "Reference:\n",
       "    camelCase: https://github.com/buildingSMART/ifcJSON/tree/master/Documentation#27-camelcase--camelcaps--or-snake-case\n",
       "\n",
       "TODO: consider changing repo name; mfom --> pom (project object model)\n"
      ]
     },
     "metadata": {},
     "output_type": "display_data"
    }
   ],
   "source": [
    "import mfom\n",
    "?mfom"
   ]
  },
  {
   "cell_type": "code",
   "execution_count": 27,
   "id": "c391feb2-c37f-4108-9d3f-350ec86dbd57",
   "metadata": {},
   "outputs": [
    {
     "data": {
      "text/plain": [
       "{'projectName': 'In House App Testing',\n",
       " 'projectNumber': 'J5001',\n",
       " 'fpthJobDataIni': '/home/jovyan/jobs/J5001/Jobdata.ini',\n",
       " 'roles': [{'name': 'JG', 'role': 'Project Engineer'}],\n",
       " 'documentName': '06667-MXF-XX-XX-SH-M-20003',\n",
       " 'documentDescription': 'Document Description',\n",
       " 'classification': 'Ac_05',\n",
       " 'nameNomenclature': 'project code-originator-volume-level-type-role-number',\n",
       " 'size': 'A4',\n",
       " 'scale': 'NTS',\n",
       " 'docSource': 'WD',\n",
       " 'issueHistory': [{'revision': 'P01',\n",
       "   'date': datetime.date(2020, 1, 2),\n",
       "   'statusCode': 'S2',\n",
       "   'statusDescription': 'Suitable for information',\n",
       "   'author': 'EG',\n",
       "   'checkedBy': 'CK',\n",
       "   'issueFormat': 'cde',\n",
       "   'issueNotes': ''}],\n",
       " 'notes': ['add notes here'],\n",
       " 'originator': 'Max Fordham LLP',\n",
       " 'formatConfiguration': {'dateStringFormat': '%d %^b %y',\n",
       "  'descriptionInFilename': False}}"
      ]
     },
     "execution_count": 27,
     "metadata": {},
     "output_type": "execute_result"
    }
   ],
   "source": [
    "doc.dh.dict()"
   ]
  },
  {
   "cell_type": "code",
   "execution_count": 12,
   "id": "6bd514a2-cd1a-4942-ab84-1b10b344d467",
   "metadata": {},
   "outputs": [
    {
     "data": {
      "application/vnd.jupyter.widget-view+json": {
       "model_id": "3691aec977c24052a86ba6b8d6c35a3b",
       "version_major": 2,
       "version_minor": 0
      },
      "text/plain": [
       "VBox(children=(HBox(children=(ToggleButton(value=False, button_style='info', icon='folder-open', layout=Layout…"
      ]
     },
     "metadata": {},
     "output_type": "display_data"
    },
    {
     "data": {
      "application/vnd.jupyter.widget-view+json": {
       "model_id": "cd6ccc76246442b9920ad9ce3dd68ade",
       "version_major": 2,
       "version_minor": 0
      },
      "text/plain": [
       "Output()"
      ]
     },
     "metadata": {},
     "output_type": "display_data"
    }
   ],
   "source": [
    "from ipyrun._filecontroller import FileController\n",
    "from ipyrun._runconfig import SimpleInputs#\n",
    "\n",
    "inputs = SimpleInputs()\n",
    "FileController(inputs=inputs)"
   ]
  },
  {
   "cell_type": "code",
   "execution_count": 10,
   "id": "52373bf9-22f2-4c53-ba34-6293c9e2952a",
   "metadata": {},
   "outputs": [
    {
     "data": {
      "application/vnd.jupyter.widget-view+json": {
       "model_id": "dc58b066095e4989bd726d7cac054f8f",
       "version_major": 2,
       "version_minor": 0
      },
      "text/plain": [
       "Button(disabled=True, layout=Layout(height='25px', width='41px'), style=ButtonStyle())"
      ]
     },
     "metadata": {},
     "output_type": "display_data"
    }
   ],
   "source": [
    "open_ui(fpth)[0]"
   ]
  },
  {
   "cell_type": "code",
   "execution_count": 11,
   "id": "b3939fb6-b93f-4a9c-8aa4-0ee2fdfeaa34",
   "metadata": {},
   "outputs": [
    {
     "data": {
      "application/vnd.jupyter.widget-view+json": {
       "model_id": "ff80c1ecf36149d0b1dc4d79d81c7cf1",
       "version_major": 2,
       "version_minor": 0
      },
      "text/plain": [
       "VBox(children=(VBox(children=(HBox(children=(HBox(children=(Button(disabled=True, icon='check', layout=Layout(…"
      ]
     },
     "metadata": {},
     "output_type": "display_data"
    }
   ],
   "source": [
    "class DisplayFiles():\n",
    "    def __init__(self, paths: typing.List[pathlib.Path], auto_open: bool=False):\n",
    "        self.display_files = [DisplayFile(p, auto_open=auto_open) for p in paths]\n",
    "        self._init_form()\n",
    "        \n",
    "    def _init_form(self):\n",
    "        self.box_files = widgets.VBox([d.open_ui for d in self.display_files])\n",
    "      \n",
    "    @property\n",
    "    def paths(self):\n",
    "        return [d.path for d in self.display_files]\n",
    "        \n",
    "    def display(self):\n",
    "        display(self.box_files) \n",
    "        \n",
    "    def _ipython_display_(self):\n",
    "        self.display()\n",
    "        \n",
    "    def _activate_waiting(self):\n",
    "        [d.ui_file._activate_waiting() for d in self.display_files]\n",
    "        \n",
    "    def _update_files(self):\n",
    "        [d.ui_file._update_file() for d in self.display_files]\n",
    "        \n",
    "if __name__ == \"__main__\":\n",
    "    files = DisplayFiles([fpth, fpth1])\n",
    "    display(files)"
   ]
  },
  {
   "cell_type": "code",
   "execution_count": 12,
   "id": "ad059b9d-fd3e-41e7-8890-e757e9fabe73",
   "metadata": {},
   "outputs": [],
   "source": [
    "class PreviewOutput(DisplayFile):\n",
    "    def __init__(self,\n",
    "                 output: Output,\n",
    "                 default_file_renderers: Dict[str, Callable] = default_file_renderers,\n",
    "                 user_file_renderers: Dict[str, Callable] = None,\n",
    "                 newroot=pathlib.PureWindowsPath('J:/'),\n",
    "                 auto_open: bool=False\n",
    "                ):\n",
    "        path = output.path\n",
    "        super().__init__(path, \n",
    "                         default_file_renderers=default_file_renderers,\n",
    "                         user_file_renderers=user_file_renderers,\n",
    "                         newroot=newroot,\n",
    "                         auto_open=auto_open\n",
    "                        )"
   ]
  },
  {
   "cell_type": "code",
   "execution_count": 14,
   "id": "88a894ef",
   "metadata": {},
   "outputs": [],
   "source": [
    "class PreviewOutput(DisplayFile):\n",
    "    \"\"\"\n",
    "    class that creates a ipywidgets based ui for previewing a file in the browser\n",
    "    TODO: add functionality to show DocumentHeader\n",
    "    \"\"\"\n",
    "    def __init__(self, \n",
    "                 output: Output,\n",
    "                 user_file_renderers: Dict[str, Callable] = None,\n",
    "                 newroot=pathlib.PureWindowsPath('J:/'),\n",
    "                 auto_open: bool=False\n",
    "                 ):\n",
    "        super().__init__(fpth=output.path,\n",
    "                 user_file_renderers=user_file_renderers,\n",
    "                 newroot=newroot,\n",
    "                 auto_open=auto_open)\n",
    "        \n",
    "    def _input_handler(self, fpth):\n",
    "        if type(fpth) == Output:\n",
    "            self.fpth = fpth.fpth\n",
    "            self.output = fpth\n",
    "        else:\n",
    "            self.fpth = fpth\n",
    "            self.output = Output(fpth)"
   ]
  },
  {
   "cell_type": "code",
   "execution_count": 15,
   "id": "19a290a2",
   "metadata": {},
   "outputs": [],
   "source": [
    "class PreviewOutputs():\n",
    "    \"\"\"\n",
    "    class that creates a ipywidgets based ui for previewing multiple files in the browser\n",
    "    \"\"\"\n",
    "    def __init__(self, outputs: List[Output], auto_open=False, user_file_renderers: Dict[str, Callable] = None, newroot=pathlib.PureWindowsPath('J:/')):\n",
    "        self.outputs = outputs\n",
    "        self.user_file_renderers = user_file_renderers\n",
    "        self.newroot = newroot\n",
    "        self.auto_open = auto_open\n",
    "        self._init_form()\n",
    "          \n",
    "    def _init_form(self):\n",
    "        self.display_outputs = [PreviewOutput(o, auto_open=self.auto_open, user_file_renderers=self.user_file_renderers, newroot=self.newroot) for o in self.outputs]\n",
    "        self.display_uis = [ui.open_ui for ui in self.display_outputs]\n",
    "        self.display_previews = widgets.VBox(self.display_uis,layout=widgets.Layout(height='100%',justify_items='center'))\n",
    "        \n",
    "    def display_PreviewOutputs(self):\n",
    "        display(self.display_previews) \n",
    "        \n",
    "    def _ipython_display_(self):\n",
    "        self.display_PreviewOutputs()"
   ]
  },
  {
   "cell_type": "code",
   "execution_count": 16,
   "id": "56409bed",
   "metadata": {},
   "outputs": [
    {
     "data": {
      "text/markdown": [
       "### Example0"
      ],
      "text/plain": [
       "<IPython.core.display.Markdown object>"
      ]
     },
     "metadata": {},
     "output_type": "display_data"
    },
    {
     "data": {
      "text/markdown": [
       "display single file"
      ],
      "text/plain": [
       "<IPython.core.display.Markdown object>"
      ]
     },
     "metadata": {},
     "output_type": "display_data"
    },
    {
     "data": {
      "application/vnd.jupyter.widget-view+json": {
       "model_id": "50489d5f553a431faf3cd960d82f2277",
       "version_major": 2,
       "version_minor": 0
      },
      "text/plain": [
       "DataGrid(auto_fit_columns=True, auto_fit_params={'area': 'all', 'padding': 30, 'numCols': None}, corner_render…"
      ]
     },
     "metadata": {},
     "output_type": "display_data"
    },
    {
     "data": {
      "text/plain": [
       "None"
      ]
     },
     "metadata": {},
     "output_type": "display_data"
    },
    {
     "data": {
      "text/markdown": [
       "---"
      ],
      "text/plain": [
       "<IPython.core.display.Markdown object>"
      ]
     },
     "metadata": {},
     "output_type": "display_data"
    },
    {
     "data": {
      "text/markdown": [],
      "text/plain": [
       "<IPython.core.display.Markdown object>"
      ]
     },
     "metadata": {},
     "output_type": "display_data"
    },
    {
     "data": {
      "text/markdown": [
       "### Example5"
      ],
      "text/plain": [
       "<IPython.core.display.Markdown object>"
      ]
     },
     "metadata": {},
     "output_type": "display_data"
    },
    {
     "data": {
      "text/markdown": [
       "display single Output"
      ],
      "text/plain": [
       "<IPython.core.display.Markdown object>"
      ]
     },
     "metadata": {},
     "output_type": "display_data"
    },
    {
     "data": {
      "application/vnd.jupyter.widget-view+json": {
       "model_id": "36ce9cda474240bf9533de8caa4c6093",
       "version_major": 2,
       "version_minor": 0
      },
      "text/plain": [
       "VBox(children=(HBox(children=(HBox(children=(Button(disabled=True, icon='check', layout=Layout(height='25px', …"
      ]
     },
     "metadata": {},
     "output_type": "display_data"
    },
    {
     "data": {
      "text/markdown": [
       "---"
      ],
      "text/plain": [
       "<IPython.core.display.Markdown object>"
      ]
     },
     "metadata": {},
     "output_type": "display_data"
    },
    {
     "data": {
      "text/markdown": [],
      "text/plain": [
       "<IPython.core.display.Markdown object>"
      ]
     },
     "metadata": {},
     "output_type": "display_data"
    },
    {
     "data": {
      "text/markdown": [
       "### Example5"
      ],
      "text/plain": [
       "<IPython.core.display.Markdown object>"
      ]
     },
     "metadata": {},
     "output_type": "display_data"
    },
    {
     "data": {
      "text/markdown": [
       "display single Output"
      ],
      "text/plain": [
       "<IPython.core.display.Markdown object>"
      ]
     },
     "metadata": {},
     "output_type": "display_data"
    },
    {
     "data": {
      "application/vnd.jupyter.widget-view+json": {
       "model_id": "f681c6990a744b74a5370b00950dcc7a",
       "version_major": 2,
       "version_minor": 0
      },
      "text/plain": [
       "HBox(children=(Output(), Output()), layout=Layout(justify_content='space-around'))"
      ]
     },
     "metadata": {},
     "output_type": "display_data"
    },
    {
     "data": {
      "text/markdown": [
       "---"
      ],
      "text/plain": [
       "<IPython.core.display.Markdown object>"
      ]
     },
     "metadata": {},
     "output_type": "display_data"
    },
    {
     "data": {
      "text/markdown": [],
      "text/plain": [
       "<IPython.core.display.Markdown object>"
      ]
     },
     "metadata": {},
     "output_type": "display_data"
    },
    {
     "data": {
      "text/markdown": [
       "### Example6"
      ],
      "text/plain": [
       "<IPython.core.display.Markdown object>"
      ]
     },
     "metadata": {},
     "output_type": "display_data"
    },
    {
     "data": {
      "text/markdown": [
       "display multiple Outputs"
      ],
      "text/plain": [
       "<IPython.core.display.Markdown object>"
      ]
     },
     "metadata": {},
     "output_type": "display_data"
    },
    {
     "data": {
      "application/vnd.jupyter.widget-view+json": {
       "model_id": "7d9e3cb380224415a692eddc3d2fab9f",
       "version_major": 2,
       "version_minor": 0
      },
      "text/plain": [
       "VBox(children=(VBox(children=(HBox(children=(HBox(children=(Button(disabled=True, icon='check', layout=Layout(…"
      ]
     },
     "metadata": {},
     "output_type": "display_data"
    },
    {
     "data": {
      "text/markdown": [
       "---"
      ],
      "text/plain": [
       "<IPython.core.display.Markdown object>"
      ]
     },
     "metadata": {},
     "output_type": "display_data"
    },
    {
     "data": {
      "text/markdown": [],
      "text/plain": [
       "<IPython.core.display.Markdown object>"
      ]
     },
     "metadata": {},
     "output_type": "display_data"
    }
   ],
   "source": [
    "if __name__ =='__main__':\n",
    "    # NOTE FOR FUTURE:\n",
    "    # the below can be used to make documentation that looks at all functions or classes\n",
    "    # rather than only the module level docstring. this would be an update to the PreviewPy class\n",
    "    # +\n",
    "    #from inspect import getmembers, isfunction, isclass\n",
    "    #from mf_modules import mydocstring_display\n",
    "\n",
    "    #functions_list = [o for o in getmembers(mydocstring_display) if isfunction(o[1])]\n",
    "    #class_list = [o for o in getmembers(mydocstring_display) if isclass(o[1])]\n",
    "    #functions_list\n",
    "    #class_list\n",
    "    # -\n",
    "\n",
    "    fdir = os.path.dirname(os.path.realpath('__file__'))\n",
    "    rel_fdir = os.path.join('..','test_filetypes')\n",
    "\n",
    "    fpths = recursive_glob(rootdir=rel_fdir)\n",
    "    #fpths = [os.path.join(rel,  fpth for fpth in fpths ]\n",
    "\n",
    "    # single file\n",
    "    d0 = DisplayFile(fpths[0])\n",
    "    display(Markdown('### Example0'))\n",
    "    display(Markdown('''display single file'''))\n",
    "    display(d0.preview_fpth())\n",
    "    display(Markdown('---'))\n",
    "    display(Markdown(''))\n",
    "    \n",
    "    # single Output\n",
    "    o0 = Output(fpth=fpths[0])\n",
    "    p0 = DisplayFile(fpths[0])\n",
    "    display(Markdown('### Example5'))\n",
    "    display(Markdown('''display single Output'''))\n",
    "    display(p0)\n",
    "    display(Markdown('---'))\n",
    "    display(Markdown(''))\n",
    "    \n",
    "    # single Output side by side\n",
    "    o0 = Output(fpth=fpths[0])\n",
    "    p0 = DisplayFile(fpths[0])\n",
    "    display(Markdown('### Example5'))\n",
    "    display(Markdown('''display single Output'''))\n",
    "    out1 = widgets.Output()\n",
    "    out2 = widgets.Output()\n",
    "    with out1: \n",
    "        display(p0)\n",
    "    with out2: \n",
    "        display(p0)\n",
    "    display(widgets.HBox([out1, out2], layout=widgets.Layout(justify_content='space-around')))\n",
    "    display(Markdown('---'))\n",
    "    display(Markdown(''))\n",
    "    \n",
    "    # multiple Outputs\n",
    "    outputs = [Output(f) for f in fpths]\n",
    "    p1 = DisplayFiles(fpths)\n",
    "    display(Markdown('### Example6'))\n",
    "    display(Markdown('''display multiple Outputs'''))\n",
    "    display(p1)\n",
    "    display(Markdown('---'))\n",
    "    display(Markdown(''))"
   ]
  },
  {
   "cell_type": "code",
   "execution_count": 19,
   "id": "c3488489",
   "metadata": {},
   "outputs": [],
   "source": [
    "if __name__ == \"__main__\":\n",
    "    p1._activate_waiting()\n",
    "    time.sleep(2)\n",
    "    p1._update_files()"
   ]
  }
 ],
 "metadata": {
  "jupytext": {
   "formats": "ipynb,py:light"
  },
  "kernelspec": {
   "display_name": "Python 3 (ipykernel)",
   "language": "python",
   "name": "python3"
  },
  "language_info": {
   "codemirror_mode": {
    "name": "ipython",
    "version": 3
   },
   "file_extension": ".py",
   "mimetype": "text/x-python",
   "name": "python",
   "nbconvert_exporter": "python",
   "pygments_lexer": "ipython3",
   "version": "3.9.7"
  }
 },
 "nbformat": 4,
 "nbformat_minor": 5
}
