{
 "cells": [
  {
   "cell_type": "code",
   "execution_count": 1,
   "id": "dc9665a6",
   "metadata": {},
   "outputs": [],
   "source": [
    "\"\"\"\n",
    "multiselect dropdown widget definition. TODO: integrate with ipyautoui\n",
    "\n",
    "Reference:\n",
    "    https://gist.github.com/MattJBritton/9dc26109acb4dfe17820cf72d82f1e6f\n",
    "        \n",
    "\n",
    "\"\"\"\n",
    "%run ../__init__.py\n",
    "import sys\n",
    "import ipywidgets as widgets\n",
    "import requests\n",
    "import random"
   ]
  },
  {
   "cell_type": "code",
   "execution_count": 2,
   "id": "5829c4ce",
   "metadata": {},
   "outputs": [
    {
     "data": {
      "application/vnd.jupyter.widget-view+json": {
       "model_id": "afc1718f7751487a87e91180ec9c0303",
       "version_major": 2,
       "version_minor": 0
      },
      "text/plain": [
       "Output()"
      ]
     },
     "metadata": {},
     "output_type": "display_data"
    },
    {
     "data": {
      "application/vnd.jupyter.widget-view+json": {
       "model_id": "b9996e928fb147f3a944de7292daf7a7",
       "version_major": 2,
       "version_minor": 0
      },
      "text/plain": [
       "HBox(children=(VBox(children=(Text(value=''), VBox(children=(Checkbox(value=False, style=DescriptionStyle(desc…"
      ]
     },
     "metadata": {},
     "output_type": "display_data"
    }
   ],
   "source": [
    "\n",
    "\n",
    "\n",
    "class MultiSelectSearch:\n",
    "    \"\"\"\n",
    "    multi-checkbox select widget with search \n",
    "    \n",
    "    Reference:\n",
    "        multi-select widget:\n",
    "            https://gist.github.com/MattJBritton/9dc26109acb4dfe17820cf72d82f1e6f\n",
    "    \"\"\"\n",
    "    def __init__(self, options):\n",
    "        self.options_dict = {\n",
    "            x: widgets.Checkbox(\n",
    "                description=x, \n",
    "                value=False,\n",
    "                style={\"description_width\":\"0px\"}\n",
    "            ) for x in options\n",
    "        }\n",
    "        \n",
    "        self.ui = self.multi_checkbox_widget(self.options_dict)\n",
    "        self.out = widgets.interactive_output(self.f, self.options_dict)\n",
    "    \n",
    "    def display(self):\n",
    "        display(widgets.HBox([self.ui, self.out]))\n",
    "    \n",
    "    def _ipython_display_(self):\n",
    "        self.display()\n",
    "        \n",
    "    def f(self, **args):\n",
    "        self.value = [key for key, value in args.items() if value]\n",
    "        display(self.value)\n",
    "    \n",
    "    def multi_checkbox_widget(self,options_dict):\n",
    "        \"\"\" Widget with a search field and lots of checkboxes \"\"\"\n",
    "        search_widget = widgets.Text()\n",
    "        output_widget = widgets.Output()\n",
    "        options = [x for x in options_dict.values()]\n",
    "        options_layout = widgets.Layout(\n",
    "            overflow='auto',\n",
    "            border='1px solid black',\n",
    "            width='400px',\n",
    "            height='300px',\n",
    "            flex_flow='column',\n",
    "            display='flex'\n",
    "        )\n",
    "        options_widget = widgets.VBox(options, layout=options_layout)\n",
    "        multi_select = widgets.VBox([search_widget, options_widget])\n",
    "\n",
    "        @output_widget.capture()\n",
    "        def on_checkbox_change(change):\n",
    "            selected_recipe = change[\"owner\"].description\n",
    "            options_widget.children = sorted([x for x in options_widget.children], key = lambda x: x.value, reverse = True)\n",
    "\n",
    "        for checkbox in options:\n",
    "            checkbox.observe(on_checkbox_change, names=\"value\")\n",
    "\n",
    "        # Wire the search field to the checkboxes\n",
    "        @output_widget.capture()\n",
    "        def on_text_change(change):\n",
    "            search_input = change['new']\n",
    "            if search_input == '':\n",
    "                # Reset search field\n",
    "                new_options = sorted(options, key = lambda x: x.value, reverse = True)\n",
    "            else:\n",
    "                # Filter by search field using difflib.\n",
    "                close_matches = [x for x in list(options_dict.keys()) if str.lower(search_input.strip('')) in str.lower(x)]\n",
    "                new_options = sorted(\n",
    "                    [x for x in options if x.description in close_matches], \n",
    "                    key = lambda x: x.value, reverse = True\n",
    "                ) #[options_dict[x] for x in close_matches]\n",
    "            options_widget.children = new_options\n",
    "\n",
    "        search_widget.observe(on_text_change, names='value')\n",
    "        display(output_widget)\n",
    "        return multi_select\n",
    "\n",
    "if __name__ == \"__main__\":\n",
    "    words = \"\"\"\n",
    "a\n",
    "AAA\n",
    "AAAS\n",
    "aardvark\n",
    "Aarhus\n",
    "Aaron\n",
    "ABA\n",
    "Ababa\n",
    "aback\n",
    "abacus\n",
    "abalone\n",
    "abandon\n",
    "abase\n",
    "abash\n",
    "abate\n",
    "abbas\n",
    "abbe\n",
    "abbey\n",
    "abbot\n",
    "Abbott\n",
    "abbreviate\n",
    "abc\n",
    "abdicate\n",
    "abdomen\n",
    "abdominal\n",
    "abduct\n",
    "Abe\n",
    "abed\n",
    "Abel\n",
    "    \"\"\"\n",
    "    words = set([word.lower() for word in words.splitlines()])\n",
    "    descriptions = list(words)[:10]\n",
    "\n",
    "    m = MultiSelectSearch(options=descriptions)\n",
    "    display(m)\n"
   ]
  },
  {
   "cell_type": "code",
   "execution_count": null,
   "id": "6ef4a751-6068-4cf7-9df3-bc752ebe8109",
   "metadata": {},
   "outputs": [],
   "source": []
  }
 ],
 "metadata": {
  "jupytext": {
   "formats": "ipynb,py:light"
  },
  "kernelspec": {
   "display_name": "Python 3 (ipykernel)",
   "language": "python",
   "name": "python3"
  },
  "language_info": {
   "codemirror_mode": {
    "name": "ipython",
    "version": 3
   },
   "file_extension": ".py",
   "mimetype": "text/x-python",
   "name": "python",
   "nbconvert_exporter": "python",
   "pygments_lexer": "ipython3",
   "version": "3.9.7"
  }
 },
 "nbformat": 4,
 "nbformat_minor": 5
}
