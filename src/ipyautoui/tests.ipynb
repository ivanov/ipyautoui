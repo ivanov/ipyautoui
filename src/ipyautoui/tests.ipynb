{
 "cells": [
  {
   "cell_type": "code",
   "execution_count": 1,
   "id": "0c364f43-59ab-4f50-8c34-20282ec51859",
   "metadata": {
    "lines_to_next_cell": 0
   },
   "outputs": [
    {
     "data": {
      "application/vnd.jupyter.widget-view+json": {
       "model_id": "5c8cfc66e2d04daa8abdfa3d17d0f478",
       "version_major": 2,
       "version_minor": 0
      },
      "text/plain": [
       "HBox(children=(HTML(value='<b>IntSlider</b>', layout=Layout(width='200px')), HBox(children=(IntSlider(value=1,…"
      ]
     },
     "metadata": {},
     "output_type": "display_data"
    },
    {
     "data": {
      "application/vnd.jupyter.widget-view+json": {
       "model_id": "44c8da65ec1a42cca6e010bdc6583621",
       "version_major": 2,
       "version_minor": 0
      },
      "text/plain": [
       "HBox(children=(HTML(value='<b>IntText</b>', layout=Layout(width='200px')), HBox(children=(IntText(value=1), HT…"
      ]
     },
     "metadata": {},
     "output_type": "display_data"
    },
    {
     "data": {
      "application/vnd.jupyter.widget-view+json": {
       "model_id": "051fc072399b4980a94a9792b7ea9a70",
       "version_major": 2,
       "version_minor": 0
      },
      "text/plain": [
       "HBox(children=(HTML(value='<b>IntRangeSlider</b>', layout=Layout(width='200px')), HBox(children=(IntRangeSlide…"
      ]
     },
     "metadata": {},
     "output_type": "display_data"
    },
    {
     "data": {
      "application/vnd.jupyter.widget-view+json": {
       "model_id": "387030c4e1224153a4140f813a068d5b",
       "version_major": 2,
       "version_minor": 0
      },
      "text/plain": [
       "HBox(children=(HTML(value='<b>FloatSlider</b>', layout=Layout(width='200px')), HBox(children=(FloatSlider(valu…"
      ]
     },
     "metadata": {},
     "output_type": "display_data"
    },
    {
     "data": {
      "application/vnd.jupyter.widget-view+json": {
       "model_id": "dba5747913c746b1a49aaf561ff055a6",
       "version_major": 2,
       "version_minor": 0
      },
      "text/plain": [
       "HBox(children=(HTML(value='<b>FloatText</b>', layout=Layout(width='200px')), HBox(children=(FloatText(value=1.…"
      ]
     },
     "metadata": {},
     "output_type": "display_data"
    },
    {
     "data": {
      "application/vnd.jupyter.widget-view+json": {
       "model_id": "3c160c373fb14fcbba7a4ea9321aeb96",
       "version_major": 2,
       "version_minor": 0
      },
      "text/plain": [
       "HBox(children=(HTML(value='<b>FloatRangeSlider</b>', layout=Layout(width='200px')), HBox(children=(FloatRangeS…"
      ]
     },
     "metadata": {},
     "output_type": "display_data"
    },
    {
     "data": {
      "application/vnd.jupyter.widget-view+json": {
       "model_id": "1c8f17ddf3f049b19dc7ed87a359b2a9",
       "version_major": 2,
       "version_minor": 0
      },
      "text/plain": [
       "HBox(children=(HTML(value='<b>Checkbox</b>', layout=Layout(width='200px')), HBox(children=(Checkbox(value=True…"
      ]
     },
     "metadata": {},
     "output_type": "display_data"
    },
    {
     "data": {
      "application/vnd.jupyter.widget-view+json": {
       "model_id": "4254e99c943448b0ba8a4f79e4cd8db1",
       "version_major": 2,
       "version_minor": 0
      },
      "text/plain": [
       "HBox(children=(HTML(value='<b>Dropdown</b>', layout=Layout(width='200px')), HBox(children=(Dropdown(index=2, o…"
      ]
     },
     "metadata": {},
     "output_type": "display_data"
    },
    {
     "data": {
      "application/vnd.jupyter.widget-view+json": {
       "model_id": "54bc7b2d90914c608eea7ee8f97f14eb",
       "version_major": 2,
       "version_minor": 0
      },
      "text/plain": [
       "HBox(children=(HTML(value='<b>SelectionRangeSlider</b>', layout=Layout(width='200px')), HBox(children=(Selecti…"
      ]
     },
     "metadata": {},
     "output_type": "display_data"
    },
    {
     "data": {
      "application/vnd.jupyter.widget-view+json": {
       "model_id": "0d6a290f0a114b3aab28ce116076eb2d",
       "version_major": 2,
       "version_minor": 0
      },
      "text/plain": [
       "HBox(children=(HTML(value='<b>SelectMultiple</b>', layout=Layout(width='200px')), HBox(children=(SelectMultipl…"
      ]
     },
     "metadata": {},
     "output_type": "display_data"
    },
    {
     "data": {
      "application/vnd.jupyter.widget-view+json": {
       "model_id": "9ca64fadbc6b44ee96817aaa9ebff00f",
       "version_major": 2,
       "version_minor": 0
      },
      "text/plain": [
       "HBox(children=(HTML(value='<b>Text</b>', layout=Layout(width='200px')), HBox(children=(Text(value='short text'…"
      ]
     },
     "metadata": {},
     "output_type": "display_data"
    },
    {
     "data": {
      "application/vnd.jupyter.widget-view+json": {
       "model_id": "5e79e47082244c64863d43879471f61b",
       "version_major": 2,
       "version_minor": 0
      },
      "text/plain": [
       "HBox(children=(HTML(value='<b>Textarea</b>', layout=Layout(width='200px')), HBox(children=(Textarea(value='lon…"
      ]
     },
     "metadata": {},
     "output_type": "display_data"
    },
    {
     "data": {
      "application/vnd.jupyter.widget-view+json": {
       "model_id": "fc2998ba871046d5abd8840c42debca8",
       "version_major": 2,
       "version_minor": 0
      },
      "text/plain": [
       "HBox(children=(HTML(value='<b>Combobox</b>', layout=Layout(width='200px')), HBox(children=(Combobox(value='str…"
      ]
     },
     "metadata": {},
     "output_type": "display_data"
    },
    {
     "data": {
      "application/vnd.jupyter.widget-view+json": {
       "model_id": "31c155363124442e8e6a1c4e5ff3696d",
       "version_major": 2,
       "version_minor": 0
      },
      "text/plain": [
       "HBox(children=(HTML(value='<b>DatePicker</b>', layout=Layout(width='200px')), HBox(children=(DatePicker(value=…"
      ]
     },
     "metadata": {},
     "output_type": "display_data"
    },
    {
     "data": {
      "application/vnd.jupyter.widget-view+json": {
       "model_id": "6c4e8f9d912e46118c0ce2892973420d",
       "version_major": 2,
       "version_minor": 0
      },
      "text/plain": [
       "HBox(children=(HTML(value='<p style=\"color:blue\"><b>FileChooser</b></p>', layout=Layout(width='200px')), HBox(…"
      ]
     },
     "metadata": {},
     "output_type": "display_data"
    },
    {
     "data": {
      "application/vnd.jupyter.widget-view+json": {
       "model_id": "bd2df56a2ad44cf4a02d4cd8c1f9fda5",
       "version_major": 2,
       "version_minor": 0
      },
      "text/plain": [
       "HBox(children=(HTML(value='<p style=\"color:blue\"><b>FileUpload</b></p>', layout=Layout(width='200px')), HBox(c…"
      ]
     },
     "metadata": {},
     "output_type": "display_data"
    },
    {
     "data": {
      "application/vnd.jupyter.widget-view+json": {
       "model_id": "a8f2154f31ff42618238f23991ab567b",
       "version_major": 2,
       "version_minor": 0
      },
      "text/plain": [
       "HBox(children=(HTML(value='<p style=\"color:blue\"><b>AutoModelRunName</b></p>', layout=Layout(width='200px')), …"
      ]
     },
     "metadata": {},
     "output_type": "display_data"
    },
    {
     "data": {
      "application/vnd.jupyter.widget-view+json": {
       "model_id": "1fd4eb3973f2410191f824ae9e31ae11",
       "version_major": 2,
       "version_minor": 0
      },
      "text/plain": [
       "HBox(children=(HTML(value='<p style=\"color:blue\"><b>DataGrid</b></p>', layout=Layout(width='200px')), HBox(chi…"
      ]
     },
     "metadata": {},
     "output_type": "display_data"
    },
    {
     "data": {
      "application/vnd.jupyter.widget-view+json": {
       "model_id": "e26648b59ef84a46a6267473657ccbcd",
       "version_major": 2,
       "version_minor": 0
      },
      "text/plain": [
       "VBox(children=(HBox(children=(IntSlider(value=1, max=3), HTML(value='<p><strong>IntSlider</strong>, </p>'), HT…"
      ]
     },
     "metadata": {},
     "output_type": "display_data"
    }
   ],
   "source": [
    "%run __init__.py\n",
    "\n",
    "import datetime\n",
    "import pandas as pd\n",
    "import pathlib\n",
    "import ipywidgets as widgets\n",
    "from markdown import markdown\n",
    "from IPython.display import display, Markdown\n",
    "\n",
    "from ipyautoui.constants import DF_MAP\n",
    "from ipyautoui.autoui import AutoUi, AutoUiBase, WidgetRow, WidgetRowBase, _markdown\n",
    "from ipyautoui._utils import obj_from_string\n",
    "from ipyautoui._auto_logic import *\n",
    "\n",
    "from ipyautoui._custom_widgets import AutoUiFileChooser, AutoUiFileUpload, AutoUiDataGrid, AutoModelRunName\n",
    "from ipyautoui.test_autoui_data import di_test_autologic\n",
    "\n",
    "# TESTING #-----------------------------------------------------\n",
    "#---------------------------------------------------------------\n",
    "\n",
    "def test_mapping(di_test_autologic, df_map=DF_MAP):\n",
    "    for k, v in di_test_autologic.items():\n",
    "        if 'autoui_type' not in v:\n",
    "            queries = get_filter_query(**v)\n",
    "            df_tmp = pd_execute_queries(df_map, queries)\n",
    "            assert len(df_tmp) == 1, '{} --> len(df_tmp) == {}'.format(k, len(df_tmp))\n",
    "            widget_class_string = df_tmp.reset_index().loc[0, 'widget_class_string']\n",
    "        else:\n",
    "            widget_class_string = v['autoui_type']\n",
    "        widget_name = name_from_class_string(widget_class_string)\n",
    "        assert k in widget_name, f'{k} != {widget_name}'\n",
    "    \n",
    "def test_display_widget_mapping(di_test_autologic, df_map=DF_MAP):\n",
    "    li = []\n",
    "    for k, v in di_test_autologic.items():\n",
    "        data = WidgetRowBase(**v)\n",
    "        ui = WidgetRow(data)\n",
    "        assert str(type(ui.widget)) == data.autoui_type, 'WidgetRow not initalised'\n",
    "\n",
    "def test_display_WidgetRow_widget(di_test_autologic, df_map=DF_MAP):\n",
    "    li = []\n",
    "    for k, v in di_test_autologic.items():\n",
    "        data = WidgetRowBase(**v)\n",
    "        ui = WidgetRow(data)\n",
    "        assert str(type(ui.widget)) == data.autoui_type, 'WidgetRow not initalised'\n",
    "        if 'ipywidget' in str(type(ui.widget)):\n",
    "            label = f'<b>{k}</b>'\n",
    "        else:\n",
    "            label = f'<p style=\"color:blue\"><b>{k}</b></p>'\n",
    "        try:\n",
    "            display(widgets.HBox([widgets.HTML(label, layout={'width':'200px'}),ui.row]))\n",
    "        except:\n",
    "            AssertionError('widget not formed for class string: {}'.format(ui.autoui_type))\n",
    "            \n",
    "def test_display_AutoUi(di_test_autologic, df_map=DF_MAP):\n",
    "    rows = []\n",
    "    for k, v in di_test_autologic.items():\n",
    "        tmp = v\n",
    "        tmp['name'] = k\n",
    "        \n",
    "        rows.append(tmp)\n",
    "    data = AutoUiBase(**{'rows':rows})\n",
    "    ui = AutoUi(data)\n",
    "    return ui\n",
    "\n",
    "if __name__ == \"__main__\":\n",
    "    test_display_WidgetRow_widget(di_test_autologic)\n",
    "    ui=test_display_AutoUi(di_test_autologic)\n",
    "    display(ui)\n",
    "    #---------------------------------------------------------------"
   ]
  },
  {
   "cell_type": "code",
   "execution_count": null,
   "id": "184467c1-93c7-49e0-85f8-57ee3d6b0ded",
   "metadata": {},
   "outputs": [],
   "source": []
  }
 ],
 "metadata": {
  "jupytext": {
   "formats": "ipynb,py"
  },
  "kernelspec": {
   "display_name": "Python 3",
   "language": "python",
   "name": "python3"
  },
  "language_info": {
   "codemirror_mode": {
    "name": "ipython",
    "version": 3
   },
   "file_extension": ".py",
   "mimetype": "text/x-python",
   "name": "python",
   "nbconvert_exporter": "python",
   "pygments_lexer": "ipython3",
   "version": "3.9.4"
  }
 },
 "nbformat": 4,
 "nbformat_minor": 5
}
