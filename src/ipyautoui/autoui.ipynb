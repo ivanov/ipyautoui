{
 "cells": [
  {
   "cell_type": "code",
   "execution_count": 421,
   "id": "caa056e9",
   "metadata": {},
   "outputs": [],
   "source": [
    "import sys\n",
    "sys.path.append('/mnt/c/engDev/git_extrnl/pydantic')\n",
    "%run __init__.py\n",
    "\n",
    "import pathlib\n",
    "from pydantic import BaseModel, ValidationError, validator\n",
    "import ipywidgets as widgets\n",
    "from typing import Optional, List, Dict, Type, Any, Union\n",
    "from markdown import markdown\n",
    "import ipydatagrid as ipg\n",
    "import pandas as pd\n",
    "\n",
    "from ipyautoui.constants import DF_MAP\n",
    "from ipyautoui._utils import obj_from_string, _markdown\n",
    "from ipyautoui._auto_logic import get_widget_class_strings, ALLOWED_VALUE_TYPES\n",
    "from ipyautoui._custom_widgets import AutoUiFileChooser, AutoUiFileUpload, AutoUiDataGrid, AutoModelRunName"
   ]
  },
  {
   "cell_type": "code",
   "execution_count": 2,
   "id": "47b41d9f",
   "metadata": {},
   "outputs": [],
   "source": [
    "# data-definitions only. they define the fields that are required to create a ui object. \n",
    "\n",
    "class AutoWidget(BaseModel):\n",
    "    \"\"\"data container for a AutoWidget. \n",
    "    this is a data container for all auto-widgets.\n",
    "    it inherits pydantic.BaseModel and uses pydantic validation tools to \n",
    "    initiate the \"widget\" and the \"autoui_type\" based on the value type and kwargs. \n",
    "    using the pydantic \".dict()\" and \".json()\" commands data can be serialised. the \"widget\"\n",
    "    parameter is excluded from the \"dict()\" and \"json()\" commands; this means that the \n",
    "    output contains strings only and can be written to file.\n",
    "    \"\"\"\n",
    "    value: Any # ALLOWED_VALUE_TYPES\n",
    "    kwargs: Dict = {}\n",
    "    autoui_type: str = None\n",
    "    widget: Any = None\n",
    "    \n",
    "    @validator('autoui_type', pre=True, always=True)\n",
    "    def get_autoui_type(cls, v, values):\n",
    "        if v is not None:\n",
    "            # user indicated ui widget type\n",
    "            if v in DF_MAP.widget.tolist():\n",
    "                # user provided short-hand mapping to widget type\n",
    "                cls_str = DF_MAP.set_index('widget')['widget_class_string'].to_dict()[v]\n",
    "            else:\n",
    "                # user input class string to be used explicitly\n",
    "                cls_str = v\n",
    "        else:\n",
    "            # run auto ui mapper\n",
    "            value = values['value']\n",
    "            cls_str = get_widget_class_strings(values['value'], values['kwargs'], df_map=DF_MAP)\n",
    "        if cls_str[0:6] != \"<class\":\n",
    "            raise ValueError('autoui_type must be a class string')\n",
    "        return cls_str \n",
    "    \n",
    "    @validator('widget', always=True)\n",
    "    def get_widget(cls, v, values):\n",
    "        value = values['value']\n",
    "        kwargs = values['kwargs']\n",
    "        if value is not None:\n",
    "            kwargs = {'value':value} | kwargs\n",
    "        else:\n",
    "            kwargs = kwargs\n",
    "        return obj_from_string(values['autoui_type'])(**kwargs)\n",
    "        \n",
    "    class Config:\n",
    "        arbitrary_types_allowed = True\n",
    "        \n",
    "class RowBase(BaseModel):\n",
    "    name: str = 'name'\n",
    "    label: str = 'label'\n",
    "\n",
    "class WidgetRowBase(RowBase,AutoWidget):\n",
    "    class Config:\n",
    "        arbitrary_types_allowed = True\n",
    "\n",
    "class AutoUiBase(BaseModel):\n",
    "    \"\"\"\n",
    "    AutoUi data container. a defined data structure that can be written \n",
    "    to dict or JSON or used to initiate a AutoUi object.\n",
    "    \"\"\"\n",
    "    rows: List[WidgetRowBase] = []\n",
    "    path: pathlib.PurePath = None\n",
    "        \n",
    "    class Config:\n",
    "        arbitrary_types_allowed = True\n",
    "        fields = {\n",
    "            'path': {\n",
    "                'exclude': ...,\n",
    "            }\n",
    "        }"
   ]
  },
  {
   "cell_type": "code",
   "execution_count": 3,
   "id": "0469b617",
   "metadata": {},
   "outputs": [],
   "source": [
    "# classes that inherit the data objects, and are initialised by them. \n",
    "# these classes add the \"observe\" ability\n",
    "\n",
    "class WidgetRow(WidgetRowBase):\n",
    "    \"\"\"\n",
    "    class that observes the WidgetRowBase and copies the value from the \n",
    "    awc.widget.value to the awc.value on change, this ensures that when the object \n",
    "    is written to file (and awc.widget is ignored when written to dict or json),\n",
    "    thus the value of the widget state is saved\n",
    "    \"\"\"\n",
    "    row: widgets.HBox = None  \n",
    "    widget: Any = None\n",
    "        \n",
    "    def __init__(self, aw: WidgetRowBase):\n",
    "        \"\"\"\n",
    "        Args:\n",
    "            awc: AutoWidgetBase, data object for AutoWidget\n",
    "        \"\"\"\n",
    "        super().__init__(**aw.dict())\n",
    "        self._init_row()\n",
    "        self._init_controls()\n",
    "        \n",
    "    def _init_row(self):\n",
    "        self.row = self._get_row()\n",
    "    \n",
    "    def _init_controls(self):\n",
    "        self.widget.observe(self._copy_value, 'value')\n",
    "        \n",
    "    def _copy_value(self, onchange):\n",
    "        self.value = self.widget.value\n",
    "        \n",
    "    def _get_row(self):\n",
    "        name = self.name\n",
    "        label = self.label\n",
    "        return widgets.HBox([self.widget, _markdown(value=f'__{name}__, '), _markdown(value=f'_{label}_')], layout={'width':'100%'}) \n",
    "        \n",
    "    def display(self):\n",
    "        display(self.row)\n",
    "\n",
    "    def _ipython_display_(self):\n",
    "        self.display()\n",
    "        \n",
    "    class Config:\n",
    "        arbitrary_types_allowed = True\n",
    "        fields = {\n",
    "            'widget': {\n",
    "                'exclude': ...,\n",
    "            },\n",
    "            'row': {\n",
    "                'exclude': ...,\n",
    "            }\n",
    "        }\n",
    "        \n",
    "class AutoUi(AutoUiBase):\n",
    "    \"\"\"class that observes the AutoUiBase data structure and copies the value from the \n",
    "    self.widget.value to the self.value param on change, this ensures that when the object \n",
    "    is written to file (note. self.widget, self.ui are ignored when written to dict or json),\n",
    "    that the value of the widget state is saved. this relies on the widgets that are being\n",
    "    observed using traitlets and having an observable \"value\" field.\n",
    "    \n",
    "    TODO:\n",
    "        make it so it only copies the data that has changed from the widgets \n",
    "        to the value field on change insted of the data from all widgets.\n",
    "    \"\"\"\n",
    "    ui: widgets.VBox = None\n",
    "        \n",
    "    def __init__(self, aui: AutoUiBase):\n",
    "        super().__init__(**aui.dict())\n",
    "        self._init_widgets()\n",
    "        \n",
    "    def _init_widgets(self):\n",
    "        self.rows = [WidgetRow(row) for row in self.rows]\n",
    "        self.ui = widgets.VBox()\n",
    "        self.ui.children = [w.row for w in self.rows]\n",
    "    \n",
    "    def display(self):\n",
    "        display(self.ui)\n",
    "\n",
    "    def _ipython_display_(self):\n",
    "        self.display()\n",
    "        \n",
    "    class Config:\n",
    "        arbitrary_types_allowed = True\n",
    "        fields = {\n",
    "            'ui': {\n",
    "                'exclude': ...,\n",
    "            }\n",
    "        }\n",
    "\n",
    "\n"
   ]
  },
  {
   "cell_type": "code",
   "execution_count": 4,
   "id": "82d76204-8ba0-4f5b-972c-c03e47d9ec06",
   "metadata": {},
   "outputs": [],
   "source": [
    "from ipyautoui.test_autoui_data import di_test_autologic, rows\n",
    "import datetime\n",
    "data = AutoUiBase(**{'rows':rows})"
   ]
  },
  {
   "cell_type": "code",
   "execution_count": 5,
   "id": "030400a1-d986-4237-9f5a-8444709d20ba",
   "metadata": {},
   "outputs": [],
   "source": [
    "if __name__ == \"__main__\":\n",
    "    di_test_autologic = {\n",
    "        'IntSlider': {\n",
    "            'value': 1,\n",
    "            'kwargs': {'min':0, 'max':3} \n",
    "        },\n",
    "        'IntText': {\n",
    "            'value': 1,\n",
    "            'kwargs': {}\n",
    "        },\n",
    "        'IntRangeSlider': {\n",
    "            'value': (1,4),\n",
    "            'kwargs': {'min':0, 'max':5}\n",
    "        },\n",
    "        'FloatSlider': {\n",
    "            'value': 1.4,\n",
    "            'kwargs': {'min':0, 'max':5}\n",
    "        },\n",
    "        'FloatText': {\n",
    "            'value': 1.4,\n",
    "            'kwargs': {}\n",
    "        },\n",
    "        'FloatRangeSlider': {\n",
    "            'value': (1.5,5.5),\n",
    "            'kwargs': {'min':0, 'max':5}\n",
    "        },\n",
    "        'Checkbox': {\n",
    "            'value': True,\n",
    "            'kwargs': {}\n",
    "        },\n",
    "        'Dropdown': {\n",
    "            'value': 'string',\n",
    "            'kwargs': {'options':['True', False, 'string']}\n",
    "        },\n",
    "        'SelectionRangeSlider': {\n",
    "            'value': (2, 3),\n",
    "            'kwargs': {'options':list(range(0,6))}\n",
    "        },\n",
    "        'SelectMultiple': {\n",
    "            'value': ['True', False],\n",
    "            'kwargs': {'options':['True', False, 'string']}\n",
    "        },\n",
    "        'Text': {\n",
    "            'value': 'short text',\n",
    "            'kwargs': {}\n",
    "        },\n",
    "        'Textarea': {\n",
    "            'value': 'long text' * 10,\n",
    "            'kwargs': {}\n",
    "        },\n",
    "        'Combobox': {\n",
    "            'value': 'string',\n",
    "            'kwargs': {'options': ['True', 'string', 'string2'], 'ensure_option_in_kwargs': True}\n",
    "        },\n",
    "        'DatePicker': {\n",
    "            'value': datetime.date(2021, 8, 9),\n",
    "            'kwargs': {}\n",
    "        },\n",
    "        'FileChooser': {\n",
    "            'value': pathlib.Path('/mnt/c/engDev/git_mf/ipyautoui/ipyautoui/autoui.ipynb'),\n",
    "            'kwargs': {}\n",
    "        },\n",
    "        'FileUpload': { \n",
    "            'value': None,\n",
    "            'kwargs': {},\n",
    "        },\n",
    "        'AutoModelRunName': { \n",
    "            #'value': None,\n",
    "            'autoui_type':\"<class 'ipyautoui._custom_widgets.AutoModelRunName'>\",\n",
    "            'kwargs': {},\n",
    "        },\n",
    "        'DataGrid': {\n",
    "            'value': pd.DataFrame.from_dict({'test':[0,1],'df':[1,2]}),\n",
    "            'kwargs': {}\n",
    "        }\n",
    "    }\n",
    "    rows = [v for k, v in di_test_autologic.items()]"
   ]
  },
  {
   "cell_type": "code",
   "execution_count": 7,
   "id": "7a20fbe8-f8ab-4905-8d0c-aa2cc20c0e8d",
   "metadata": {},
   "outputs": [
    {
     "data": {
      "text/markdown": [
       "## Widgets"
      ],
      "text/plain": [
       "<IPython.core.display.Markdown object>"
      ]
     },
     "metadata": {},
     "output_type": "display_data"
    },
    {
     "data": {
      "application/vnd.jupyter.widget-view+json": {
       "model_id": "833e1f4fb1684d5fb0d78802b48a132d",
       "version_major": 2,
       "version_minor": 0
      },
      "text/plain": [
       "VBox(children=(HBox(children=(IntSlider(value=1, max=3), HTML(value='<p><strong>name</strong>, </p>'), HTML(va…"
      ]
     },
     "metadata": {},
     "output_type": "display_data"
    }
   ],
   "source": [
    "if __name__ == \"__main__\":\n",
    "    from IPython.display import Markdown\n",
    "    display(Markdown('## Widgets'))\n",
    "    # from ipyautoui.test_autoui_data import di_test_autologic, rows\n",
    "    # from ipyautoui.tests import test_display_WidgetRow_widget, test_display_AutoUi\n",
    "    #  test_display_WidgetRow_widget(di_test_autologic)\n",
    "    rows = [v for k, v in di_test_autologic.items()]\n",
    "    data = AutoUiBase(**{'rows':rows, 'path':pathlib.PurePath('test.aui.json')})\n",
    "    ui = AutoUi(data)\n",
    "    display(ui)\n",
    "    #ui"
   ]
  },
  {
   "cell_type": "code",
   "execution_count": 513,
   "id": "9b981446-c732-4b30-a97e-2735f88755d5",
   "metadata": {},
   "outputs": [
    {
     "name": "stdout",
     "output_type": "stream",
     "text": [
      "the following UI items from schema not matched to a widget:\n",
      "{'array', 'nested', 'select_multiple'}\n"
     ]
    },
    {
     "data": {
      "application/vnd.jupyter.widget-view+json": {
       "model_id": "fcbd21e8be194255b38f1d12c8c8aac0",
       "version_major": 2,
       "version_minor": 0
      },
      "text/plain": [
       "Output()"
      ]
     },
     "metadata": {},
     "output_type": "display_data"
    }
   ],
   "source": [
    "import typing\n",
    "from pydantic import BaseModel, Field\n",
    "from pydantic import (\n",
    "    BaseModel,\n",
    "    NegativeFloat,\n",
    "    NegativeInt,\n",
    "    PositiveFloat,\n",
    "    PositiveInt,\n",
    "    NonNegativeFloat,\n",
    "    NonNegativeInt,\n",
    "    NonPositiveFloat,\n",
    "    NonPositiveInt,\n",
    "    conbytes,\n",
    "    condecimal,\n",
    "    confloat,\n",
    "    conint,\n",
    "    conlist,\n",
    "    conset,\n",
    "    constr,\n",
    "    Field,\n",
    ")\n",
    "from pydantic.color import Color\n",
    "from typing import Tuple, List\n",
    "from enum import Enum\n",
    "from datetime import datetime, date\n",
    "from dataclasses import dataclass\n",
    "import ipyautoui\n",
    "\n",
    "class Gender(str, Enum):\n",
    "    male = 'male'\n",
    "    female = 'female'\n",
    "    other = 'other'\n",
    "    not_given = 'not_given'\n",
    "    \n",
    "class NestedObject(BaseModel):\n",
    "    string1: str = Field(default='adsf', description='a description about my string')\n",
    "    int_slider1: conint(ge=0,le=3) =2\n",
    "    int_text1: int = 1\n",
    "\n",
    "class TestAutoLogic(BaseModel):\n",
    "    \"\"\"<br>this is a test UI form to demonstrate how pydantic class can be used to generate an ipywidget input form\"\"\"\n",
    "    string: str = Field(default='adsf', description='a description about my string')\n",
    "    int_slider: conint(ge=0,le=3) =2\n",
    "    int_text: int = 1\n",
    "    int_range_slider: Tuple[int,int] = Field(default=(0,3),ge=0,le=4)   # check\n",
    "    float_slider: float = Field(default=2.2, ge=0,le=3) \n",
    "    float_text: float =2.2\n",
    "    float_range_slider: Tuple[float,float] = Field(default=(0,2.2), ge=0,le=3.5)\n",
    "    checkbox: bool = True\n",
    "    dropdown: Gender = None\n",
    "    dropdown_simple: str = Field(default ='asd', enum=['asd','asdf'])\n",
    "    combobox: str = Field(default ='asd', enum=['asd','asdf'], autoui=\"<class 'ipywidgets.widgets.widget_string.Combobox'>\")\n",
    "    # selection_range_slider\n",
    "    select_multiple: List[Gender] = Field(default =['male','female']) # TODO: make this work. requires handling the \"anyOf\" JSON link\n",
    "    select_multiple_simple: List[str] = Field(default =['male','female'], enum=['male','female', 'other', 'not_given'])\n",
    "    text: constr(min_length=0, max_length=20) = 'short text'\n",
    "    text_area: constr(min_length=0, max_length=200)  = 'long text ' * 50\n",
    "    date_picker: date = date.today()\n",
    "    color_picker: Color = 'red'\n",
    "    file_chooser: pathlib.Path = pathlib.Path('.')\n",
    "    array: typing.List[str] = Field(default=[], max_items=5)\n",
    "    # file_upload # TODO: how best to implement this? could auto-save to another location...\n",
    "    # model_run_name # TODO: try and implement this as a test for custom widgets...\n",
    "    datagrid: str = Field(default=pd.DataFrame.from_dict({'test':[0,1],'df':[1,2]}).to_json(), format=\"DataFrame\")\n",
    "    nested: NestedObject = Field(default=None)\n",
    "    \n",
    "#  -- ATTACH DEFINITIONS TO PROPERTIES ----------------------\n",
    "def recursive_search(sch, li):\n",
    "    if len(li) > 1:\n",
    "        f = li[0]\n",
    "        li_tmp = li[1:]\n",
    "        sch_tmp = sch[f]\n",
    "        return recursive_search(sch_tmp, li_tmp)\n",
    "    else:\n",
    "        return sch[li[0]]\n",
    "\n",
    "def update_property_from_definition(sch, item, key):\n",
    "    k = list(item.keys())[0]\n",
    "    v = list(item.values())[0]\n",
    "    \n",
    "    li_filt = v[key].split('/')[1:]\n",
    "    definition = recursive_search(sch, li_filt)\n",
    "\n",
    "    di_new = {}\n",
    "    for k_, v_ in item.items():\n",
    "        di_new[k_] = definition\n",
    "    \n",
    "    sch['properties'][k] = di_new[k]\n",
    "    return sch\n",
    "\n",
    "def update_property_definitions(sch, key):\n",
    "    li_definitions = [{k:v} for k,v in sch['properties'].items() if key in v]\n",
    "    for l in li_definitions:\n",
    "         sch = update_property_from_definition(sch, l, key)\n",
    "    return sch\n",
    "#  ----------------------------------------------------------\n",
    "\n",
    "#  -- CHANGE JSON-SCHEMA KEYS TO IPYWIDGET KEYS -------------\n",
    "di_jsonschema_widget_map = {\n",
    "    'minimum': 'min',\n",
    "    'maximum': 'max',\n",
    "    'enum': 'options',\n",
    "    'default': 'value',\n",
    "    'description': 'autoui_label'\n",
    "}\n",
    "\n",
    "def update_key(key, di_map=di_jsonschema_widget_map):\n",
    "    if key in di_map.keys():\n",
    "        return di_map[key]\n",
    "    else:\n",
    "        return key\n",
    "    \n",
    "def update_keys(di, di_map=di_jsonschema_widget_map):\n",
    "    return {update_key(k, di_map): v for k, v in di.items()}\n",
    "\n",
    "def add_description_field(di):\n",
    "    for k,v in di.items():\n",
    "        if 'description' not in v:\n",
    "            v['description'] =''\n",
    "        t=v['title']\n",
    "        d=v['description']\n",
    "        v['description'] = f\"<b>{t}</b>, <i>{d}</i>\"\n",
    "    return di\n",
    "\n",
    "def rename_schema_keys(di, di_map=di_jsonschema_widget_map):\n",
    "    di = add_description_field(di)\n",
    "    rename = {k:update_keys(v, di_map) for k, v in di.items()}\n",
    "    return rename\n",
    "\n",
    "def call_rename_schema_keys(di, di_map=di_jsonschema_widget_map, rename_keys=True):\n",
    "    if rename_keys:\n",
    "        return rename_schema_keys(di, di_map=di_map)\n",
    "    else:\n",
    "        return di\n",
    "#  ----------------------------------------------------------\n",
    "\n",
    "#  -- HELPER FUNCTIONS --------------------------------------\n",
    "def get_type(pr, typ='string'):\n",
    "    return {k:v for k,v in pr.items() if v['type'] ==typ}\n",
    "\n",
    "def get_format(pr, typ='date'):\n",
    "    pr = {k:v for k,v in pr.items() if 'format' in v}\n",
    "    return {k:v for k,v in pr.items() if v['format'] ==typ}\n",
    "\n",
    "def get_range(pr, typ='integer'):\n",
    "    array = get_type(pr, typ='array')\n",
    "    array = {k:v for k,v in array.items() if len(v['items']) ==2}\n",
    "    tmp = {}\n",
    "    for k,v in array.items():\n",
    "        tmp[k] = v\n",
    "        for i in v['items']:\n",
    "            if 'minimum' not in i and 'maximum' not in i:\n",
    "                tmp = {}\n",
    "    if len(tmp)==0:\n",
    "        return tmp\n",
    "    else:\n",
    "        rng = {k:v for k, v in tmp.items() if v['items'][0]['type'] == typ}\n",
    "        for k, v in rng.items():\n",
    "            rng[k]['minimum'] = v['items'][0]['minimum']\n",
    "            rng[k]['maximum'] = v['items'][0]['maximum']\n",
    "    return rng\n",
    "\n",
    "def drop_enums(pr):\n",
    "    return {k:v for k,v in pr.items() if 'enum' not in v}\n",
    "\n",
    "def find_enums(pr):\n",
    "    return {k:v for k,v in pr.items() if 'enum' in v}\n",
    "\n",
    "def drop_explicit_autoui(pr):\n",
    "    return {k:v for k,v in pr.items() if 'autoui' not in v}\n",
    "\n",
    "def find_explicit_autoui(pr):\n",
    "    return {k:v for k,v in pr.items() if 'autoui' in v}\n",
    "#  ----------------------------------------------------------\n",
    "\n",
    "#  -- FILTER FUNCTIONS --------------------------------------\n",
    "#  -- find relevant inputs from json-schema properties ------\n",
    "def get_IntText(pr, rename_keys=True):\n",
    "    pr = drop_explicit_autoui(pr)\n",
    "    ints = get_type(pr, typ='integer')\n",
    "    simple_ints = {k:v for k,v in ints.items() if 'minimum' not in v and 'maximum' not in v}\n",
    "    return call_rename_schema_keys(simple_ints, rename_keys=rename_keys)\n",
    "\n",
    "def get_IntSlider(pr, rename_keys=True):\n",
    "    pr = drop_explicit_autoui(pr)\n",
    "    ints = get_type(pr, typ='integer')\n",
    "    simple_ints = {k:v for k,v in ints.items() if 'minimum' in v and 'maximum' in v}\n",
    "    return call_rename_schema_keys(simple_ints, rename_keys=rename_keys)\n",
    "\n",
    "def get_FloatText(pr, rename_keys=True):\n",
    "    pr = drop_explicit_autoui(pr)\n",
    "    floats = get_type(pr, typ='number')\n",
    "    simple_floats = {k:v for k,v in floats.items() if 'minimum' not in v and 'maximum' not in v}\n",
    "    return call_rename_schema_keys(simple_floats, rename_keys=rename_keys)\n",
    "\n",
    "def get_FloatSlider(pr, rename_keys=True):\n",
    "    pr = drop_explicit_autoui(pr)\n",
    "    floats = get_type(pr, typ='number')\n",
    "    simple_floats = {k:v for k,v in floats.items() if 'minimum' in v and 'maximum' in v}\n",
    "    return call_rename_schema_keys(simple_floats, rename_keys=rename_keys)\n",
    "\n",
    "def get_Text(pr, rename_keys=True):\n",
    "    pr = drop_explicit_autoui(pr)\n",
    "    strings = get_type(pr)\n",
    "    short_strings = drop_enums(strings)\n",
    "    #short_strings = {k:v for k,v in strings.items() if 'maxLength' in v and v['maxLength']<200}\n",
    "    return call_rename_schema_keys(short_strings, rename_keys=rename_keys)\n",
    "\n",
    "def get_Textarea(pr, rename_keys=True):\n",
    "    pr = drop_explicit_autoui(pr)\n",
    "    strings = get_type(pr)\n",
    "    simple_strings = drop_enums(strings)\n",
    "    long_strings = {k:v for k,v in strings.items() if 'maxLength' in v and v['maxLength']>=200}\n",
    "    return call_rename_schema_keys(long_strings, rename_keys=rename_keys)\n",
    "\n",
    "def get_Dropdown(pr, rename_keys=True):\n",
    "    pr = drop_explicit_autoui(pr)\n",
    "    drops = find_enums(pr)\n",
    "    drops = {k:v for k,v in drops.items() if v['type'] != 'array'}\n",
    "    return call_rename_schema_keys(drops, rename_keys=rename_keys)\n",
    "\n",
    "def get_SelectMultiple(pr, rename_keys=True):\n",
    "    pr = drop_explicit_autoui(pr)\n",
    "    mult = find_enums(pr)\n",
    "    mult = {k:v for k,v in mult.items() if v['type'] == 'array'}\n",
    "    return call_rename_schema_keys(mult, rename_keys=rename_keys)\n",
    "\n",
    "def get_Checkbox(pr, rename_keys=True):\n",
    "    pr = drop_explicit_autoui(pr)\n",
    "    return call_rename_schema_keys(get_type(pr, typ='boolean'), rename_keys=rename_keys)\n",
    "\n",
    "def get_DatePicker(pr, rename_keys=True):\n",
    "    pr = drop_explicit_autoui(pr)\n",
    "    date = get_type(pr, 'string')\n",
    "    date = get_format(date)\n",
    "    for k,v in date.items():\n",
    "        v['default'] = datetime.strptime(v['default'], \"%Y-%m-%d\").date()\n",
    "    return call_rename_schema_keys(date, rename_keys=rename_keys)\n",
    "\n",
    "def get_FileChooser(pr, rename_keys=True):\n",
    "    pr = drop_explicit_autoui(pr)\n",
    "    file = get_type(pr, 'string')\n",
    "    file = get_format(file, typ='path')\n",
    "    return call_rename_schema_keys(file, rename_keys=rename_keys)\n",
    "\n",
    "def get_DataGrid(pr, rename_keys=True):\n",
    "    pr = drop_explicit_autoui(pr)\n",
    "    grid = get_type(pr, 'string')\n",
    "    grid = get_format(grid, typ='DataFrame')\n",
    "    return call_rename_schema_keys(grid, rename_keys=rename_keys)\n",
    "\n",
    "def get_ColorPicker(pr, rename_keys=True):\n",
    "    pr = drop_explicit_autoui(pr)\n",
    "    color = get_type(pr, 'string')\n",
    "    color = get_format(color, typ='color')\n",
    "    return call_rename_schema_keys(color, rename_keys=rename_keys) \n",
    "\n",
    "def get_IntRangeSlider(pr, rename_keys=True):\n",
    "    pr = drop_explicit_autoui(pr)\n",
    "    return call_rename_schema_keys(get_range(pr, typ='integer'), rename_keys=rename_keys)  \n",
    "\n",
    "def get_FloatRangeSlider(pr, rename_keys=True):\n",
    "    pr = drop_explicit_autoui(pr)\n",
    "    return call_rename_schema_keys(get_range(pr, typ='number'), rename_keys=rename_keys)  \n",
    "\n",
    "def get_AutoOveride(pr, rename_keys=True):\n",
    "    pr = find_explicit_autoui(pr)\n",
    "    return call_rename_schema_keys(pr, rename_keys=rename_keys)  \n",
    "#  ----------------------------------------------------------\n",
    "\n",
    "#  -- WIDGET MAPPING ----------------------------------------\n",
    "#  -- uses filter functions to map schema objects to widgets \n",
    "def AutoOveride(str_widget_type):\n",
    "    return obj_from_string(str_widget_type)\n",
    "\n",
    "@dataclass\n",
    "class WidgetMapper:\n",
    "    fn_filt: typing.Callable\n",
    "    widget: typing.Callable\n",
    "\n",
    "DI_WIDGETS_MAPPER = {\n",
    "    'IntText': WidgetMapper(fn_filt=get_IntText, widget=widgets.IntText),\n",
    "    'IntSlider': WidgetMapper(fn_filt=get_IntSlider, widget=widgets.IntSlider),\n",
    "    'FloatText': WidgetMapper(fn_filt=get_FloatText, widget=widgets.FloatText),\n",
    "    'FloatSlider': WidgetMapper(fn_filt=get_FloatSlider, widget=widgets.FloatSlider),\n",
    "    'Text': WidgetMapper(fn_filt=get_Text, widget=widgets.Text),\n",
    "    'Textarea': WidgetMapper(fn_filt=get_Textarea, widget=widgets.Textarea),\n",
    "    'Dropdown':WidgetMapper(fn_filt=get_Dropdown, widget=widgets.Dropdown),\n",
    "    'SelectMultiple':WidgetMapper(fn_filt=get_SelectMultiple, widget=widgets.SelectMultiple),\n",
    "    'Checkbox': WidgetMapper(fn_filt=get_Checkbox, widget=widgets.Checkbox),\n",
    "    'DatePicker': WidgetMapper(fn_filt=get_DatePicker, widget=widgets.DatePicker),\n",
    "    'AutoUiFileChooser': WidgetMapper(fn_filt=get_FileChooser, widget=ipyautoui._custom_widgets.AutoUiFileChooser),\n",
    "    'AutoUiDataGrid': WidgetMapper(fn_filt=get_DataGrid, widget=ipyautoui._custom_widgets.AutoUiDataGrid),\n",
    "    'ColorPicker': WidgetMapper(fn_filt=get_ColorPicker, widget=widgets.ColorPicker),\n",
    "    'IntRangeSlider': WidgetMapper(fn_filt=get_IntRangeSlider, widget=widgets.IntRangeSlider),\n",
    "    'FloatRangeSlider': WidgetMapper(fn_filt=get_FloatRangeSlider, widget=widgets.FloatRangeSlider),\n",
    "    'AutoOveride': WidgetMapper(fn_filt=get_AutoOveride, widget=AutoOveride),\n",
    "}\n",
    "\n",
    "def map_to_widget(sch, di_widgets_mapper=DI_WIDGETS_MAPPER):\n",
    "    pr = sch['properties']\n",
    "    li_pr = pr.keys()\n",
    "    di_ = {}\n",
    "    for k, v in di_widgets_mapper.items():\n",
    "        di = v.fn_filt(pr)\n",
    "        for k_, v_ in di.items():\n",
    "            di_[k_] = v_\n",
    "            if 'autoui' not in v_:\n",
    "                di_[k_]['autoui'] = v.widget\n",
    "            else:\n",
    "                di_[k_]['autoui'] = v.widget(v_['autoui'])          \n",
    "    not_matched = set(di_.keys()) ^ set(li_pr) \n",
    "    if len(not_matched)>0:\n",
    "        print('the following UI items from schema not matched to a widget:')\n",
    "        print(not_matched)\n",
    "    li_ordered = [l for l in li_pr if l not in not_matched]\n",
    "    di_ordered = {l:di_[l] for l in li_ordered}        \n",
    "    return di_ordered\n",
    "\n",
    "\n",
    "from traitlets import HasTraits, TraitError, Unicode, default, validate, Dict\n",
    "import functools\n",
    "\n",
    "def _init_widgets_and_rows(pr):\n",
    "    \n",
    "    di_widgets = {k:v['autoui'](**v) for k,v in pr.items()}\n",
    "    labels = {k:widgets.HTML(v['autoui_label']) for k,v in pr.items()}\n",
    "    ui_box = widgets.VBox()\n",
    "    rows = []\n",
    "    for (k,v), (k2,v2) in zip(di_widgets.items(), labels.items()):\n",
    "        rows.append(widgets.HBox([v,v2]))              \n",
    "    ui_box.children = rows\n",
    "    return ui_box, di_widgets\n",
    "\n",
    "class AutoUi(HasTraits):\n",
    "    value = Dict()\n",
    "    def __init__(self, pydantic_obj: typing.Type[BaseModel], di_widgets_mapper=None):\n",
    "        self.out = widgets.Output()\n",
    "        self._set_di_widgets_mapper(di_widgets_mapper)\n",
    "        self.pydantic_obj = pydantic_obj\n",
    "        self._init_schema()\n",
    "        self._init_form()\n",
    "        self._init_controls()\n",
    "        \n",
    "    def _set_di_widgets_mapper(self, di_widgets_mapper):\n",
    "        if di_widgets_mapper is None:\n",
    "            self.di_widgets_mapper = DI_WIDGETS_MAPPER\n",
    "        else:\n",
    "            self.di_widgets_mapper = {**DI_WIDGETS_MAPPER, **di_widgets_mapper}\n",
    "            \n",
    "    def _init_schema(self):\n",
    "        sch = self.pydantic_obj.schema().copy()\n",
    "        key = '$ref'\n",
    "        self.sch = update_property_definitions(sch, key)\n",
    "        self.pr = map_to_widget(self.sch, di_widgets_mapper=self.di_widgets_mapper)\n",
    "    \n",
    "    def _init_form(self):\n",
    "        self.ui_form = widgets.VBox()\n",
    "        title = widgets.HTML(f\"<big><b>{self.sch['title']}</b></big> - {self.sch['description']}\")\n",
    "        self.ui_box, self.di_widgets = _init_widgets_and_rows(self.pr)\n",
    "        self.ui_form.children = [title, self.ui_box]\n",
    "        \n",
    "    def _init_controls(self):\n",
    "        [v.observe(functools.partial(self._watch_change, key=k), 'value') for k, v in self.di_widgets.items()];\n",
    "        \n",
    "    def _watch_change(self, change, key=None):\n",
    "        setattr(self.pydantic_obj, key, self.di_widgets[key].value)\n",
    "        self.value = self.pydantic_obj.dict()\n",
    "                    \n",
    "    def display(self):\n",
    "        with self.out:\n",
    "            display(self.ui_form)\n",
    "        display(self.out)\n",
    "        \n",
    "    def _ipython_display_(self):\n",
    "        self.display()\n",
    "        \n",
    "test = TestAutoLogic() \n",
    "aui = AutoUi(test)\n",
    "aui"
   ]
  },
  {
   "cell_type": "code",
   "execution_count": 152,
   "id": "4523c126-e4a3-4214-9367-78cba4e7476a",
   "metadata": {},
   "outputs": [
    {
     "name": "stdout",
     "output_type": "stream",
     "text": [
      "IntText\n",
      "IntSlider\n",
      "FloatText\n",
      "FloatSlider\n",
      "Text\n",
      "Text\n",
      "Text\n",
      "Text\n",
      "Text\n",
      "Text\n",
      "Text\n",
      "Textarea\n",
      "Dropdown\n"
     ]
    },
    {
     "ename": "TraitError",
     "evalue": "Invalid selection: label not found",
     "output_type": "error",
     "traceback": [
      "\u001b[0;31m---------------------------------------------------------------------------\u001b[0m",
      "\u001b[0;31mTraitError\u001b[0m                                Traceback (most recent call last)",
      "\u001b[0;32m/tmp/ipykernel_279/3445823655.py\u001b[0m in \u001b[0;36m<module>\u001b[0;34m\u001b[0m\n\u001b[1;32m      4\u001b[0m     \u001b[0;32mfor\u001b[0m \u001b[0mk_\u001b[0m\u001b[0;34m,\u001b[0m \u001b[0mv_\u001b[0m \u001b[0;32min\u001b[0m \u001b[0mdi\u001b[0m\u001b[0;34m.\u001b[0m\u001b[0mitems\u001b[0m\u001b[0;34m(\u001b[0m\u001b[0;34m)\u001b[0m\u001b[0;34m:\u001b[0m\u001b[0;34m\u001b[0m\u001b[0;34m\u001b[0m\u001b[0m\n\u001b[1;32m      5\u001b[0m         \u001b[0mprint\u001b[0m\u001b[0;34m(\u001b[0m\u001b[0mk\u001b[0m\u001b[0;34m)\u001b[0m\u001b[0;34m\u001b[0m\u001b[0;34m\u001b[0m\u001b[0m\n\u001b[0;32m----> 6\u001b[0;31m         \u001b[0mdi_\u001b[0m\u001b[0;34m[\u001b[0m\u001b[0mk_\u001b[0m\u001b[0;34m]\u001b[0m \u001b[0;34m=\u001b[0m \u001b[0mwidgets\u001b[0m\u001b[0;34m.\u001b[0m\u001b[0mHBox\u001b[0m\u001b[0;34m(\u001b[0m\u001b[0;34m[\u001b[0m\u001b[0mv\u001b[0m\u001b[0;34m.\u001b[0m\u001b[0mwidget\u001b[0m\u001b[0;34m(\u001b[0m\u001b[0;34m**\u001b[0m\u001b[0mv_\u001b[0m\u001b[0;34m)\u001b[0m\u001b[0;34m,\u001b[0m \u001b[0mwidgets\u001b[0m\u001b[0;34m.\u001b[0m\u001b[0mHTML\u001b[0m\u001b[0;34m(\u001b[0m\u001b[0mv_\u001b[0m\u001b[0;34m[\u001b[0m\u001b[0;34m'label'\u001b[0m\u001b[0;34m]\u001b[0m\u001b[0;34m)\u001b[0m\u001b[0;34m]\u001b[0m\u001b[0;34m)\u001b[0m\u001b[0;34m\u001b[0m\u001b[0;34m\u001b[0m\u001b[0m\n\u001b[0m\u001b[1;32m      7\u001b[0m     \u001b[0;31m#di_widget_inputs = update_schema_to_widgets(schema, di_jsonschema_widget_map)\u001b[0m\u001b[0;34m\u001b[0m\u001b[0;34m\u001b[0m\u001b[0m\n\u001b[1;32m      8\u001b[0m \u001b[0mdi_\u001b[0m\u001b[0;34m\u001b[0m\u001b[0;34m\u001b[0m\u001b[0m\n",
      "\u001b[0;32m~/miniconda3/envs/ipyautoui/lib/python3.9/site-packages/ipywidgets/widgets/widget_selection.py\u001b[0m in \u001b[0;36m__init__\u001b[0;34m(self, *args, **kwargs)\u001b[0m\n\u001b[1;32m    188\u001b[0m             \u001b[0mkwargs\u001b[0m\u001b[0;34m[\u001b[0m\u001b[0;34m'label'\u001b[0m\u001b[0;34m]\u001b[0m\u001b[0;34m,\u001b[0m \u001b[0mkwargs\u001b[0m\u001b[0;34m[\u001b[0m\u001b[0;34m'value'\u001b[0m\u001b[0;34m]\u001b[0m \u001b[0;34m=\u001b[0m \u001b[0moptions\u001b[0m\u001b[0;34m[\u001b[0m\u001b[0;36m0\u001b[0m\u001b[0;34m]\u001b[0m \u001b[0;32mif\u001b[0m \u001b[0mnonempty\u001b[0m \u001b[0;32melse\u001b[0m \u001b[0;34m(\u001b[0m\u001b[0;32mNone\u001b[0m\u001b[0;34m,\u001b[0m \u001b[0;32mNone\u001b[0m\u001b[0;34m)\u001b[0m\u001b[0;34m\u001b[0m\u001b[0;34m\u001b[0m\u001b[0m\n\u001b[1;32m    189\u001b[0m \u001b[0;34m\u001b[0m\u001b[0m\n\u001b[0;32m--> 190\u001b[0;31m         \u001b[0msuper\u001b[0m\u001b[0;34m(\u001b[0m\u001b[0m_Selection\u001b[0m\u001b[0;34m,\u001b[0m \u001b[0mself\u001b[0m\u001b[0;34m)\u001b[0m\u001b[0;34m.\u001b[0m\u001b[0m__init__\u001b[0m\u001b[0;34m(\u001b[0m\u001b[0;34m*\u001b[0m\u001b[0margs\u001b[0m\u001b[0;34m,\u001b[0m \u001b[0;34m**\u001b[0m\u001b[0mkwargs\u001b[0m\u001b[0;34m)\u001b[0m\u001b[0;34m\u001b[0m\u001b[0;34m\u001b[0m\u001b[0m\n\u001b[0m\u001b[1;32m    191\u001b[0m         \u001b[0mself\u001b[0m\u001b[0;34m.\u001b[0m\u001b[0m_initializing_traits_\u001b[0m \u001b[0;34m=\u001b[0m \u001b[0;32mFalse\u001b[0m\u001b[0;34m\u001b[0m\u001b[0;34m\u001b[0m\u001b[0m\n\u001b[1;32m    192\u001b[0m \u001b[0;34m\u001b[0m\u001b[0m\n",
      "\u001b[0;32m~/miniconda3/envs/ipyautoui/lib/python3.9/site-packages/ipywidgets/widgets/widget.py\u001b[0m in \u001b[0;36m__init__\u001b[0;34m(self, **kwargs)\u001b[0m\n\u001b[1;32m    410\u001b[0m         \u001b[0;34m\"\"\"Public constructor\"\"\"\u001b[0m\u001b[0;34m\u001b[0m\u001b[0;34m\u001b[0m\u001b[0m\n\u001b[1;32m    411\u001b[0m         \u001b[0mself\u001b[0m\u001b[0;34m.\u001b[0m\u001b[0m_model_id\u001b[0m \u001b[0;34m=\u001b[0m \u001b[0mkwargs\u001b[0m\u001b[0;34m.\u001b[0m\u001b[0mpop\u001b[0m\u001b[0;34m(\u001b[0m\u001b[0;34m'model_id'\u001b[0m\u001b[0;34m,\u001b[0m \u001b[0;32mNone\u001b[0m\u001b[0;34m)\u001b[0m\u001b[0;34m\u001b[0m\u001b[0;34m\u001b[0m\u001b[0m\n\u001b[0;32m--> 412\u001b[0;31m         \u001b[0msuper\u001b[0m\u001b[0;34m(\u001b[0m\u001b[0mWidget\u001b[0m\u001b[0;34m,\u001b[0m \u001b[0mself\u001b[0m\u001b[0;34m)\u001b[0m\u001b[0;34m.\u001b[0m\u001b[0m__init__\u001b[0m\u001b[0;34m(\u001b[0m\u001b[0;34m**\u001b[0m\u001b[0mkwargs\u001b[0m\u001b[0;34m)\u001b[0m\u001b[0;34m\u001b[0m\u001b[0;34m\u001b[0m\u001b[0m\n\u001b[0m\u001b[1;32m    413\u001b[0m \u001b[0;34m\u001b[0m\u001b[0m\n\u001b[1;32m    414\u001b[0m         \u001b[0mWidget\u001b[0m\u001b[0;34m.\u001b[0m\u001b[0m_call_widget_constructed\u001b[0m\u001b[0;34m(\u001b[0m\u001b[0mself\u001b[0m\u001b[0;34m)\u001b[0m\u001b[0;34m\u001b[0m\u001b[0;34m\u001b[0m\u001b[0m\n",
      "\u001b[0;32m~/miniconda3/envs/ipyautoui/lib/python3.9/site-packages/traitlets/traitlets.py\u001b[0m in \u001b[0;36m__init__\u001b[0;34m(self, *args, **kwargs)\u001b[0m\n\u001b[1;32m   1080\u001b[0m                 \u001b[0;32melse\u001b[0m\u001b[0;34m:\u001b[0m\u001b[0;34m\u001b[0m\u001b[0;34m\u001b[0m\u001b[0m\n\u001b[1;32m   1081\u001b[0m                     \u001b[0;31m# passthrough args that don't set traits to super\u001b[0m\u001b[0;34m\u001b[0m\u001b[0;34m\u001b[0m\u001b[0m\n\u001b[0;32m-> 1082\u001b[0;31m                     \u001b[0msuper_kwargs\u001b[0m\u001b[0;34m[\u001b[0m\u001b[0mkey\u001b[0m\u001b[0;34m]\u001b[0m \u001b[0;34m=\u001b[0m \u001b[0mvalue\u001b[0m\u001b[0;34m\u001b[0m\u001b[0;34m\u001b[0m\u001b[0m\n\u001b[0m\u001b[1;32m   1083\u001b[0m         \u001b[0;32mtry\u001b[0m\u001b[0;34m:\u001b[0m\u001b[0;34m\u001b[0m\u001b[0;34m\u001b[0m\u001b[0m\n\u001b[1;32m   1084\u001b[0m             \u001b[0msuper\u001b[0m\u001b[0;34m(\u001b[0m\u001b[0mHasTraits\u001b[0m\u001b[0;34m,\u001b[0m \u001b[0mself\u001b[0m\u001b[0;34m)\u001b[0m\u001b[0;34m.\u001b[0m\u001b[0m__init__\u001b[0m\u001b[0;34m(\u001b[0m\u001b[0;34m*\u001b[0m\u001b[0msuper_args\u001b[0m\u001b[0;34m,\u001b[0m \u001b[0;34m**\u001b[0m\u001b[0msuper_kwargs\u001b[0m\u001b[0;34m)\u001b[0m\u001b[0;34m\u001b[0m\u001b[0;34m\u001b[0m\u001b[0m\n",
      "\u001b[0;32m~/miniconda3/envs/ipyautoui/lib/python3.9/contextlib.py\u001b[0m in \u001b[0;36m__exit__\u001b[0;34m(self, typ, value, traceback)\u001b[0m\n\u001b[1;32m    124\u001b[0m         \u001b[0;32mif\u001b[0m \u001b[0mtyp\u001b[0m \u001b[0;32mis\u001b[0m \u001b[0;32mNone\u001b[0m\u001b[0;34m:\u001b[0m\u001b[0;34m\u001b[0m\u001b[0;34m\u001b[0m\u001b[0m\n\u001b[1;32m    125\u001b[0m             \u001b[0;32mtry\u001b[0m\u001b[0;34m:\u001b[0m\u001b[0;34m\u001b[0m\u001b[0;34m\u001b[0m\u001b[0m\n\u001b[0;32m--> 126\u001b[0;31m                 \u001b[0mnext\u001b[0m\u001b[0;34m(\u001b[0m\u001b[0mself\u001b[0m\u001b[0;34m.\u001b[0m\u001b[0mgen\u001b[0m\u001b[0;34m)\u001b[0m\u001b[0;34m\u001b[0m\u001b[0;34m\u001b[0m\u001b[0m\n\u001b[0m\u001b[1;32m    127\u001b[0m             \u001b[0;32mexcept\u001b[0m \u001b[0mStopIteration\u001b[0m\u001b[0;34m:\u001b[0m\u001b[0;34m\u001b[0m\u001b[0;34m\u001b[0m\u001b[0m\n\u001b[1;32m    128\u001b[0m                 \u001b[0;32mreturn\u001b[0m \u001b[0;32mFalse\u001b[0m\u001b[0;34m\u001b[0m\u001b[0;34m\u001b[0m\u001b[0m\n",
      "\u001b[0;32m~/miniconda3/envs/ipyautoui/lib/python3.9/site-packages/traitlets/traitlets.py\u001b[0m in \u001b[0;36mhold_trait_notifications\u001b[0;34m(self)\u001b[0m\n\u001b[1;32m   1205\u001b[0m                                 \u001b[0mself\u001b[0m\u001b[0;34m.\u001b[0m\u001b[0m_trait_values\u001b[0m\u001b[0;34m.\u001b[0m\u001b[0mpop\u001b[0m\u001b[0;34m(\u001b[0m\u001b[0mname\u001b[0m\u001b[0;34m)\u001b[0m\u001b[0;34m\u001b[0m\u001b[0;34m\u001b[0m\u001b[0m\n\u001b[1;32m   1206\u001b[0m                 \u001b[0mcache\u001b[0m \u001b[0;34m=\u001b[0m \u001b[0;34m{\u001b[0m\u001b[0;34m}\u001b[0m\u001b[0;34m\u001b[0m\u001b[0;34m\u001b[0m\u001b[0m\n\u001b[0;32m-> 1207\u001b[0;31m                 \u001b[0;32mraise\u001b[0m \u001b[0me\u001b[0m\u001b[0;34m\u001b[0m\u001b[0;34m\u001b[0m\u001b[0m\n\u001b[0m\u001b[1;32m   1208\u001b[0m             \u001b[0;32mfinally\u001b[0m\u001b[0;34m:\u001b[0m\u001b[0;34m\u001b[0m\u001b[0;34m\u001b[0m\u001b[0m\n\u001b[1;32m   1209\u001b[0m                 \u001b[0mself\u001b[0m\u001b[0;34m.\u001b[0m\u001b[0m_cross_validation_lock\u001b[0m \u001b[0;34m=\u001b[0m \u001b[0;32mFalse\u001b[0m\u001b[0;34m\u001b[0m\u001b[0;34m\u001b[0m\u001b[0m\n",
      "\u001b[0;32m~/miniconda3/envs/ipyautoui/lib/python3.9/site-packages/traitlets/traitlets.py\u001b[0m in \u001b[0;36mhold_trait_notifications\u001b[0;34m(self)\u001b[0m\n\u001b[1;32m   1191\u001b[0m                 \u001b[0;32mfor\u001b[0m \u001b[0mname\u001b[0m \u001b[0;32min\u001b[0m \u001b[0mlist\u001b[0m\u001b[0;34m(\u001b[0m\u001b[0mcache\u001b[0m\u001b[0;34m.\u001b[0m\u001b[0mkeys\u001b[0m\u001b[0;34m(\u001b[0m\u001b[0;34m)\u001b[0m\u001b[0;34m)\u001b[0m\u001b[0;34m:\u001b[0m\u001b[0;34m\u001b[0m\u001b[0;34m\u001b[0m\u001b[0m\n\u001b[1;32m   1192\u001b[0m                     \u001b[0mtrait\u001b[0m \u001b[0;34m=\u001b[0m \u001b[0mgetattr\u001b[0m\u001b[0;34m(\u001b[0m\u001b[0mself\u001b[0m\u001b[0;34m.\u001b[0m\u001b[0m__class__\u001b[0m\u001b[0;34m,\u001b[0m \u001b[0mname\u001b[0m\u001b[0;34m)\u001b[0m\u001b[0;34m\u001b[0m\u001b[0;34m\u001b[0m\u001b[0m\n\u001b[0;32m-> 1193\u001b[0;31m                     \u001b[0mvalue\u001b[0m \u001b[0;34m=\u001b[0m \u001b[0mtrait\u001b[0m\u001b[0;34m.\u001b[0m\u001b[0m_cross_validate\u001b[0m\u001b[0;34m(\u001b[0m\u001b[0mself\u001b[0m\u001b[0;34m,\u001b[0m \u001b[0mgetattr\u001b[0m\u001b[0;34m(\u001b[0m\u001b[0mself\u001b[0m\u001b[0;34m,\u001b[0m \u001b[0mname\u001b[0m\u001b[0;34m)\u001b[0m\u001b[0;34m)\u001b[0m\u001b[0;34m\u001b[0m\u001b[0;34m\u001b[0m\u001b[0m\n\u001b[0m\u001b[1;32m   1194\u001b[0m                     \u001b[0mself\u001b[0m\u001b[0;34m.\u001b[0m\u001b[0mset_trait\u001b[0m\u001b[0;34m(\u001b[0m\u001b[0mname\u001b[0m\u001b[0;34m,\u001b[0m \u001b[0mvalue\u001b[0m\u001b[0;34m)\u001b[0m\u001b[0;34m\u001b[0m\u001b[0;34m\u001b[0m\u001b[0m\n\u001b[1;32m   1195\u001b[0m             \u001b[0;32mexcept\u001b[0m \u001b[0mTraitError\u001b[0m \u001b[0;32mas\u001b[0m \u001b[0me\u001b[0m\u001b[0;34m:\u001b[0m\u001b[0;34m\u001b[0m\u001b[0;34m\u001b[0m\u001b[0m\n",
      "\u001b[0;32m~/miniconda3/envs/ipyautoui/lib/python3.9/site-packages/traitlets/traitlets.py\u001b[0m in \u001b[0;36m_cross_validate\u001b[0;34m(self, obj, value)\u001b[0m\n\u001b[1;32m    618\u001b[0m         \u001b[0;32mif\u001b[0m \u001b[0mself\u001b[0m\u001b[0;34m.\u001b[0m\u001b[0mname\u001b[0m \u001b[0;32min\u001b[0m \u001b[0mobj\u001b[0m\u001b[0;34m.\u001b[0m\u001b[0m_trait_validators\u001b[0m\u001b[0;34m:\u001b[0m\u001b[0;34m\u001b[0m\u001b[0;34m\u001b[0m\u001b[0m\n\u001b[1;32m    619\u001b[0m             \u001b[0mproposal\u001b[0m \u001b[0;34m=\u001b[0m \u001b[0mBunch\u001b[0m\u001b[0;34m(\u001b[0m\u001b[0;34m{\u001b[0m\u001b[0;34m'trait'\u001b[0m\u001b[0;34m:\u001b[0m \u001b[0mself\u001b[0m\u001b[0;34m,\u001b[0m \u001b[0;34m'value'\u001b[0m\u001b[0;34m:\u001b[0m \u001b[0mvalue\u001b[0m\u001b[0;34m,\u001b[0m \u001b[0;34m'owner'\u001b[0m\u001b[0;34m:\u001b[0m \u001b[0mobj\u001b[0m\u001b[0;34m}\u001b[0m\u001b[0;34m)\u001b[0m\u001b[0;34m\u001b[0m\u001b[0;34m\u001b[0m\u001b[0m\n\u001b[0;32m--> 620\u001b[0;31m             \u001b[0mvalue\u001b[0m \u001b[0;34m=\u001b[0m \u001b[0mobj\u001b[0m\u001b[0;34m.\u001b[0m\u001b[0m_trait_validators\u001b[0m\u001b[0;34m[\u001b[0m\u001b[0mself\u001b[0m\u001b[0;34m.\u001b[0m\u001b[0mname\u001b[0m\u001b[0;34m]\u001b[0m\u001b[0;34m(\u001b[0m\u001b[0mobj\u001b[0m\u001b[0;34m,\u001b[0m \u001b[0mproposal\u001b[0m\u001b[0;34m)\u001b[0m\u001b[0;34m\u001b[0m\u001b[0;34m\u001b[0m\u001b[0m\n\u001b[0m\u001b[1;32m    621\u001b[0m         \u001b[0;32melif\u001b[0m \u001b[0mhasattr\u001b[0m\u001b[0;34m(\u001b[0m\u001b[0mobj\u001b[0m\u001b[0;34m,\u001b[0m \u001b[0;34m'_%s_validate'\u001b[0m \u001b[0;34m%\u001b[0m \u001b[0mself\u001b[0m\u001b[0;34m.\u001b[0m\u001b[0mname\u001b[0m\u001b[0;34m)\u001b[0m\u001b[0;34m:\u001b[0m\u001b[0;34m\u001b[0m\u001b[0;34m\u001b[0m\u001b[0m\n\u001b[1;32m    622\u001b[0m             \u001b[0mmeth_name\u001b[0m \u001b[0;34m=\u001b[0m \u001b[0;34m'_%s_validate'\u001b[0m \u001b[0;34m%\u001b[0m \u001b[0mself\u001b[0m\u001b[0;34m.\u001b[0m\u001b[0mname\u001b[0m\u001b[0;34m\u001b[0m\u001b[0;34m\u001b[0m\u001b[0m\n",
      "\u001b[0;32m~/miniconda3/envs/ipyautoui/lib/python3.9/site-packages/traitlets/traitlets.py\u001b[0m in \u001b[0;36m__call__\u001b[0;34m(self, *args, **kwargs)\u001b[0m\n\u001b[1;32m    975\u001b[0m         \u001b[0;34m\"\"\"Pass `*args` and `**kwargs` to the handler's function if it exists.\"\"\"\u001b[0m\u001b[0;34m\u001b[0m\u001b[0;34m\u001b[0m\u001b[0m\n\u001b[1;32m    976\u001b[0m         \u001b[0;32mif\u001b[0m \u001b[0mhasattr\u001b[0m\u001b[0;34m(\u001b[0m\u001b[0mself\u001b[0m\u001b[0;34m,\u001b[0m \u001b[0;34m'func'\u001b[0m\u001b[0;34m)\u001b[0m\u001b[0;34m:\u001b[0m\u001b[0;34m\u001b[0m\u001b[0;34m\u001b[0m\u001b[0m\n\u001b[0;32m--> 977\u001b[0;31m             \u001b[0;32mreturn\u001b[0m \u001b[0mself\u001b[0m\u001b[0;34m.\u001b[0m\u001b[0mfunc\u001b[0m\u001b[0;34m(\u001b[0m\u001b[0;34m*\u001b[0m\u001b[0margs\u001b[0m\u001b[0;34m,\u001b[0m \u001b[0;34m**\u001b[0m\u001b[0mkwargs\u001b[0m\u001b[0;34m)\u001b[0m\u001b[0;34m\u001b[0m\u001b[0;34m\u001b[0m\u001b[0m\n\u001b[0m\u001b[1;32m    978\u001b[0m         \u001b[0;32melse\u001b[0m\u001b[0;34m:\u001b[0m\u001b[0;34m\u001b[0m\u001b[0;34m\u001b[0m\u001b[0m\n\u001b[1;32m    979\u001b[0m             \u001b[0;32mreturn\u001b[0m \u001b[0mself\u001b[0m\u001b[0;34m.\u001b[0m\u001b[0m_init_call\u001b[0m\u001b[0;34m(\u001b[0m\u001b[0;34m*\u001b[0m\u001b[0margs\u001b[0m\u001b[0;34m,\u001b[0m \u001b[0;34m**\u001b[0m\u001b[0mkwargs\u001b[0m\u001b[0;34m)\u001b[0m\u001b[0;34m\u001b[0m\u001b[0;34m\u001b[0m\u001b[0m\n",
      "\u001b[0;32m~/miniconda3/envs/ipyautoui/lib/python3.9/site-packages/ipywidgets/widgets/widget_selection.py\u001b[0m in \u001b[0;36m_validate_label\u001b[0;34m(self, proposal)\u001b[0m\n\u001b[1;32m    257\u001b[0m     \u001b[0;32mdef\u001b[0m \u001b[0m_validate_label\u001b[0m\u001b[0;34m(\u001b[0m\u001b[0mself\u001b[0m\u001b[0;34m,\u001b[0m \u001b[0mproposal\u001b[0m\u001b[0;34m)\u001b[0m\u001b[0;34m:\u001b[0m\u001b[0;34m\u001b[0m\u001b[0;34m\u001b[0m\u001b[0m\n\u001b[1;32m    258\u001b[0m         \u001b[0;32mif\u001b[0m \u001b[0;34m(\u001b[0m\u001b[0mproposal\u001b[0m\u001b[0;34m.\u001b[0m\u001b[0mvalue\u001b[0m \u001b[0;32mis\u001b[0m \u001b[0;32mnot\u001b[0m \u001b[0;32mNone\u001b[0m\u001b[0;34m)\u001b[0m \u001b[0;32mand\u001b[0m \u001b[0;34m(\u001b[0m\u001b[0mproposal\u001b[0m\u001b[0;34m.\u001b[0m\u001b[0mvalue\u001b[0m \u001b[0;32mnot\u001b[0m \u001b[0;32min\u001b[0m \u001b[0mself\u001b[0m\u001b[0;34m.\u001b[0m\u001b[0m_options_labels\u001b[0m\u001b[0;34m)\u001b[0m\u001b[0;34m:\u001b[0m\u001b[0;34m\u001b[0m\u001b[0;34m\u001b[0m\u001b[0m\n\u001b[0;32m--> 259\u001b[0;31m             \u001b[0;32mraise\u001b[0m \u001b[0mTraitError\u001b[0m\u001b[0;34m(\u001b[0m\u001b[0;34m'Invalid selection: label not found'\u001b[0m\u001b[0;34m)\u001b[0m\u001b[0;34m\u001b[0m\u001b[0;34m\u001b[0m\u001b[0m\n\u001b[0m\u001b[1;32m    260\u001b[0m         \u001b[0;32mreturn\u001b[0m \u001b[0mproposal\u001b[0m\u001b[0;34m.\u001b[0m\u001b[0mvalue\u001b[0m\u001b[0;34m\u001b[0m\u001b[0;34m\u001b[0m\u001b[0m\n\u001b[1;32m    261\u001b[0m \u001b[0;34m\u001b[0m\u001b[0m\n",
      "\u001b[0;31mTraitError\u001b[0m: Invalid selection: label not found"
     ]
    }
   ],
   "source": [
    "di_ = {}\n",
    "for k, v in di_widgets_mapper.items():\n",
    "    di = v.fn_filt(pr)\n",
    "    for k_, v_ in di.items():\n",
    "        print(k)\n",
    "        di_[k_] = widgets.HBox([v.widget(**v_), widgets.HTML(v_['label'])])\n",
    "    #di_widget_inputs = update_schema_to_widgets(schema, di_jsonschema_widget_map)\n",
    "di_"
   ]
  },
  {
   "cell_type": "code",
   "execution_count": 144,
   "id": "bb398710-bfb1-4200-a0d9-d70d4bcfd57a",
   "metadata": {},
   "outputs": [
    {
     "data": {
      "application/vnd.jupyter.widget-view+json": {
       "model_id": "4e17ca49d5f142b6b4a5d845173a6809",
       "version_major": 2,
       "version_minor": 0
      },
      "text/plain": [
       "HBox(children=(IntText(value=1), HTML(value='<b>Int Text</b>, <i></i>')))"
      ]
     },
     "metadata": {},
     "output_type": "display_data"
    },
    {
     "data": {
      "application/vnd.jupyter.widget-view+json": {
       "model_id": "65cb66ce05f341be875a6113838d22d0",
       "version_major": 2,
       "version_minor": 0
      },
      "text/plain": [
       "HBox(children=(IntSlider(value=2, max=3), HTML(value='<b>Int Slider</b>, <i></i>')))"
      ]
     },
     "metadata": {},
     "output_type": "display_data"
    },
    {
     "data": {
      "application/vnd.jupyter.widget-view+json": {
       "model_id": "fca4b7ad76874a58801ae7ef98b80f7e",
       "version_major": 2,
       "version_minor": 0
      },
      "text/plain": [
       "HBox(children=(FloatText(value=2.2), HTML(value='<b>Float Text</b>, <i></i>')))"
      ]
     },
     "metadata": {},
     "output_type": "display_data"
    },
    {
     "data": {
      "application/vnd.jupyter.widget-view+json": {
       "model_id": "6f9d66ee6b104caca431085b20fa5d77",
       "version_major": 2,
       "version_minor": 0
      },
      "text/plain": [
       "HBox(children=(FloatSlider(value=2.2, max=3.0), HTML(value='<b>Float Slider</b>, <i></i>')))"
      ]
     },
     "metadata": {},
     "output_type": "display_data"
    },
    {
     "data": {
      "application/vnd.jupyter.widget-view+json": {
       "model_id": "703eb9462e204529b4bfcf1e783dbe2f",
       "version_major": 2,
       "version_minor": 0
      },
      "text/plain": [
       "HBox(children=(Text(value='adsf'), HTML(value='<b>String</b>, <i>a description about my string</i>')))"
      ]
     },
     "metadata": {},
     "output_type": "display_data"
    },
    {
     "data": {
      "application/vnd.jupyter.widget-view+json": {
       "model_id": "8c9210828a7c4b1c9eb38bc420ffe771",
       "version_major": 2,
       "version_minor": 0
      },
      "text/plain": [
       "HBox(children=(Text(value='short text'), HTML(value='<b>Text</b>, <i></i>')))"
      ]
     },
     "metadata": {},
     "output_type": "display_data"
    },
    {
     "data": {
      "application/vnd.jupyter.widget-view+json": {
       "model_id": "e78e20ae067f4069b929238faae3e817",
       "version_major": 2,
       "version_minor": 0
      },
      "text/plain": [
       "HBox(children=(Textarea(value='long text long text long text long text long text long text long text long text…"
      ]
     },
     "metadata": {},
     "output_type": "display_data"
    },
    {
     "data": {
      "application/vnd.jupyter.widget-view+json": {
       "model_id": "f661347cdc494356b2b21b5ffde9ab99",
       "version_major": 2,
       "version_minor": 0
      },
      "text/plain": [
       "HBox(children=(Text(value='2021-11-26'), HTML(value='<b>Date Picker</b>, <i></i>')))"
      ]
     },
     "metadata": {},
     "output_type": "display_data"
    },
    {
     "data": {
      "application/vnd.jupyter.widget-view+json": {
       "model_id": "2d9ee1562c364c028699bf9fd9d78914",
       "version_major": 2,
       "version_minor": 0
      },
      "text/plain": [
       "HBox(children=(Text(value='red'), HTML(value='<b>Color Picker</b>, <i></i>')))"
      ]
     },
     "metadata": {},
     "output_type": "display_data"
    },
    {
     "data": {
      "application/vnd.jupyter.widget-view+json": {
       "model_id": "1246fdf6c9e94d8daf22fa73190a5786",
       "version_major": 2,
       "version_minor": 0
      },
      "text/plain": [
       "HBox(children=(Text(value='.'), HTML(value='<b>File Chooser</b>, <i></i>')))"
      ]
     },
     "metadata": {},
     "output_type": "display_data"
    },
    {
     "data": {
      "application/vnd.jupyter.widget-view+json": {
       "model_id": "d743b6bdb2af4019b4cff752dae6c93e",
       "version_major": 2,
       "version_minor": 0
      },
      "text/plain": [
       "HBox(children=(Text(value='{\"test\":{\"0\":0,\"1\":1},\"df\":{\"0\":1,\"1\":2}}'), HTML(value='<b>Datagrid</b>, <i></i>')…"
      ]
     },
     "metadata": {},
     "output_type": "display_data"
    }
   ],
   "source": [
    "for k, v in di_.items():\n",
    "    display(v)"
   ]
  },
  {
   "cell_type": "code",
   "execution_count": 17,
   "id": "fe16e2d0-f8e0-42ef-93f8-a845c6c4bbe4",
   "metadata": {},
   "outputs": [
    {
     "data": {
      "application/vnd.jupyter.widget-view+json": {
       "model_id": "87c26ab177f74cbd9001c43e9a7128b2",
       "version_major": 2,
       "version_minor": 0
      },
      "text/plain": [
       "ColorPicker(value='black')"
      ]
     },
     "metadata": {},
     "output_type": "display_data"
    }
   ],
   "source": [
    "widgets.ColorPicker()"
   ]
  },
  {
   "cell_type": "code",
   "execution_count": 98,
   "id": "837824d1-8679-4237-a851-63c892434989",
   "metadata": {},
   "outputs": [
    {
     "data": {
      "text/plain": [
       "{'title': 'Date Picker',\n",
       " 'value': '2021-11-26',\n",
       " 'type': 'string',\n",
       " 'format': 'date',\n",
       " 'label': '<b>Date Picker</b>, <i></i>'}"
      ]
     },
     "execution_count": 98,
     "metadata": {},
     "output_type": "execute_result"
    }
   ],
   "source": [
    "v_"
   ]
  },
  {
   "cell_type": "code",
   "execution_count": 96,
   "id": "bc9006c1-eb70-4614-a30a-829c51783f48",
   "metadata": {},
   "outputs": [
    {
     "data": {
      "text/plain": [
       "{'title': 'Date Picker',\n",
       " 'value': '2021-11-26',\n",
       " 'type': 'string',\n",
       " 'format': 'date',\n",
       " 'label': '<b>Date Picker</b>, <i></i>'}"
      ]
     },
     "execution_count": 96,
     "metadata": {},
     "output_type": "execute_result"
    }
   ],
   "source": [
    "v_"
   ]
  },
  {
   "cell_type": "code",
   "execution_count": 90,
   "id": "7961bf1d-0508-46a0-b9be-bc5c4de280a1",
   "metadata": {},
   "outputs": [],
   "source": [
    "v.fn_filt(pr)"
   ]
  },
  {
   "cell_type": "code",
   "execution_count": 59,
   "id": "1ce4f3ab-279b-43fe-96a4-f9357349eac9",
   "metadata": {},
   "outputs": [
    {
     "data": {
      "text/plain": [
       "\"ColorPicker(value='black')\""
      ]
     },
     "execution_count": 59,
     "metadata": {},
     "output_type": "execute_result"
    }
   ],
   "source": [
    "str(widgets.ColorPicker())"
   ]
  },
  {
   "cell_type": "code",
   "execution_count": 61,
   "id": "8adf47e0-1c54-4f07-a24e-2df6fdb2f8dd",
   "metadata": {},
   "outputs": [
    {
     "data": {
      "text/plain": [
       "traitlets.traitlets.MetaHasTraits"
      ]
     },
     "execution_count": 61,
     "metadata": {},
     "output_type": "execute_result"
    }
   ],
   "source": [
    "type(widgets.ColorPicker)"
   ]
  },
  {
   "cell_type": "code",
   "execution_count": null,
   "id": "7fd5e734-921b-4daf-882d-197c5c64b3d6",
   "metadata": {},
   "outputs": [],
   "source": []
  },
  {
   "cell_type": "code",
   "execution_count": null,
   "id": "f84d109b-68b3-4ff4-9393-35022cad94b1",
   "metadata": {},
   "outputs": [],
   "source": [
    "class IntText:"
   ]
  },
  {
   "cell_type": "code",
   "execution_count": 405,
   "id": "e11e33c8-ba23-43e9-86ed-b03fc14bd9af",
   "metadata": {},
   "outputs": [
    {
     "data": {
      "text/plain": [
       "{'title': 'Model',\n",
       " 'type': 'object',\n",
       " 'properties': {'a': {'title': 'A', 'default': 'dsf', 'type': 'integer'},\n",
       "  'b': {'title': 'B', 'type': 'integer'},\n",
       "  'c': {'title': 'C', 'type': 'integer'}},\n",
       " 'required': ['b', 'c']}"
      ]
     },
     "execution_count": 405,
     "metadata": {},
     "output_type": "execute_result"
    }
   ],
   "source": [
    "from pydantic import BaseModel, Field\n",
    "\n",
    "\n",
    "class Model(BaseModel):\n",
    "    a: int = 'dsf'\n",
    "    b: int = ...\n",
    "    c: int = Field(...)\n",
    "    \n",
    "Model.schema()"
   ]
  },
  {
   "cell_type": "code",
   "execution_count": 436,
   "id": "64962dd6-214b-4c1a-acef-d72b1bd4a909",
   "metadata": {},
   "outputs": [
    {
     "data": {
      "application/vnd.jupyter.widget-view+json": {
       "model_id": "4dff7b40bede4e4d8900a7ab0675bf52",
       "version_major": 2,
       "version_minor": 0
      },
      "text/plain": [
       "IntText(value=10)"
      ]
     },
     "metadata": {},
     "output_type": "display_data"
    }
   ],
   "source": [
    "widgets.IntText(value=10)"
   ]
  },
  {
   "cell_type": "code",
   "execution_count": 378,
   "id": "7e894ff4-d703-451c-8343-9ae12fbc884e",
   "metadata": {},
   "outputs": [
    {
     "name": "stdout",
     "output_type": "stream",
     "text": [
      "model string\n",
      "int_slider integer\n",
      "int_text integer\n",
      "int_range_slider array\n",
      "float_slider number\n",
      "float_text number\n",
      "float_range_slider array\n",
      "checkbox boolean\n"
     ]
    },
    {
     "ename": "KeyError",
     "evalue": "'type'",
     "output_type": "error",
     "traceback": [
      "\u001b[0;31m---------------------------------------------------------------------------\u001b[0m",
      "\u001b[0;31mKeyError\u001b[0m                                  Traceback (most recent call last)",
      "\u001b[0;32m/tmp/ipykernel_1439/3503174569.py\u001b[0m in \u001b[0;36m<module>\u001b[0;34m\u001b[0m\n\u001b[1;32m      1\u001b[0m \u001b[0;32mfor\u001b[0m \u001b[0mk\u001b[0m\u001b[0;34m,\u001b[0m \u001b[0mv\u001b[0m \u001b[0;32min\u001b[0m \u001b[0msch\u001b[0m\u001b[0;34m[\u001b[0m\u001b[0;34m'properties'\u001b[0m\u001b[0;34m]\u001b[0m\u001b[0;34m.\u001b[0m\u001b[0mitems\u001b[0m\u001b[0;34m(\u001b[0m\u001b[0;34m)\u001b[0m\u001b[0;34m:\u001b[0m\u001b[0;34m\u001b[0m\u001b[0;34m\u001b[0m\u001b[0m\n\u001b[0;32m----> 2\u001b[0;31m     \u001b[0mprint\u001b[0m\u001b[0;34m(\u001b[0m\u001b[0mk\u001b[0m\u001b[0;34m,\u001b[0m\u001b[0mv\u001b[0m\u001b[0;34m[\u001b[0m\u001b[0;34m'type'\u001b[0m\u001b[0;34m]\u001b[0m\u001b[0;34m)\u001b[0m\u001b[0;34m\u001b[0m\u001b[0;34m\u001b[0m\u001b[0m\n\u001b[0m",
      "\u001b[0;31mKeyError\u001b[0m: 'type'"
     ]
    }
   ],
   "source": [
    "for k, v in sch['properties'].items():\n",
    "    print(k,v['type'])"
   ]
  },
  {
   "cell_type": "code",
   "execution_count": null,
   "id": "ce24b78e-f71a-4102-b975-14ed05148ffe",
   "metadata": {},
   "outputs": [],
   "source": []
  },
  {
   "cell_type": "code",
   "execution_count": 369,
   "id": "dc775b6a-6d7f-4a15-ba9a-d6b91838696f",
   "metadata": {
    "lines_to_next_cell": 2
   },
   "outputs": [
    {
     "ename": "TypeError",
     "evalue": "'RefResolver' object is not callable",
     "output_type": "error",
     "traceback": [
      "\u001b[0;31m---------------------------------------------------------------------------\u001b[0m",
      "\u001b[0;31mTypeError\u001b[0m                                 Traceback (most recent call last)",
      "\u001b[0;32m/tmp/ipykernel_1439/1765022480.py\u001b[0m in \u001b[0;36m<module>\u001b[0;34m\u001b[0m\n\u001b[1;32m      1\u001b[0m \u001b[0;32mfrom\u001b[0m \u001b[0mjsonschema\u001b[0m \u001b[0;32mimport\u001b[0m \u001b[0mvalidate\u001b[0m\u001b[0;34m,\u001b[0m \u001b[0mRefResolver\u001b[0m\u001b[0;34m\u001b[0m\u001b[0;34m\u001b[0m\u001b[0m\n\u001b[1;32m      2\u001b[0m \u001b[0mresolver\u001b[0m \u001b[0;34m=\u001b[0m \u001b[0mRefResolver\u001b[0m\u001b[0;34m(\u001b[0m\u001b[0mstr\u001b[0m\u001b[0;34m(\u001b[0m\u001b[0msch\u001b[0m\u001b[0;34m)\u001b[0m\u001b[0;34m,\u001b[0m\u001b[0mstr\u001b[0m\u001b[0;34m(\u001b[0m\u001b[0msch\u001b[0m\u001b[0;34m)\u001b[0m\u001b[0;34m)\u001b[0m\u001b[0;34m\u001b[0m\u001b[0;34m\u001b[0m\u001b[0m\n\u001b[0;32m----> 3\u001b[0;31m \u001b[0mresolver\u001b[0m\u001b[0;34m(\u001b[0m\u001b[0msch\u001b[0m\u001b[0;34m)\u001b[0m\u001b[0;34m\u001b[0m\u001b[0;34m\u001b[0m\u001b[0m\n\u001b[0m",
      "\u001b[0;31mTypeError\u001b[0m: 'RefResolver' object is not callable"
     ]
    }
   ],
   "source": [
    "from jsonschema import validate, RefResolver\n",
    "resolver = RefResolver(str(sch),str(sch))\n",
    "resolver"
   ]
  },
  {
   "cell_type": "code",
   "execution_count": 344,
   "id": "d932aca6-99ca-49ef-bb29-7c86058034e7",
   "metadata": {
    "lines_to_next_cell": 0
   },
   "outputs": [],
   "source": [
    "from enum import Enum\n",
    "from pydantic import BaseModel, Field\n",
    "\n",
    "\n",
    "class FooBar(BaseModel):\n",
    "    count: int\n",
    "    size: float = None\n",
    "\n",
    "\n",
    "class Gender(str, Enum):\n",
    "    male = 'male'\n",
    "    female = 'female'\n",
    "    other = 'other'\n",
    "    not_given = 'not_given'\n",
    "\n",
    "\n",
    "class MainModel(BaseModel):\n",
    "    \"\"\"\n",
    "    This is the description of the main model\n",
    "    \"\"\"\n",
    "\n",
    "    foo_bar: FooBar = Field(...)\n",
    "    gender: Gender = Field(None, alias='Gender')\n",
    "    snap: int = Field(\n",
    "        42,\n",
    "        title='The Snap',\n",
    "        description='this is the value of snap',\n",
    "        gt=30,\n",
    "        lt=50,\n",
    "    )\n",
    "\n",
    "    class Config:\n",
    "        title = 'Main'\n",
    "\n",
    "\n",
    "# this is equivalent to json.dumps(MainModel.schema(), indent=2):\n",
    "# print(MainModel.schema_json(indent=2))"
   ]
  },
  {
   "cell_type": "code",
   "execution_count": 445,
   "id": "690f50b2-4e3f-48e3-9e0f-f641a785af65",
   "metadata": {
    "lines_to_next_cell": 2
   },
   "outputs": [],
   "source": []
  },
  {
   "cell_type": "code",
   "execution_count": 277,
   "id": "0ecb4acc-e3d5-4b58-8102-e8dbc22e4a67",
   "metadata": {},
   "outputs": [
    {
     "name": "stdout",
     "output_type": "stream",
     "text": [
      "Delivering presents to Eric's house\n",
      "Delivering presents to Kenny's house\n",
      "Delivering presents to Kyle's house\n",
      "Delivering presents to Stan's house\n"
     ]
    }
   ],
   "source": [
    "houses = [\"Eric's house\", \"Kenny's house\", \"Kyle's house\", \"Stan's house\"]\n",
    "\n",
    "# Each function call represents an elf doing his work \n",
    "def deliver_presents_recursively(houses):\n",
    "    # Worker elf doing his work\n",
    "    if len(houses) == 1:\n",
    "        house = houses[0]\n",
    "        print(\"Delivering presents to\", house)\n",
    "\n",
    "    # Manager elf doing his work\n",
    "    else:\n",
    "        mid = len(houses) // 2\n",
    "        first_half = houses[:mid]\n",
    "        second_half = houses[mid:]\n",
    "\n",
    "        # Divides his work among two elves\n",
    "        deliver_presents_recursively(first_half)\n",
    "        deliver_presents_recursively(second_half)\n",
    "        \n",
    "deliver_presents_recursively(houses)"
   ]
  },
  {
   "cell_type": "code",
   "execution_count": 270,
   "id": "138f3e3c-b734-4c15-9114-7b1af30a575c",
   "metadata": {
    "lines_to_next_cell": 0
   },
   "outputs": [
    {
     "ename": "KeyError",
     "evalue": "'definitions'",
     "output_type": "error",
     "traceback": [
      "\u001b[0;31m---------------------------------------------------------------------------\u001b[0m",
      "\u001b[0;31mKeyError\u001b[0m                                  Traceback (most recent call last)",
      "\u001b[0;32m/tmp/ipykernel_1439/1455157723.py\u001b[0m in \u001b[0;36m<module>\u001b[0;34m\u001b[0m\n\u001b[1;32m      3\u001b[0m     \u001b[0;32mreturn\u001b[0m \u001b[0mdi\u001b[0m\u001b[0;34m[\u001b[0m\u001b[0mk\u001b[0m\u001b[0;34m]\u001b[0m\u001b[0;34m\u001b[0m\u001b[0;34m\u001b[0m\u001b[0m\n\u001b[1;32m      4\u001b[0m \u001b[0;34m\u001b[0m\u001b[0m\n\u001b[0;32m----> 5\u001b[0;31m \u001b[0;34m[\u001b[0m\u001b[0mfilt\u001b[0m\u001b[0;34m(\u001b[0m\u001b[0mdi\u001b[0m\u001b[0;34m,\u001b[0m \u001b[0mf\u001b[0m\u001b[0;34m)\u001b[0m \u001b[0;32mfor\u001b[0m \u001b[0mf\u001b[0m \u001b[0;32min\u001b[0m \u001b[0mli_filt\u001b[0m\u001b[0;34m]\u001b[0m\u001b[0;34m\u001b[0m\u001b[0;34m\u001b[0m\u001b[0m\n\u001b[0m",
      "\u001b[0;32m/tmp/ipykernel_1439/1455157723.py\u001b[0m in \u001b[0;36m<listcomp>\u001b[0;34m(.0)\u001b[0m\n\u001b[1;32m      3\u001b[0m     \u001b[0;32mreturn\u001b[0m \u001b[0mdi\u001b[0m\u001b[0;34m[\u001b[0m\u001b[0mk\u001b[0m\u001b[0;34m]\u001b[0m\u001b[0;34m\u001b[0m\u001b[0;34m\u001b[0m\u001b[0m\n\u001b[1;32m      4\u001b[0m \u001b[0;34m\u001b[0m\u001b[0m\n\u001b[0;32m----> 5\u001b[0;31m \u001b[0;34m[\u001b[0m\u001b[0mfilt\u001b[0m\u001b[0;34m(\u001b[0m\u001b[0mdi\u001b[0m\u001b[0;34m,\u001b[0m \u001b[0mf\u001b[0m\u001b[0;34m)\u001b[0m \u001b[0;32mfor\u001b[0m \u001b[0mf\u001b[0m \u001b[0;32min\u001b[0m \u001b[0mli_filt\u001b[0m\u001b[0;34m]\u001b[0m\u001b[0;34m\u001b[0m\u001b[0;34m\u001b[0m\u001b[0m\n\u001b[0m",
      "\u001b[0;32m/tmp/ipykernel_1439/1455157723.py\u001b[0m in \u001b[0;36mfilt\u001b[0;34m(di, k)\u001b[0m\n\u001b[1;32m      1\u001b[0m \u001b[0mtmp\u001b[0m \u001b[0;34m=\u001b[0m \u001b[0;34m{\u001b[0m\u001b[0;34m}\u001b[0m\u001b[0;34m\u001b[0m\u001b[0;34m\u001b[0m\u001b[0m\n\u001b[1;32m      2\u001b[0m \u001b[0;32mdef\u001b[0m \u001b[0mfilt\u001b[0m\u001b[0;34m(\u001b[0m\u001b[0mdi\u001b[0m\u001b[0;34m,\u001b[0m \u001b[0mk\u001b[0m\u001b[0;34m)\u001b[0m\u001b[0;34m:\u001b[0m\u001b[0;34m\u001b[0m\u001b[0;34m\u001b[0m\u001b[0m\n\u001b[0;32m----> 3\u001b[0;31m     \u001b[0;32mreturn\u001b[0m \u001b[0mdi\u001b[0m\u001b[0;34m[\u001b[0m\u001b[0mk\u001b[0m\u001b[0;34m]\u001b[0m\u001b[0;34m\u001b[0m\u001b[0;34m\u001b[0m\u001b[0m\n\u001b[0m\u001b[1;32m      4\u001b[0m \u001b[0;34m\u001b[0m\u001b[0m\n\u001b[1;32m      5\u001b[0m \u001b[0;34m[\u001b[0m\u001b[0mfilt\u001b[0m\u001b[0;34m(\u001b[0m\u001b[0mdi\u001b[0m\u001b[0;34m,\u001b[0m \u001b[0mf\u001b[0m\u001b[0;34m)\u001b[0m \u001b[0;32mfor\u001b[0m \u001b[0mf\u001b[0m \u001b[0;32min\u001b[0m \u001b[0mli_filt\u001b[0m\u001b[0;34m]\u001b[0m\u001b[0;34m\u001b[0m\u001b[0;34m\u001b[0m\u001b[0m\n",
      "\u001b[0;31mKeyError\u001b[0m: 'definitions'"
     ]
    }
   ],
   "source": [
    "tmp = {}\n",
    "def filt(di, li_filt):\n",
    "    for f in li_filt:\n",
    "        tmp = filt(di, k)\n",
    "    filt\n",
    "        \n",
    "    return di[k]\n",
    "\n",
    "for f in li_filt:\n",
    "    tmp = filt(di, k)\n",
    "\n",
    "[filt(di, f) ]"
   ]
  },
  {
   "cell_type": "code",
   "execution_count": 201,
   "id": "6d17801b-10ab-44d8-894c-4fbc2ed4620e",
   "metadata": {},
   "outputs": [
    {
     "data": {
      "text/plain": [
       "'{\"test\":{\"0\":0,\"1\":1},\"df\":{\"0\":1,\"1\":2}}'"
      ]
     },
     "execution_count": 201,
     "metadata": {},
     "output_type": "execute_result"
    }
   ],
   "source": [
    "pd.DataFrame.from_dict({'test':[0,1],'df':[1,2]}).to_json()"
   ]
  },
  {
   "cell_type": "code",
   "execution_count": 177,
   "id": "a9fc665b-f071-4102-84f0-e37c554cb98f",
   "metadata": {},
   "outputs": [
    {
     "data": {
      "text/html": [
       "<div>\n",
       "<style scoped>\n",
       "    .dataframe tbody tr th:only-of-type {\n",
       "        vertical-align: middle;\n",
       "    }\n",
       "\n",
       "    .dataframe tbody tr th {\n",
       "        vertical-align: top;\n",
       "    }\n",
       "\n",
       "    .dataframe thead th {\n",
       "        text-align: right;\n",
       "    }\n",
       "</style>\n",
       "<table border=\"1\" class=\"dataframe\">\n",
       "  <thead>\n",
       "    <tr style=\"text-align: right;\">\n",
       "      <th></th>\n",
       "      <th>test</th>\n",
       "      <th>df</th>\n",
       "    </tr>\n",
       "  </thead>\n",
       "  <tbody>\n",
       "    <tr>\n",
       "      <th>0</th>\n",
       "      <td>0</td>\n",
       "      <td>1</td>\n",
       "    </tr>\n",
       "    <tr>\n",
       "      <th>1</th>\n",
       "      <td>1</td>\n",
       "      <td>2</td>\n",
       "    </tr>\n",
       "  </tbody>\n",
       "</table>\n",
       "</div>"
      ],
      "text/plain": [
       "   test  df\n",
       "0     0   1\n",
       "1     1   2"
      ]
     },
     "execution_count": 177,
     "metadata": {},
     "output_type": "execute_result"
    }
   ],
   "source": [
    "df = pd.DataFrame.from_dict({'test':[0,1],'df':[1,2]})"
   ]
  },
  {
   "cell_type": "code",
   "execution_count": 165,
   "id": "41fa4496-652e-4dcb-93a4-83b00e6934de",
   "metadata": {},
   "outputs": [],
   "source": [
    "class Gender:\n",
    "    male = 'male'\n",
    "    female = 'female'\n",
    "    other = 'other'\n",
    "    not_given = 'not_given'"
   ]
  },
  {
   "cell_type": "code",
   "execution_count": 169,
   "id": "7297f078-4f6a-48a3-a8af-46bb82623c87",
   "metadata": {},
   "outputs": [
    {
     "data": {
      "text/plain": [
       "\"<class '__main__.TestAutoLogic'>\""
      ]
     },
     "execution_count": 169,
     "metadata": {},
     "output_type": "execute_result"
    }
   ],
   "source": [
    "str(TestAutoLogic)"
   ]
  },
  {
   "cell_type": "code",
   "execution_count": 153,
   "id": "d4c4b862-13b9-4f00-9e77-7b57c00031e2",
   "metadata": {},
   "outputs": [
    {
     "data": {
      "text/plain": [
       "ModelField(name='int_slider', type=ConstrainedIntValue, required=False, default=2)"
      ]
     },
     "execution_count": 153,
     "metadata": {},
     "output_type": "execute_result"
    }
   ],
   "source": [
    "TestAutoLogic.__dict__['__fields__']['int_slider']"
   ]
  },
  {
   "cell_type": "code",
   "execution_count": 154,
   "id": "b0dd947e-f80b-46b1-82f4-66d255be2fb3",
   "metadata": {},
   "outputs": [
    {
     "data": {
      "text/plain": [
       "{'title': 'Int Range Slider',\n",
       " 'default': (0, 3),\n",
       " 'type': 'array',\n",
       " 'items': [{'type': 'integer', 'minimum': 0, 'maximum': 4},\n",
       "  {'type': 'integer', 'minimum': 0, 'maximum': 4}]}"
      ]
     },
     "execution_count": 154,
     "metadata": {},
     "output_type": "execute_result"
    }
   ],
   "source": [
    "TestAutoLogic.schema()['properties'][ 'int_range_slider']"
   ]
  },
  {
   "cell_type": "code",
   "execution_count": 155,
   "id": "a13312e1-5779-490d-bbca-b7ca1af4892c",
   "metadata": {},
   "outputs": [
    {
     "data": {
      "text/plain": [
       "{'title': 'TestAutoLogic',\n",
       " 'description': 'aasdfal;ksdfj',\n",
       " 'type': 'object',\n",
       " 'properties': {'int_slider': {'title': 'Int Slider',\n",
       "   'default': 2,\n",
       "   'minimum': 0,\n",
       "   'maximum': 3,\n",
       "   'type': 'integer'},\n",
       "  'int_text': {'title': 'Int Text',\n",
       "   'default': 1,\n",
       "   'exclusiveMinimum': 0,\n",
       "   'type': 'integer'},\n",
       "  'int_range_slider': {'title': 'Int Range Slider',\n",
       "   'default': (0, 3),\n",
       "   'type': 'array',\n",
       "   'items': [{'type': 'integer', 'minimum': 0, 'maximum': 4},\n",
       "    {'type': 'integer', 'minimum': 0, 'maximum': 4}]},\n",
       "  'float_slider': {'title': 'Float Slider',\n",
       "   'default': 2.2,\n",
       "   'minimum': 0,\n",
       "   'maximum': 3,\n",
       "   'type': 'number'},\n",
       "  'float_text': {'title': 'Float Text', 'default': 2.2, 'type': 'number'},\n",
       "  'float_range_slider': {'title': 'Float Range Slider',\n",
       "   'default': (0, 2.2),\n",
       "   'type': 'array',\n",
       "   'items': [{'type': 'number'}, {'type': 'number'}]},\n",
       "  'checkbox': {'title': 'Checkbox', 'default': True, 'type': 'boolean'},\n",
       "  'dropdown': {'default': 'male', 'allOf': [{'$ref': '#/definitions/Gender'}]},\n",
       "  'select_multiple': {'default': ['male', 'female'],\n",
       "   'type': 'array',\n",
       "   'items': {'$ref': '#/definitions/Gender'}},\n",
       "  'text': {'title': 'Text', 'minLength': 0, 'maxLength': 20, 'type': 'string'},\n",
       "  'text_area': {'title': 'Text Area',\n",
       "   'minLength': 0,\n",
       "   'maxLength': 400,\n",
       "   'type': 'string'},\n",
       "  'date_picker': {'title': 'Date Picker',\n",
       "   'default': '2021-11-25',\n",
       "   'type': 'string',\n",
       "   'format': 'date'},\n",
       "  'file_chooser': {'title': 'File Chooser',\n",
       "   'default': '.',\n",
       "   'type': 'string',\n",
       "   'format': 'path'}},\n",
       " 'required': ['text', 'text_area'],\n",
       " 'definitions': {'Gender': {'title': 'Gender',\n",
       "   'description': 'An enumeration.',\n",
       "   'enum': ['male', 'female', 'other', 'not_given'],\n",
       "   'type': 'string'}}}"
      ]
     },
     "execution_count": 155,
     "metadata": {},
     "output_type": "execute_result"
    }
   ],
   "source": [
    "TestAutoLogic.schema()"
   ]
  },
  {
   "cell_type": "code",
   "execution_count": 101,
   "id": "4eb66390-4dc5-4f05-884c-e4253ec4ca40",
   "metadata": {},
   "outputs": [
    {
     "data": {
      "text/html": [
       "<div>\n",
       "<style scoped>\n",
       "    .dataframe tbody tr th:only-of-type {\n",
       "        vertical-align: middle;\n",
       "    }\n",
       "\n",
       "    .dataframe tbody tr th {\n",
       "        vertical-align: top;\n",
       "    }\n",
       "\n",
       "    .dataframe thead th {\n",
       "        text-align: right;\n",
       "    }\n",
       "</style>\n",
       "<table border=\"1\" class=\"dataframe\">\n",
       "  <thead>\n",
       "    <tr style=\"text-align: right;\">\n",
       "      <th></th>\n",
       "      <th>test</th>\n",
       "      <th>df</th>\n",
       "    </tr>\n",
       "  </thead>\n",
       "  <tbody>\n",
       "    <tr>\n",
       "      <th>0</th>\n",
       "      <td>0</td>\n",
       "      <td>1</td>\n",
       "    </tr>\n",
       "    <tr>\n",
       "      <th>1</th>\n",
       "      <td>1</td>\n",
       "      <td>2</td>\n",
       "    </tr>\n",
       "  </tbody>\n",
       "</table>\n",
       "</div>"
      ],
      "text/plain": [
       "   test  df\n",
       "0     0   1\n",
       "1     1   2"
      ]
     },
     "execution_count": 101,
     "metadata": {},
     "output_type": "execute_result"
    }
   ],
   "source": [
    "pd.DataFrame.from_dict({'test':[0,1],'df':[1,2]})"
   ]
  },
  {
   "cell_type": "code",
   "execution_count": 98,
   "id": "357b547e-b655-4d91-a5eb-d493d0711aa5",
   "metadata": {},
   "outputs": [],
   "source": [
    "class TestAutoLogic(BaseModel):\n",
    "    # int_slider: conint(ge=0,le=3) =2\n",
    "    # int_text: PositiveInt = 1\n",
    "    # int_range_slider: Tuple[int,int] = (0,3) # check\n",
    "    float_slider: float =Field(ge=0,le=10) "
   ]
  },
  {
   "cell_type": "code",
   "execution_count": null,
   "id": "1c769d8e-88d1-428b-a41b-f42a9e0d89c0",
   "metadata": {},
   "outputs": [],
   "source": []
  },
  {
   "cell_type": "code",
   "execution_count": 4,
   "id": "33de946e",
   "metadata": {},
   "outputs": [
    {
     "data": {
      "text/markdown": [
       "## Widgets"
      ],
      "text/plain": [
       "<IPython.core.display.Markdown object>"
      ]
     },
     "metadata": {},
     "output_type": "display_data"
    },
    {
     "data": {
      "application/vnd.jupyter.widget-view+json": {
       "model_id": "94724cbf077745deb04a0c0f4c7e7b63",
       "version_major": 2,
       "version_minor": 0
      },
      "text/plain": [
       "VBox(children=(HBox(children=(IntSlider(value=1, max=3), HTML(value='<p><strong>IntSlider</strong>, </p>'), HT…"
      ]
     },
     "metadata": {},
     "output_type": "display_data"
    }
   ],
   "source": []
  },
  {
   "cell_type": "code",
   "execution_count": 67,
   "id": "3f526227-6f83-4a90-bbfc-fee708cf4565",
   "metadata": {},
   "outputs": [],
   "source": [
    "from decimal import Decimal\n",
    "\n",
    "from pydantic import (\n",
    "    BaseModel,\n",
    "    NegativeFloat,\n",
    "    NegativeInt,\n",
    "    PositiveFloat,\n",
    "    PositiveInt,\n",
    "    NonNegativeFloat,\n",
    "    NonNegativeInt,\n",
    "    NonPositiveFloat,\n",
    "    NonPositiveInt,\n",
    "    conbytes,\n",
    "    condecimal,\n",
    "    confloat,\n",
    "    conint,\n",
    "    conlist,\n",
    "    conset,\n",
    "    constr,\n",
    "    Field,\n",
    ")\n",
    "\n",
    "\n",
    "class Model(BaseModel):\n",
    "    lower_bytes: conbytes(to_lower=True)\n",
    "    short_bytes: conbytes(min_length=2, max_length=10)\n",
    "    strip_bytes: conbytes(strip_whitespace=True)\n",
    "\n",
    "    lower_str: constr(to_lower=True)\n",
    "    short_str: constr(min_length=2, max_length=10)\n",
    "    regex_str: constr(regex=r'^apple (pie|tart|sandwich)$')\n",
    "    strip_str: constr(strip_whitespace=True)\n",
    "\n",
    "    big_int: conint(gt=1000, lt=1024)\n",
    "    mod_int: conint(multiple_of=5)\n",
    "    pos_int: PositiveInt\n",
    "    neg_int: NegativeInt\n",
    "    non_neg_int: NonNegativeInt\n",
    "    non_pos_int: NonPositiveInt\n",
    "\n",
    "    big_float: confloat(gt=1000, lt=1024)\n",
    "    unit_interval: confloat(ge=0, le=1)\n",
    "    mod_float: confloat(multiple_of=0.5)\n",
    "    pos_float: PositiveFloat\n",
    "    neg_float: NegativeFloat\n",
    "    non_neg_float: NonNegativeFloat\n",
    "    non_pos_float: NonPositiveFloat\n",
    "\n",
    "    short_list: conlist(int, min_items=1, max_items=4)\n",
    "    short_set: conset(int, min_items=1, max_items=4)\n",
    "\n",
    "    decimal_positive: condecimal(gt=0)\n",
    "    decimal_negative: condecimal(lt=0)\n",
    "    decimal_max_digits_and_places: condecimal(max_digits=2, decimal_places=2)\n",
    "    mod_decimal: condecimal(multiple_of=Decimal('0.25'))\n",
    "\n",
    "    bigger_int: int = Field(..., gt=10000, description='asdfadfs')\n",
    "    \n",
    "    \n",
    "sch = Model.schema()"
   ]
  },
  {
   "cell_type": "code",
   "execution_count": 68,
   "id": "74214433-cae4-489c-a529-4b7a65fe3859",
   "metadata": {},
   "outputs": [
    {
     "data": {
      "text/plain": [
       "{'title': 'Model',\n",
       " 'type': 'object',\n",
       " 'properties': {'lower_bytes': {'title': 'Lower Bytes',\n",
       "   'type': 'string',\n",
       "   'format': 'binary'},\n",
       "  'short_bytes': {'title': 'Short Bytes',\n",
       "   'minLength': 2,\n",
       "   'maxLength': 10,\n",
       "   'type': 'string',\n",
       "   'format': 'binary'},\n",
       "  'strip_bytes': {'title': 'Strip Bytes',\n",
       "   'type': 'string',\n",
       "   'format': 'binary'},\n",
       "  'lower_str': {'title': 'Lower Str', 'type': 'string'},\n",
       "  'short_str': {'title': 'Short Str',\n",
       "   'minLength': 2,\n",
       "   'maxLength': 10,\n",
       "   'type': 'string'},\n",
       "  'regex_str': {'title': 'Regex Str',\n",
       "   'pattern': '^apple (pie|tart|sandwich)$',\n",
       "   'type': 'string'},\n",
       "  'strip_str': {'title': 'Strip Str', 'type': 'string'},\n",
       "  'big_int': {'title': 'Big Int',\n",
       "   'exclusiveMinimum': 1000,\n",
       "   'exclusiveMaximum': 1024,\n",
       "   'type': 'integer'},\n",
       "  'mod_int': {'title': 'Mod Int', 'multipleOf': 5, 'type': 'integer'},\n",
       "  'pos_int': {'title': 'Pos Int', 'exclusiveMinimum': 0, 'type': 'integer'},\n",
       "  'neg_int': {'title': 'Neg Int', 'exclusiveMaximum': 0, 'type': 'integer'},\n",
       "  'non_neg_int': {'title': 'Non Neg Int', 'minimum': 0, 'type': 'integer'},\n",
       "  'non_pos_int': {'title': 'Non Pos Int', 'maximum': 0, 'type': 'integer'},\n",
       "  'big_float': {'title': 'Big Float',\n",
       "   'exclusiveMinimum': 1000,\n",
       "   'exclusiveMaximum': 1024,\n",
       "   'type': 'number'},\n",
       "  'unit_interval': {'title': 'Unit Interval',\n",
       "   'minimum': 0,\n",
       "   'maximum': 1,\n",
       "   'type': 'number'},\n",
       "  'mod_float': {'title': 'Mod Float', 'multipleOf': 0.5, 'type': 'number'},\n",
       "  'pos_float': {'title': 'Pos Float', 'exclusiveMinimum': 0, 'type': 'number'},\n",
       "  'neg_float': {'title': 'Neg Float', 'exclusiveMaximum': 0, 'type': 'number'},\n",
       "  'non_neg_float': {'title': 'Non Neg Float', 'minimum': 0, 'type': 'number'},\n",
       "  'non_pos_float': {'title': 'Non Pos Float', 'maximum': 0, 'type': 'number'},\n",
       "  'short_list': {'title': 'Short List',\n",
       "   'minItems': 1,\n",
       "   'maxItems': 4,\n",
       "   'type': 'array',\n",
       "   'items': {'type': 'integer'}},\n",
       "  'short_set': {'title': 'Short Set',\n",
       "   'minItems': 1,\n",
       "   'maxItems': 4,\n",
       "   'type': 'array',\n",
       "   'items': {'type': 'integer'},\n",
       "   'uniqueItems': True},\n",
       "  'decimal_positive': {'title': 'Decimal Positive',\n",
       "   'exclusiveMinimum': 0,\n",
       "   'type': 'number'},\n",
       "  'decimal_negative': {'title': 'Decimal Negative',\n",
       "   'exclusiveMaximum': 0,\n",
       "   'type': 'number'},\n",
       "  'decimal_max_digits_and_places': {'title': 'Decimal Max Digits And Places',\n",
       "   'type': 'number'},\n",
       "  'mod_decimal': {'title': 'Mod Decimal',\n",
       "   'multipleOf': Decimal('0.25'),\n",
       "   'type': 'number'},\n",
       "  'bigger_int': {'title': 'Bigger Int',\n",
       "   'description': 'asdfadfs',\n",
       "   'exclusiveMinimum': 10000,\n",
       "   'type': 'integer'}},\n",
       " 'required': ['lower_bytes',\n",
       "  'short_bytes',\n",
       "  'strip_bytes',\n",
       "  'lower_str',\n",
       "  'short_str',\n",
       "  'regex_str',\n",
       "  'strip_str',\n",
       "  'big_int',\n",
       "  'mod_int',\n",
       "  'pos_int',\n",
       "  'neg_int',\n",
       "  'non_neg_int',\n",
       "  'non_pos_int',\n",
       "  'big_float',\n",
       "  'unit_interval',\n",
       "  'mod_float',\n",
       "  'pos_float',\n",
       "  'neg_float',\n",
       "  'non_neg_float',\n",
       "  'non_pos_float',\n",
       "  'short_list',\n",
       "  'short_set',\n",
       "  'decimal_positive',\n",
       "  'decimal_negative',\n",
       "  'decimal_max_digits_and_places',\n",
       "  'mod_decimal',\n",
       "  'bigger_int']}"
      ]
     },
     "execution_count": 68,
     "metadata": {},
     "output_type": "execute_result"
    }
   ],
   "source": [
    "sch"
   ]
  },
  {
   "cell_type": "code",
   "execution_count": 29,
   "id": "386848f8-08ff-4a67-a2d4-a6f0a992e072",
   "metadata": {},
   "outputs": [
    {
     "data": {
      "application/vnd.jupyter.widget-view+json": {
       "model_id": "94724cbf077745deb04a0c0f4c7e7b63",
       "version_major": 2,
       "version_minor": 0
      },
      "text/plain": [
       "VBox(children=(HBox(children=(IntSlider(value=1, max=3), HTML(value='<p><strong>IntSlider</strong>, </p>'), HT…"
      ]
     },
     "metadata": {},
     "output_type": "display_data"
    }
   ],
   "source": [
    "display(ui)"
   ]
  },
  {
   "cell_type": "code",
   "execution_count": 52,
   "id": "114da05c-1398-4431-9742-c5df22c0ec58",
   "metadata": {},
   "outputs": [
    {
     "data": {
      "text/plain": [
       "['string',\n",
       " 'string',\n",
       " 'string',\n",
       " 'string',\n",
       " 'string',\n",
       " 'string',\n",
       " 'string',\n",
       " 'integer',\n",
       " 'integer',\n",
       " 'integer',\n",
       " 'integer',\n",
       " 'integer',\n",
       " 'integer',\n",
       " 'number',\n",
       " 'number',\n",
       " 'number',\n",
       " 'number',\n",
       " 'number',\n",
       " 'number',\n",
       " 'number',\n",
       " 'array',\n",
       " 'array',\n",
       " 'number',\n",
       " 'number',\n",
       " 'number',\n",
       " 'number',\n",
       " 'integer']"
      ]
     },
     "execution_count": 52,
     "metadata": {},
     "output_type": "execute_result"
    }
   ],
   "source": [
    "types = [v['type'] for k,v, in sch['properties'].items()]\n",
    "types"
   ]
  },
  {
   "cell_type": "code",
   "execution_count": 86,
   "id": "fd4d977a-9e90-4884-b3e5-9ffe2444e169",
   "metadata": {},
   "outputs": [
    {
     "data": {
      "text/plain": [
       "{'title': 'Model',\n",
       " 'type': 'object',\n",
       " 'properties': {'lower_bytes': {'title': 'Lower Bytes',\n",
       "   'type': 'string',\n",
       "   'format': 'binary'},\n",
       "  'short_bytes': {'title': 'Short Bytes',\n",
       "   'minLength': 2,\n",
       "   'maxLength': 10,\n",
       "   'type': 'string',\n",
       "   'format': 'binary'},\n",
       "  'strip_bytes': {'title': 'Strip Bytes',\n",
       "   'type': 'string',\n",
       "   'format': 'binary'},\n",
       "  'lower_str': {'title': 'Lower Str', 'type': 'string'},\n",
       "  'short_str': {'title': 'Short Str',\n",
       "   'minLength': 2,\n",
       "   'maxLength': 10,\n",
       "   'type': 'string'},\n",
       "  'regex_str': {'title': 'Regex Str',\n",
       "   'pattern': '^apple (pie|tart|sandwich)$',\n",
       "   'type': 'string'},\n",
       "  'strip_str': {'title': 'Strip Str', 'type': 'string'},\n",
       "  'big_int': {'title': 'Big Int',\n",
       "   'exclusiveMinimum': 1000,\n",
       "   'exclusiveMaximum': 1024,\n",
       "   'type': 'integer'},\n",
       "  'mod_int': {'title': 'Mod Int', 'multipleOf': 5, 'type': 'integer'},\n",
       "  'pos_int': {'title': 'Pos Int', 'exclusiveMinimum': 0, 'type': 'integer'},\n",
       "  'neg_int': {'title': 'Neg Int', 'exclusiveMaximum': 0, 'type': 'integer'},\n",
       "  'non_neg_int': {'title': 'Non Neg Int', 'minimum': 0, 'type': 'integer'},\n",
       "  'non_pos_int': {'title': 'Non Pos Int', 'maximum': 0, 'type': 'integer'},\n",
       "  'big_float': {'title': 'Big Float',\n",
       "   'exclusiveMinimum': 1000,\n",
       "   'exclusiveMaximum': 1024,\n",
       "   'type': 'number'},\n",
       "  'unit_interval': {'title': 'Unit Interval',\n",
       "   'minimum': 0,\n",
       "   'maximum': 1,\n",
       "   'type': 'number'},\n",
       "  'mod_float': {'title': 'Mod Float', 'multipleOf': 0.5, 'type': 'number'},\n",
       "  'pos_float': {'title': 'Pos Float', 'exclusiveMinimum': 0, 'type': 'number'},\n",
       "  'neg_float': {'title': 'Neg Float', 'exclusiveMaximum': 0, 'type': 'number'},\n",
       "  'non_neg_float': {'title': 'Non Neg Float', 'minimum': 0, 'type': 'number'},\n",
       "  'non_pos_float': {'title': 'Non Pos Float', 'maximum': 0, 'type': 'number'},\n",
       "  'short_list': {'title': 'Short List',\n",
       "   'minItems': 1,\n",
       "   'maxItems': 4,\n",
       "   'type': 'array',\n",
       "   'items': {'type': 'integer'}},\n",
       "  'short_set': {'title': 'Short Set',\n",
       "   'minItems': 1,\n",
       "   'maxItems': 4,\n",
       "   'type': 'array',\n",
       "   'items': {'type': 'integer'},\n",
       "   'uniqueItems': True},\n",
       "  'decimal_positive': {'title': 'Decimal Positive',\n",
       "   'exclusiveMinimum': 0,\n",
       "   'type': 'number'},\n",
       "  'decimal_negative': {'title': 'Decimal Negative',\n",
       "   'exclusiveMaximum': 0,\n",
       "   'type': 'number'},\n",
       "  'decimal_max_digits_and_places': {'title': 'Decimal Max Digits And Places',\n",
       "   'type': 'number'},\n",
       "  'mod_decimal': {'title': 'Mod Decimal',\n",
       "   'multipleOf': Decimal('0.25'),\n",
       "   'type': 'number'},\n",
       "  'bigger_int': {'title': 'Bigger Int',\n",
       "   'description': 'asdfadfs',\n",
       "   'exclusiveMinimum': 10000,\n",
       "   'type': 'integer'}},\n",
       " 'required': ['lower_bytes',\n",
       "  'short_bytes',\n",
       "  'strip_bytes',\n",
       "  'lower_str',\n",
       "  'short_str',\n",
       "  'regex_str',\n",
       "  'strip_str',\n",
       "  'big_int',\n",
       "  'mod_int',\n",
       "  'pos_int',\n",
       "  'neg_int',\n",
       "  'non_neg_int',\n",
       "  'non_pos_int',\n",
       "  'big_float',\n",
       "  'unit_interval',\n",
       "  'mod_float',\n",
       "  'pos_float',\n",
       "  'neg_float',\n",
       "  'non_neg_float',\n",
       "  'non_pos_float',\n",
       "  'short_list',\n",
       "  'short_set',\n",
       "  'decimal_positive',\n",
       "  'decimal_negative',\n",
       "  'decimal_max_digits_and_places',\n",
       "  'mod_decimal',\n",
       "  'bigger_int']}"
      ]
     },
     "execution_count": 86,
     "metadata": {},
     "output_type": "execute_result"
    }
   ],
   "source": [
    "sch"
   ]
  },
  {
   "cell_type": "code",
   "execution_count": 31,
   "id": "28c895c4-032f-4ffe-8923-3574d3f47e9c",
   "metadata": {},
   "outputs": [
    {
     "data": {
      "text/plain": [
       "{'title': 'PydanticInts',\n",
       " 'type': 'object',\n",
       " 'properties': {'big_int': {'title': 'Big Int',\n",
       "   'exclusiveMinimum': 1000,\n",
       "   'exclusiveMaximum': 1024,\n",
       "   'type': 'integer'},\n",
       "  'mod_int': {'title': 'Mod Int', 'multipleOf': 5, 'type': 'integer'},\n",
       "  'pos_int': {'title': 'Pos Int', 'exclusiveMinimum': 0, 'type': 'integer'},\n",
       "  'neg_int': {'title': 'Neg Int', 'exclusiveMaximum': 0, 'type': 'integer'},\n",
       "  'non_neg_int': {'title': 'Non Neg Int', 'minimum': 0, 'type': 'integer'},\n",
       "  'non_pos_int': {'title': 'Non Pos Int', 'maximum': 0, 'type': 'integer'}},\n",
       " 'required': ['big_int',\n",
       "  'mod_int',\n",
       "  'pos_int',\n",
       "  'neg_int',\n",
       "  'non_neg_int',\n",
       "  'non_pos_int']}"
      ]
     },
     "execution_count": 31,
     "metadata": {},
     "output_type": "execute_result"
    }
   ],
   "source": [
    "class PydanticInts(BaseModel):\n",
    "    big_int: conint(gt=1000, lt=1024)\n",
    "    mod_int: conint(multiple_of=5)\n",
    "    pos_int: PositiveInt\n",
    "    neg_int: NegativeInt\n",
    "    non_neg_int: NonNegativeInt\n",
    "    non_pos_int: NonPositiveInt\n",
    "    table: \n",
    "ints_schema = PydanticInts.schema()\n",
    "ints_schema"
   ]
  },
  {
   "cell_type": "code",
   "execution_count": null,
   "id": "8787390b-e788-4beb-bf25-0ac520668aa1",
   "metadata": {},
   "outputs": [],
   "source": []
  },
  {
   "cell_type": "code",
   "execution_count": null,
   "id": "3462624d-e9b3-4173-acfa-daf19bfea1a4",
   "metadata": {},
   "outputs": [],
   "source": []
  },
  {
   "cell_type": "code",
   "execution_count": 76,
   "id": "0e2debe5-cef4-4738-b018-d6b41e542ced",
   "metadata": {},
   "outputs": [
    {
     "data": {
      "text/plain": [
       "{'title': 'Pa',\n",
       " 'type': 'object',\n",
       " 'properties': {'path': {'title': 'Path', 'type': 'string', 'format': 'path'}},\n",
       " 'required': ['path']}"
      ]
     },
     "execution_count": 76,
     "metadata": {},
     "output_type": "execute_result"
    }
   ],
   "source": [
    "import pandas as pd\n",
    "class Pa(BaseModel):\n",
    "    path: pathlib.Path\n",
    "\n",
    "df = pd.DataFrame.from_dict({'as':[0,2,]})\n",
    "p = Pa(path=pathlib.Path())\n",
    "p.schema()"
   ]
  },
  {
   "cell_type": "code",
   "execution_count": 79,
   "id": "438dabef-3140-4208-bf3e-b17b464dbb20",
   "metadata": {},
   "outputs": [],
   "source": [
    "import pandas as pd\n",
    "class Table(BaseModel):\n",
    "    df: pd.DataFrame\n",
    "    path: pathlib.Path\n",
    "    \n",
    "    class Config:\n",
    "        arbitrary_types_allowed = True\n",
    "        \n",
    "df = pd.DataFrame.from_dict({'as':[0,2,]})\n",
    "t = Table(df=df,path=pathlib.Path())\n"
   ]
  },
  {
   "cell_type": "code",
   "execution_count": 37,
   "id": "a176fffa-1e60-43d8-aca6-294d4f71aca4",
   "metadata": {},
   "outputs": [
    {
     "data": {
      "application/vnd.jupyter.widget-view+json": {
       "model_id": "f58d3720176c4102bc18780e843706bf",
       "version_major": 2,
       "version_minor": 0
      },
      "text/plain": [
       "IntText(value=0, step=5)"
      ]
     },
     "metadata": {},
     "output_type": "display_data"
    }
   ],
   "source": [
    "widgets.IntText(step=5)"
   ]
  },
  {
   "cell_type": "code",
   "execution_count": 11,
   "id": "880dc545-0ab5-4579-927b-4729557bfbf0",
   "metadata": {},
   "outputs": [
    {
     "data": {
      "text/plain": [
       "1"
      ]
     },
     "execution_count": 11,
     "metadata": {},
     "output_type": "execute_result"
    }
   ],
   "source": [
    "from pydantic import BaseModel\n",
    "\n",
    "class TestAutoLogic(BaseModel):\n",
    "    int_slider: int = \n",
    "    \n",
    "    \n",
    "    \n",
    "    'IntSlider': {\n",
    "        'value': 1,\n",
    "        'kwargs': {'min':0, 'max':3} \n",
    "    },\n",
    "    'IntText': {\n",
    "        'value': 1,\n",
    "        'kwargs': {}\n",
    "    },\n",
    "    'IntRangeSlider': {\n",
    "        'value': (1,4),\n",
    "        'kwargs': {'min':0, 'max':5}\n",
    "    },"
   ]
  },
  {
   "cell_type": "code",
   "execution_count": 39,
   "id": "20e7f553-3c7e-4cd0-9991-b2ed52af147c",
   "metadata": {},
   "outputs": [
    {
     "name": "stdout",
     "output_type": "stream",
     "text": [
      "magenta\n",
      "#f0f\n",
      "(0, 128, 0)\n",
      "green\n",
      "Color('cyan', rgb=(0, 255, 255))\n",
      "color=Color('purple', rgb=(128, 0, 128))\n",
      "1 validation error for Model\n",
      "color\n",
      "  value is not a valid color: string not recognised as a valid color (type=value_error.color; reason=string not recognised as a valid color)\n"
     ]
    }
   ],
   "source": [
    "from pydantic import BaseModel, ValidationError\n",
    "from pydantic.color import Color\n",
    "\n",
    "c = Color('ff00ff')\n",
    "print(c.as_named())\n",
    "#> magenta\n",
    "print(c.as_hex())\n",
    "#> #f0f\n",
    "c2 = Color('green')\n",
    "print(c2.as_rgb_tuple())\n",
    "#> (0, 128, 0)\n",
    "print(c2.original())\n",
    "#> green\n",
    "print(repr(Color('hsl(180, 100%, 50%)')))\n",
    "#> Color('cyan', rgb=(0, 255, 255))\n",
    "\n",
    "\n",
    "class Model(BaseModel):\n",
    "    color: Color\n",
    "\n",
    "\n",
    "print(Model(color='purple'))\n",
    "#> color=Color('purple', rgb=(128, 0, 128))\n",
    "try:\n",
    "    Model(color='hello')\n",
    "except ValidationError as e:\n",
    "    print(e)\n",
    "    \"\"\"\n",
    "    1 validation error for Model\n",
    "    color\n",
    "      value is not a valid color: string not recognised as a valid color\n",
    "    (type=value_error.color; reason=string not recognised as a valid color)\n",
    "    \"\"\""
   ]
  },
  {
   "cell_type": "code",
   "execution_count": 40,
   "id": "d9ee629c-6803-411e-b45e-060d42e412e4",
   "metadata": {},
   "outputs": [
    {
     "data": {
      "text/plain": [
       "{'title': 'Model',\n",
       " 'type': 'object',\n",
       " 'properties': {'color': {'title': 'Color',\n",
       "   'type': 'string',\n",
       "   'format': 'color'}},\n",
       " 'required': ['color']}"
      ]
     },
     "execution_count": 40,
     "metadata": {},
     "output_type": "execute_result"
    }
   ],
   "source": [
    "Model.schema()"
   ]
  },
  {
   "cell_type": "code",
   "execution_count": 54,
   "id": "f9f698ea-8ab4-4d72-a701-1179822f8045",
   "metadata": {
    "tags": []
   },
   "outputs": [
    {
     "data": {
      "text/plain": [
       "{'anyOf',\n",
       " 'array',\n",
       " 'boolean',\n",
       " 'enum',\n",
       " 'integer',\n",
       " 'null',\n",
       " 'number',\n",
       " 'object',\n",
       " 'string'}"
      ]
     },
     "execution_count": 54,
     "metadata": {},
     "output_type": "execute_result"
    }
   ],
   "source": [
    "table = [\n",
    "    [\n",
    "        'None',\n",
    "        'null',\n",
    "        '',\n",
    "        'JSON Schema Core',\n",
    "        'Same for `type(None)` or `Literal[None]`'\n",
    "    ],\n",
    "    [\n",
    "        'bool',\n",
    "        'boolean',\n",
    "        '',\n",
    "        'JSON Schema Core',\n",
    "        ''\n",
    "    ],\n",
    "    [\n",
    "        'str',\n",
    "        'string',\n",
    "        '',\n",
    "        'JSON Schema Core',\n",
    "        ''\n",
    "    ],\n",
    "    [\n",
    "        'float',\n",
    "        'number',\n",
    "        '',\n",
    "        'JSON Schema Core',\n",
    "        ''\n",
    "    ],\n",
    "    [\n",
    "        'int',\n",
    "        'integer',\n",
    "        '',\n",
    "        'JSON Schema Validation',\n",
    "        ''\n",
    "    ],\n",
    "    [\n",
    "        'dict',\n",
    "        'object',\n",
    "        '',\n",
    "        'JSON Schema Core',\n",
    "        ''\n",
    "    ],\n",
    "    [\n",
    "        'list',\n",
    "        'array',\n",
    "        {'items': {}},\n",
    "        'JSON Schema Core',\n",
    "        ''\n",
    "    ],\n",
    "    [\n",
    "        'tuple',\n",
    "        'array',\n",
    "        {'items': {}},\n",
    "        'JSON Schema Core',\n",
    "        ''\n",
    "    ],\n",
    "    [\n",
    "        'set',\n",
    "        'array',\n",
    "        {'items': {}, 'uniqueItems': True},\n",
    "        'JSON Schema Validation',\n",
    "        ''\n",
    "    ],\n",
    "    [\n",
    "        'List[str]',\n",
    "        'array',\n",
    "        {'items': {'type': 'string'}},\n",
    "        'JSON Schema Validation',\n",
    "        'And equivalently for any other sub type, e.g. `List[int]`.'\n",
    "    ],\n",
    "    [\n",
    "        'Tuple[str, int]',\n",
    "        'array',\n",
    "        {'items': [{'type': 'string'}, {'type': 'integer'}]},\n",
    "        'JSON Schema Validation',\n",
    "        (\n",
    "            'And equivalently for any other set of subtypes. Note: If using schemas for OpenAPI, '\n",
    "            'you shouldn\\'t use this declaration, as it would not be valid in OpenAPI (although it is '\n",
    "            'valid in JSON Schema).'\n",
    "        )\n",
    "    ],\n",
    "    [\n",
    "        'Dict[str, int]',\n",
    "        'object',\n",
    "        {'additionalProperties': {'type': 'integer'}},\n",
    "        'JSON Schema Validation',\n",
    "        (\n",
    "            'And equivalently for any other subfields for dicts. Have in mind that although you can use other types as '\n",
    "            'keys for dicts with Pydantic, only strings are valid keys for JSON, and so, only str is valid as '\n",
    "            'JSON Schema key types.'\n",
    "         )\n",
    "    ],\n",
    "    [\n",
    "        'Union[str, int]',\n",
    "        'anyOf',\n",
    "        {'anyOf': [{'type': 'string'}, {'type': 'integer'}]},\n",
    "        'JSON Schema Validation',\n",
    "        'And equivalently for any other subfields for unions.'\n",
    "    ],\n",
    "    [\n",
    "        'Enum',\n",
    "        'enum',\n",
    "        '{\"enum\": [...]}',\n",
    "        'JSON Schema Validation',\n",
    "        'All the literal values in the enum are included in the definition.'\n",
    "    ],\n",
    "    [\n",
    "        'SecretStr',\n",
    "        'string',\n",
    "        {'writeOnly': True},\n",
    "        'JSON Schema Validation',\n",
    "        ''\n",
    "    ],\n",
    "    [\n",
    "        'SecretBytes',\n",
    "        'string',\n",
    "        {'writeOnly': True},\n",
    "        'JSON Schema Validation',\n",
    "        ''\n",
    "    ],\n",
    "    [\n",
    "        'EmailStr',\n",
    "        'string',\n",
    "        {'format': 'email'},\n",
    "        'JSON Schema Validation',\n",
    "        ''\n",
    "    ],\n",
    "    [\n",
    "        'NameEmail',\n",
    "        'string',\n",
    "        {'format': 'name-email'},\n",
    "        'Pydantic standard \"format\" extension',\n",
    "        ''\n",
    "    ],\n",
    "    [\n",
    "        'AnyUrl',\n",
    "        'string',\n",
    "        {'format': 'uri'},\n",
    "        'JSON Schema Validation',\n",
    "        ''\n",
    "    ],\n",
    "    [\n",
    "        'Pattern',\n",
    "        'string',\n",
    "        {'format': 'regex'},\n",
    "        'JSON Schema Validation',\n",
    "        ''\n",
    "    ],\n",
    "    [\n",
    "        'bytes',\n",
    "        'string',\n",
    "        {'format': 'binary'},\n",
    "        'OpenAPI',\n",
    "        ''\n",
    "    ],\n",
    "    [\n",
    "        'Decimal',\n",
    "        'number',\n",
    "        '',\n",
    "        'JSON Schema Core',\n",
    "        ''\n",
    "    ],\n",
    "    [\n",
    "        'UUID1',\n",
    "        'string',\n",
    "        {'format': 'uuid1'},\n",
    "        'Pydantic standard \"format\" extension',\n",
    "        ''\n",
    "    ],\n",
    "    [\n",
    "        'UUID3',\n",
    "        'string',\n",
    "        {'format': 'uuid3'},\n",
    "        'Pydantic standard \"format\" extension',\n",
    "        ''\n",
    "    ],\n",
    "    [\n",
    "        'UUID4',\n",
    "        'string',\n",
    "        {'format': 'uuid4'},\n",
    "        'Pydantic standard \"format\" extension',\n",
    "        ''\n",
    "    ],\n",
    "    [\n",
    "        'UUID5',\n",
    "        'string',\n",
    "        {'format': 'uuid5'},\n",
    "        'Pydantic standard \"format\" extension',\n",
    "        ''\n",
    "    ],\n",
    "    [\n",
    "        'UUID',\n",
    "        'string',\n",
    "        {'format': 'uuid'},\n",
    "        'Pydantic standard \"format\" extension',\n",
    "        'Suggested in OpenAPI.'\n",
    "    ],\n",
    "    [\n",
    "        'FilePath',\n",
    "        'string',\n",
    "        {'format': 'file-path'},\n",
    "        'Pydantic standard \"format\" extension',\n",
    "        ''\n",
    "    ],\n",
    "    [\n",
    "        'DirectoryPath',\n",
    "        'string',\n",
    "        {'format': 'directory-path'},\n",
    "        'Pydantic standard \"format\" extension',\n",
    "        ''\n",
    "    ],\n",
    "    [\n",
    "        'Path',\n",
    "        'string',\n",
    "        {'format': 'path'},\n",
    "        'Pydantic standard \"format\" extension',\n",
    "        ''\n",
    "    ],\n",
    "    [\n",
    "        'datetime',\n",
    "        'string',\n",
    "        {'format': 'date-time'},\n",
    "        'JSON Schema Validation',\n",
    "        ''\n",
    "    ],\n",
    "    [\n",
    "        'date',\n",
    "        'string',\n",
    "        {'format': 'date'},\n",
    "        'JSON Schema Validation',\n",
    "        ''\n",
    "    ],\n",
    "    [\n",
    "        'time',\n",
    "        'string',\n",
    "        {'format': 'time'},\n",
    "        'JSON Schema Validation',\n",
    "        ''\n",
    "    ],\n",
    "    [\n",
    "        'timedelta',\n",
    "        'number',\n",
    "        {'format': 'time-delta'},\n",
    "        'Difference in seconds (a `float`), with Pydantic standard \"format\" extension',\n",
    "        'Suggested in JSON Schema repository\\'s issues by maintainer.'\n",
    "    ],\n",
    "    [\n",
    "        'Json',\n",
    "        'string',\n",
    "        {'format': 'json-string'},\n",
    "        'Pydantic standard \"format\" extension',\n",
    "        ''\n",
    "    ],\n",
    "    [\n",
    "        'IPv4Address',\n",
    "        'string',\n",
    "        {'format': 'ipv4'},\n",
    "        'JSON Schema Validation',\n",
    "        ''\n",
    "    ],\n",
    "    [\n",
    "        'IPv6Address',\n",
    "        'string',\n",
    "        {'format': 'ipv6'},\n",
    "        'JSON Schema Validation',\n",
    "        ''\n",
    "    ],\n",
    "    [\n",
    "        'IPvAnyAddress',\n",
    "        'string',\n",
    "        {'format': 'ipvanyaddress'},\n",
    "        'Pydantic standard \"format\" extension',\n",
    "        'IPv4 or IPv6 address as used in `ipaddress` module',\n",
    "    ],\n",
    "    [\n",
    "        'IPv4Interface',\n",
    "        'string',\n",
    "        {'format': 'ipv4interface'},\n",
    "        'Pydantic standard \"format\" extension',\n",
    "        'IPv4 interface as used in `ipaddress` module',\n",
    "    ],\n",
    "    [\n",
    "        'IPv6Interface',\n",
    "        'string',\n",
    "        {'format': 'ipv6interface'},\n",
    "        'Pydantic standard \"format\" extension',\n",
    "        'IPv6 interface as used in `ipaddress` module',\n",
    "    ],\n",
    "    [\n",
    "        'IPvAnyInterface',\n",
    "        'string',\n",
    "        {'format': 'ipvanyinterface'},\n",
    "        'Pydantic standard \"format\" extension',\n",
    "        'IPv4 or IPv6 interface as used in `ipaddress` module',\n",
    "    ],\n",
    "    [\n",
    "        'IPv4Network',\n",
    "        'string',\n",
    "        {'format': 'ipv4network'},\n",
    "        'Pydantic standard \"format\" extension',\n",
    "        'IPv4 network as used in `ipaddress` module',\n",
    "    ],\n",
    "    [\n",
    "        'IPv6Network',\n",
    "        'string',\n",
    "        {'format': 'ipv6network'},\n",
    "        'Pydantic standard \"format\" extension',\n",
    "        'IPv6 network as used in `ipaddress` module',\n",
    "    ],\n",
    "    [\n",
    "        'IPvAnyNetwork',\n",
    "        'string',\n",
    "        {'format': 'ipvanynetwork'},\n",
    "        'Pydantic standard \"format\" extension',\n",
    "        'IPv4 or IPv6 network as used in `ipaddress` module',\n",
    "    ],\n",
    "    [\n",
    "        'StrictBool',\n",
    "        'boolean',\n",
    "        '',\n",
    "        'JSON Schema Core',\n",
    "        ''\n",
    "    ],\n",
    "    [\n",
    "        'StrictStr',\n",
    "        'string',\n",
    "        '',\n",
    "        'JSON Schema Core',\n",
    "        ''\n",
    "    ],\n",
    "    [\n",
    "        'ConstrainedStr',\n",
    "        'string',\n",
    "        '',\n",
    "        'JSON Schema Core',\n",
    "        (\n",
    "            'If the type has values declared for the constraints, they are included as validations. '\n",
    "            'See the mapping for `constr` below.'\n",
    "        )\n",
    "    ],\n",
    "    [\n",
    "        'constr(regex=\\'^text$\\', min_length=2, max_length=10)',\n",
    "        'string',\n",
    "        {'pattern': '^text$', 'minLength': 2, 'maxLength': 10},\n",
    "        'JSON Schema Validation',\n",
    "        'Any argument not passed to the function (not defined) will not be included in the schema.'\n",
    "    ],\n",
    "    [\n",
    "        'ConstrainedInt',\n",
    "        'integer',\n",
    "        '',\n",
    "        'JSON Schema Core',\n",
    "        (\n",
    "            'If the type has values declared for the constraints, they are included as validations. '\n",
    "            'See the mapping for `conint` below.'\n",
    "        )\n",
    "    ],\n",
    "    [\n",
    "        'conint(gt=1, ge=2, lt=6, le=5, multiple_of=2)',\n",
    "        'integer',\n",
    "        {'maximum': 5, 'exclusiveMaximum': 6, 'minimum': 2, 'exclusiveMinimum': 1, 'multipleOf': 2},\n",
    "        '',\n",
    "        'Any argument not passed to the function (not defined) will not be included in the schema.'\n",
    "    ],\n",
    "    [\n",
    "        'PositiveInt',\n",
    "        'integer',\n",
    "        {'exclusiveMinimum': 0},\n",
    "        'JSON Schema Validation',\n",
    "        ''\n",
    "    ],\n",
    "    [\n",
    "        'NegativeInt',\n",
    "        'integer',\n",
    "        {'exclusiveMaximum': 0},\n",
    "        'JSON Schema Validation',\n",
    "        ''\n",
    "    ],\n",
    "    [\n",
    "        'NonNegativeInt',\n",
    "        'integer',\n",
    "        {'minimum': 0},\n",
    "        'JSON Schema Validation',\n",
    "        ''\n",
    "    ],\n",
    "    [\n",
    "        'NonPositiveInt',\n",
    "        'integer',\n",
    "        {'maximum': 0},\n",
    "        'JSON Schema Validation',\n",
    "        ''\n",
    "    ],\n",
    "    [\n",
    "        'ConstrainedFloat',\n",
    "        'number',\n",
    "        '',\n",
    "        'JSON Schema Core',\n",
    "        (\n",
    "            'If the type has values declared for the constraints, they are included as validations. '\n",
    "            'See the mapping for `confloat` below.'\n",
    "        )\n",
    "    ],\n",
    "    [\n",
    "        'confloat(gt=1, ge=2, lt=6, le=5, multiple_of=2)',\n",
    "        'number',\n",
    "        {'maximum': 5, 'exclusiveMaximum': 6, 'minimum': 2, 'exclusiveMinimum': 1, 'multipleOf': 2},\n",
    "        'JSON Schema Validation',\n",
    "        'Any argument not passed to the function (not defined) will not be included in the schema.'\n",
    "    ],\n",
    "    [\n",
    "        'PositiveFloat',\n",
    "        'number',\n",
    "        {'exclusiveMinimum': 0},\n",
    "        'JSON Schema Validation',\n",
    "        ''\n",
    "    ],\n",
    "    [\n",
    "        'NegativeFloat',\n",
    "        'number',\n",
    "        {'exclusiveMaximum': 0},\n",
    "        'JSON Schema Validation',\n",
    "        ''\n",
    "    ],\n",
    "    [\n",
    "        'NonNegativeFloat',\n",
    "        'number',\n",
    "        {'minimum': 0},\n",
    "        'JSON Schema Validation',\n",
    "        ''\n",
    "    ],\n",
    "    [\n",
    "        'NonPositiveFloat',\n",
    "        'number',\n",
    "        {'maximum': 0},\n",
    "        'JSON Schema Validation',\n",
    "        ''\n",
    "    ],\n",
    "    [\n",
    "        'ConstrainedDecimal',\n",
    "        'number',\n",
    "        '',\n",
    "        'JSON Schema Core',\n",
    "        (\n",
    "            'If the type has values declared for the constraints, they are included as validations. '\n",
    "            'See the mapping for `condecimal` below.'\n",
    "        )\n",
    "    ],\n",
    "    [\n",
    "        'condecimal(gt=1, ge=2, lt=6, le=5, multiple_of=2)',\n",
    "        'number',\n",
    "        {'maximum': 5, 'exclusiveMaximum': 6, 'minimum': 2, 'exclusiveMinimum': 1, 'multipleOf': 2},\n",
    "        'JSON Schema Validation',\n",
    "        'Any argument not passed to the function (not defined) will not be included in the schema.'\n",
    "    ],\n",
    "    [\n",
    "        'BaseModel',\n",
    "        'object',\n",
    "        '',\n",
    "        'JSON Schema Core',\n",
    "        'All the properties defined will be defined with standard JSON Schema, including submodels.'\n",
    "    ],\n",
    "    [\n",
    "        'Color',\n",
    "        'string',\n",
    "        {'format': 'color'},\n",
    "        'Pydantic standard \"format\" extension',\n",
    "        '',\n",
    "    ],\n",
    "]\n",
    "\n",
    "headings = [\n",
    "    'Python type',\n",
    "    'JSON Schema Type',\n",
    "    'Additional JSON Schema',\n",
    "    'Defined in',\n",
    "]\n",
    "set([t[1] for t in table])"
   ]
  }
 ],
 "metadata": {
  "jupytext": {
   "formats": "ipynb,py:light"
  },
  "kernelspec": {
   "display_name": "Python 3 (ipykernel)",
   "language": "python",
   "name": "python3"
  },
  "language_info": {
   "codemirror_mode": {
    "name": "ipython",
    "version": 3
   },
   "file_extension": ".py",
   "mimetype": "text/x-python",
   "name": "python",
   "nbconvert_exporter": "python",
   "pygments_lexer": "ipython3",
   "version": "3.9.7"
  }
 },
 "nbformat": 4,
 "nbformat_minor": 5
}
