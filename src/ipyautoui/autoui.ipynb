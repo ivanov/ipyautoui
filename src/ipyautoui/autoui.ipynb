{
 "cells": [
  {
   "cell_type": "code",
   "execution_count": 1,
   "id": "30fb051b",
   "metadata": {},
   "outputs": [],
   "source": [
    "# import sys\n",
    "# sys.path.append('/mnt/c/engDev/git_extrnl/pydantic')\n",
    "%run __init__.py\n",
    "import pathlib\n",
    "import functools\n",
    "import pandas as pd\n",
    "import ipywidgets as widgets\n",
    "from IPython.display import display\n",
    "from datetime import datetime, date\n",
    "from dataclasses import dataclass\n",
    "from pydantic import BaseModel\n",
    "\n",
    "import traitlets\n",
    "import typing\n",
    "from enum import Enum\n",
    "\n",
    "import ipyautoui\n",
    "from ipyautoui._utils import obj_from_string\n",
    "from ipyautoui._custom_widgets import AutoUiDataGrid, AutoUiFileChooser\n",
    "from ipyautoui.constants import DI_JSONSCHEMA_WIDGET_MAP, BUTTON_WIDTH_MIN\n",
    "\n",
    "from enum import Enum\n",
    "from ipyautoui.constants import BUTTON_WIDTH_MIN\n",
    "from markdown import markdown\n",
    "from datetime import datetime\n",
    "import immutables\n",
    "\n",
    "from enum import Enum\n",
    "from ipyautoui.constants import BUTTON_WIDTH_MIN\n",
    "from markdown import markdown\n",
    "from datetime import datetime\n",
    "import immutables\n",
    "import json"
   ]
  },
  {
   "cell_type": "code",
   "execution_count": 2,
   "id": "45912b65",
   "metadata": {},
   "outputs": [],
   "source": [
    "   \n",
    "#  -- ATTACH DEFINITIONS TO PROPERTIES ----------------------\n",
    "def recursive_search_schema(sch:typing.Dict, li: typing.List) ->typing.Dict:\n",
    "    \"\"\"searches down schema tree to retrieve definitions\n",
    "\n",
    "    Args:\n",
    "        sch (typing.Dict): json schema made from pydantic   \n",
    "        li (typing.List): list of keys to search down tree\n",
    "\n",
    "    Returns:\n",
    "        typing.Dict: definition retrieved from schema\n",
    "    \"\"\"\n",
    "    if len(li) > 1:\n",
    "        f = li[0]\n",
    "        li_tmp = li[1:]\n",
    "        sch_tmp = sch[f]\n",
    "        return recursive_search_schema(sch_tmp, li_tmp)\n",
    "    else:\n",
    "        return sch[li[0]]\n",
    "\n",
    "def update_property_from_definition(sch: typing.Dict, item: typing.Dict, key:typing.Any) -> typing.Dict:\n",
    "    \"\"\"attaches definition back to properties in schema\n",
    "\n",
    "    Args:\n",
    "        sch (typing.Dict): json schema\n",
    "        item (typing.Dict): definition item\n",
    "        key (typing.Any): what to search for (#ref)\n",
    "\n",
    "    Returns:\n",
    "        typing.Dict: sch\n",
    "    \"\"\" \n",
    "    k = list(item.keys())[0]\n",
    "    v = list(item.values())[0]\n",
    "    \n",
    "    li_filt = v[key].split('/')[1:]\n",
    "    definition = recursive_search_schema(sch, li_filt)\n",
    "\n",
    "    di_new = {}\n",
    "    for k_, v_ in item.items():\n",
    "        di_new[k_] = definition\n",
    "    \n",
    "    sch['properties'][k] = di_new[k]\n",
    "    return sch\n",
    "\n",
    "def update_property_definitions(sch: typing.Dict, key: str):\n",
    "    \"\"\"attaches all definitions back to properties. \n",
    "    TODO - currently only looks at the first level!\n",
    "\n",
    "    Args:\n",
    "        sch (typing.Dict): [description]\n",
    "        key (str): [description]\n",
    "\n",
    "    Returns:\n",
    "        [type]: [description]\n",
    "    \"\"\"\n",
    "    li_definitions = [{k:v} for k,v in sch['properties'].items() if key in v]\n",
    "    for l in li_definitions:\n",
    "         sch = update_property_from_definition(sch, l, key)\n",
    "    return sch\n",
    "#  ----------------------------------------------------------\n",
    "\n",
    "#  -- CHANGE JSON-SCHEMA KEYS TO IPYWIDGET KEYS -------------\n",
    "def update_key(key, di_map=DI_JSONSCHEMA_WIDGET_MAP):\n",
    "    if key in di_map.keys():\n",
    "        return di_map[key]\n",
    "    else:\n",
    "        return key\n",
    "    \n",
    "def update_keys(di, di_map=DI_JSONSCHEMA_WIDGET_MAP):\n",
    "    return {update_key(k, di_map): v for k, v in di.items()}\n",
    "\n",
    "def add_description_field(di):\n",
    "    for k,v in di.items():\n",
    "        if 'description' not in v:\n",
    "            v['description'] =''\n",
    "        # t=v['title']\n",
    "        # d=v['description']\n",
    "        # v['description'] = f\"<b>{t}</b>, <i>{d}</i>\"\n",
    "        \n",
    "    return di\n",
    "\n",
    "def rename_schema_keys(di, di_map=DI_JSONSCHEMA_WIDGET_MAP):\n",
    "    di = add_description_field(di)\n",
    "    rename = {k:update_keys(v, di_map) for k, v in di.items()}\n",
    "    return rename\n",
    "\n",
    "def call_rename_schema_keys(di, di_map=DI_JSONSCHEMA_WIDGET_MAP, rename_keys=True):\n",
    "    if rename_keys:\n",
    "        return rename_schema_keys(di, di_map=di_map)\n",
    "    else:\n",
    "        return di\n",
    "#  ----------------------------------------------------------\n",
    "\n",
    "#  -- HELPER FUNCTIONS --------------------------------------\n",
    "def get_type(pr, typ='string'):\n",
    "    return {k:v for k,v in pr.items() if v['type'] ==typ}\n",
    "\n",
    "def get_format(pr, typ='date'):\n",
    "    pr = {k:v for k,v in pr.items() if 'format' in v}\n",
    "    return {k:v for k,v in pr.items() if v['format'] ==typ}\n",
    "\n",
    "def get_range(pr, typ='integer'):\n",
    "    array = get_type(pr, typ='array')\n",
    "    array = {k:v for k,v in array.items() if len(v['items']) ==2}\n",
    "    tmp = {}\n",
    "    for k,v in array.items():\n",
    "        tmp[k] = v\n",
    "        for i in v['items']:\n",
    "            if 'minimum' not in i and 'maximum' not in i:\n",
    "                tmp = {}\n",
    "    if len(tmp)==0:\n",
    "        return tmp\n",
    "    else:\n",
    "        rng = {k:v for k, v in tmp.items() if v['items'][0]['type'] == typ}\n",
    "        for k, v in rng.items():\n",
    "            rng[k]['minimum'] = v['items'][0]['minimum']\n",
    "            rng[k]['maximum'] = v['items'][0]['maximum']\n",
    "    return rng\n",
    "\n",
    "def drop_enums(pr):\n",
    "    return {k:v for k,v in pr.items() if 'enum' not in v}\n",
    "\n",
    "def find_enums(pr):\n",
    "    return {k:v for k,v in pr.items() if 'enum' in v}\n",
    "\n",
    "def drop_explicit_autoui(pr):\n",
    "    return {k:v for k,v in pr.items() if 'autoui' not in v}\n",
    "\n",
    "def find_explicit_autoui(pr):\n",
    "    return {k:v for k,v in pr.items() if 'autoui' in v}\n",
    "#  ----------------------------------------------------------\n",
    "\n",
    "#  -- FILTER FUNCTIONS --------------------------------------\n",
    "#  -- find relevant inputs from json-schema properties ------\n",
    "def get_IntText(pr, rename_keys=True):\n",
    "    pr = drop_explicit_autoui(pr)\n",
    "    ints = get_type(pr, typ='integer')\n",
    "    simple_ints = {k:v for k,v in ints.items() if 'minimum' not in v and 'maximum' not in v}\n",
    "    return call_rename_schema_keys(simple_ints, rename_keys=rename_keys)\n",
    "\n",
    "def get_IntSlider(pr, rename_keys=True):\n",
    "    pr = drop_explicit_autoui(pr)\n",
    "    ints = get_type(pr, typ='integer')\n",
    "    simple_ints = {k:v for k,v in ints.items() if 'minimum' in v and 'maximum' in v}\n",
    "    return call_rename_schema_keys(simple_ints, rename_keys=rename_keys)\n",
    "\n",
    "def get_FloatText(pr, rename_keys=True):\n",
    "    pr = drop_explicit_autoui(pr)\n",
    "    floats = get_type(pr, typ='number')\n",
    "    simple_floats = {k:v for k,v in floats.items() if 'minimum' not in v and 'maximum' not in v}\n",
    "    return call_rename_schema_keys(simple_floats, rename_keys=rename_keys)\n",
    "\n",
    "def get_FloatSlider(pr, rename_keys=True):\n",
    "    pr = drop_explicit_autoui(pr)\n",
    "    floats = get_type(pr, typ='number')\n",
    "    simple_floats = {k:v for k,v in floats.items() if 'minimum' in v and 'maximum' in v}\n",
    "    return call_rename_schema_keys(simple_floats, rename_keys=rename_keys)\n",
    "\n",
    "def get_Text(pr, rename_keys=True):\n",
    "    pr = drop_explicit_autoui(pr)\n",
    "    strings = get_type(pr)\n",
    "    short_strings = drop_enums(strings)\n",
    "    #short_strings = {k:v for k,v in strings.items() if 'maxLength' in v and v['maxLength']<200}\n",
    "    return call_rename_schema_keys(short_strings, rename_keys=rename_keys)\n",
    "\n",
    "def get_Textarea(pr, rename_keys=True):\n",
    "    pr = drop_explicit_autoui(pr)\n",
    "    strings = get_type(pr)\n",
    "    simple_strings = drop_enums(strings)\n",
    "    long_strings = {k:v for k,v in strings.items() if 'maxLength' in v and v['maxLength']>=200}\n",
    "    return call_rename_schema_keys(long_strings, rename_keys=rename_keys)\n",
    "\n",
    "def get_Dropdown(pr, rename_keys=True):\n",
    "    pr = drop_explicit_autoui(pr)\n",
    "    drops = find_enums(pr)\n",
    "    drops = {k:v for k,v in drops.items() if v['type'] != 'array'}\n",
    "    return call_rename_schema_keys(drops, rename_keys=rename_keys)\n",
    "\n",
    "def get_SelectMultiple(pr, rename_keys=True):\n",
    "    pr = drop_explicit_autoui(pr)\n",
    "    mult = find_enums(pr)\n",
    "    mult = {k:v for k,v in mult.items() if v['type'] == 'array'}\n",
    "    return call_rename_schema_keys(mult, rename_keys=rename_keys)\n",
    "\n",
    "def get_Checkbox(pr, rename_keys=True):\n",
    "    pr = drop_explicit_autoui(pr)\n",
    "    return call_rename_schema_keys(get_type(pr, typ='boolean'), rename_keys=rename_keys)\n",
    "\n",
    "def get_DatePicker(pr, rename_keys=True):\n",
    "    pr = drop_explicit_autoui(pr)\n",
    "    date = get_type(pr, 'string')\n",
    "    date = get_format(date)\n",
    "    for k,v in date.items():\n",
    "        if type(v['default']) == str:\n",
    "            v['default'] = datetime.strptime(v['default'], \"%Y-%m-%d\").date()\n",
    "    return call_rename_schema_keys(date, rename_keys=rename_keys)\n",
    "\n",
    "def get_FileChooser(pr, rename_keys=True):\n",
    "    pr = drop_explicit_autoui(pr)\n",
    "    file = get_type(pr, 'string')\n",
    "    file = get_format(file, typ='path')\n",
    "    return call_rename_schema_keys(file, rename_keys=rename_keys)\n",
    "\n",
    "def get_DataGrid(pr, rename_keys=True):\n",
    "    pr = drop_explicit_autoui(pr)\n",
    "    grid = get_type(pr, 'string')\n",
    "    grid = get_format(grid, typ='DataFrame')\n",
    "    return call_rename_schema_keys(grid, rename_keys=rename_keys)\n",
    "\n",
    "def get_ColorPicker(pr, rename_keys=True):\n",
    "    pr = drop_explicit_autoui(pr)\n",
    "    color = get_type(pr, 'string')\n",
    "    color = get_format(color, typ='color')\n",
    "    return call_rename_schema_keys(color, rename_keys=rename_keys) \n",
    "\n",
    "def get_IntRangeSlider(pr, rename_keys=True):\n",
    "    pr = drop_explicit_autoui(pr)\n",
    "    return call_rename_schema_keys(get_range(pr, typ='integer'), rename_keys=rename_keys)  \n",
    "\n",
    "def get_FloatRangeSlider(pr, rename_keys=True):\n",
    "    pr = drop_explicit_autoui(pr)\n",
    "    return call_rename_schema_keys(get_range(pr, typ='number'), rename_keys=rename_keys)  \n",
    "\n",
    "def get_AutoOveride(pr, rename_keys=True):\n",
    "    pr = find_explicit_autoui(pr)\n",
    "    return call_rename_schema_keys(pr, rename_keys=rename_keys)  \n",
    "#  ----------------------------------------------------------\n",
    "\n",
    "#  -- WIDGET MAPPING ----------------------------------------\n",
    "#  -- uses filter functions to map schema objects to widgets \n",
    "def auto_overide(str_widget_type):\n",
    "    return obj_from_string(str_widget_type)\n",
    "\n",
    "class WidgetMapper(BaseModel):\n",
    "    \"\"\"defines a filter function and associated widget. the \"fn_filt\" is used to search the \n",
    "    json schema to find appropriate objects, the objects are then passed to the \"widget\" for the ui\n",
    "    \"\"\"\n",
    "    fn_filt: typing.Callable\n",
    "    widget: typing.Callable\n",
    "\n",
    "DI_WIDGETS_MAPPER = {\n",
    "    'IntText': WidgetMapper(fn_filt=get_IntText, widget=widgets.IntText),\n",
    "    'IntSlider': WidgetMapper(fn_filt=get_IntSlider, widget=widgets.IntSlider),\n",
    "    'FloatText': WidgetMapper(fn_filt=get_FloatText, widget=widgets.FloatText),\n",
    "    'FloatSlider': WidgetMapper(fn_filt=get_FloatSlider, widget=widgets.FloatSlider),\n",
    "    'Text': WidgetMapper(fn_filt=get_Text, widget=widgets.Text),\n",
    "    'Textarea': WidgetMapper(fn_filt=get_Textarea, widget=widgets.Textarea),\n",
    "    'Dropdown':WidgetMapper(fn_filt=get_Dropdown, widget=widgets.Dropdown),\n",
    "    'SelectMultiple':WidgetMapper(fn_filt=get_SelectMultiple, widget=widgets.SelectMultiple),\n",
    "    'Checkbox': WidgetMapper(fn_filt=get_Checkbox, widget=widgets.Checkbox),\n",
    "    'DatePicker': WidgetMapper(fn_filt=get_DatePicker, widget=widgets.DatePicker),\n",
    "    'AutoUiFileChooser': WidgetMapper(fn_filt=get_FileChooser, widget=AutoUiFileChooser),\n",
    "    'AutoUiDataGrid': WidgetMapper(fn_filt=get_DataGrid, widget=AutoUiDataGrid),\n",
    "    'ColorPicker': WidgetMapper(fn_filt=get_ColorPicker, widget=widgets.ColorPicker),\n",
    "    'IntRangeSlider': WidgetMapper(fn_filt=get_IntRangeSlider, widget=widgets.IntRangeSlider),\n",
    "    'FloatRangeSlider': WidgetMapper(fn_filt=get_FloatRangeSlider, widget=widgets.FloatRangeSlider),\n",
    "    'AutoOveride': WidgetMapper(fn_filt=get_AutoOveride, widget=auto_overide),\n",
    "}\n",
    "\n",
    "def map_to_widget(sch: typing.Dict, di_widgets_mapper: typing.Dict=None) -> typing.Dict:\n",
    "    \"\"\"maps the widgets to the appropriate data using the di_widgets_mapper. \n",
    "    also renames json schema keys to names that ipywidgets can understand.\n",
    "\n",
    "    Args:\n",
    "        sch (typing.Dict): [description]\n",
    "        di_widgets_mapper (typing.Dict, optional): [description]. Defaults to DI_WIDGETS_MAPPER.\n",
    "            if new mappings given they extend DI_WIDGETS_MAPPER. it is expected that renaming \n",
    "            schema keys (call_rename_schema_keys) is done in the filter function\n",
    "\n",
    "    Returns:\n",
    "        typing.Dict: a dict (same order as original) with widget type\n",
    "    \"\"\"\n",
    "    if di_widgets_mapper is None:\n",
    "        di_widgets_mapper = DI_WIDGETS_MAPPER\n",
    "    else:\n",
    "        di_widgets_mapper = {**DI_WIDGETS_MAPPER, **di_widgets_mapper}\n",
    "    sch = update_property_definitions(sch, '$ref')     \n",
    "    pr = sch['properties']\n",
    "    li_pr = pr.keys()\n",
    "    di_ = {}\n",
    "    for k, v in di_widgets_mapper.items():\n",
    "        di = v.fn_filt(pr)\n",
    "        for k_, v_ in di.items():\n",
    "            di_[k_] = v_\n",
    "            if 'autoui' not in v_:\n",
    "                di_[k_]['autoui'] = v.widget\n",
    "            else:\n",
    "                di_[k_]['autoui'] = v.widget(v_['autoui'])          \n",
    "    not_matched = set(di_.keys()) ^ set(li_pr) \n",
    "    if len(not_matched)>0:\n",
    "        print('the following UI items from schema not matched to a widget:')\n",
    "        print(not_matched)\n",
    "    li_ordered = [l for l in li_pr if l not in not_matched]\n",
    "    di_ordered = {l:di_[l] for l in li_ordered}        \n",
    "    return di_ordered\n",
    "\n"
   ]
  },
  {
   "cell_type": "code",
   "execution_count": 3,
   "id": "e467efea-21b7-400f-b4f5-13b8962896a3",
   "metadata": {},
   "outputs": [
    {
     "name": "stdout",
     "output_type": "stream",
     "text": [
      "the following UI items from schema not matched to a widget:\n",
      "{'nested', 'array', 'select_multiple'}\n",
      "string --> <class 'ipywidgets.widgets.widget_string.Text'>\n",
      "int_slider --> <class 'ipywidgets.widgets.widget_int.IntSlider'>\n",
      "int_text --> <class 'ipywidgets.widgets.widget_int.IntText'>\n",
      "int_range_slider --> <class 'ipywidgets.widgets.widget_int.IntRangeSlider'>\n",
      "float_slider --> <class 'ipywidgets.widgets.widget_float.FloatSlider'>\n",
      "float_text --> <class 'ipywidgets.widgets.widget_float.FloatText'>\n",
      "float_range_slider --> <class 'ipywidgets.widgets.widget_float.FloatRangeSlider'>\n",
      "checkbox --> <class 'ipywidgets.widgets.widget_bool.Checkbox'>\n",
      "dropdown --> <class 'ipywidgets.widgets.widget_selection.Dropdown'>\n",
      "dropdown_simple --> <class 'ipywidgets.widgets.widget_selection.Dropdown'>\n",
      "combobox --> <class 'ipywidgets.widgets.widget_string.Combobox'>\n",
      "select_multiple_simple --> <class 'ipywidgets.widgets.widget_selection.SelectMultiple'>\n",
      "text --> <class 'ipywidgets.widgets.widget_string.Text'>\n",
      "text_area --> <class 'ipywidgets.widgets.widget_string.Textarea'>\n",
      "date_picker --> <class 'ipywidgets.widgets.widget_date.DatePicker'>\n",
      "color_picker --> <class 'ipywidgets.widgets.widget_color.ColorPicker'>\n",
      "file_chooser --> <class 'ipyautoui._custom_widgets.AutoUiFileChooser'>\n",
      "datagrid --> <class 'ipyautoui._custom_widgets.AutoUiDataGrid'>\n"
     ]
    }
   ],
   "source": [
    "if __name__ == \"__main__\":\n",
    "    from ipyautoui.test_schema import TestAutoLogic\n",
    "    from ipyautoui.constants import load_test_constants\n",
    "    test_constants = load_test_constants()\n",
    "    test = TestAutoLogic()\n",
    "    sch = test.schema()\n",
    "    mapped = map_to_widget(sch)\n",
    "    [print(f\"{k} --> {v['autoui']}\") for k, v in mapped.items()]"
   ]
  },
  {
   "cell_type": "code",
   "execution_count": 5,
   "id": "9c67acf7-284b-4007-a596-74c32ddd7a0f",
   "metadata": {},
   "outputs": [
    {
     "name": "stdout",
     "output_type": "stream",
     "text": [
      "the following UI items from schema not matched to a widget:\n",
      "{'nested', 'array', 'select_multiple'}\n"
     ]
    },
    {
     "data": {
      "application/vnd.jupyter.widget-view+json": {
       "model_id": "3a9801d4ab984b41b28b6c8416b0aa1b",
       "version_major": 2,
       "version_minor": 0
      },
      "text/plain": [
       "Output()"
      ]
     },
     "metadata": {},
     "output_type": "display_data"
    }
   ],
   "source": [
    "\n",
    "\n",
    "def _init_widgets_and_rows(pr: typing.Dict)-> tuple((widgets.VBox, typing.Dict)):\n",
    "    \"\"\"initiates widget for from dict built from schema\n",
    "\n",
    "    Args:\n",
    "        pr (typing.Dict): schema properties - sanitised for ipywidgets\n",
    "\n",
    "    Returns:\n",
    "        (widgets.VBox, typing.Dict): box with widgets, di of widgets\n",
    "    \"\"\"\n",
    "    di_widgets ={k:v['autoui'](**v) for k,v in pr.items()}\n",
    "    labels = {k:widgets.HTML(f\"<b>{v['title']}</b>, <i>{v['autoui_description']}</i>\") for k,v in pr.items()}\n",
    "    ui_box = widgets.VBox()\n",
    "    rows = []\n",
    "    for (k,v), (k2,v2) in zip(di_widgets.items(), labels.items()):\n",
    "        rows.append(widgets.HBox([v,v2]))              \n",
    "    ui_box.children = rows\n",
    "    return ui_box, di_widgets\n",
    "    \n",
    "def file(self, path: pathlib.Path, **json_kwargs):\n",
    "    \"\"\"\n",
    "    this is a method that is added to the pydantic BaseModel within AutoUi using \n",
    "    \"setattr\". i.e. setattr(self.config_autoui.pydantic_model, 'file', file)\n",
    "    Args:\n",
    "        self (pydantic.BaseModel): instance\n",
    "        path (pathlib.Path): to write file to \n",
    "    \"\"\"\n",
    "    if 'indent' not in json_kwargs.keys():\n",
    "        json_kwargs.update({'indent':4})\n",
    "    path.write_text(self.json(**json_kwargs), encoding='utf-8')\n",
    "\n",
    "class SaveControls(str, Enum):\n",
    "    save_on_edit = 'save_on_edit'\n",
    "    save_buttonbar = 'save_buttonbar'\n",
    "    disable_edits = 'disable_edits'\n",
    "    #archive_versions = 'archive_versions' #  TODO: implement this? \n",
    "\n",
    "class AutoUiConfig(BaseModel):\n",
    "    pydantic_model: typing.Type[BaseModel]\n",
    "    widgets_mapper: typing.Dict[str, WidgetMapper] = DI_WIDGETS_MAPPER\n",
    "    save_controls: SaveControls = SaveControls.save_buttonbar\n",
    "    ext: str ='.aui.json'\n",
    "    \n",
    "def save():\n",
    "    print('save')\n",
    "    \n",
    "def revert():\n",
    "    print('revert')\n",
    "\n",
    "class SaveButtonBar():\n",
    "    def __init__(self, save: typing.Callable=save, revert: typing.Callable=revert):\n",
    "        self.fn_save = save\n",
    "        self.fn_revert = revert\n",
    "        self.out = widgets.Output()\n",
    "        self._init_form()\n",
    "        self._init_controls()\n",
    "        \n",
    "    def _init_form(self):\n",
    "        self.unsaved_changes = widgets.ToggleButton(disabled=True, layout=widgets.Layout(width=BUTTON_WIDTH_MIN))\n",
    "        self.revert = widgets.Button(icon='fa-undo',tooltip='revert to last save',button_style='warning',style={'font_weight':'bold'},layout=widgets.Layout(width=BUTTON_WIDTH_MIN))#,button_style='success'\n",
    "        self.save = widgets.Button(icon='fa-save',tooltip='save changes',button_style='success',layout=widgets.Layout(width=BUTTON_WIDTH_MIN))\n",
    "        self.message = widgets.HTML('a message')\n",
    "        self.save_buttonbar = widgets.HBox([self.unsaved_changes, self.revert, self.save, self.message])\n",
    "        \n",
    "    def _init_controls(self):\n",
    "        self.save.on_click(self._save)\n",
    "        self.revert.on_click(self._revert)\n",
    "        \n",
    "    def _save(self, click):\n",
    "        self.fn_save()\n",
    "        self.message.value = markdown(f'_changes saved: {datetime.now().strftime(\"%H:%M:%S\")}_')\n",
    "        self._unsaved_changes(False)\n",
    "        \n",
    "    def _revert(self, click):\n",
    "        self.fn_revert()\n",
    "        self.message.value = markdown(f'_UI reverted to last save_')\n",
    "        self._unsaved_changes(True)\n",
    "        \n",
    "    def _unsaved_changes(self, istrue: bool):\n",
    "        if istrue:\n",
    "            self.unsaved_changes.button_style='danger'\n",
    "            self.unsaved_changes.icon='circle'\n",
    "        else:\n",
    "            self.unsaved_changes.button_style='success'\n",
    "            self.unsaved_changes.icon='check'\n",
    "        \n",
    "    def display(self):\n",
    "        with self.out:\n",
    "            display(self.save_buttonbar)\n",
    "        display(self.out)\n",
    "        \n",
    "    def _ipython_display_(self):\n",
    "        self.display()\n",
    "        \n",
    "class AutoUi(traitlets.HasTraits):\n",
    "    \"\"\"AutoUi widget. generates UI form from pydantic schema. keeps the \"value\" field\n",
    "    up-to-date on_change \n",
    "\n",
    "    Args:\n",
    "        traitlets.HasTraits ([type]): traitlets.HasTraits makes it possible to observe the value\n",
    "            of this widget.\n",
    "    \"\"\"\n",
    "    value = traitlets.Dict()\n",
    "    _pydantic_model: BaseModel =None\n",
    "\n",
    "    def __init__(self, data: typing.Dict, config_autoui: AutoUiConfig=None, path: pathlib.Path=None):\n",
    "        \"\"\"init AutoUi\n",
    "\n",
    "        Args:\n",
    "            pydantic_obj (typing.Type[BaseModel]): initiated pydantic data object\n",
    "            di_widgets_mapper (typing.Dict, optional): [description]. Defaults to DI_WIDGETS_MAPPER.\n",
    "                if new mappings given they extend DI_WIDGETS_MAPPER. it is expected that renaming \n",
    "                schema keys (call_rename_schema_keys) is done in the filter function within di_widgets_mapper\n",
    "        \"\"\"\n",
    "        self.config_autoui = config_autoui\n",
    "        self.pydantic_obj = self.config_autoui.pydantic_model(**data)\n",
    "        self.path = path\n",
    "        self.save_on_edit = False\n",
    "        self._init_ui()\n",
    "        \n",
    "    @property\n",
    "    def pydantic_obj(self):\n",
    "        return self._pydantic_obj\n",
    "    \n",
    "    @pydantic_obj.setter\n",
    "    def pydantic_obj(self, pydantic_obj):\n",
    "        self._pydantic_obj = pydantic_obj  # self.config_autoui.pydantic_model(**value) # set pydantic object\n",
    "        self.value = self.pydantic_obj.dict()  # json.loads(self.pydantic_obj.json()) # set value \n",
    "        if hasattr( self, 'di_widgets' ):\n",
    "            for k, v in self.value.items():\n",
    "                if k in self.di_widgets.keys():\n",
    "                    self.di_widgets[k].value=v\n",
    "                else:\n",
    "                    print(f'no widget created for {k}. fix this in the schema!')\n",
    "\n",
    "        \n",
    "    def _extend_pydantic_base_model(self):\n",
    "        setattr(self.config_autoui.pydantic_model, 'file', file)\n",
    "\n",
    "    def _init_ui(self):\n",
    "        self._extend_pydantic_base_model()\n",
    "        self.out = widgets.Output()\n",
    "        self._init_schema()\n",
    "        self._init_form()\n",
    "        self._init_save_dialogue()\n",
    "        self._init_controls()\n",
    "        \n",
    "    def _init_save_dialogue(self):\n",
    "        assert self.path is not None, 'self.path == None. must be a valid path to save as json'\n",
    "        map_save_dialogue = immutables.Map(save_on_edit=self.call_save_buttonbar,\n",
    "                                           save_buttonbar=self.call_save_buttonbar,\n",
    "                                           disable_edits=self.disable_edits)\n",
    "        map_save_dialogue[self.config_autoui.save_controls]()\n",
    "        \n",
    "    def call_save_on_edit(self):\n",
    "        self.save_on_edit = True\n",
    "        \n",
    "    def call_save_buttonbar(self):\n",
    "        self.save_buttonbar = SaveButtonBar(save=self.file, revert=self._revert)\n",
    "        self.ui_form.children = [self.save_buttonbar.save_buttonbar, self.title, self.ui_box]\n",
    "           \n",
    "    def disable_edits(self):\n",
    "        for k,v in self.di_widgets.items():\n",
    "            try: \n",
    "                v.disabled = True\n",
    "            except:\n",
    "                pass\n",
    "                \n",
    "    def _revert(self):\n",
    "        assert self.path is not None, f'self.path = {self.path}. must not be None'\n",
    "        self.pydantic_obj = self.config_autoui.pydantic_model.parse_file(self.path) # calls setter\n",
    "        \n",
    "    @classmethod\n",
    "    def create_displayfile(cls, config_autoui: AutoUiConfig):\n",
    "        return functools.partial(cls.parse_file, config_autoui=config_autoui)\n",
    "        \n",
    "    @classmethod\n",
    "    def parse_file(cls, path: pathlib.Path, config_autoui: AutoUiConfig=None):\n",
    "        if config_autoui is not None:\n",
    "            cls.config_autoui = config_autoui\n",
    "        assert cls.config_autoui is not None, ValueError('self.config_autoui must not be None')\n",
    "        return AutoUi(cls.config_autoui.pydantic_model.parse_file(path).dict(), config_autoui=cls.config_autoui, path=path)\n",
    "\n",
    "    def file(self, path: pathlib.Path=None):\n",
    "        assert not self.path is None and path is None, f'self.path = {self.path}, path = {path}. no path given.'\n",
    "        if self.path is not None and path is None:\n",
    "            path = self.path\n",
    "        ext = ''.join(path.suffixes)\n",
    "        assert ext == self.config_autoui.ext, ValueError(f'the file extension should be: {self.config_autoui.ext}, but {ext} given. ')\n",
    "        self.pydantic_obj.file(path)\n",
    "\n",
    "    def _init_schema(self):\n",
    "        sch = self.pydantic_obj.schema().copy()\n",
    "        key = '$ref'\n",
    "        self.sch = update_property_definitions(sch, key)\n",
    "        self.pr = map_to_widget(self.sch, di_widgets_mapper=self.config_autoui.widgets_mapper)\n",
    "    \n",
    "    def _init_form(self):\n",
    "        self.ui_form = widgets.VBox()\n",
    "        self.title = widgets.HTML(f\"<big><b>{self.sch['title']}</b></big> - {self.sch['description']}\")\n",
    "        self.ui_box, self.di_widgets = _init_widgets_and_rows(self.pr)\n",
    "        self.ui_form.children = [self.title, self.ui_box]\n",
    "        \n",
    "    def _init_controls(self):\n",
    "        [v.observe(functools.partial(self._watch_change, key=k), 'value') for k, v in self.di_widgets.items()];\n",
    "        \n",
    "    def _watch_change(self, change, key=None):\n",
    "        setattr(self._pydantic_obj, key, self.di_widgets[key].value) # Note. not resetting the whole value so not using the setter\n",
    "        self.value = self.pydantic_obj.dict() # json.loads(self.pydantic_obj.json()) # TODO: update this to .dict() once pydantic supports json-like serialisation to dicts not just strings\n",
    "        if self.save_on_edit:\n",
    "            self.file()\n",
    "        if hasattr( self, 'save_buttonbar' ):\n",
    "            self.save_buttonbar._unsaved_changes(True)\n",
    "            \n",
    "    def display(self):\n",
    "        with self.out:\n",
    "            display(self.ui_form)\n",
    "        display(self.out)\n",
    "        \n",
    "    def _ipython_display_(self):\n",
    "        self.display()\n",
    "        \n",
    "config_autoui = AutoUiConfig(ext='.aui.json', pydantic_model=TestAutoLogic, save_controls='save_buttonbar')\n",
    "ui = AutoUi(test.dict(), config_autoui=config_autoui, path=test_constants.PATH_TEST_AUI)\n",
    "ui"
   ]
  },
  {
   "cell_type": "code",
   "execution_count": 10,
   "id": "b8a47017-7faf-4798-9d66-fc7c170bdc65",
   "metadata": {},
   "outputs": [
    {
     "data": {
      "text/plain": [
       "{'string': 'adsf',\n",
       " 'int_slider': 2,\n",
       " 'int_text': 1,\n",
       " 'int_range_slider': [0, 2],\n",
       " 'float_slider': 2.2,\n",
       " 'float_text': 2.2,\n",
       " 'float_range_slider': [0.0, 3.0],\n",
       " 'checkbox': True,\n",
       " 'dropdown': None,\n",
       " 'dropdown_simple': 'asd',\n",
       " 'combobox': 'asd',\n",
       " 'select_multiple': ['male', 'female'],\n",
       " 'select_multiple_simple': ['male', 'female'],\n",
       " 'text': 'short text',\n",
       " 'text_area': 'long text long text long text long text long text long text long text long text long text long text long text long text long text long text long text long text long text long text long text long text long text long text long text long text long text long text long text long text long text long text long text long text long text long text long text long text long text long text long text long text long text long text long text long text long text long text long text long text long text long text ',\n",
       " 'date_picker': '2021-11-30',\n",
       " 'color_picker': '#c85151',\n",
       " 'file_chooser': '.',\n",
       " 'array': [],\n",
       " 'datagrid': '{\"test\":{\"0\":0,\"1\":1},\"df\":{\"0\":1,\"1\":2}}',\n",
       " 'nested': None}"
      ]
     },
     "execution_count": 10,
     "metadata": {},
     "output_type": "execute_result"
    }
   ],
   "source": []
  },
  {
   "cell_type": "code",
   "execution_count": 9,
   "id": "7455b836-a466-4acb-8d4c-6e94be020001",
   "metadata": {},
   "outputs": [
    {
     "data": {
      "application/vnd.jupyter.widget-view+json": {
       "model_id": "b0ede4d75ab4424fa36b350c4f1e51cd",
       "version_major": 2,
       "version_minor": 0
      },
      "text/plain": [
       "Text(value='adsf')"
      ]
     },
     "metadata": {},
     "output_type": "display_data"
    },
    {
     "data": {
      "application/vnd.jupyter.widget-view+json": {
       "model_id": "6fa1870e1c064bb2b1823b08b8dc8c6b",
       "version_major": 2,
       "version_minor": 0
      },
      "text/plain": [
       "IntSlider(value=2, max=3)"
      ]
     },
     "metadata": {},
     "output_type": "display_data"
    },
    {
     "data": {
      "application/vnd.jupyter.widget-view+json": {
       "model_id": "03c3f7b3b47341cc9b9ee3a40be9b8f8",
       "version_major": 2,
       "version_minor": 0
      },
      "text/plain": [
       "IntText(value=1)"
      ]
     },
     "metadata": {},
     "output_type": "display_data"
    },
    {
     "data": {
      "application/vnd.jupyter.widget-view+json": {
       "model_id": "fa4f0d9e30d44b7f8e0dca48c54095db",
       "version_major": 2,
       "version_minor": 0
      },
      "text/plain": [
       "IntRangeSlider(value=(0, 3), max=4)"
      ]
     },
     "metadata": {},
     "output_type": "display_data"
    },
    {
     "data": {
      "application/vnd.jupyter.widget-view+json": {
       "model_id": "b62166eb834b4aeba17d1310915d8935",
       "version_major": 2,
       "version_minor": 0
      },
      "text/plain": [
       "FloatSlider(value=2.2, max=3.0)"
      ]
     },
     "metadata": {},
     "output_type": "display_data"
    },
    {
     "data": {
      "application/vnd.jupyter.widget-view+json": {
       "model_id": "d480a445942848fda7166ce62f52b102",
       "version_major": 2,
       "version_minor": 0
      },
      "text/plain": [
       "FloatText(value=2.2)"
      ]
     },
     "metadata": {},
     "output_type": "display_data"
    },
    {
     "data": {
      "application/vnd.jupyter.widget-view+json": {
       "model_id": "36ee34b653f5465881ae9e5b99d44d45",
       "version_major": 2,
       "version_minor": 0
      },
      "text/plain": [
       "FloatRangeSlider(value=(0.0, 2.2), max=3.5)"
      ]
     },
     "metadata": {},
     "output_type": "display_data"
    },
    {
     "data": {
      "application/vnd.jupyter.widget-view+json": {
       "model_id": "08fb66f9f309448ab954d6aa6feb7419",
       "version_major": 2,
       "version_minor": 0
      },
      "text/plain": [
       "Checkbox(value=True)"
      ]
     },
     "metadata": {},
     "output_type": "display_data"
    },
    {
     "data": {
      "application/vnd.jupyter.widget-view+json": {
       "model_id": "279dc585a7a44fb3ae132a84c849795f",
       "version_major": 2,
       "version_minor": 0
      },
      "text/plain": [
       "Dropdown(options=('male', 'female', 'other', 'not_given'), value=None)"
      ]
     },
     "metadata": {},
     "output_type": "display_data"
    },
    {
     "data": {
      "application/vnd.jupyter.widget-view+json": {
       "model_id": "15badc82f48f4c8a8c1eaf40de30b738",
       "version_major": 2,
       "version_minor": 0
      },
      "text/plain": [
       "Dropdown(options=('asd', 'asdf'), value='asd')"
      ]
     },
     "metadata": {},
     "output_type": "display_data"
    },
    {
     "data": {
      "application/vnd.jupyter.widget-view+json": {
       "model_id": "c693d63a3e3c4a34a7c9f8f430710bec",
       "version_major": 2,
       "version_minor": 0
      },
      "text/plain": [
       "Combobox(value='asd', options=('asd', 'asdf'))"
      ]
     },
     "metadata": {},
     "output_type": "display_data"
    },
    {
     "data": {
      "application/vnd.jupyter.widget-view+json": {
       "model_id": "258a371f212840a8aac318e7be04af55",
       "version_major": 2,
       "version_minor": 0
      },
      "text/plain": [
       "SelectMultiple(index=(0, 1), options=('male', 'female', 'other', 'not_given'), value=('male', 'female'))"
      ]
     },
     "metadata": {},
     "output_type": "display_data"
    },
    {
     "data": {
      "application/vnd.jupyter.widget-view+json": {
       "model_id": "38f43bdfe715436da0873d2447cc98ae",
       "version_major": 2,
       "version_minor": 0
      },
      "text/plain": [
       "Text(value='short text')"
      ]
     },
     "metadata": {},
     "output_type": "display_data"
    },
    {
     "data": {
      "application/vnd.jupyter.widget-view+json": {
       "model_id": "56eecc25201b441dbe632bdb4547a099",
       "version_major": 2,
       "version_minor": 0
      },
      "text/plain": [
       "Textarea(value='long text long text long text long text long text long text long text long text long text long…"
      ]
     },
     "metadata": {},
     "output_type": "display_data"
    },
    {
     "data": {
      "application/vnd.jupyter.widget-view+json": {
       "model_id": "8333efb5124b4f6aa240f287c0f746c4",
       "version_major": 2,
       "version_minor": 0
      },
      "text/plain": [
       "DatePicker(value=datetime.date(2021, 11, 30))"
      ]
     },
     "metadata": {},
     "output_type": "display_data"
    },
    {
     "data": {
      "application/vnd.jupyter.widget-view+json": {
       "model_id": "f0afe6c3125a4f7ab4dff3b36a141bf5",
       "version_major": 2,
       "version_minor": 0
      },
      "text/plain": [
       "ColorPicker(value='red')"
      ]
     },
     "metadata": {},
     "output_type": "display_data"
    },
    {
     "data": {
      "application/vnd.jupyter.widget-view+json": {
       "model_id": "dcb000bce99b482aaf92191f4519b096",
       "version_major": 2,
       "version_minor": 0
      },
      "text/plain": [
       "AutoUiFileChooser(path='/mnt/c/engDev/git_mf/ipyautoui/src/ipyautoui', filename='', title='', show_hidden=Fals…"
      ]
     },
     "metadata": {},
     "output_type": "display_data"
    },
    {
     "data": {
      "application/vnd.jupyter.widget-view+json": {
       "model_id": "9f8b1e7bfa0940998e8320aa6a85b703",
       "version_major": 2,
       "version_minor": 0
      },
      "text/plain": [
       "AutoUiDataGrid(auto_fit_params={'area': 'all', 'padding': 30, 'numCols': None}, corner_renderer=None, default_…"
      ]
     },
     "metadata": {},
     "output_type": "display_data"
    },
    {
     "data": {
      "text/plain": [
       "[None,\n",
       " None,\n",
       " None,\n",
       " None,\n",
       " None,\n",
       " None,\n",
       " None,\n",
       " None,\n",
       " None,\n",
       " None,\n",
       " None,\n",
       " None,\n",
       " None,\n",
       " None,\n",
       " None,\n",
       " None,\n",
       " None,\n",
       " None]"
      ]
     },
     "execution_count": 9,
     "metadata": {},
     "output_type": "execute_result"
    }
   ],
   "source": [
    "[display(v) for k,v in ui.di_widgets.items()]"
   ]
  },
  {
   "cell_type": "code",
   "execution_count": 8,
   "id": "ef0ccb72-50b0-4168-a479-6110bb490079",
   "metadata": {},
   "outputs": [
    {
     "data": {
      "text/plain": [
       "{'string': 'adsf',\n",
       " 'int_slider': 2,\n",
       " 'int_text': 1,\n",
       " 'int_range_slider': (0, 3),\n",
       " 'float_slider': 2.2,\n",
       " 'float_text': 2.2,\n",
       " 'float_range_slider': (0.0, 2.2),\n",
       " 'checkbox': True,\n",
       " 'dropdown': None,\n",
       " 'dropdown_simple': 'asd',\n",
       " 'combobox': 'asd',\n",
       " 'select_multiple': [<Gender.male: 'male'>, <Gender.female: 'female'>],\n",
       " 'select_multiple_simple': ['male', 'female'],\n",
       " 'text': 'short text',\n",
       " 'text_area': 'long text long text long text long text long text long text long text long text long text long text long text long text long text long text long text long text long text long text long text long text long text long text long text long text long text long text long text long text long text long text long text long text long text long text long text long text long text long text long text long text long text long text long text long text long text long text long text long text long text long text ',\n",
       " 'date_picker': datetime.date(2021, 11, 30),\n",
       " 'color_picker': Color('red', rgb=(255, 0, 0)),\n",
       " 'file_chooser': PosixPath('.'),\n",
       " 'array': [],\n",
       " 'datagrid': '{\"test\":{\"0\":0,\"1\":1},\"df\":{\"0\":1,\"1\":2}}',\n",
       " 'nested': None}"
      ]
     },
     "execution_count": 8,
     "metadata": {},
     "output_type": "execute_result"
    }
   ],
   "source": [
    "ui.pydantic_obj.dict()"
   ]
  },
  {
   "cell_type": "code",
   "execution_count": 122,
   "id": "46f8eb94-3804-4643-89c3-60e1ae73394e",
   "metadata": {},
   "outputs": [
    {
     "data": {
      "text/plain": [
       "{'string': 'adsfasdf',\n",
       " 'int_slider': 2,\n",
       " 'int_text': 1,\n",
       " 'int_range_slider': (0, 3),\n",
       " 'float_slider': 2.2,\n",
       " 'float_text': 2.2,\n",
       " 'float_range_slider': (0.0, 2.2),\n",
       " 'checkbox': True,\n",
       " 'dropdown': None,\n",
       " 'dropdown_simple': 'asd',\n",
       " 'combobox': 'asd',\n",
       " 'select_multiple': [<Gender.male: 'male'>, <Gender.female: 'female'>],\n",
       " 'select_multiple_simple': ['male', 'female'],\n",
       " 'text': 'short text',\n",
       " 'text_area': 'long text long text long text long text long text long text long text long text long text long text long text long text long text long text long text long text long text long text long text long text long text long text long text long text long text long text long text long text long text long text long text long text long text long text long text long text long text long text long text long text long text long text long text long text long text long text long text long text long text long text ',\n",
       " 'date_picker': datetime.date(2021, 11, 29),\n",
       " 'color_picker': Color('red', rgb=(255, 0, 0)),\n",
       " 'file_chooser': PosixPath('.'),\n",
       " 'array': [],\n",
       " 'datagrid': '{\"test\":{\"0\":0,\"1\":1},\"df\":{\"0\":1,\"1\":2}}',\n",
       " 'nested': None}"
      ]
     },
     "execution_count": 122,
     "metadata": {},
     "output_type": "execute_result"
    }
   ],
   "source": [
    "TestAutoLogic.parse_file(test_constants.PATH_TEST_AUI).dict()"
   ]
  },
  {
   "cell_type": "code",
   "execution_count": 51,
   "id": "6aa4aed8-9d1f-41b8-86f2-d924fbbcb6e8",
   "metadata": {},
   "outputs": [
    {
     "name": "stdout",
     "output_type": "stream",
     "text": [
      "the following UI items from schema not matched to a widget:\n",
      "{'array', 'select_multiple', 'nested'}\n"
     ]
    },
    {
     "data": {
      "text/markdown": [
       "# test display UI"
      ],
      "text/plain": [
       "<IPython.core.display.Markdown object>"
      ]
     },
     "metadata": {},
     "output_type": "display_data"
    },
    {
     "data": {
      "application/vnd.jupyter.widget-view+json": {
       "model_id": "45f2e2d12c5d4077a30c04dde2cc550e",
       "version_major": 2,
       "version_minor": 0
      },
      "text/plain": [
       "Output()"
      ]
     },
     "metadata": {},
     "output_type": "display_data"
    },
    {
     "data": {
      "text/markdown": [
       "# test write to file"
      ],
      "text/plain": [
       "<IPython.core.display.Markdown object>"
      ]
     },
     "metadata": {},
     "output_type": "display_data"
    },
    {
     "name": "stdout",
     "output_type": "stream",
     "text": [
      "test_constants.PATH_TEST_AUI.is_file() == True == /mnt/c/engDev/git_mf/ipyautoui/tests/testdata/test.aui.json\n"
     ]
    },
    {
     "data": {
      "text/markdown": [
       "# test create displayfile widget"
      ],
      "text/plain": [
       "<IPython.core.display.Markdown object>"
      ]
     },
     "metadata": {},
     "output_type": "display_data"
    },
    {
     "name": "stdout",
     "output_type": "stream",
     "text": [
      "the following UI items from schema not matched to a widget:\n",
      "{'array', 'select_multiple', 'nested'}\n"
     ]
    }
   ],
   "source": [
    "if __name__ == \"__main__\":\n",
    "    from ipyautoui.constants import load_test_constants\n",
    "    from ipyautoui.test_schema import TestAutoLogic\n",
    "    from IPython.display import Markdown\n",
    "    \n",
    "    test_constants = load_test_constants()\n",
    "    test = TestAutoLogic()\n",
    "    config_autoui = AutoUiConfig(ext='.aui.json', pydantic_model=TestAutoLogic)\n",
    "    ui = AutoUi(test.dict(), config_autoui=config_autoui)\n",
    "    display(Markdown('# test display UI'))\n",
    "    display(ui)\n",
    "    display(Markdown('# test write to file'))\n",
    "    ui.file(test_constants.PATH_TEST_AUI)\n",
    "    print(f\"test_constants.PATH_TEST_AUI.is_file() == {test_constants.PATH_TEST_AUI.is_file()} == {str(test_constants.PATH_TEST_AUI)}\")\n",
    "    display(Markdown('# test create displayfile widget'))\n",
    "    TestAuiDisplayFile = AutoUi.create_displayfile(config_autoui=config_autoui)\n",
    "    TestAuiDisplayFile(test_constants.PATH_TEST_AUI)"
   ]
  },
  {
   "cell_type": "code",
   "execution_count": null,
   "id": "f532ee52-5d90-42ae-928d-09d4beb4ce1e",
   "metadata": {},
   "outputs": [],
   "source": []
  },
  {
   "cell_type": "code",
   "execution_count": 96,
   "id": "56a3763b-dd91-4097-b6b2-346f8fc6943f",
   "metadata": {},
   "outputs": [],
   "source": [
    "\n",
    "\n"
   ]
  },
  {
   "cell_type": "code",
   "execution_count": 89,
   "id": "9613e530-05e6-4a81-9453-aa0562c048bc",
   "metadata": {},
   "outputs": [],
   "source": [
    "from enum import Enum\n",
    "from ipyautoui.constants import BUTTON_WIDTH_MIN\n",
    "from markdown import markdown\n",
    "from datetime import datetime\n",
    "\n",
    "class SaveControls(str, Enum):\n",
    "    save_on_edit = 'save_on_edit'\n",
    "    save_buttonbar = 'save_buttonbar'\n",
    "    disable_edits = 'disable_edits'\n",
    "    #archive_versions = 'archive_versions' #  TODO: implement this? \n",
    "\n",
    "class AutoUiConfig(BaseModel):\n",
    "    pydantic_model: typing.Type[BaseModel]\n",
    "    widgets_mapper: typing.Dict[str, WidgetMapper] = DI_WIDGETS_MAPPER\n",
    "    save_controls: SaveControls = SaveControls.save_buttonbar\n",
    "    ext: str ='.aui.json'\n",
    "    \n",
    "def save():\n",
    "    print('save')\n",
    "    \n",
    "def revert():\n",
    "    print('revert')\n",
    "\n",
    "class SaveButtonBar():\n",
    "    def __init__(self, save: typing.Callable=save, revert: typing.Callable=revert):\n",
    "        self.fn_save = save\n",
    "        self.fn_revert = revert\n",
    "        self.out = widgets.Output()\n",
    "        self._init_form()\n",
    "        self._init_controls()\n",
    "        \n",
    "    def _init_form(self):\n",
    "        self.unsaved_changes = widgets.ToggleButton(disabled=True, layout=widgets.Layout(width=BUTTON_WIDTH_MIN))\n",
    "        self.revert = widgets.Button(icon='fa-undo',tooltip='revert to last save',button_style='warning',style={'font_weight':'bold'},layout=widgets.Layout(width=BUTTON_WIDTH_MIN))#,button_style='success'\n",
    "        self.save = widgets.Button(icon='fa-save',tooltip='save changes',button_style='success',layout=widgets.Layout(width=BUTTON_WIDTH_MIN))\n",
    "        self.message = widgets.HTML('a message')\n",
    "        self.save_buttonbar = widgets.HBox([self.unsaved_changes, self.revert, self.save, self.message])\n",
    "        \n",
    "    def _init_controls(self):\n",
    "        self.save.on_click(self._save)\n",
    "        self.revert.on_click(self._revert)\n",
    "        \n",
    "    def _save(self, click):\n",
    "        self.fn_save()\n",
    "        self.message.value = markdown(f'_changes saved: {datetime.now().strftime(\"%H:%M:%S\")}_')\n",
    "        self._unsaved_changes(False)\n",
    "        \n",
    "    def _revert(self, click):\n",
    "        self.fn_revert()\n",
    "        self.message.value = markdown(f'_UI reverted to last save_')\n",
    "        self._unsaved_changes(True)\n",
    "        \n",
    "    def _unsaved_changes(self, istrue: bool):\n",
    "        if istrue:\n",
    "            self.unsaved_changes.button_style='danger'\n",
    "            self.unsaved_changes.icon='circle'\n",
    "        else:\n",
    "            self.unsaved_changes.button_style='success'\n",
    "            self.unsaved_changes.icon='check'\n",
    "        \n",
    "    def display(self):\n",
    "        with self.out:\n",
    "            display(self.save_buttonbar)\n",
    "        display(self.out)\n",
    "        \n",
    "    def _ipython_display_(self):\n",
    "        self.display()\n",
    "        \n",
    "save_dialogue = SaveButtonBar()\n",
    "save_dialogue"
   ]
  },
  {
   "cell_type": "code",
   "execution_count": 76,
   "id": "859c9e06-c4f3-4aea-9644-1f4738389535",
   "metadata": {},
   "outputs": [
    {
     "data": {
      "text/plain": [
       "'15:06:32'"
      ]
     },
     "execution_count": 76,
     "metadata": {},
     "output_type": "execute_result"
    }
   ],
   "source": [
    "\n",
    "\n",
    "now = datetime.now().strftime(\"%H:%M:%S\")\n",
    "now"
   ]
  },
  {
   "cell_type": "code",
   "execution_count": 75,
   "id": "c474a492-d341-45ee-b941-b4d3a92013d5",
   "metadata": {},
   "outputs": [
    {
     "ename": "NameError",
     "evalue": "name 'self' is not defined",
     "output_type": "error",
     "traceback": [
      "\u001b[0;31m---------------------------------------------------------------------------\u001b[0m",
      "\u001b[0;31mNameError\u001b[0m                                 Traceback (most recent call last)",
      "\u001b[0;32m/tmp/ipykernel_18309/3531322983.py\u001b[0m in \u001b[0;36m<module>\u001b[0;34m\u001b[0m\n\u001b[0;32m----> 1\u001b[0;31m \u001b[0mself\u001b[0m\u001b[0;34m.\u001b[0m\u001b[0mshow_me_the_code\u001b[0m\u001b[0;34m.\u001b[0m\u001b[0mbutton_style\u001b[0m\u001b[0;34m=\u001b[0m\u001b[0;34m'info'\u001b[0m\u001b[0;34m\u001b[0m\u001b[0;34m\u001b[0m\u001b[0m\n\u001b[0m",
      "\u001b[0;31mNameError\u001b[0m: name 'self' is not defined"
     ]
    }
   ],
   "source": [
    "self.show_me_the_code.button_style='info'"
   ]
  },
  {
   "cell_type": "code",
   "execution_count": null,
   "id": "fe302723-8021-4417-8f0b-308806cbb70c",
   "metadata": {},
   "outputs": [],
   "source": [
    "@dataclass\n",
    "class SimpleInputs:\n",
    "    \"\"\"NOT IN USE. defines simple input locations for SimpleEditJson\"\"\"\n",
    "    fdir_inputs: str = 'fdir_inputs'\n",
    "    fdir_template_inputs: str = 'fdir_template_inputs'\n",
    "    fpth_inputs: str = 'fpth_inputs'\n",
    "    fpth_inputs_options: InputOptions = InputOptions(\n",
    "        project=InputDirs(fdir=fdir_inputs),\n",
    "        template=InputDirs(fdir=fdir_template_inputs))\n",
    "\n",
    "class FileController(Errors):\n",
    "\n",
    "    def __init__(self, inputs: SimpleInputs):\n",
    "        self.out = widgets.Output()\n",
    "        self.inputs = inputs\n",
    "        self._inherit_Inputs()\n",
    "        self._init_FileController()\n",
    "\n",
    "    def _init_FileController(self):\n",
    "        self._errors()\n",
    "        self.file_control_form()\n",
    "        self._init_control()\n",
    "\n",
    "    def _inherit_Inputs(self):\n",
    "        self.__dict__.update(**asdict(self.inputs))\n",
    "\n",
    "    def _init_control(self):\n",
    "        self.save_changes.on_click(self._save_changes)\n",
    "        self.load_inputs.observe(self._load_inputs,'value')\n",
    "        self.load_button.on_click(self._load)\n",
    "        self.revert.on_click(self._revert)\n",
    "\n",
    "    @property\n",
    "    def mf_layout(self):\n",
    "        return widgets.Layout(\n",
    "            display='flex',\n",
    "            flex_flow='row',\n",
    "            justify_content='flex-start',\n",
    "            #border='dashed 0.2px green',\n",
    "            grid_auto_columns='False',\n",
    "            width='100%',\n",
    "            #align_items='stretch',\n",
    "        )\n",
    "\n",
    "    def file_control_form(self):\n",
    "\n",
    "        # button bar\n",
    "        self.load_inputs = widgets.ToggleButton(icon='folder-open',tooltip='open inputs from file',button_style='info',layout=widgets.Layout(width='50px'))# (FontAwesome names without the `fa-` prefix)\n",
    "        self.revert = widgets.Button(icon='fa-undo',tooltip='revert to last save',button_style='warning',style={'font_weight':'bold'},layout=widgets.Layout(width='50px'))#,button_style='success'\n",
    "        self.save_changes = widgets.Button(icon='fa-save',tooltip='save changes',button_style='success',layout=widgets.Layout(width='50px'))\n",
    "        self.button_bar = widgets.HBox([ self.load_inputs, self.revert, self.save_changes])\n",
    "\n",
    "        # nested buttons\n",
    "        template_inputs = self.get_template_inputs()\n",
    "        project_inputs = self.get_project_inputs()\n",
    "        options = dict(template_inputs, **project_inputs)\n",
    "        self.load_button = widgets.Button(description = 'load',icon='fa-upload',style={'font_weight':'bold'})\n",
    "        self.choose_inputs = widgets.RadioButtons(\n",
    "            options = options,\n",
    "            layout = self.mf_layout,\n",
    "        )\n",
    "        self.load = widgets.VBox([self.load_button,self.choose_inputs])\n",
    "        self.temp_message = widgets.HTML(markdown('edit user input form below'))\n",
    "        self.inputform = widgets.VBox([], layout = self.mf_layout)\n",
    "\n",
    "    def _revert(self, sender):\n",
    "        \"\"\"revert to last save of working inputs file\"\"\"\n",
    "        fpth = self.fpth_inputs\n",
    "        self.temp_message.value = markdown('revert to inputs in last save of: {0}'.format(fpth))\n",
    "\n",
    "        # add code here to revert to last save\n",
    "\n",
    "        self.update_display()\n",
    "        self.display()\n",
    "\n",
    "    def _save_changes(self, sender):\n",
    "        \"\"\"save changes to working inputs file\"\"\"\n",
    "        fpth = self.fpth_inputs\n",
    "        dateTimeObj = datetime.now()\n",
    "        self.save_timestampStr = dateTimeObj.strftime(\"%d-%b-%Y %H:%M:%S\")\n",
    "        self.temp_message.value = markdown('{0} saved at: {1}'.format(fpth, self.save_timestampStr))\n",
    "\n",
    "        # add code here to save changes to file\n",
    "\n",
    "        self.update_display()\n",
    "        self.display()\n",
    "\n",
    "    def _load_inputs(self,sender):\n",
    "        \"\"\"launches the inputs from file dialog\"\"\"\n",
    "        self.temp_message.value = markdown('update the user input form with data from file')\n",
    "        if self.load_inputs.value:\n",
    "            self.inputform.children = [self.load_button, self.choose_inputs]\n",
    "        else:\n",
    "            self.temp_message.value = markdown('')\n",
    "            self.inputform.children = []\n",
    "        self.update_display()\n",
    "        self.display()\n",
    "\n",
    "    def _load(self,sender):\n",
    "        self.update_display()\n",
    "        self.display()\n",
    "        fpth = self.choose_inputs.value\n",
    "\n",
    "        # add code here to load form from file\n",
    "\n",
    "        self.temp_message.value = markdown('input form load data from: {0}'.format(fpth))\n",
    "        try:\n",
    "            self.iserror = False\n",
    "            message = 'load input form from: {0}'.format(fpth)\n",
    "        except:\n",
    "            self.iserror = True\n",
    "            self.errormessage = '''__error__ loading : {0}.\n",
    "            the file has either been deleted or modified such that it is unreadable'''.format(fpth)\n",
    "        with self.out:\n",
    "            clear_output()\n",
    "            if self.load_inputs.value:\n",
    "                display(Markdown(message))\n",
    "            if self.iserror:\n",
    "                display(Markdown(self.errormessage))\n",
    "\n",
    "    def get_project_inputs(self):\n",
    "        fpths = self.fpth_inputs_options['project']['fpths']\n",
    "        di = {}\n",
    "        for fpth in fpths:\n",
    "            description = 'PROJECT: '+ fpth\n",
    "            di[description] = fpth\n",
    "        return di\n",
    "\n",
    "    def get_template_inputs(self):\n",
    "        fpths = self.fpth_inputs_options['template']['fpths']\n",
    "        di = {}\n",
    "        for fpth in fpths:\n",
    "            description = 'TEMPLATE: '+ fpth\n",
    "            di[description] = fpth\n",
    "        return di\n",
    "\n",
    "    def update_display(self):\n",
    "        box = widgets.VBox([\n",
    "            self.button_bar,\n",
    "            self.temp_message,\n",
    "            self.inputform,\n",
    "        ])\n",
    "        self.layout = box\n",
    "\n",
    "    def display(self):\n",
    "        display(self.layout)\n",
    "        display(self.out)\n",
    "\n",
    "    def _ipython_display_(self):\n",
    "        self.update_display()\n",
    "        self.display()"
   ]
  }
 ],
 "metadata": {
  "jupytext": {
   "formats": "ipynb,py:light"
  },
  "kernelspec": {
   "display_name": "Python 3 (ipykernel)",
   "language": "python",
   "name": "python3"
  },
  "language_info": {
   "codemirror_mode": {
    "name": "ipython",
    "version": 3
   },
   "file_extension": ".py",
   "mimetype": "text/x-python",
   "name": "python",
   "nbconvert_exporter": "python",
   "pygments_lexer": "ipython3",
   "version": "3.9.7"
  }
 },
 "nbformat": 4,
 "nbformat_minor": 5
}
