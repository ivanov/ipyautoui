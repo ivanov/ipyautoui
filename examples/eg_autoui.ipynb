{
 "cells": [
  {
   "cell_type": "code",
   "execution_count": 1,
   "id": "66afde54-9c0f-48ff-9c01-f05763f46cdb",
   "metadata": {},
   "outputs": [],
   "source": [
    "# @Olly - create a pydantic model - then create an AutoUi"
   ]
  },
  {
   "cell_type": "code",
   "execution_count": null,
   "id": "9b13ebf2-e207-4751-9dd3-a6688d985aa4",
   "metadata": {},
   "outputs": [],
   "source": []
  }
 ],
 "metadata": {
  "kernelspec": {
   "display_name": "Python [conda env:ipyautoui]",
   "language": "python",
   "name": "conda-env-ipyautoui-py"
  },
  "language_info": {
   "codemirror_mode": {
    "name": "ipython",
    "version": 3
   },
   "file_extension": ".py",
   "mimetype": "text/x-python",
   "name": "python",
   "nbconvert_exporter": "python",
   "pygments_lexer": "ipython3",
   "version": "3.9.7"
  }
 },
 "nbformat": 4,
 "nbformat_minor": 5
}
