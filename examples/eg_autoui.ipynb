{
 "cells": [
  {
   "cell_type": "code",
   "execution_count": 1,
   "id": "3ddbfbd9-a3e0-455e-90e2-6e44e44e71a5",
   "metadata": {},
   "outputs": [],
   "source": [
    "%run ../src/ipyautoui/__init__.py\n",
    "%load_ext lab_black"
   ]
  },
  {
   "cell_type": "markdown",
   "id": "3bb2c7b3-4357-4b1c-9f15-4ad9f000b204",
   "metadata": {
    "tags": []
   },
   "source": [
    "# Auto UI"
   ]
  },
  {
   "cell_type": "markdown",
   "id": "fdc561f4-63ef-4de8-8054-7773a2aaa83f",
   "metadata": {},
   "source": [
    "With ipyautoui we can create ipywidgets from pydantic schema. This makes it quick and easy to whip up a user interface when required."
   ]
  },
  {
   "cell_type": "code",
   "execution_count": 2,
   "id": "0f30eaf3-c12e-4db8-95be-dbee6c31f2c7",
   "metadata": {},
   "outputs": [
    {
     "data": {
      "text/plain": [
       "\u001b[0;31mType:\u001b[0m        module\n",
       "\u001b[0;31mString form:\u001b[0m <module 'ipyautoui' from '/mnt/c/engDev/git_mf/ipyautoui/src/ipyautoui/__init__.py'>\n",
       "\u001b[0;31mFile:\u001b[0m        /mnt/c/engDev/git_mf/ipyautoui/src/ipyautoui/__init__.py\n",
       "\u001b[0;31mDocstring:\u001b[0m  \n",
       "ipyautoui is used to quickly and efficiently create ipywidgets from pydantic schema.\n",
       "\n",
       "The module has the capability to take a pydantic schema and create a ipywidget from that schema.\n",
       "The main features being that you can produce a widget from many field types and also save the\n",
       "data as a JSON easily.\n",
       "\n",
       "Example:\n",
       "    from ipyautoui.constants import DISPLAY_AUTOUI_SCHEMA_EXAMPLE\n",
       "    DISPLAY_AUTOUI_SCHEMA_EXAMPLE()\n"
      ]
     },
     "metadata": {},
     "output_type": "display_data"
    }
   ],
   "source": [
    "import ipyautoui\n",
    "\n",
    "?ipyautoui"
   ]
  },
  {
   "cell_type": "code",
   "execution_count": 3,
   "id": "1baf485d-a6bb-434a-9eac-fce0354a5073",
   "metadata": {},
   "outputs": [
    {
     "data": {
      "text/plain": [
       "\u001b[0;31mType:\u001b[0m        module\n",
       "\u001b[0;31mString form:\u001b[0m <module 'ipyautoui.autoui' from '/mnt/c/engDev/git_mf/ipyautoui/src/ipyautoui/autoui.py'>\n",
       "\u001b[0;31mFile:\u001b[0m        /mnt/c/engDev/git_mf/ipyautoui/src/ipyautoui/autoui.py\n",
       "\u001b[0;31mDocstring:\u001b[0m  \n",
       "autoui is used to automatically create ipywidgets from pydantic schema.\n",
       "\n",
       "This module maps the pydantic fields to appropriate wigets to display the data in a UI.\n",
       "This information can also be stored to file.\n",
       "\n",
       "Example:\n",
       "    from ipyautoui.constants import DISPLAY_AUTOUI_SCHEMA_EXAMPLE\n",
       "    DISPLAY_AUTOUI_SCHEMA_EXAMPLE()\n"
      ]
     },
     "metadata": {},
     "output_type": "display_data"
    }
   ],
   "source": [
    "?ipyautoui.autoui"
   ]
  },
  {
   "cell_type": "code",
   "execution_count": 4,
   "id": "e2e84b25-05ec-42ec-8e22-138befe9ab1a",
   "metadata": {},
   "outputs": [],
   "source": [
    "import json\n",
    "from pydantic import BaseModel, Field\n",
    "\n",
    "from ipyautoui.constants import DIR_MODULE\n",
    "from ipyautoui._utils import obj_from_string, display_pydantic_json"
   ]
  },
  {
   "cell_type": "markdown",
   "id": "3a6b9296-b17a-46f5-b6c6-3a176708e4dd",
   "metadata": {},
   "source": [
    "### Creating Simple Widget"
   ]
  },
  {
   "cell_type": "markdown",
   "id": "5b99d2bf-1aef-48a4-85dd-be165b62594c",
   "metadata": {},
   "source": [
    "So let's create a simple pydantic class. Here we have one text field."
   ]
  },
  {
   "cell_type": "code",
   "execution_count": 5,
   "id": "f229c7d7-0ae7-4e65-9bc2-c7f16aad68f4",
   "metadata": {},
   "outputs": [],
   "source": [
    "class AutoUiExample(BaseModel):\n",
    "    text: str = Field(default=\"Test\", description=\"This test is important\")"
   ]
  },
  {
   "cell_type": "markdown",
   "id": "fba05179-3889-49ce-ba57-5d4906a62b95",
   "metadata": {},
   "source": [
    "We create a class instance and use that within the AutoUi class to create the widget."
   ]
  },
  {
   "cell_type": "code",
   "execution_count": 6,
   "id": "50ea1682-d90d-43c1-a904-2b66ccac6a0a",
   "metadata": {},
   "outputs": [
    {
     "name": "stdout",
     "output_type": "stream",
     "text": [
      "self.path == None. must be a valid path to save as json\n"
     ]
    },
    {
     "data": {
      "application/vnd.jupyter.widget-view+json": {
       "model_id": "8c679ecf637e448185dd78fcc36ba8cb",
       "version_major": 2,
       "version_minor": 0
      },
      "text/plain": [
       "AutoUi(children=(VBox(children=(HBox(), VBox(children=(HBox(children=(ToggleButton(value=False, icon='code', l…"
      ]
     },
     "metadata": {},
     "output_type": "display_data"
    }
   ],
   "source": [
    "auto_ui_eg = AutoUiExample()\n",
    "ui = AutoUi(auto_ui_eg)\n",
    "display(ui)"
   ]
  },
  {
   "cell_type": "markdown",
   "id": "eb3eeb98-d1bb-43c1-8f6c-fedf758c1073",
   "metadata": {},
   "source": [
    "Voila! Here is our widget where we can enter anything we wish.\n",
    "\n",
    "We may want to save the data within the widget as a JSON so let's look how to do that."
   ]
  },
  {
   "cell_type": "markdown",
   "id": "6eaefd08-2ad5-48e1-8cc5-28caeafec0dc",
   "metadata": {},
   "source": [
    "### Writing to JSON"
   ]
  },
  {
   "cell_type": "markdown",
   "id": "0f71add0-93f8-4839-98f4-32a31ff41c05",
   "metadata": {},
   "source": [
    "Let's define the save location."
   ]
  },
  {
   "cell_type": "code",
   "execution_count": 7,
   "id": "864cad67-9b69-4257-91fa-783adf949f4a",
   "metadata": {},
   "outputs": [],
   "source": [
    "DIR_PACKAGE = DIR_MODULE.parents[1]\n",
    "save_path = DIR_PACKAGE / \"examples\" / \"simple_test.aui.json\""
   ]
  },
  {
   "cell_type": "code",
   "execution_count": 8,
   "id": "fdf0c898-4eb7-4507-9e1b-849b45adca55",
   "metadata": {},
   "outputs": [
    {
     "name": "stdout",
     "output_type": "stream",
     "text": [
      "Save Location is /mnt/c/engDev/git_mf/ipyautoui/examples/simple_test.aui.json\n"
     ]
    }
   ],
   "source": [
    "print(f\"Save Location is {save_path}\")"
   ]
  },
  {
   "cell_type": "code",
   "execution_count": 9,
   "id": "8e10aa70-4a8c-4d98-8f5c-3644bf1fe21b",
   "metadata": {},
   "outputs": [
    {
     "data": {
      "application/vnd.jupyter.widget-view+json": {
       "model_id": "e1d873c45a894cd4bcaa8292cce92d8e",
       "version_major": 2,
       "version_minor": 0
      },
      "text/plain": [
       "AutoUi(children=(VBox(children=(HBox(children=(HBox(children=(ToggleButton(value=False, disabled=True, layout=…"
      ]
     },
     "metadata": {},
     "output_type": "display_data"
    }
   ],
   "source": [
    "ui.file(path=save_path)\n",
    "config_autoui = AutoUiConfig(pydantic_model=AutoUiExample)\n",
    "TestAutoUiDisplayFile = AutoUi.create_displayfile(\n",
    "    config_autoui=config_autoui, fn_onsave=lambda: print(\"done\")\n",
    ")\n",
    "ui_file = TestAutoUiDisplayFile(path=save_path)\n",
    "display(ui_file)"
   ]
  },
  {
   "cell_type": "markdown",
   "id": "f3106b70-7379-4167-8e65-2cadd658e2fe",
   "metadata": {},
   "source": [
    "### Complete Example Model"
   ]
  },
  {
   "cell_type": "markdown",
   "id": "cd70b04f-1fe0-42b2-a827-6f3ff6c7c484",
   "metadata": {},
   "source": [
    "Let's look at a complete pydantic model producing all of the possible widgets"
   ]
  },
  {
   "cell_type": "code",
   "execution_count": 10,
   "id": "5257d0d0-a474-4fec-965c-9b6a097e5ac5",
   "metadata": {},
   "outputs": [
    {
     "data": {
      "application/vnd.jupyter.widget-view+json": {
       "model_id": "9bc74a2fefc44bcc98c22e1f46d8b94f",
       "version_major": 2,
       "version_minor": 0
      },
      "text/plain": [
       "VBox(children=(HBox(children=(ToggleButton(value=False, layout=Layout(width='41px')), HTML(value=''))),))"
      ]
     },
     "metadata": {},
     "output_type": "display_data"
    },
    {
     "data": {
      "application/vnd.jupyter.widget-view+json": {
       "model_id": "c7e8e268a6a940e0b98e7258eb408445",
       "version_major": 2,
       "version_minor": 0
      },
      "text/plain": [
       "Output()"
      ]
     },
     "metadata": {},
     "output_type": "display_data"
    }
   ],
   "source": [
    "from ipyautoui.constants import DISPLAY_AUTOUI_EXAMPLE\n",
    "\n",
    "DISPLAY_AUTOUI_EXAMPLE()"
   ]
  },
  {
   "cell_type": "markdown",
   "id": "817c3af8-c876-41d7-ae91-e0cf6d34787a",
   "metadata": {},
   "source": [
    "Above we see a class named TestAutoLogic which contains each and every possible field which can be mapped to a widget."
   ]
  },
  {
   "cell_type": "code",
   "execution_count": 15,
   "id": "0df57cbd-fd02-49da-a3e2-3ac460500a56",
   "metadata": {},
   "outputs": [],
   "source": [
    "from ipyautoui.test_schema import TestAutoLogic\n",
    "from ipyautoui.constants import DIR_EXAMPLE"
   ]
  },
  {
   "cell_type": "code",
   "execution_count": 22,
   "id": "5e831534-d387-4abc-9907-cdf269a9e5bc",
   "metadata": {},
   "outputs": [
    {
     "name": "stdout",
     "output_type": "stream",
     "text": [
      "the following UI items from schema not matched to a widget:\n",
      "{'array', 'nested', 'select_multiple'}\n"
     ]
    },
    {
     "data": {
      "application/vnd.jupyter.widget-view+json": {
       "model_id": "ddf718466e2d4495a69664fb5d6b6fbc",
       "version_major": 2,
       "version_minor": 0
      },
      "text/plain": [
       "AutoUi(children=(VBox(children=(HBox(children=(HBox(children=(ToggleButton(value=False, disabled=True, layout=…"
      ]
     },
     "metadata": {},
     "output_type": "display_data"
    }
   ],
   "source": [
    "save_path = DIR_EXAMPLE / \"test.aui.json\"\n",
    "ui.file(path=save_path)\n",
    "config_autoui = AutoUiConfig(pydantic_model=TestAutoLogic)\n",
    "TestAutoUiDisplayFile = AutoUi.create_displayfile(\n",
    "    config_autoui=config_autoui, fn_onsave=lambda: print(\"done\")\n",
    ")\n",
    "ui_file = TestAutoUiDisplayFile(save_path)\n",
    "display(ui_file)"
   ]
  },
  {
   "cell_type": "markdown",
   "id": "40d8503d-3ca9-4f30-a6c2-43870613983f",
   "metadata": {},
   "source": [
    "Here are the widgets that are displayed from the defined pydantic schema, TestAutoLogic."
   ]
  },
  {
   "cell_type": "code",
   "execution_count": null,
   "id": "e20599fc-65f6-4c06-89cc-16111ed0b527",
   "metadata": {},
   "outputs": [],
   "source": []
  }
 ],
 "metadata": {
  "kernelspec": {
   "display_name": "Python 3 (ipykernel)",
   "language": "python",
   "name": "python3"
  },
  "language_info": {
   "codemirror_mode": {
    "name": "ipython",
    "version": 3
   },
   "file_extension": ".py",
   "mimetype": "text/x-python",
   "name": "python",
   "nbconvert_exporter": "python",
   "pygments_lexer": "ipython3",
   "version": "3.9.7"
  }
 },
 "nbformat": 4,
 "nbformat_minor": 5
}
