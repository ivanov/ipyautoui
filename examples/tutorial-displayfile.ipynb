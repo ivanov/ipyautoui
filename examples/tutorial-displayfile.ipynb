{
 "cells": [
  {
   "cell_type": "code",
   "execution_count": 1,
   "id": "c1e63cb3-f7fb-40af-9e54-eb5cf5768d1a",
   "metadata": {},
   "outputs": [],
   "source": [
    "%run ../src/ipyautoui/__init__.py\n",
    "%load_ext lab_black"
   ]
  },
  {
   "cell_type": "markdown",
   "id": "2aad46d8-7e83-476e-b7bb-02d8521cad3d",
   "metadata": {},
   "source": [
    "# Display File"
   ]
  },
  {
   "cell_type": "markdown",
   "id": "43256377-2852-4ac5-b47e-ceae99ec7954",
   "metadata": {},
   "source": [
    "The display file module is used to.. well... display particular files, whether that be a JSON or a CSV file."
   ]
  },
  {
   "cell_type": "code",
   "execution_count": 2,
   "id": "87ceb0c1-eac1-49aa-8a9b-cf41be0f78d3",
   "metadata": {},
   "outputs": [
    {
     "data": {
      "text/plain": [
       "\u001b[0;31mType:\u001b[0m        module\n",
       "\u001b[0;31mString form:\u001b[0m <module 'ipyautoui.displayfile' from '/mnt/c/engDev/git_mf/ipyautoui/src/ipyautoui/displayfile.py'>\n",
       "\u001b[0;31mFile:\u001b[0m        /mnt/c/engDev/git_mf/ipyautoui/src/ipyautoui/displayfile.py\n",
       "\u001b[0;31mDocstring:\u001b[0m  \n",
       "displayfile is used to display certain types of files.\n",
       "The module lets us preview a file, open a file, and open its directory.\n",
       "\n",
       "Example:\n",
       "    ::\n",
       "\n",
       "        from ipyautoui.constants import load_test_constants\n",
       "        from ipyautoui.displayfile import DisplayFile, Markdown\n",
       "        import ipywidgets as widgets\n",
       "\n",
       "        DIR_FILETYPES = load_test_constants().DIR_FILETYPES\n",
       "\n",
       "        fpths = list(pathlib.Path(DIR_FILETYPES).glob(\"*\"))\n",
       "\n",
       "        # single file\n",
       "        d = DisplayFile(fpths[7])\n",
       "        display(d)\n"
      ]
     },
     "metadata": {},
     "output_type": "display_data"
    }
   ],
   "source": [
    "import ipyautoui.displayfile\n",
    "\n",
    "?ipyautoui.displayfile"
   ]
  },
  {
   "cell_type": "code",
   "execution_count": 3,
   "id": "998eb8af-3b3c-49df-848f-19f476f39c7a",
   "metadata": {},
   "outputs": [],
   "source": [
    "import os"
   ]
  },
  {
   "cell_type": "code",
   "execution_count": 4,
   "id": "97bcf970-5817-4d09-b25c-4805a3c56483",
   "metadata": {},
   "outputs": [
    {
     "data": {
      "text/plain": [
       "PosixPath('/mnt/c/engDev/git_mf/ipyautoui')"
      ]
     },
     "execution_count": 4,
     "metadata": {},
     "output_type": "execute_result"
    }
   ],
   "source": [
    "import pathlib\n",
    "\n",
    "DIR_MODULE = pathlib.Path(os.getcwd()).parent\n",
    "DIR_MODULE"
   ]
  },
  {
   "cell_type": "code",
   "execution_count": 5,
   "id": "bad5edb2-9d0a-4ae4-94a5-ace884f5cd8f",
   "metadata": {},
   "outputs": [],
   "source": [
    "def load_test_constants():\n",
    "    \"\"\"only in use for debugging within the package. not used in production code.\n",
    "\n",
    "    Returns:\n",
    "        module: test_constants object\n",
    "    \"\"\"\n",
    "    from importlib.machinery import SourceFileLoader\n",
    "\n",
    "    path_testing_constants = DIR_MODULE / \"tests\" / \"constants.py\"\n",
    "    test_constants = SourceFileLoader(\n",
    "        \"constants\", str(path_testing_constants)\n",
    "    ).load_module()\n",
    "    return test_constants"
   ]
  },
  {
   "cell_type": "markdown",
   "id": "fb815c1b-9d91-42d3-a4a6-94a204dbada7",
   "metadata": {
    "tags": []
   },
   "source": [
    "### Examples"
   ]
  },
  {
   "cell_type": "markdown",
   "id": "0d62e361-30a5-4255-9827-8b2e788cb326",
   "metadata": {},
   "source": [
    "In the example below we can view many different file types. Widgets are created where you can preview the file, open the file, and open the file's directory."
   ]
  },
  {
   "cell_type": "code",
   "execution_count": 6,
   "id": "beb317e8-e90b-47ba-a6c9-5b3f2e046474",
   "metadata": {},
   "outputs": [
    {
     "data": {
      "text/markdown": [
       "### Example 1"
      ],
      "text/plain": [
       "<IPython.core.display.Markdown object>"
      ]
     },
     "metadata": {},
     "output_type": "display_data"
    },
    {
     "data": {
      "text/markdown": [
       "display single file"
      ],
      "text/plain": [
       "<IPython.core.display.Markdown object>"
      ]
     },
     "metadata": {},
     "output_type": "display_data"
    },
    {
     "data": {
      "application/vnd.jupyter.widget-view+json": {
       "model_id": "2d8fb0fb825c4469a5171e7dd76e188e",
       "version_major": 2,
       "version_minor": 0
      },
      "text/plain": [
       "VBox()"
      ]
     },
     "metadata": {},
     "output_type": "display_data"
    },
    {
     "data": {
      "text/markdown": [
       "cannot preview this file type"
      ],
      "text/plain": [
       "<IPython.core.display.Markdown object>"
      ]
     },
     "metadata": {},
     "output_type": "display_data"
    },
    {
     "data": {
      "text/plain": [
       "None"
      ]
     },
     "metadata": {},
     "output_type": "display_data"
    },
    {
     "data": {
      "text/markdown": [
       "---"
      ],
      "text/plain": [
       "<IPython.core.display.Markdown object>"
      ]
     },
     "metadata": {},
     "output_type": "display_data"
    },
    {
     "data": {
      "text/markdown": [],
      "text/plain": [
       "<IPython.core.display.Markdown object>"
      ]
     },
     "metadata": {},
     "output_type": "display_data"
    },
    {
     "data": {
      "text/markdown": [
       "### Example 2"
      ],
      "text/plain": [
       "<IPython.core.display.Markdown object>"
      ]
     },
     "metadata": {},
     "output_type": "display_data"
    },
    {
     "data": {
      "text/markdown": [
       "display single Output"
      ],
      "text/plain": [
       "<IPython.core.display.Markdown object>"
      ]
     },
     "metadata": {},
     "output_type": "display_data"
    },
    {
     "data": {
      "application/vnd.jupyter.widget-view+json": {
       "model_id": "c95c2a50badb4e4e91ca5b53d4f2127d",
       "version_major": 2,
       "version_minor": 0
      },
      "text/plain": [
       "VBox(children=(HBox(children=(HBox(children=(Button(disabled=True, icon='times', layout=Layout(height='25px', …"
      ]
     },
     "metadata": {},
     "output_type": "display_data"
    },
    {
     "data": {
      "text/markdown": [
       "---"
      ],
      "text/plain": [
       "<IPython.core.display.Markdown object>"
      ]
     },
     "metadata": {},
     "output_type": "display_data"
    },
    {
     "data": {
      "text/markdown": [],
      "text/plain": [
       "<IPython.core.display.Markdown object>"
      ]
     },
     "metadata": {},
     "output_type": "display_data"
    },
    {
     "data": {
      "text/markdown": [
       "### Example 3"
      ],
      "text/plain": [
       "<IPython.core.display.Markdown object>"
      ]
     },
     "metadata": {},
     "output_type": "display_data"
    },
    {
     "data": {
      "text/markdown": [
       "display single Output"
      ],
      "text/plain": [
       "<IPython.core.display.Markdown object>"
      ]
     },
     "metadata": {},
     "output_type": "display_data"
    },
    {
     "data": {
      "application/vnd.jupyter.widget-view+json": {
       "model_id": "01079217874a434aaff9ae5e2a96cb52",
       "version_major": 2,
       "version_minor": 0
      },
      "text/plain": [
       "HBox(children=(Output(), Output()), layout=Layout(justify_content='space-around'))"
      ]
     },
     "metadata": {},
     "output_type": "display_data"
    },
    {
     "data": {
      "text/markdown": [
       "---"
      ],
      "text/plain": [
       "<IPython.core.display.Markdown object>"
      ]
     },
     "metadata": {},
     "output_type": "display_data"
    },
    {
     "data": {
      "text/markdown": [],
      "text/plain": [
       "<IPython.core.display.Markdown object>"
      ]
     },
     "metadata": {},
     "output_type": "display_data"
    },
    {
     "data": {
      "text/markdown": [
       "### Example 4"
      ],
      "text/plain": [
       "<IPython.core.display.Markdown object>"
      ]
     },
     "metadata": {},
     "output_type": "display_data"
    },
    {
     "data": {
      "text/markdown": [
       "display multiple Outputs"
      ],
      "text/plain": [
       "<IPython.core.display.Markdown object>"
      ]
     },
     "metadata": {},
     "output_type": "display_data"
    },
    {
     "data": {
      "application/vnd.jupyter.widget-view+json": {
       "model_id": "fec0d290f5564db4b800f7d5ae2268b0",
       "version_major": 2,
       "version_minor": 0
      },
      "text/plain": [
       "VBox(children=(VBox(children=(HBox(), HBox())), VBox(children=(VBox(children=(HBox(children=(HBox(children=(Bu…"
      ]
     },
     "metadata": {},
     "output_type": "display_data"
    },
    {
     "data": {
      "text/markdown": [
       "---"
      ],
      "text/plain": [
       "<IPython.core.display.Markdown object>"
      ]
     },
     "metadata": {},
     "output_type": "display_data"
    },
    {
     "data": {
      "text/markdown": [],
      "text/plain": [
       "<IPython.core.display.Markdown object>"
      ]
     },
     "metadata": {},
     "output_type": "display_data"
    }
   ],
   "source": [
    "from ipyautoui.displayfile import DisplayFile, DisplayFiles, Markdown\n",
    "import ipywidgets as widgets\n",
    "\n",
    "DIR_FILETYPES = load_test_constants().DIR_FILETYPES\n",
    "\n",
    "\n",
    "fpths = list(pathlib.Path(DIR_FILETYPES).glob(\"*\"))\n",
    "# fpths = [os.path.join(rel,  fpth for fpth in fpths ]\n",
    "\n",
    "# single file\n",
    "d0 = DisplayFile(fpths[0])\n",
    "display(Markdown(\"### Example 1\"))\n",
    "display(Markdown(\"\"\"display single file\"\"\"))\n",
    "display(d0.preview_path())\n",
    "display(Markdown(\"---\"))\n",
    "display(Markdown(\"\"))\n",
    "\n",
    "# single Output\n",
    "# o0 = Output(fpth=fpths[0])\n",
    "p0 = DisplayFile(fpths[0])\n",
    "display(Markdown(\"### Example 2\"))\n",
    "display(Markdown(\"\"\"display single Output\"\"\"))\n",
    "display(p0)\n",
    "display(Markdown(\"---\"))\n",
    "display(Markdown(\"\"))\n",
    "\n",
    "# single Output side by side\n",
    "# o0 = Output(fpth=fpths[0])\n",
    "p0 = DisplayFile(fpths[0])\n",
    "display(Markdown(\"### Example 3\"))\n",
    "display(Markdown(\"\"\"display single Output\"\"\"))\n",
    "out1 = widgets.Output()\n",
    "out2 = widgets.Output()\n",
    "with out1:\n",
    "    display(p0)\n",
    "with out2:\n",
    "    display(p0)\n",
    "display(\n",
    "    widgets.HBox([out1, out2], layout=widgets.Layout(justify_content=\"space-around\"))\n",
    ")\n",
    "display(Markdown(\"---\"))\n",
    "display(Markdown(\"\"))\n",
    "\n",
    "# multiple Outputs\n",
    "# outputs = [Output(f) for f in fpths]\n",
    "p1 = DisplayFiles(fpths)\n",
    "display(Markdown(\"### Example 4\"))\n",
    "display(Markdown(\"\"\"display multiple Outputs\"\"\"))\n",
    "display(p1)\n",
    "display(Markdown(\"---\"))\n",
    "display(Markdown(\"\"))"
   ]
  },
  {
   "cell_type": "code",
   "execution_count": 7,
   "id": "3df7456a-5ea7-4def-8f3c-3747f64eb031",
   "metadata": {},
   "outputs": [
    {
     "data": {
      "text/markdown": [
       "### Example7"
      ],
      "text/plain": [
       "<IPython.core.display.Markdown object>"
      ]
     },
     "metadata": {},
     "output_type": "display_data"
    },
    {
     "data": {
      "text/markdown": [
       "extend standard supported filetypes"
      ],
      "text/plain": [
       "<IPython.core.display.Markdown object>"
      ]
     },
     "metadata": {},
     "output_type": "display_data"
    },
    {
     "data": {
      "application/vnd.jupyter.widget-view+json": {
       "model_id": "517f968837834c2c89d003415cedb32c",
       "version_major": 2,
       "version_minor": 0
      },
      "text/plain": [
       "VBox(children=(HBox(children=(HBox(children=(Button(disabled=True, icon='check', layout=Layout(height='25px', …"
      ]
     },
     "metadata": {},
     "output_type": "display_data"
    },
    {
     "data": {
      "application/vnd.jupyter.widget-view+json": {
       "model_id": "35a10ddb84d1482f91ce99941fb85a5e",
       "version_major": 2,
       "version_minor": 0
      },
      "text/plain": [
       "VBox(children=(HBox(children=(HBox(children=(Button(disabled=True, icon='check', layout=Layout(height='25px', …"
      ]
     },
     "metadata": {},
     "output_type": "display_data"
    }
   ],
   "source": [
    "if __name__ == \"__main__\":\n",
    "    display(Markdown(\"### Example7\"))\n",
    "    display(Markdown(\"\"\"extend standard supported filetypes\"\"\"))\n",
    "    # import\n",
    "    from ipyautoui.test_schema import TestAutoLogic\n",
    "    from ipyautoui.autoui import AutoUi, AutoUiConfig\n",
    "    from ipyautoui.constants import load_test_constants\n",
    "\n",
    "    tests_constants = load_test_constants()\n",
    "    config_ui = AutoUiConfig(ext=\".aui.json\", pydantic_model=TestAutoLogic)\n",
    "\n",
    "    user_file_renderers = AutoUi.create_displayfile_renderer(config_autoui=config_ui)\n",
    "\n",
    "    # TestUiDisplay = AutoUi.create_displayfile(config_autoui=config_ui)\n",
    "    # def test_ui_prev(fpth):\n",
    "    #     display(TestUiDisplay(fpth))\n",
    "\n",
    "    test_ui = DisplayFile(\n",
    "        path=tests_constants.PATH_TEST_AUI, user_file_renderers=user_file_renderers\n",
    "    )\n",
    "\n",
    "    display(test_ui)\n",
    "\n",
    "if __name__ == \"__main__\":\n",
    "    config_ui = AutoUiConfig(ext=\".aui.json\", pydantic_model=TestAutoLogic)\n",
    "    user_file_renderers = AutoUi.create_displayfile_renderer(config_autoui=config_ui)\n",
    "    test_ui = DisplayFile(\n",
    "        path=tests_constants.PATH_TEST_AUI, user_file_renderers=user_file_renderers\n",
    "    )\n",
    "    display(test_ui)"
   ]
  },
  {
   "cell_type": "code",
   "execution_count": null,
   "id": "a41b1cfb-91ca-468f-ba55-b343f584c8ad",
   "metadata": {},
   "outputs": [],
   "source": []
  }
 ],
 "metadata": {
  "kernelspec": {
   "display_name": "Python 3 (ipykernel)",
   "language": "python",
   "name": "python3"
  },
  "language_info": {
   "codemirror_mode": {
    "name": "ipython",
    "version": 3
   },
   "file_extension": ".py",
   "mimetype": "text/x-python",
   "name": "python",
   "nbconvert_exporter": "python",
   "pygments_lexer": "ipython3",
   "version": "3.9.7"
  }
 },
 "nbformat": 4,
 "nbformat_minor": 5
}
