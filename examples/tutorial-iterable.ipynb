{
 "cells": [
  {
   "cell_type": "code",
   "execution_count": 1,
   "id": "3f901e5c-a457-437f-8859-7b564dadae46",
   "metadata": {},
   "outputs": [],
   "source": [
    "%run ../src/ipyautoui/__init__.py\n",
    "%load_ext lab_black"
   ]
  },
  {
   "cell_type": "markdown",
   "id": "bbc534e4-ca4b-453a-afa9-b6471a6f6a99",
   "metadata": {},
   "source": [
    "# Iterable"
   ]
  },
  {
   "cell_type": "markdown",
   "id": "84a1bb8d-4e01-45cd-90da-cf610ac6e445",
   "metadata": {},
   "source": [
    "Iterable allows us to add any widgets we wish in an array."
   ]
  },
  {
   "cell_type": "code",
   "execution_count": 2,
   "id": "76f7e6c1-a783-4d05-a974-821e2b395221",
   "metadata": {},
   "outputs": [
    {
     "data": {
      "text/plain": [
       "\u001b[0;31mType:\u001b[0m        module\n",
       "\u001b[0;31mString form:\u001b[0m <module 'ipyautoui.custom.iterable' from '/mnt/c/engDev/git_mf/ipyautoui/src/ipyautoui/custom/iterable.py'>\n",
       "\u001b[0;31mFile:\u001b[0m        /mnt/c/engDev/git_mf/ipyautoui/src/ipyautoui/custom/iterable.py\n",
       "\u001b[0;31mDocstring:\u001b[0m  \n",
       "A generic iterable object.\n",
       "\n",
       "Creates an array object where widgets can be added or removed. if the widgets have a \"value\" or \"_value\" trait the \n",
       "that trait is automatically watched / observed for \n",
       "\n",
       "Example:\n",
       "    see below of simple example usage::\n",
       "    \n",
       "        import traitlets\n",
       "        import typing\n",
       "\n",
       "        from ipywidgets import widgets\n",
       "        from IPython.display import Markdown\n",
       "\n",
       "        from ipyautoui.custom.iterable import IterableItem, Array, Dictionary\n",
       "\n",
       "\n",
       "        class TestItem(widgets.HBox, traitlets.HasTraits):\n",
       "            value = traitlets.Dict()\n",
       "\n",
       "            def __init__(self, di: typing.Dict):\n",
       "                self.value = di\n",
       "                self._init_form()\n",
       "                self._init_controls()\n",
       "\n",
       "            def _init_form(self):\n",
       "                self._label = widgets.HTML(f\"{list(self.value.keys())[0]}\")\n",
       "                self._bool = widgets.ToggleButton(list(self.value.values())[0])\n",
       "                super().__init__(children=[self._bool, self._label])  # self._acc,\n",
       "\n",
       "            def _init_controls(self):\n",
       "                self._bool.observe(self._set_value, names=\"value\")\n",
       "\n",
       "            def _set_value(self, change):\n",
       "                self.value = {self._label.value: self._bool.value}\n",
       "\n",
       "\n",
       "        def fn_add():\n",
       "            return TestItem(di={\"Example\": 1})\n",
       "\n",
       "\n",
       "            \"items\": [fn_add()],\n",
       "            \"fn_add\": fn_add,\n",
       "            \"maxlen\": 10,\n",
       "            \"show_hash\": \"index\",\n",
       "            \"toggle\": True,\n",
       "            \"title\": \"Array\",\n",
       "            \"add_remove_controls\": \"append_only\",\n",
       "            \"orient_rows\": False,\n",
       "        }\n",
       "\n",
       "        arr = Array(**di_arr)\n",
       "        display(arr)\n"
      ]
     },
     "metadata": {},
     "output_type": "display_data"
    }
   ],
   "source": [
    "import ipyautoui.custom.iterable\n",
    "\n",
    "?ipyautoui.custom.iterable"
   ]
  },
  {
   "cell_type": "markdown",
   "id": "bb492cbc-b3b4-4e76-876a-dd97c6b581b9",
   "metadata": {},
   "source": [
    "### Example - Horizontal Array"
   ]
  },
  {
   "cell_type": "markdown",
   "id": "be8fd1b0-3a74-48bf-9423-59b0b8ba641e",
   "metadata": {},
   "source": [
    "In this example we will create a test item, class TestItem, which will be an empty HBox widget. Each entry into the array will use an element from a defined dictionary."
   ]
  },
  {
   "cell_type": "code",
   "execution_count": 3,
   "id": "69cb8a62-ac62-4c70-ab8e-2864e8acbc07",
   "metadata": {},
   "outputs": [],
   "source": [
    "import random\n",
    "import traitlets\n",
    "import typing\n",
    "\n",
    "from ipywidgets import widgets\n",
    "from IPython.display import Markdown\n",
    "\n",
    "from ipyautoui.custom.iterable import IterableItem, Array, Dictionary"
   ]
  },
  {
   "cell_type": "markdown",
   "id": "5dcfea01-ac66-4908-8a55-3cb46fe3eb6a",
   "metadata": {},
   "source": [
    "Defining the dict and test item."
   ]
  },
  {
   "cell_type": "code",
   "execution_count": 4,
   "id": "275cd384-1785-4e50-b0d1-37755496b1d9",
   "metadata": {},
   "outputs": [],
   "source": [
    "def get_di():\n",
    "    words = [\n",
    "        \"a\",\n",
    "        \"AAA\",\n",
    "        \"AAAS\",\n",
    "        \"aardvark\",\n",
    "        \"Aarhus\",\n",
    "        \"Aaron\",\n",
    "        \"ABA\",\n",
    "        \"Ababa\",\n",
    "        \"aback\",\n",
    "        \"abacus\",\n",
    "        \"abalone\",\n",
    "        \"abandon\",\n",
    "        \"abase\",\n",
    "    ]\n",
    "    n = random.randint(0, len(words) - 1)\n",
    "    m = random.randint(0, 1)\n",
    "    _bool = {0: False, 1: True}\n",
    "    return {words[n]: _bool[m]}\n",
    "\n",
    "\n",
    "def fn_add():\n",
    "    return TestItem(di=get_di())\n",
    "\n",
    "\n",
    "class TestItem(widgets.HBox, traitlets.HasTraits):\n",
    "    value = traitlets.Dict()\n",
    "\n",
    "    def __init__(self, di: typing.Dict = get_di()):\n",
    "        self.value = di\n",
    "        self._init_form()\n",
    "        self._init_controls()\n",
    "\n",
    "    def _init_form(self):\n",
    "        self._label = widgets.HTML(f\"{list(self.value.keys())[0]}\")\n",
    "        self._bool = widgets.ToggleButton(list(self.value.values())[0])\n",
    "        super().__init__(children=[self._bool, self._label])  # self._acc,\n",
    "\n",
    "    def _init_controls(self):\n",
    "        self._bool.observe(self._set_value, names=\"value\")\n",
    "\n",
    "    def _set_value(self, change):\n",
    "        self.value = {self._label.value: self._bool.value}"
   ]
  },
  {
   "cell_type": "markdown",
   "id": "61934563-dc30-4e68-8612-d4ad7f6a9786",
   "metadata": {},
   "source": [
    "Defining the array."
   ]
  },
  {
   "cell_type": "code",
   "execution_count": 5,
   "id": "b019fe08-56f5-4bd8-b480-973fcd359835",
   "metadata": {},
   "outputs": [
    {
     "data": {
      "application/vnd.jupyter.widget-view+json": {
       "model_id": "22b0857c530e427fb85eed50241e40f5",
       "version_major": 2,
       "version_minor": 0
      },
      "text/plain": [
       "Array(children=(HBox(children=(ToggleButton(value=True, icon='minus', layout=Layout(height='25px', width='44px…"
      ]
     },
     "metadata": {},
     "output_type": "display_data"
    }
   ],
   "source": [
    "di_arr = {\n",
    "    \"items\": [fn_add()],\n",
    "    \"fn_add\": fn_add,\n",
    "    \"maxlen\": 10,\n",
    "    \"show_hash\": \"index\",\n",
    "    \"toggle\": True,\n",
    "    \"title\": \"Array\",\n",
    "    \"add_remove_controls\": \"append_only\",\n",
    "    \"orient_rows\": False,\n",
    "}\n",
    "\n",
    "arr = Array(**di_arr)\n",
    "display(arr)"
   ]
  },
  {
   "cell_type": "markdown",
   "id": "5e6a38e6-bbcb-4ce2-9891-e6e6886f87d2",
   "metadata": {},
   "source": [
    "### Example - Vertical Array"
   ]
  },
  {
   "cell_type": "markdown",
   "id": "e4277195-ec5e-4fbf-a409-f8ebaed764d9",
   "metadata": {},
   "source": [
    "We can also have the entries within the array displayed vertically."
   ]
  },
  {
   "cell_type": "code",
   "execution_count": 6,
   "id": "8c2c4edd-68ec-41db-aa99-65cae1578a5b",
   "metadata": {},
   "outputs": [
    {
     "data": {
      "application/vnd.jupyter.widget-view+json": {
       "model_id": "5baf1159cda24c9c93b2404d806a45b1",
       "version_major": 2,
       "version_minor": 0
      },
      "text/plain": [
       "Dictionary(children=(HBox(children=(ToggleButton(value=True, icon='minus', layout=Layout(height='25px', width=…"
      ]
     },
     "metadata": {},
     "output_type": "display_data"
    }
   ],
   "source": [
    "di_arr = {\n",
    "    \"items\": {\"key\": fn_add()},\n",
    "    \"fn_add\": fn_add,\n",
    "    \"maxlen\": 10,\n",
    "    \"show_hash\": None,\n",
    "    \"toggle\": True,\n",
    "    \"title\": \"Array\",\n",
    "    \"add_remove_controls\": \"append_only\",\n",
    "    \"orient_rows\": True,\n",
    "}\n",
    "\n",
    "di = Dictionary(**di_arr)\n",
    "display(di)"
   ]
  },
  {
   "cell_type": "markdown",
   "id": "49ad2259-afe2-49da-992e-4af5130c34dc",
   "metadata": {},
   "source": [
    "We can also adjust the options to each element. An example is underneath where we alter the \"add_remove_controls\" so that we can append a new item from whichever element, and also show the index of each item.\n",
    "\n",
    "This will adjust the the interface above."
   ]
  },
  {
   "cell_type": "code",
   "execution_count": 7,
   "id": "0eccf89b-4841-49d7-a8bc-0134b534db16",
   "metadata": {},
   "outputs": [],
   "source": [
    "di.add_remove_controls = \"add_remove\"\n",
    "di.show_hash = \"index\""
   ]
  },
  {
   "cell_type": "code",
   "execution_count": null,
   "id": "c0f74fce-eb34-49c0-9b13-e803fc2b01c1",
   "metadata": {},
   "outputs": [],
   "source": []
  }
 ],
 "metadata": {
  "kernelspec": {
   "display_name": "Python 3 (ipykernel)",
   "language": "python",
   "name": "python3"
  },
  "language_info": {
   "codemirror_mode": {
    "name": "ipython",
    "version": 3
   },
   "file_extension": ".py",
   "mimetype": "text/x-python",
   "name": "python",
   "nbconvert_exporter": "python",
   "pygments_lexer": "ipython3",
   "version": "3.9.7"
  }
 },
 "nbformat": 4,
 "nbformat_minor": 5
}
