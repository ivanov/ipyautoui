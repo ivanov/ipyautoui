{
 "cells": [
  {
   "cell_type": "code",
   "execution_count": 10,
   "id": "3ddbfbd9-a3e0-455e-90e2-6e44e44e71a5",
   "metadata": {},
   "outputs": [
    {
     "name": "stdout",
     "output_type": "stream",
     "text": [
      "The lab_black extension is already loaded. To reload it, use:\n",
      "  %reload_ext lab_black\n"
     ]
    }
   ],
   "source": [
    "%run ../src/ipyautoui/__init__.py\n",
    "%load_ext lab_black"
   ]
  },
  {
   "cell_type": "markdown",
   "id": "3bb2c7b3-4357-4b1c-9f15-4ad9f000b204",
   "metadata": {
    "tags": []
   },
   "source": [
    "# Auto UI"
   ]
  },
  {
   "cell_type": "markdown",
   "id": "fdc561f4-63ef-4de8-8054-7773a2aaa83f",
   "metadata": {},
   "source": [
    "With ipyautoui we can create ipywidgets from pydantic schema. This makes it quick and easy to whip up a user interface when required."
   ]
  },
  {
   "cell_type": "code",
   "execution_count": 3,
   "id": "0f30eaf3-c12e-4db8-95be-dbee6c31f2c7",
   "metadata": {},
   "outputs": [
    {
     "data": {
      "text/plain": [
       "\u001b[0;31mType:\u001b[0m        module\n",
       "\u001b[0;31mString form:\u001b[0m <module 'ipyautoui' from '/mnt/c/engDev/git_mf/ipyautoui/src/ipyautoui/__init__.py'>\n",
       "\u001b[0;31mFile:\u001b[0m        /mnt/c/engDev/git_mf/ipyautoui/src/ipyautoui/__init__.py\n",
       "\u001b[0;31mDocstring:\u001b[0m  \n",
       "ipyautoui is used to quickly and efficiently create ipywidgets from pydantic schema.\n",
       "\n",
       "The module has the capability to take a pydantic schema and create a ipywidget from that schema.\n",
       "The main features being that you can produce a widget from many field types and also save the\n",
       "data as a JSON easily.\n",
       "\n",
       "Example::\n",
       "\n",
       "    from ipyautoui.constants import DISPLAY_AUTOUI_SCHEMA_EXAMPLE\n",
       "    DISPLAY_AUTOUI_SCHEMA_EXAMPLE()\n",
       "    \n"
      ]
     },
     "metadata": {},
     "output_type": "display_data"
    }
   ],
   "source": [
    "import ipyautoui\n",
    "\n",
    "?ipyautoui"
   ]
  },
  {
   "cell_type": "code",
   "execution_count": 5,
   "id": "79206055-27c3-4b22-b087-b1a5738da32e",
   "metadata": {},
   "outputs": [],
   "source": [
    "from ipyautoui import AutoUi, AutoUiConfig"
   ]
  },
  {
   "cell_type": "code",
   "execution_count": 12,
   "id": "1baf485d-a6bb-434a-9eac-fce0354a5073",
   "metadata": {},
   "outputs": [
    {
     "data": {
      "text/plain": [
       "'ipyautoui.autoui.AutoUi'"
      ]
     },
     "execution_count": 12,
     "metadata": {},
     "output_type": "execute_result"
    }
   ],
   "source": [
    "from ipyautoui._utils import obj_to_importstr, obj_from_importstr\n",
    "obj_to_importstr(ipyautoui.autoui.AutoUi)"
   ]
  },
  {
   "cell_type": "code",
   "execution_count": 16,
   "id": "e2e84b25-05ec-42ec-8e22-138befe9ab1a",
   "metadata": {},
   "outputs": [],
   "source": [
    "import json\n",
    "from pydantic import BaseModel, Field\n",
    "\n",
    "from ipyautoui.constants import DIR_MODULE\n",
    "from ipyautoui._utils import obj_from_string, display_pydantic_json"
   ]
  },
  {
   "cell_type": "markdown",
   "id": "3a6b9296-b17a-46f5-b6c6-3a176708e4dd",
   "metadata": {},
   "source": [
    "### Creating Simple Widget"
   ]
  },
  {
   "cell_type": "markdown",
   "id": "5b99d2bf-1aef-48a4-85dd-be165b62594c",
   "metadata": {},
   "source": [
    "So let's create a simple pydantic class. Here we have one text field."
   ]
  },
  {
   "cell_type": "code",
   "execution_count": 17,
   "id": "f229c7d7-0ae7-4e65-9bc2-c7f16aad68f4",
   "metadata": {},
   "outputs": [],
   "source": [
    "class AutoUiExample(BaseModel):\n",
    "    text: str = Field(default=\"Test\", description=\"This test is important\")"
   ]
  },
  {
   "cell_type": "markdown",
   "id": "fba05179-3889-49ce-ba57-5d4906a62b95",
   "metadata": {},
   "source": [
    "We create a class instance and use that within the AutoUi class to create the widget."
   ]
  },
  {
   "cell_type": "code",
   "execution_count": 18,
   "id": "50ea1682-d90d-43c1-a904-2b66ccac6a0a",
   "metadata": {},
   "outputs": [
    {
     "data": {
      "application/vnd.jupyter.widget-view+json": {
       "model_id": "6a70097f3d2c49d3ac4315f8d2790bf8",
       "version_major": 2,
       "version_minor": 0
      },
      "text/plain": [
       "AutoUi(children=(VBox(children=(HBox(), VBox(children=(HBox(children=(ToggleButton(value=False, icon='code', l…"
      ]
     },
     "metadata": {},
     "output_type": "display_data"
    }
   ],
   "source": [
    "auto_ui_eg = AutoUiExample()\n",
    "ui = AutoUi(auto_ui_eg)\n",
    "display(ui)"
   ]
  },
  {
   "cell_type": "markdown",
   "id": "eb3eeb98-d1bb-43c1-8f6c-fedf758c1073",
   "metadata": {},
   "source": [
    "Voila! Here is our widget where we can enter anything we wish.\n",
    "\n",
    "We may want to save the data within the widget as a JSON so let's look how to do that."
   ]
  },
  {
   "cell_type": "markdown",
   "id": "04e35cf5-d245-4ecd-9805-b0077724b2e9",
   "metadata": {
    "tags": []
   },
   "source": [
    "### Simple Widget With Config"
   ]
  },
  {
   "cell_type": "markdown",
   "id": "5b0a9d87-943a-4411-ac58-a09860b6105b",
   "metadata": {},
   "source": [
    "We can also specify a config for the UI object. In the example below we will remove the option to view the raw JSON."
   ]
  },
  {
   "cell_type": "code",
   "execution_count": 19,
   "id": "3a867043-5bf5-458e-80d5-07e9f6d9d372",
   "metadata": {},
   "outputs": [
    {
     "data": {
      "application/vnd.jupyter.widget-view+json": {
       "model_id": "ee1acf6942f64e08a4765e81e8f0bd27",
       "version_major": 2,
       "version_minor": 0
      },
      "text/plain": [
       "AutoUi(children=(VBox(children=(HBox(), VBox(children=(HBox(children=(HTML(value='<big><b>AutoUiExample</b></b…"
      ]
     },
     "metadata": {},
     "output_type": "display_data"
    }
   ],
   "source": [
    "conf = AutoUiConfig(pydantic_model=AutoUiExample, show_raw=False)\n",
    "\n",
    "ui = AutoUi(pydantic_obj=auto_ui_eg, config_autoui=conf)\n",
    "\n",
    "display(ui)"
   ]
  },
  {
   "cell_type": "markdown",
   "id": "6eaefd08-2ad5-48e1-8cc5-28caeafec0dc",
   "metadata": {
    "tags": []
   },
   "source": [
    "### Writing to JSON"
   ]
  },
  {
   "cell_type": "markdown",
   "id": "0f71add0-93f8-4839-98f4-32a31ff41c05",
   "metadata": {},
   "source": [
    "Let's define the save location."
   ]
  },
  {
   "cell_type": "code",
   "execution_count": 24,
   "id": "864cad67-9b69-4257-91fa-783adf949f4a",
   "metadata": {},
   "outputs": [],
   "source": [
    "import pathlib\n",
    "save_path =  pathlib.Path('.') / \"simple_test.aui.json\""
   ]
  },
  {
   "cell_type": "code",
   "execution_count": 22,
   "id": "fdf0c898-4eb7-4507-9e1b-849b45adca55",
   "metadata": {},
   "outputs": [
    {
     "name": "stdout",
     "output_type": "stream",
     "text": [
      "Save Location is simple_test.aui.json\n"
     ]
    }
   ],
   "source": [
    "print(f\"Save Location is {save_path}\")"
   ]
  },
  {
   "cell_type": "code",
   "execution_count": 25,
   "id": "8e10aa70-4a8c-4d98-8f5c-3644bf1fe21b",
   "metadata": {},
   "outputs": [
    {
     "data": {
      "application/vnd.jupyter.widget-view+json": {
       "model_id": "0ba9c02c788746438e121890d287f5c5",
       "version_major": 2,
       "version_minor": 0
      },
      "text/plain": [
       "AutoUi(children=(VBox(children=(HBox(children=(SaveButtonBar(children=(ToggleButton(value=False, disabled=True…"
      ]
     },
     "metadata": {},
     "output_type": "display_data"
    }
   ],
   "source": [
    "ui.file(path=save_path)\n",
    "config_autoui = AutoUiConfig(pydantic_model=AutoUiExample)\n",
    "TestAutoUiDisplayFile = AutoUi.create_displayfile(\n",
    "    config_autoui=config_autoui, fn_onsave=lambda: print(\"done\")\n",
    ")\n",
    "ui_file = TestAutoUiDisplayFile(path=save_path)\n",
    "display(ui_file)"
   ]
  },
  {
   "cell_type": "markdown",
   "id": "f3106b70-7379-4167-8e65-2cadd658e2fe",
   "metadata": {},
   "source": [
    "### Complete Example Model"
   ]
  },
  {
   "cell_type": "markdown",
   "id": "cd70b04f-1fe0-42b2-a827-6f3ff6c7c484",
   "metadata": {},
   "source": [
    "Let's look at a complete pydantic model producing all of the possible widgets"
   ]
  },
  {
   "cell_type": "code",
   "execution_count": 26,
   "id": "5257d0d0-a474-4fec-965c-9b6a097e5ac5",
   "metadata": {},
   "outputs": [
    {
     "data": {
      "application/vnd.jupyter.widget-view+json": {
       "model_id": "6c6fdce3e7c940be8739b829c0fac054",
       "version_major": 2,
       "version_minor": 0
      },
      "text/plain": [
       "VBox(children=(HBox(children=(ToggleButton(value=False, layout=Layout(width='41px')), HTML(value=''))),))"
      ]
     },
     "metadata": {},
     "output_type": "display_data"
    },
    {
     "data": {
      "application/vnd.jupyter.widget-view+json": {
       "model_id": "87b059bf2b974bfd8640dd7149940994",
       "version_major": 2,
       "version_minor": 0
      },
      "text/plain": [
       "Output()"
      ]
     },
     "metadata": {},
     "output_type": "display_data"
    }
   ],
   "source": [
    "from ipyautoui.constants import DISPLAY_AUTOUI_EXAMPLE\n",
    "\n",
    "DISPLAY_AUTOUI_EXAMPLE()"
   ]
  },
  {
   "cell_type": "markdown",
   "id": "817c3af8-c876-41d7-ae91-e0cf6d34787a",
   "metadata": {},
   "source": [
    "Above we see a class named TestAutoLogic which contains each and every possible field which can be mapped to a widget."
   ]
  },
  {
   "cell_type": "code",
   "execution_count": 27,
   "id": "0df57cbd-fd02-49da-a3e2-3ac460500a56",
   "metadata": {},
   "outputs": [],
   "source": [
    "from ipyautoui.test_schema import TestAutoLogic\n",
    "from ipyautoui.constants import DIR_EXAMPLE"
   ]
  },
  {
   "cell_type": "code",
   "execution_count": 28,
   "id": "46fbaa5c-3463-42eb-8030-efe127655704",
   "metadata": {},
   "outputs": [],
   "source": [
    "DIR_EXAMPLE = pathlib.Path('.')"
   ]
  },
  {
   "cell_type": "code",
   "execution_count": 29,
   "id": "5e831534-d387-4abc-9907-cdf269a9e5bc",
   "metadata": {},
   "outputs": [
    {
     "name": "stdout",
     "output_type": "stream",
     "text": [
      "the following UI items from schema not matched to a widget:\n",
      "{'select_multiple', 'nested', 'array', 'objects_array'}\n",
      "no widget created for select_multiple. fix this in the schema! TODO: fix the schema reader and UI to support nesting. or use ipyvuetify\n",
      "no widget created for array. fix this in the schema! TODO: fix the schema reader and UI to support nesting. or use ipyvuetify\n",
      "no widget created for objects_array. fix this in the schema! TODO: fix the schema reader and UI to support nesting. or use ipyvuetify\n",
      "no widget created for nested. fix this in the schema! TODO: fix the schema reader and UI to support nesting. or use ipyvuetify\n"
     ]
    },
    {
     "data": {
      "application/vnd.jupyter.widget-view+json": {
       "model_id": "658aaea94e2a410389cfed48494eb15c",
       "version_major": 2,
       "version_minor": 0
      },
      "text/plain": [
       "AutoUi(children=(VBox(children=(HBox(children=(SaveButtonBar(children=(ToggleButton(value=False, disabled=True…"
      ]
     },
     "metadata": {},
     "output_type": "display_data"
    }
   ],
   "source": [
    "save_path = DIR_EXAMPLE / \"test.aui.json\"\n",
    "ui.file(path=save_path)\n",
    "config_autoui = AutoUiConfig(pydantic_model=TestAutoLogic)\n",
    "TestAutoUiDisplayFile = AutoUi.create_displayfile(\n",
    "    config_autoui=config_autoui, fn_onsave=lambda: print(\"done\")\n",
    ")\n",
    "ui_file = TestAutoUiDisplayFile(save_path)\n",
    "display(ui_file)"
   ]
  },
  {
   "cell_type": "markdown",
   "id": "40d8503d-3ca9-4f30-a6c2-43870613983f",
   "metadata": {},
   "source": [
    "Here are the widgets that are displayed from the defined pydantic schema, TestAutoLogic."
   ]
  }
 ],
 "metadata": {
  "kernelspec": {
   "display_name": "Python [conda env:ipyautoui]",
   "language": "python",
   "name": "conda-env-ipyautoui-xpython"
  },
  "language_info": {
   "file_extension": ".py",
   "mimetype": "text/x-python",
   "name": "python",
   "version": "3.9.7"
  }
 },
 "nbformat": 4,
 "nbformat_minor": 5
}
