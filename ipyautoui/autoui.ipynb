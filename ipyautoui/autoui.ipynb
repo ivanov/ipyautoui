{
 "cells": [
  {
   "cell_type": "code",
   "execution_count": 1,
   "id": "1e7d99a1-9e07-494b-8345-8f4cb5c862a4",
   "metadata": {
    "lines_to_next_cell": 2
   },
   "outputs": [],
   "source": [
    "import sys\n",
    "sys.path.append('/mnt/c/engDev/git_extrnl/pydantic')\n",
    "%run __init__.py\n",
    "\n",
    "import pathlib\n",
    "from pydantic import BaseModel, ValidationError, validator\n",
    "import ipywidgets as widgets\n",
    "from typing import Optional, List, Dict, Type, Any, Union\n",
    "from markdown import markdown\n",
    "import ipydatagrid as ipg\n",
    "import pandas as pd\n",
    "\n",
    "from ipyautoui.constants import DF_MAP\n",
    "from ipyautoui._utils import obj_from_string, _markdown\n",
    "from ipyautoui._auto_logic import get_widget_class_strings, ALLOWED_VALUE_TYPES\n",
    "from ipyautoui._custom_widgets import AutoUiFileChooser, AutoUiFileUpload, AutoUiDataGrid, AutoModelRunName\n"
   ]
  },
  {
   "cell_type": "code",
   "execution_count": 2,
   "id": "35da42aa-12df-46c8-8183-96029585f3c6",
   "metadata": {},
   "outputs": [],
   "source": [
    "# data-definitions only. they define the fields that are required to create a ui object. \n",
    "\n",
    "class WidgetBase(BaseModel):\n",
    "    \"\"\"data container for a AutoWidget. \n",
    "    the AutoWidgetBase is a data container for all auto-widgets.\n",
    "    it inherits BaseModel from pydantic and uses pydantic validation tools to \n",
    "    initiate the \"widget\" and the \"autoui_type\" based on the value type and kwargs. \n",
    "    using the pydantic \".dict()\" and \".json()\" commands data can be serialised. the \"widget\"\n",
    "    parameter is excluded from the \"dict()\" and \"json()\" commands; this means that the \n",
    "    output contains strings only and can be written to file.\n",
    "    \"\"\"\n",
    "    value: Any # ALLOWED_VALUE_TYPES\n",
    "    kwargs: Dict = {}\n",
    "    autoui_type: str = None\n",
    "    \n",
    "    @validator('autoui_type', pre=True, always=True)\n",
    "    def get_autoui_type(cls, v, values):\n",
    "        if v is not None:\n",
    "            # user indicated ui widget type\n",
    "            if v in DF_MAP.widget.tolist():\n",
    "                # user provided short-hand mapping to widget type\n",
    "                cls_str = DF_MAP.set_index('widget')['widget_class_string'].to_dict()[v]\n",
    "            else:\n",
    "                # user input class string to be used explicitly\n",
    "                cls_str = v\n",
    "        else:\n",
    "            # run auto ui mapper\n",
    "            value = values['value']\n",
    "            cls_str = get_widget_class_strings(values['value'], values['kwargs'], df_map=DF_MAP)\n",
    "        if cls_str[0:6] != \"<class\":\n",
    "            raise ValueError('autoui_type must be a class string')\n",
    "        return cls_str \n",
    "    \n",
    "    class Config:\n",
    "        arbitrary_types_allowed = True\n",
    "        \n",
    "class RowBase(BaseModel):\n",
    "    name: str = 'name'\n",
    "    label: str = 'label'\n",
    "\n",
    "class WidgetRowBase(RowBase, WidgetBase):\n",
    "    class Config:\n",
    "        arbitrary_types_allowed = True\n",
    "\n",
    "class AutoUiBase(BaseModel):\n",
    "    \"\"\"\n",
    "    AutoUi data container. a defined data structure that can be written \n",
    "    to dict or JSON or used to initiate a AutoUi object.\n",
    "    \"\"\"\n",
    "    rows: List[WidgetRowBase] = []\n",
    "    path: pathlib.PurePath = None\n",
    "        \n",
    "    class Config:\n",
    "        arbitrary_types_allowed = True\n",
    "        fields = {\n",
    "            'path': {\n",
    "                'exclude': ...,\n",
    "            }\n",
    "        }"
   ]
  },
  {
   "cell_type": "code",
   "execution_count": 3,
   "id": "20ea5d36-db52-4a57-ab9a-4a3cbf12c0ba",
   "metadata": {},
   "outputs": [],
   "source": [
    "# classes that inherit the data objects, and are initialised by them. \n",
    "# these classes add the \"observe\" ability\n",
    "\n",
    "class WidgetRow(WidgetRowBase):\n",
    "    \"\"\"\n",
    "    class that observes the WidgetRowBase and copies the value from the \n",
    "    awc.widget.value to the awc.value on change, this ensures that when the object \n",
    "    is written to file (and awc.widget is ignored when written to dict or json),\n",
    "    thus the value of the widget state is saved\n",
    "    \"\"\"\n",
    "    row: widgets.HBox = None  \n",
    "    widget: Any = None\n",
    "        \n",
    "    def __init__(self, aw: WidgetRowBase):\n",
    "        \"\"\"\n",
    "        Args:\n",
    "            awc: AutoWidgetBase, data object for AutoWidget\n",
    "        \"\"\"\n",
    "        super().__init__(**aw.dict())\n",
    "        self._init_widget()\n",
    "        self._init_controls()\n",
    "        \n",
    "    def _init_widget(self):\n",
    "        if self.value is not None:\n",
    "            kwargs = {'value':self.value} | self.kwargs\n",
    "        else:\n",
    "            kwargs = self.kwargs\n",
    "        self.widget = obj_from_string(self.autoui_type)(**kwargs)\n",
    "        self.row = self._get_row()\n",
    "        \n",
    "    def _get_row(self):\n",
    "        name = self.name\n",
    "        label = self.label\n",
    "        return widgets.HBox([self.widget, _markdown(value=f'__{name}__, '), _markdown(value=f'_{label}_')], layout={'width':'100%'}) \n",
    "    \n",
    "    def _init_controls(self):\n",
    "        self.widget.observe(self._copy_value, 'value')\n",
    "        #self.widget.observe(self._copy_kwargs, 'kwargs')\n",
    "        \n",
    "    def _copy_value(self, onchange):\n",
    "        self.value = self.widget.value\n",
    "        \n",
    "    #def _copy_kwargs(self, onchange):\n",
    "    #    self.kwargs = self.widget.kwargs\n",
    "        \n",
    "    def display(self):\n",
    "        display(self.row)\n",
    "\n",
    "    def _ipython_display_(self):\n",
    "        self.display()\n",
    "        \n",
    "    class Config:\n",
    "        arbitrary_types_allowed = True\n",
    "        fields = {\n",
    "            'widget': {\n",
    "                'exclude': ...,\n",
    "            },\n",
    "            'row': {\n",
    "                'exclude': ...,\n",
    "            }\n",
    "        }\n",
    "        \n",
    "class AutoUi(AutoUiBase):\n",
    "    \"\"\"class that observes the AutoUiBase data structure and copies the value from the \n",
    "    self.widget.value to the self.value param on change, this ensures that when the object \n",
    "    is written to file (note. self.widget, self.ui are ignored when written to dict or json),\n",
    "    that the value of the widget state is saved. this relies on the widgets that are being\n",
    "    observed using traitlets and having an observable \"value\" field.\n",
    "    \n",
    "    TODO:\n",
    "        make it so it only copies the data that has changed from the widgets \n",
    "        to the value field on change insted of the data from all widgets.\n",
    "    \"\"\"\n",
    "    ui: widgets.VBox = None\n",
    "        \n",
    "    def __init__(self, aui: AutoUiBase):\n",
    "        super().__init__(**aui.dict())\n",
    "        self._init_widgets()\n",
    "        \n",
    "    def _init_widgets(self):\n",
    "        self.rows = [WidgetRow(row) for row in self.rows]\n",
    "        self.ui = widgets.VBox()\n",
    "        self.ui.children = [w.row for w in self.rows]\n",
    "    \n",
    "    def display(self):\n",
    "        display(self.ui)\n",
    "\n",
    "    def _ipython_display_(self):\n",
    "        self.display()\n",
    "        \n",
    "    class Config:\n",
    "        arbitrary_types_allowed = True\n",
    "        fields = {\n",
    "            'ui': {\n",
    "                'exclude': ...,\n",
    "            }\n",
    "        }\n",
    "\n",
    "\n"
   ]
  },
  {
   "cell_type": "code",
   "execution_count": 4,
   "id": "0722762d-56d1-40be-ac52-de98c976b28b",
   "metadata": {},
   "outputs": [
    {
     "data": {
      "text/markdown": [
       "## Widgets"
      ],
      "text/plain": [
       "<IPython.core.display.Markdown object>"
      ]
     },
     "metadata": {},
     "output_type": "display_data"
    },
    {
     "data": {
      "application/vnd.jupyter.widget-view+json": {
       "model_id": "d8e1109a4c0c445a81b5d20c0e1eeaee",
       "version_major": 2,
       "version_minor": 0
      },
      "text/plain": [
       "HBox(children=(HTML(value='<b>IntSlider</b>', layout=Layout(width='200px')), HBox(children=(IntSlider(value=1,…"
      ]
     },
     "metadata": {},
     "output_type": "display_data"
    },
    {
     "data": {
      "application/vnd.jupyter.widget-view+json": {
       "model_id": "f84ff97b909540a6a82031b6c49e5906",
       "version_major": 2,
       "version_minor": 0
      },
      "text/plain": [
       "HBox(children=(HTML(value='<b>IntText</b>', layout=Layout(width='200px')), HBox(children=(IntText(value=1), HT…"
      ]
     },
     "metadata": {},
     "output_type": "display_data"
    },
    {
     "data": {
      "application/vnd.jupyter.widget-view+json": {
       "model_id": "243883c44d3a4df6a76e356d0e7ecf83",
       "version_major": 2,
       "version_minor": 0
      },
      "text/plain": [
       "HBox(children=(HTML(value='<b>IntRangeSlider</b>', layout=Layout(width='200px')), HBox(children=(IntRangeSlide…"
      ]
     },
     "metadata": {},
     "output_type": "display_data"
    },
    {
     "data": {
      "application/vnd.jupyter.widget-view+json": {
       "model_id": "987b2203db604985a0d069de649eef55",
       "version_major": 2,
       "version_minor": 0
      },
      "text/plain": [
       "HBox(children=(HTML(value='<b>FloatSlider</b>', layout=Layout(width='200px')), HBox(children=(FloatSlider(valu…"
      ]
     },
     "metadata": {},
     "output_type": "display_data"
    },
    {
     "data": {
      "application/vnd.jupyter.widget-view+json": {
       "model_id": "2164cfb84df54188b614afdbc615f891",
       "version_major": 2,
       "version_minor": 0
      },
      "text/plain": [
       "HBox(children=(HTML(value='<b>FloatText</b>', layout=Layout(width='200px')), HBox(children=(FloatText(value=1.…"
      ]
     },
     "metadata": {},
     "output_type": "display_data"
    },
    {
     "data": {
      "application/vnd.jupyter.widget-view+json": {
       "model_id": "863f1e242f224c2b9b2f9750f23a1286",
       "version_major": 2,
       "version_minor": 0
      },
      "text/plain": [
       "HBox(children=(HTML(value='<b>FloatRangeSlider</b>', layout=Layout(width='200px')), HBox(children=(FloatRangeS…"
      ]
     },
     "metadata": {},
     "output_type": "display_data"
    },
    {
     "data": {
      "application/vnd.jupyter.widget-view+json": {
       "model_id": "fc20ca56bfc6449699e9c99f3a2ebe81",
       "version_major": 2,
       "version_minor": 0
      },
      "text/plain": [
       "HBox(children=(HTML(value='<b>Checkbox</b>', layout=Layout(width='200px')), HBox(children=(Checkbox(value=True…"
      ]
     },
     "metadata": {},
     "output_type": "display_data"
    },
    {
     "data": {
      "application/vnd.jupyter.widget-view+json": {
       "model_id": "6303cf327e7d4af6879073d63c73d362",
       "version_major": 2,
       "version_minor": 0
      },
      "text/plain": [
       "HBox(children=(HTML(value='<b>Dropdown</b>', layout=Layout(width='200px')), HBox(children=(Dropdown(index=2, o…"
      ]
     },
     "metadata": {},
     "output_type": "display_data"
    },
    {
     "data": {
      "application/vnd.jupyter.widget-view+json": {
       "model_id": "3facf52d84c34964bdcc0cedd6df5782",
       "version_major": 2,
       "version_minor": 0
      },
      "text/plain": [
       "HBox(children=(HTML(value='<b>SelectionRangeSlider</b>', layout=Layout(width='200px')), HBox(children=(Selecti…"
      ]
     },
     "metadata": {},
     "output_type": "display_data"
    },
    {
     "data": {
      "application/vnd.jupyter.widget-view+json": {
       "model_id": "26c8cd1a5c5143b980bf0ff6e31e2046",
       "version_major": 2,
       "version_minor": 0
      },
      "text/plain": [
       "HBox(children=(HTML(value='<b>SelectMultiple</b>', layout=Layout(width='200px')), HBox(children=(SelectMultipl…"
      ]
     },
     "metadata": {},
     "output_type": "display_data"
    },
    {
     "data": {
      "application/vnd.jupyter.widget-view+json": {
       "model_id": "3d7f0de72ff945d6958865d55157fe85",
       "version_major": 2,
       "version_minor": 0
      },
      "text/plain": [
       "HBox(children=(HTML(value='<b>Text</b>', layout=Layout(width='200px')), HBox(children=(Text(value='short text'…"
      ]
     },
     "metadata": {},
     "output_type": "display_data"
    },
    {
     "data": {
      "application/vnd.jupyter.widget-view+json": {
       "model_id": "68406be3fffe41879f0104b0bd1bbd4f",
       "version_major": 2,
       "version_minor": 0
      },
      "text/plain": [
       "HBox(children=(HTML(value='<b>Textarea</b>', layout=Layout(width='200px')), HBox(children=(Textarea(value='lon…"
      ]
     },
     "metadata": {},
     "output_type": "display_data"
    },
    {
     "data": {
      "application/vnd.jupyter.widget-view+json": {
       "model_id": "484f6c080bdb4479961b3c93ce357b08",
       "version_major": 2,
       "version_minor": 0
      },
      "text/plain": [
       "HBox(children=(HTML(value='<b>Combobox</b>', layout=Layout(width='200px')), HBox(children=(Combobox(value='str…"
      ]
     },
     "metadata": {},
     "output_type": "display_data"
    },
    {
     "data": {
      "application/vnd.jupyter.widget-view+json": {
       "model_id": "22b349dd15a44ff3ae0c7ea6a64497a2",
       "version_major": 2,
       "version_minor": 0
      },
      "text/plain": [
       "HBox(children=(HTML(value='<b>DatePicker</b>', layout=Layout(width='200px')), HBox(children=(DatePicker(value=…"
      ]
     },
     "metadata": {},
     "output_type": "display_data"
    },
    {
     "name": "stdout",
     "output_type": "stream",
     "text": [
      "path given doesnt exist\n"
     ]
    },
    {
     "data": {
      "application/vnd.jupyter.widget-view+json": {
       "model_id": "0a8aa7783c414c3a98f707c0069a3a0a",
       "version_major": 2,
       "version_minor": 0
      },
      "text/plain": [
       "HBox(children=(HTML(value='<p style=\"color:blue\"><b>FileChooser</b></p>', layout=Layout(width='200px')), HBox(…"
      ]
     },
     "metadata": {},
     "output_type": "display_data"
    },
    {
     "data": {
      "application/vnd.jupyter.widget-view+json": {
       "model_id": "e19050837fa04a3a991414c2b6f53524",
       "version_major": 2,
       "version_minor": 0
      },
      "text/plain": [
       "HBox(children=(HTML(value='<p style=\"color:blue\"><b>FileUpload</b></p>', layout=Layout(width='200px')), HBox(c…"
      ]
     },
     "metadata": {},
     "output_type": "display_data"
    },
    {
     "data": {
      "application/vnd.jupyter.widget-view+json": {
       "model_id": "e27f33b7802b4fe2a718dbca72c23eaa",
       "version_major": 2,
       "version_minor": 0
      },
      "text/plain": [
       "HBox(children=(HTML(value='<p style=\"color:blue\"><b>AutoModelRunName</b></p>', layout=Layout(width='200px')), …"
      ]
     },
     "metadata": {},
     "output_type": "display_data"
    },
    {
     "data": {
      "application/vnd.jupyter.widget-view+json": {
       "model_id": "33ae0493b42c4cfa979216c03935f630",
       "version_major": 2,
       "version_minor": 0
      },
      "text/plain": [
       "HBox(children=(HTML(value='<p style=\"color:blue\"><b>DataGrid</b></p>', layout=Layout(width='200px')), HBox(chi…"
      ]
     },
     "metadata": {},
     "output_type": "display_data"
    },
    {
     "name": "stdout",
     "output_type": "stream",
     "text": [
      "path given doesnt exist\n"
     ]
    },
    {
     "data": {
      "application/vnd.jupyter.widget-view+json": {
       "model_id": "fc2dd745477c456a994cad7e677fa260",
       "version_major": 2,
       "version_minor": 0
      },
      "text/plain": [
       "VBox(children=(HBox(children=(IntSlider(value=1, max=3), HTML(value='<p><strong>IntSlider</strong>, </p>'), HT…"
      ]
     },
     "metadata": {},
     "output_type": "display_data"
    }
   ],
   "source": [
    "if __name__ == \"__main__\":\n",
    "    from IPython.display import Markdown\n",
    "    display(Markdown('## Widgets'))\n",
    "    %run tests.py"
   ]
  }
 ],
 "metadata": {
  "jupytext": {
   "formats": "ipynb,py"
  },
  "kernelspec": {
   "display_name": "Python 3",
   "language": "python",
   "name": "python3"
  },
  "language_info": {
   "codemirror_mode": {
    "name": "ipython",
    "version": 3
   },
   "file_extension": ".py",
   "mimetype": "text/x-python",
   "name": "python",
   "nbconvert_exporter": "python",
   "pygments_lexer": "ipython3",
   "version": "3.9.4"
  }
 },
 "nbformat": 4,
 "nbformat_minor": 5
}
