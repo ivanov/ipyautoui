{
 "cells": [
  {
   "cell_type": "code",
   "execution_count": 1,
   "id": "1e7d99a1-9e07-494b-8345-8f4cb5c862a4",
   "metadata": {
    "lines_to_next_cell": 2
   },
   "outputs": [],
   "source": [
    "import sys\n",
    "sys.path.append('/mnt/c/engDev/git_extrnl/pydantic')\n",
    "%run __init__.py\n",
    "\n",
    "import pathlib\n",
    "from pydantic import BaseModel, ValidationError, validator\n",
    "import ipywidgets as widgets\n",
    "from typing import Optional, List, Dict, Type, Any, Union\n",
    "from markdown import markdown\n",
    "import ipydatagrid as ipg\n",
    "import pandas as pd\n",
    "\n",
    "from ipyautoui.constants import DF_MAP\n",
    "from ipyautoui._utils import obj_from_string, _markdown\n",
    "from ipyautoui._auto_logic import get_widget_class_strings, ALLOWED_VALUE_TYPES\n",
    "from ipyautoui._custom_widgets import AutoUiFileChooser, AutoUiFileUpload, AutoUiDataGrid, AutoModelRunName\n"
   ]
  },
  {
   "cell_type": "code",
   "execution_count": 2,
   "id": "35da42aa-12df-46c8-8183-96029585f3c6",
   "metadata": {},
   "outputs": [],
   "source": [
    "# data-definitions only. they define the fields that are required to create a ui object. \n",
    "\n",
    "class WidgetBase(BaseModel):\n",
    "    \"\"\"data container for a AutoWidget. \n",
    "    the AutoWidgetBase is a data container for all auto-widgets.\n",
    "    it inherits BaseModel from pydantic and uses pydantic validation tools to \n",
    "    initiate the \"widget\" and the \"autoui_type\" based on the value type and kwargs. \n",
    "    using the pydantic \".dict()\" and \".json()\" commands data can be serialised. the \"widget\"\n",
    "    parameter is excluded from the \"dict()\" and \"json()\" commands; this means that the \n",
    "    output contains strings only and can be written to file.\n",
    "    \"\"\"\n",
    "    value: Any # ALLOWED_VALUE_TYPES\n",
    "    kwargs: Dict = {}\n",
    "    autoui_type: str = None\n",
    "    \n",
    "    @validator('autoui_type', pre=True, always=True)\n",
    "    def get_autoui_type(cls, v, values):\n",
    "        if v is not None:\n",
    "            # user indicated ui widget type\n",
    "            if v in DF_MAP.widget.tolist():\n",
    "                # user provided short-hand mapping to widget type\n",
    "                cls_str = DF_MAP.set_index('widget')['widget_class_string'].to_dict()[v]\n",
    "            else:\n",
    "                # user input class string to be used explicitly\n",
    "                cls_str = v\n",
    "        else:\n",
    "            # run auto ui mapper\n",
    "            value = values['value']\n",
    "            cls_str = get_widget_class_strings(values['value'], values['kwargs'], df_map=DF_MAP)\n",
    "        if cls_str[0:6] != \"<class\":\n",
    "            raise ValueError('autoui_type must be a class string')\n",
    "        return cls_str \n",
    "    \n",
    "    class Config:\n",
    "        arbitrary_types_allowed = True\n",
    "        \n",
    "class RowBase(BaseModel):\n",
    "    name: str = 'name'\n",
    "    label: str = 'label'\n",
    "\n",
    "class WidgetRowBase(RowBase, WidgetBase):\n",
    "    class Config:\n",
    "        arbitrary_types_allowed = True\n",
    "\n",
    "class AutoUiBase(BaseModel):\n",
    "    \"\"\"\n",
    "    AutoUi data container. a defined data structure that can be written \n",
    "    to dict or JSON or used to initiate a AutoUi object.\n",
    "    \"\"\"\n",
    "    rows: List[WidgetRowBase] = []\n",
    "    path: pathlib.PurePath = None\n",
    "        \n",
    "    class Config:\n",
    "        arbitrary_types_allowed = True\n",
    "        fields = {\n",
    "            'path': {\n",
    "                'exclude': ...,\n",
    "            }\n",
    "        }"
   ]
  },
  {
   "cell_type": "code",
   "execution_count": 4,
   "id": "20ea5d36-db52-4a57-ab9a-4a3cbf12c0ba",
   "metadata": {},
   "outputs": [],
   "source": [
    "# classes that inherit the data objects, and are initialised by them. \n",
    "# these classes add the \"observe\" ability\n",
    "\n",
    "class WidgetRow(WidgetRowBase):\n",
    "    \"\"\"\n",
    "    class that observes the WidgetRowBase and copies the value from the \n",
    "    awc.widget.value to the awc.value on change, this ensures that when the object \n",
    "    is written to file (and awc.widget is ignored when written to dict or json),\n",
    "    thus the value of the widget state is saved\n",
    "    \"\"\"\n",
    "    row: widgets.HBox = None  \n",
    "    widget: Any = None\n",
    "        \n",
    "    def __init__(self, aw: WidgetRowBase):\n",
    "        \"\"\"\n",
    "        Args:\n",
    "            awc: AutoWidgetBase, data object for AutoWidget\n",
    "        \"\"\"\n",
    "        super().__init__(**aw.dict())\n",
    "        self._init_widget()\n",
    "        self._init_controls()\n",
    "        \n",
    "    def _init_widget(self):\n",
    "        if self.value is not None:\n",
    "            kwargs = {'value':self.value} | self.kwargs\n",
    "        else:\n",
    "            kwargs = self.kwargs\n",
    "        self.widget = obj_from_string(self.autoui_type)(**kwargs)\n",
    "        self.row = self._get_row()\n",
    "        \n",
    "    def _get_row(self):\n",
    "        name = self.name\n",
    "        label = self.label\n",
    "        return widgets.HBox([self.widget, _markdown(value=f'__{name}__, '), _markdown(value=f'_{label}_')], layout={'width':'100%'}) \n",
    "    \n",
    "    def _init_controls(self):\n",
    "        self.widget.observe(self._copy_value, 'value')\n",
    "        #self.widget.observe(self._copy_kwargs, 'kwargs')\n",
    "        \n",
    "    def _copy_value(self, onchange):\n",
    "        self.value = self.widget.value\n",
    "        \n",
    "    #def _copy_kwargs(self, onchange):\n",
    "    #    self.kwargs = self.widget.kwargs\n",
    "        \n",
    "    def display(self):\n",
    "        display(self.row)\n",
    "\n",
    "    def _ipython_display_(self):\n",
    "        self.display()\n",
    "        \n",
    "    class Config:\n",
    "        arbitrary_types_allowed = True\n",
    "        fields = {\n",
    "            'widget': {\n",
    "                'exclude': ...,\n",
    "            },\n",
    "            'row': {\n",
    "                'exclude': ...,\n",
    "            }\n",
    "        }\n",
    "        \n",
    "class AutoUi(AutoUiBase):\n",
    "    \"\"\"class that observes the AutoUiBase data structure and copies the value from the \n",
    "    self.widget.value to the self.value param on change, this ensures that when the object \n",
    "    is written to file (note. self.widget, self.ui are ignored when written to dict or json),\n",
    "    that the value of the widget state is saved. this relies on the widgets that are being\n",
    "    observed using traitlets and having an observable \"value\" field.\n",
    "    \n",
    "    TODO:\n",
    "        make it so it only copies the data that has changed from the widgets \n",
    "        to the value field on change insted of the data from all widgets.\n",
    "    \"\"\"\n",
    "    ui: widgets.VBox = None\n",
    "        \n",
    "    def __init__(self, aui: AutoUiBase):\n",
    "        super().__init__(**aui.dict())\n",
    "        self._init_widgets()\n",
    "        \n",
    "    def _init_widgets(self):\n",
    "        self.rows = [WidgetRow(row) for row in self.rows]\n",
    "        self.ui = widgets.VBox()\n",
    "        self.ui.children = [w.row for w in self.rows]\n",
    "    \n",
    "    def display(self):\n",
    "        display(self.ui)\n",
    "\n",
    "    def _ipython_display_(self):\n",
    "        self.display()\n",
    "        \n",
    "    class Config:\n",
    "        arbitrary_types_allowed = True\n",
    "        fields = {\n",
    "            'ui': {\n",
    "                'exclude': ...,\n",
    "            }\n",
    "        }\n"
   ]
  },
  {
   "cell_type": "code",
   "execution_count": 6,
   "id": "0722762d-56d1-40be-ac52-de98c976b28b",
   "metadata": {},
   "outputs": [
    {
     "data": {
      "text/markdown": [
       "## Widgets"
      ],
      "text/plain": [
       "<IPython.core.display.Markdown object>"
      ]
     },
     "metadata": {},
     "output_type": "display_data"
    },
    {
     "data": {
      "application/vnd.jupyter.widget-view+json": {
       "model_id": "2437f684a2e24d25bfe71190643a99a6",
       "version_major": 2,
       "version_minor": 0
      },
      "text/plain": [
       "HBox(children=(HTML(value='<b>IntSlider</b>', layout=Layout(width='200px')), HBox(children=(IntSlider(value=1,…"
      ]
     },
     "metadata": {},
     "output_type": "display_data"
    },
    {
     "data": {
      "application/vnd.jupyter.widget-view+json": {
       "model_id": "6ef0b200bb9d468e8c4cba5b56b0c090",
       "version_major": 2,
       "version_minor": 0
      },
      "text/plain": [
       "HBox(children=(HTML(value='<b>IntText</b>', layout=Layout(width='200px')), HBox(children=(IntText(value=1), HT…"
      ]
     },
     "metadata": {},
     "output_type": "display_data"
    },
    {
     "data": {
      "application/vnd.jupyter.widget-view+json": {
       "model_id": "28f1d9902f194b16b39c2abac4f6bea5",
       "version_major": 2,
       "version_minor": 0
      },
      "text/plain": [
       "HBox(children=(HTML(value='<b>IntRangeSlider</b>', layout=Layout(width='200px')), HBox(children=(IntRangeSlide…"
      ]
     },
     "metadata": {},
     "output_type": "display_data"
    },
    {
     "data": {
      "application/vnd.jupyter.widget-view+json": {
       "model_id": "3e26fb749d3f42ef97f586e3bc5b2de3",
       "version_major": 2,
       "version_minor": 0
      },
      "text/plain": [
       "HBox(children=(HTML(value='<b>FloatSlider</b>', layout=Layout(width='200px')), HBox(children=(FloatSlider(valu…"
      ]
     },
     "metadata": {},
     "output_type": "display_data"
    },
    {
     "data": {
      "application/vnd.jupyter.widget-view+json": {
       "model_id": "eff39d4f62764e7ea1d631ce88520eac",
       "version_major": 2,
       "version_minor": 0
      },
      "text/plain": [
       "HBox(children=(HTML(value='<b>FloatText</b>', layout=Layout(width='200px')), HBox(children=(FloatText(value=1.…"
      ]
     },
     "metadata": {},
     "output_type": "display_data"
    },
    {
     "data": {
      "application/vnd.jupyter.widget-view+json": {
       "model_id": "e2151fa1819f45429f04e56ac43fddc8",
       "version_major": 2,
       "version_minor": 0
      },
      "text/plain": [
       "HBox(children=(HTML(value='<b>FloatRangeSlider</b>', layout=Layout(width='200px')), HBox(children=(FloatRangeS…"
      ]
     },
     "metadata": {},
     "output_type": "display_data"
    },
    {
     "data": {
      "application/vnd.jupyter.widget-view+json": {
       "model_id": "024efc6e29824b3f83cb689e92cb0625",
       "version_major": 2,
       "version_minor": 0
      },
      "text/plain": [
       "HBox(children=(HTML(value='<b>Checkbox</b>', layout=Layout(width='200px')), HBox(children=(Checkbox(value=True…"
      ]
     },
     "metadata": {},
     "output_type": "display_data"
    },
    {
     "data": {
      "application/vnd.jupyter.widget-view+json": {
       "model_id": "80434e06d98e4d4e890f8cd4ddded200",
       "version_major": 2,
       "version_minor": 0
      },
      "text/plain": [
       "HBox(children=(HTML(value='<b>Dropdown</b>', layout=Layout(width='200px')), HBox(children=(Dropdown(index=2, o…"
      ]
     },
     "metadata": {},
     "output_type": "display_data"
    },
    {
     "data": {
      "application/vnd.jupyter.widget-view+json": {
       "model_id": "aa55eda636a24f20967dd5fd506bdc6d",
       "version_major": 2,
       "version_minor": 0
      },
      "text/plain": [
       "HBox(children=(HTML(value='<b>SelectionRangeSlider</b>', layout=Layout(width='200px')), HBox(children=(Selecti…"
      ]
     },
     "metadata": {},
     "output_type": "display_data"
    },
    {
     "data": {
      "application/vnd.jupyter.widget-view+json": {
       "model_id": "4865f0d9928f4a35b867986d5b3aa340",
       "version_major": 2,
       "version_minor": 0
      },
      "text/plain": [
       "HBox(children=(HTML(value='<b>SelectMultiple</b>', layout=Layout(width='200px')), HBox(children=(SelectMultipl…"
      ]
     },
     "metadata": {},
     "output_type": "display_data"
    },
    {
     "data": {
      "application/vnd.jupyter.widget-view+json": {
       "model_id": "f7858f216de74221830ba9f91dd7c240",
       "version_major": 2,
       "version_minor": 0
      },
      "text/plain": [
       "HBox(children=(HTML(value='<b>Text</b>', layout=Layout(width='200px')), HBox(children=(Text(value='short text'…"
      ]
     },
     "metadata": {},
     "output_type": "display_data"
    },
    {
     "data": {
      "application/vnd.jupyter.widget-view+json": {
       "model_id": "716eb21e41d3451da4634aabf7b8ab9b",
       "version_major": 2,
       "version_minor": 0
      },
      "text/plain": [
       "HBox(children=(HTML(value='<b>Textarea</b>', layout=Layout(width='200px')), HBox(children=(Textarea(value='lon…"
      ]
     },
     "metadata": {},
     "output_type": "display_data"
    },
    {
     "data": {
      "application/vnd.jupyter.widget-view+json": {
       "model_id": "f8bc1f16e1ff42a8abede59fdb0f276e",
       "version_major": 2,
       "version_minor": 0
      },
      "text/plain": [
       "HBox(children=(HTML(value='<b>Combobox</b>', layout=Layout(width='200px')), HBox(children=(Combobox(value='str…"
      ]
     },
     "metadata": {},
     "output_type": "display_data"
    },
    {
     "data": {
      "application/vnd.jupyter.widget-view+json": {
       "model_id": "93d63492e4b54c9aab455979cbbc7ef8",
       "version_major": 2,
       "version_minor": 0
      },
      "text/plain": [
       "HBox(children=(HTML(value='<b>DatePicker</b>', layout=Layout(width='200px')), HBox(children=(DatePicker(value=…"
      ]
     },
     "metadata": {},
     "output_type": "display_data"
    },
    {
     "data": {
      "application/vnd.jupyter.widget-view+json": {
       "model_id": "80540554109c4fbeba9d8db8853f654d",
       "version_major": 2,
       "version_minor": 0
      },
      "text/plain": [
       "HBox(children=(HTML(value='<p style=\"color:blue\"><b>FileChooser</b></p>', layout=Layout(width='200px')), HBox(…"
      ]
     },
     "metadata": {},
     "output_type": "display_data"
    },
    {
     "data": {
      "application/vnd.jupyter.widget-view+json": {
       "model_id": "dcda3a333f184356bb6eed89d300da0e",
       "version_major": 2,
       "version_minor": 0
      },
      "text/plain": [
       "HBox(children=(HTML(value='<p style=\"color:blue\"><b>FileUpload</b></p>', layout=Layout(width='200px')), HBox(c…"
      ]
     },
     "metadata": {},
     "output_type": "display_data"
    },
    {
     "data": {
      "application/vnd.jupyter.widget-view+json": {
       "model_id": "0633895ece0b444d80716b280fbaa2f8",
       "version_major": 2,
       "version_minor": 0
      },
      "text/plain": [
       "HBox(children=(HTML(value='<p style=\"color:blue\"><b>AutoModelRunName</b></p>', layout=Layout(width='200px')), …"
      ]
     },
     "metadata": {},
     "output_type": "display_data"
    },
    {
     "data": {
      "application/vnd.jupyter.widget-view+json": {
       "model_id": "02a8e2e0423f497e956d5dabc1a29405",
       "version_major": 2,
       "version_minor": 0
      },
      "text/plain": [
       "HBox(children=(HTML(value='<p style=\"color:blue\"><b>DataGrid</b></p>', layout=Layout(width='200px')), HBox(chi…"
      ]
     },
     "metadata": {},
     "output_type": "display_data"
    },
    {
     "data": {
      "application/vnd.jupyter.widget-view+json": {
       "model_id": "e773d5b14fc94bfe8a1d4b988dbe7a87",
       "version_major": 2,
       "version_minor": 0
      },
      "text/plain": [
       "VBox(children=(HBox(children=(IntSlider(value=1, max=3), HTML(value='<p>IntSlider, </p>'), HTML(value='<p><em>…"
      ]
     },
     "metadata": {},
     "output_type": "display_data"
    }
   ],
   "source": [
    "if __name__ == \"__main__\":\n",
    "    from IPython.display import Markdown\n",
    "    display(Markdown('## Widgets'))\n",
    "    %run tests.py"
   ]
  },
  {
   "cell_type": "code",
   "execution_count": null,
   "id": "357c91a6-c757-4c28-9bc0-dc2f0dc22b91",
   "metadata": {},
   "outputs": [],
   "source": []
  }
 ],
 "metadata": {
  "jupytext": {
   "formats": "ipynb,py"
  },
  "kernelspec": {
   "display_name": "Python 3",
   "language": "python",
   "name": "python3"
  },
  "language_info": {
   "codemirror_mode": {
    "name": "ipython",
    "version": 3
   },
   "file_extension": ".py",
   "mimetype": "text/x-python",
   "name": "python",
   "nbconvert_exporter": "python",
   "pygments_lexer": "ipython3",
   "version": "3.9.4"
  }
 },
 "nbformat": 4,
 "nbformat_minor": 5
}
