{
 "cells": [
  {
   "cell_type": "code",
   "execution_count": 1,
   "id": "caa056e9",
   "metadata": {},
   "outputs": [],
   "source": [
    "import sys\n",
    "sys.path.append('/mnt/c/engDev/git_extrnl/pydantic')\n",
    "%run __init__.py\n",
    "\n",
    "import pathlib\n",
    "from pydantic import BaseModel, ValidationError, validator\n",
    "import ipywidgets as widgets\n",
    "from typing import Optional, List, Dict, Type, Any, Union\n",
    "from markdown import markdown\n",
    "import ipydatagrid as ipg\n",
    "import pandas as pd\n",
    "\n",
    "from ipyautoui.constants import DF_MAP\n",
    "from ipyautoui._utils import obj_from_string, _markdown\n",
    "from ipyautoui._auto_logic import get_widget_class_strings, ALLOWED_VALUE_TYPES\n",
    "from ipyautoui._custom_widgets import AutoUiFileChooser, AutoUiFileUpload, AutoUiDataGrid, AutoModelRunName"
   ]
  },
  {
   "cell_type": "code",
   "execution_count": 2,
   "id": "47b41d9f",
   "metadata": {},
   "outputs": [],
   "source": [
    "# data-definitions only. they define the fields that are required to create a ui object. \n",
    "\n",
    "class AutoWidget(BaseModel):\n",
    "    \"\"\"data container for a AutoWidget. \n",
    "    this is a data container for all auto-widgets.\n",
    "    it inherits pydantic.BaseModel and uses pydantic validation tools to \n",
    "    initiate the \"widget\" and the \"autoui_type\" based on the value type and kwargs. \n",
    "    using the pydantic \".dict()\" and \".json()\" commands data can be serialised. the \"widget\"\n",
    "    parameter is excluded from the \"dict()\" and \"json()\" commands; this means that the \n",
    "    output contains strings only and can be written to file.\n",
    "    \"\"\"\n",
    "    value: Any # ALLOWED_VALUE_TYPES\n",
    "    kwargs: Dict = {}\n",
    "    autoui_type: str = None\n",
    "    widget: Any = None\n",
    "    \n",
    "    @validator('autoui_type', pre=True, always=True)\n",
    "    def get_autoui_type(cls, v, values):\n",
    "        if v is not None:\n",
    "            # user indicated ui widget type\n",
    "            if v in DF_MAP.widget.tolist():\n",
    "                # user provided short-hand mapping to widget type\n",
    "                cls_str = DF_MAP.set_index('widget')['widget_class_string'].to_dict()[v]\n",
    "            else:\n",
    "                # user input class string to be used explicitly\n",
    "                cls_str = v\n",
    "        else:\n",
    "            # run auto ui mapper\n",
    "            value = values['value']\n",
    "            cls_str = get_widget_class_strings(values['value'], values['kwargs'], df_map=DF_MAP)\n",
    "        if cls_str[0:6] != \"<class\":\n",
    "            raise ValueError('autoui_type must be a class string')\n",
    "        return cls_str \n",
    "    \n",
    "    @validator('widget', always=True)\n",
    "    def get_widget(cls, v, values):\n",
    "        value = values['value']\n",
    "        kwargs = values['kwargs']\n",
    "        if value is not None:\n",
    "            kwargs = {'value':value} | kwargs\n",
    "        else:\n",
    "            kwargs = kwargs\n",
    "        return obj_from_string(values['autoui_type'])(**kwargs)\n",
    "        \n",
    "    class Config:\n",
    "        arbitrary_types_allowed = True\n",
    "        \n",
    "class RowBase(BaseModel):\n",
    "    name: str = 'name'\n",
    "    label: str = 'label'\n",
    "\n",
    "class WidgetRowBase(RowBase,AutoWidget):\n",
    "    class Config:\n",
    "        arbitrary_types_allowed = True\n",
    "\n",
    "class AutoUiBase(BaseModel):\n",
    "    \"\"\"\n",
    "    AutoUi data container. a defined data structure that can be written \n",
    "    to dict or JSON or used to initiate a AutoUi object.\n",
    "    \"\"\"\n",
    "    rows: List[WidgetRowBase] = []\n",
    "    path: pathlib.PurePath = None\n",
    "        \n",
    "    class Config:\n",
    "        arbitrary_types_allowed = True\n",
    "        fields = {\n",
    "            'path': {\n",
    "                'exclude': ...,\n",
    "            }\n",
    "        }"
   ]
  },
  {
   "cell_type": "code",
   "execution_count": 3,
   "id": "0469b617",
   "metadata": {},
   "outputs": [],
   "source": [
    "# classes that inherit the data objects, and are initialised by them. \n",
    "# these classes add the \"observe\" ability\n",
    "\n",
    "class WidgetRow(WidgetRowBase):\n",
    "    \"\"\"\n",
    "    class that observes the WidgetRowBase and copies the value from the \n",
    "    awc.widget.value to the awc.value on change, this ensures that when the object \n",
    "    is written to file (and awc.widget is ignored when written to dict or json),\n",
    "    thus the value of the widget state is saved\n",
    "    \"\"\"\n",
    "    row: widgets.HBox = None  \n",
    "    widget: Any = None\n",
    "        \n",
    "    def __init__(self, aw: WidgetRowBase):\n",
    "        \"\"\"\n",
    "        Args:\n",
    "            awc: AutoWidgetBase, data object for AutoWidget\n",
    "        \"\"\"\n",
    "        super().__init__(**aw.dict())\n",
    "        self._init_row()\n",
    "        self._init_controls()\n",
    "        \n",
    "    def _init_row(self):\n",
    "        self.row = self._get_row()\n",
    "    \n",
    "    def _init_controls(self):\n",
    "        self.widget.observe(self._copy_value, 'value')\n",
    "        \n",
    "    def _copy_value(self, onchange):\n",
    "        self.value = self.widget.value\n",
    "        \n",
    "    def _get_row(self):\n",
    "        name = self.name\n",
    "        label = self.label\n",
    "        return widgets.HBox([self.widget, _markdown(value=f'__{name}__, '), _markdown(value=f'_{label}_')], layout={'width':'100%'}) \n",
    "        \n",
    "    def display(self):\n",
    "        display(self.row)\n",
    "\n",
    "    def _ipython_display_(self):\n",
    "        self.display()\n",
    "        \n",
    "    class Config:\n",
    "        arbitrary_types_allowed = True\n",
    "        fields = {\n",
    "            'widget': {\n",
    "                'exclude': ...,\n",
    "            },\n",
    "            'row': {\n",
    "                'exclude': ...,\n",
    "            }\n",
    "        }\n",
    "        \n",
    "class AutoUi(AutoUiBase):\n",
    "    \"\"\"class that observes the AutoUiBase data structure and copies the value from the \n",
    "    self.widget.value to the self.value param on change, this ensures that when the object \n",
    "    is written to file (note. self.widget, self.ui are ignored when written to dict or json),\n",
    "    that the value of the widget state is saved. this relies on the widgets that are being\n",
    "    observed using traitlets and having an observable \"value\" field.\n",
    "    \n",
    "    TODO:\n",
    "        make it so it only copies the data that has changed from the widgets \n",
    "        to the value field on change insted of the data from all widgets.\n",
    "    \"\"\"\n",
    "    ui: widgets.VBox = None\n",
    "        \n",
    "    def __init__(self, aui: AutoUiBase):\n",
    "        super().__init__(**aui.dict())\n",
    "        self._init_widgets()\n",
    "        \n",
    "    def _init_widgets(self):\n",
    "        self.rows = [WidgetRow(row) for row in self.rows]\n",
    "        self.ui = widgets.VBox()\n",
    "        self.ui.children = [w.row for w in self.rows]\n",
    "    \n",
    "    def display(self):\n",
    "        display(self.ui)\n",
    "\n",
    "    def _ipython_display_(self):\n",
    "        self.display()\n",
    "        \n",
    "    class Config:\n",
    "        arbitrary_types_allowed = True\n",
    "        fields = {\n",
    "            'ui': {\n",
    "                'exclude': ...,\n",
    "            }\n",
    "        }\n",
    "\n",
    "\n"
   ]
  },
  {
   "cell_type": "code",
   "execution_count": 4,
   "id": "33de946e",
   "metadata": {},
   "outputs": [
    {
     "data": {
      "text/markdown": [
       "## Widgets"
      ],
      "text/plain": [
       "<IPython.core.display.Markdown object>"
      ]
     },
     "metadata": {},
     "output_type": "display_data"
    },
    {
     "data": {
      "application/vnd.jupyter.widget-view+json": {
       "model_id": "0dc0ade37d564c0f8e8e02a784006e52",
       "version_major": 2,
       "version_minor": 0
      },
      "text/plain": [
       "HBox(children=(HTML(value='<b>IntSlider</b>', layout=Layout(width='200px')), HBox(children=(IntSlider(value=1,…"
      ]
     },
     "metadata": {},
     "output_type": "display_data"
    },
    {
     "data": {
      "application/vnd.jupyter.widget-view+json": {
       "model_id": "88ba91a4e9164c418d008e4b79e1a8ca",
       "version_major": 2,
       "version_minor": 0
      },
      "text/plain": [
       "HBox(children=(HTML(value='<b>IntText</b>', layout=Layout(width='200px')), HBox(children=(IntText(value=1), HT…"
      ]
     },
     "metadata": {},
     "output_type": "display_data"
    },
    {
     "data": {
      "application/vnd.jupyter.widget-view+json": {
       "model_id": "92995dc7573545dca5fe90e998bdb8a8",
       "version_major": 2,
       "version_minor": 0
      },
      "text/plain": [
       "HBox(children=(HTML(value='<b>IntRangeSlider</b>', layout=Layout(width='200px')), HBox(children=(IntRangeSlide…"
      ]
     },
     "metadata": {},
     "output_type": "display_data"
    },
    {
     "data": {
      "application/vnd.jupyter.widget-view+json": {
       "model_id": "7ac4cdc792ba4ca1b8a3a4c01a414428",
       "version_major": 2,
       "version_minor": 0
      },
      "text/plain": [
       "HBox(children=(HTML(value='<b>FloatSlider</b>', layout=Layout(width='200px')), HBox(children=(FloatSlider(valu…"
      ]
     },
     "metadata": {},
     "output_type": "display_data"
    },
    {
     "data": {
      "application/vnd.jupyter.widget-view+json": {
       "model_id": "1b2abf23a79544d0871b1b893dc6e786",
       "version_major": 2,
       "version_minor": 0
      },
      "text/plain": [
       "HBox(children=(HTML(value='<b>FloatText</b>', layout=Layout(width='200px')), HBox(children=(FloatText(value=1.…"
      ]
     },
     "metadata": {},
     "output_type": "display_data"
    },
    {
     "data": {
      "application/vnd.jupyter.widget-view+json": {
       "model_id": "50753feb129245738edb8b3ae37ebfb7",
       "version_major": 2,
       "version_minor": 0
      },
      "text/plain": [
       "HBox(children=(HTML(value='<b>FloatRangeSlider</b>', layout=Layout(width='200px')), HBox(children=(FloatRangeS…"
      ]
     },
     "metadata": {},
     "output_type": "display_data"
    },
    {
     "data": {
      "application/vnd.jupyter.widget-view+json": {
       "model_id": "e46dd492f0dc4e1d8f6851f42e083943",
       "version_major": 2,
       "version_minor": 0
      },
      "text/plain": [
       "HBox(children=(HTML(value='<b>Checkbox</b>', layout=Layout(width='200px')), HBox(children=(Checkbox(value=True…"
      ]
     },
     "metadata": {},
     "output_type": "display_data"
    },
    {
     "data": {
      "application/vnd.jupyter.widget-view+json": {
       "model_id": "eaff99fc1a9b44eb8f18c313a0a571c7",
       "version_major": 2,
       "version_minor": 0
      },
      "text/plain": [
       "HBox(children=(HTML(value='<b>Dropdown</b>', layout=Layout(width='200px')), HBox(children=(Dropdown(index=2, o…"
      ]
     },
     "metadata": {},
     "output_type": "display_data"
    },
    {
     "data": {
      "application/vnd.jupyter.widget-view+json": {
       "model_id": "c8d42adc096146cc85b96da38d40c9f0",
       "version_major": 2,
       "version_minor": 0
      },
      "text/plain": [
       "HBox(children=(HTML(value='<b>SelectionRangeSlider</b>', layout=Layout(width='200px')), HBox(children=(Selecti…"
      ]
     },
     "metadata": {},
     "output_type": "display_data"
    },
    {
     "data": {
      "application/vnd.jupyter.widget-view+json": {
       "model_id": "531716df57344c03a859bdbb4ed9bb20",
       "version_major": 2,
       "version_minor": 0
      },
      "text/plain": [
       "HBox(children=(HTML(value='<b>SelectMultiple</b>', layout=Layout(width='200px')), HBox(children=(SelectMultipl…"
      ]
     },
     "metadata": {},
     "output_type": "display_data"
    },
    {
     "data": {
      "application/vnd.jupyter.widget-view+json": {
       "model_id": "7e0279c593ba421f8104a8172f16fc34",
       "version_major": 2,
       "version_minor": 0
      },
      "text/plain": [
       "HBox(children=(HTML(value='<b>Text</b>', layout=Layout(width='200px')), HBox(children=(Text(value='short text'…"
      ]
     },
     "metadata": {},
     "output_type": "display_data"
    },
    {
     "data": {
      "application/vnd.jupyter.widget-view+json": {
       "model_id": "64a4e25cd7cc478b94a95dcb4e996f20",
       "version_major": 2,
       "version_minor": 0
      },
      "text/plain": [
       "HBox(children=(HTML(value='<b>Textarea</b>', layout=Layout(width='200px')), HBox(children=(Textarea(value='lon…"
      ]
     },
     "metadata": {},
     "output_type": "display_data"
    },
    {
     "data": {
      "application/vnd.jupyter.widget-view+json": {
       "model_id": "f513a35378284ee9806fecc74326d24c",
       "version_major": 2,
       "version_minor": 0
      },
      "text/plain": [
       "HBox(children=(HTML(value='<b>Combobox</b>', layout=Layout(width='200px')), HBox(children=(Combobox(value='str…"
      ]
     },
     "metadata": {},
     "output_type": "display_data"
    },
    {
     "data": {
      "application/vnd.jupyter.widget-view+json": {
       "model_id": "8dc8b02d872c44279fb2f76126afd2a8",
       "version_major": 2,
       "version_minor": 0
      },
      "text/plain": [
       "HBox(children=(HTML(value='<b>DatePicker</b>', layout=Layout(width='200px')), HBox(children=(DatePicker(value=…"
      ]
     },
     "metadata": {},
     "output_type": "display_data"
    },
    {
     "data": {
      "application/vnd.jupyter.widget-view+json": {
       "model_id": "610a5a62bd8e4fdeb1214023ccca3894",
       "version_major": 2,
       "version_minor": 0
      },
      "text/plain": [
       "HBox(children=(HTML(value='<p style=\"color:blue\"><b>FileChooser</b></p>', layout=Layout(width='200px')), HBox(…"
      ]
     },
     "metadata": {},
     "output_type": "display_data"
    },
    {
     "data": {
      "application/vnd.jupyter.widget-view+json": {
       "model_id": "52bf4e9030a7490cab3d275e110664e2",
       "version_major": 2,
       "version_minor": 0
      },
      "text/plain": [
       "HBox(children=(HTML(value='<p style=\"color:blue\"><b>FileUpload</b></p>', layout=Layout(width='200px')), HBox(c…"
      ]
     },
     "metadata": {},
     "output_type": "display_data"
    },
    {
     "data": {
      "application/vnd.jupyter.widget-view+json": {
       "model_id": "3a20fb21b6a043889aa736cef3b697d0",
       "version_major": 2,
       "version_minor": 0
      },
      "text/plain": [
       "HBox(children=(HTML(value='<p style=\"color:blue\"><b>AutoModelRunName</b></p>', layout=Layout(width='200px')), …"
      ]
     },
     "metadata": {},
     "output_type": "display_data"
    },
    {
     "data": {
      "application/vnd.jupyter.widget-view+json": {
       "model_id": "2d2623334d3d41768f64a0b3bc2dfeea",
       "version_major": 2,
       "version_minor": 0
      },
      "text/plain": [
       "HBox(children=(HTML(value='<p style=\"color:blue\"><b>DataGrid</b></p>', layout=Layout(width='200px')), HBox(chi…"
      ]
     },
     "metadata": {},
     "output_type": "display_data"
    },
    {
     "data": {
      "application/vnd.jupyter.widget-view+json": {
       "model_id": "18ece85922da490d83da6a9b47945b95",
       "version_major": 2,
       "version_minor": 0
      },
      "text/plain": [
       "VBox(children=(HBox(children=(IntSlider(value=1, max=3), HTML(value='<p><strong>IntSlider</strong>, </p>'), HT…"
      ]
     },
     "metadata": {},
     "output_type": "display_data"
    }
   ],
   "source": [
    "if __name__ == \"__main__\":\n",
    "    from IPython.display import Markdown\n",
    "    display(Markdown('## Widgets'))\n",
    "    from ipyautoui.test_autoui_data import di_test_autologic \n",
    "    from ipyautoui.tests import test_display_WidgetRow_widget, test_display_AutoUi\n",
    "    test_display_WidgetRow_widget(di_test_autologic)\n",
    "    ui=test_display_AutoUi(di_test_autologic)\n",
    "    display(ui)\n",
    "    #ui"
   ]
  }
 ],
 "metadata": {
  "jupytext": {
   "formats": "ipynb,py:light"
  },
  "kernelspec": {
   "display_name": "Python 3",
   "language": "python",
   "name": "python3"
  },
  "language_info": {
   "codemirror_mode": {
    "name": "ipython",
    "version": 3
   },
   "file_extension": ".py",
   "mimetype": "text/x-python",
   "name": "python",
   "nbconvert_exporter": "python",
   "pygments_lexer": "ipython3",
   "version": "3.9.4"
  }
 },
 "nbformat": 4,
 "nbformat_minor": 5
}
