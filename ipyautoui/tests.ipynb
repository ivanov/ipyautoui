{
 "cells": [
  {
   "cell_type": "code",
   "execution_count": 1,
   "id": "0c364f43-59ab-4f50-8c34-20282ec51859",
   "metadata": {},
   "outputs": [
    {
     "data": {
      "application/vnd.jupyter.widget-view+json": {
       "model_id": "5ff4a3316ab943e5915b4e6508c46944",
       "version_major": 2,
       "version_minor": 0
      },
      "text/plain": [
       "HBox(children=(HTML(value='<b>IntSlider</b>', layout=Layout(width='200px')), HBox(children=(IntSlider(value=1,…"
      ]
     },
     "metadata": {},
     "output_type": "display_data"
    },
    {
     "data": {
      "application/vnd.jupyter.widget-view+json": {
       "model_id": "50fe2045dcff46e6b6a0e2a043e3ad13",
       "version_major": 2,
       "version_minor": 0
      },
      "text/plain": [
       "HBox(children=(HTML(value='<b>IntText</b>', layout=Layout(width='200px')), HBox(children=(IntText(value=1), HT…"
      ]
     },
     "metadata": {},
     "output_type": "display_data"
    },
    {
     "data": {
      "application/vnd.jupyter.widget-view+json": {
       "model_id": "955958e98f3f412ebc831a2ebc16a293",
       "version_major": 2,
       "version_minor": 0
      },
      "text/plain": [
       "HBox(children=(HTML(value='<b>IntRangeSlider</b>', layout=Layout(width='200px')), HBox(children=(IntRangeSlide…"
      ]
     },
     "metadata": {},
     "output_type": "display_data"
    },
    {
     "data": {
      "application/vnd.jupyter.widget-view+json": {
       "model_id": "78af113210dc4ea9ad8bfb2f8ffae856",
       "version_major": 2,
       "version_minor": 0
      },
      "text/plain": [
       "HBox(children=(HTML(value='<b>FloatSlider</b>', layout=Layout(width='200px')), HBox(children=(FloatSlider(valu…"
      ]
     },
     "metadata": {},
     "output_type": "display_data"
    },
    {
     "data": {
      "application/vnd.jupyter.widget-view+json": {
       "model_id": "5b216b94d1654fa782eeb178c8841132",
       "version_major": 2,
       "version_minor": 0
      },
      "text/plain": [
       "HBox(children=(HTML(value='<b>FloatText</b>', layout=Layout(width='200px')), HBox(children=(FloatText(value=1.…"
      ]
     },
     "metadata": {},
     "output_type": "display_data"
    },
    {
     "data": {
      "application/vnd.jupyter.widget-view+json": {
       "model_id": "6b362e2c71ca4c309ddaaf4f61c3c998",
       "version_major": 2,
       "version_minor": 0
      },
      "text/plain": [
       "HBox(children=(HTML(value='<b>FloatRangeSlider</b>', layout=Layout(width='200px')), HBox(children=(FloatRangeS…"
      ]
     },
     "metadata": {},
     "output_type": "display_data"
    },
    {
     "data": {
      "application/vnd.jupyter.widget-view+json": {
       "model_id": "9ee8b78db004419d9c687319ec00a2de",
       "version_major": 2,
       "version_minor": 0
      },
      "text/plain": [
       "HBox(children=(HTML(value='<b>Checkbox</b>', layout=Layout(width='200px')), HBox(children=(Checkbox(value=True…"
      ]
     },
     "metadata": {},
     "output_type": "display_data"
    },
    {
     "data": {
      "application/vnd.jupyter.widget-view+json": {
       "model_id": "aa154c7c5a3f46f186d8b512a1d01066",
       "version_major": 2,
       "version_minor": 0
      },
      "text/plain": [
       "HBox(children=(HTML(value='<b>Dropdown</b>', layout=Layout(width='200px')), HBox(children=(Dropdown(index=2, o…"
      ]
     },
     "metadata": {},
     "output_type": "display_data"
    },
    {
     "data": {
      "application/vnd.jupyter.widget-view+json": {
       "model_id": "995b4bd9a8d9431c8ab9ca28e3b5989b",
       "version_major": 2,
       "version_minor": 0
      },
      "text/plain": [
       "HBox(children=(HTML(value='<b>SelectionRangeSlider</b>', layout=Layout(width='200px')), HBox(children=(Selecti…"
      ]
     },
     "metadata": {},
     "output_type": "display_data"
    },
    {
     "data": {
      "application/vnd.jupyter.widget-view+json": {
       "model_id": "cd4267c492b040e39ab95d3a5b0c4387",
       "version_major": 2,
       "version_minor": 0
      },
      "text/plain": [
       "HBox(children=(HTML(value='<b>SelectMultiple</b>', layout=Layout(width='200px')), HBox(children=(SelectMultipl…"
      ]
     },
     "metadata": {},
     "output_type": "display_data"
    },
    {
     "data": {
      "application/vnd.jupyter.widget-view+json": {
       "model_id": "e78c7d16dea044acaccca324b62134a7",
       "version_major": 2,
       "version_minor": 0
      },
      "text/plain": [
       "HBox(children=(HTML(value='<b>Text</b>', layout=Layout(width='200px')), HBox(children=(Text(value='short text'…"
      ]
     },
     "metadata": {},
     "output_type": "display_data"
    },
    {
     "data": {
      "application/vnd.jupyter.widget-view+json": {
       "model_id": "666eced8a16e495885ba7d0da7b65e92",
       "version_major": 2,
       "version_minor": 0
      },
      "text/plain": [
       "HBox(children=(HTML(value='<b>Textarea</b>', layout=Layout(width='200px')), HBox(children=(Textarea(value='lon…"
      ]
     },
     "metadata": {},
     "output_type": "display_data"
    },
    {
     "data": {
      "application/vnd.jupyter.widget-view+json": {
       "model_id": "1925e09fa60346c6880c5641fe477217",
       "version_major": 2,
       "version_minor": 0
      },
      "text/plain": [
       "HBox(children=(HTML(value='<b>Combobox</b>', layout=Layout(width='200px')), HBox(children=(Combobox(value='str…"
      ]
     },
     "metadata": {},
     "output_type": "display_data"
    },
    {
     "data": {
      "application/vnd.jupyter.widget-view+json": {
       "model_id": "c972f772e1264a1ea86225a98e5c7555",
       "version_major": 2,
       "version_minor": 0
      },
      "text/plain": [
       "HBox(children=(HTML(value='<b>DatePicker</b>', layout=Layout(width='200px')), HBox(children=(DatePicker(value=…"
      ]
     },
     "metadata": {},
     "output_type": "display_data"
    },
    {
     "name": "stdout",
     "output_type": "stream",
     "text": [
      "path given doesnt exist\n"
     ]
    },
    {
     "data": {
      "application/vnd.jupyter.widget-view+json": {
       "model_id": "0bb1e9843f9f4e67b53c7ae92503c9b4",
       "version_major": 2,
       "version_minor": 0
      },
      "text/plain": [
       "HBox(children=(HTML(value='<p style=\"color:blue\"><b>FileChooser</b></p>', layout=Layout(width='200px')), HBox(…"
      ]
     },
     "metadata": {},
     "output_type": "display_data"
    },
    {
     "data": {
      "application/vnd.jupyter.widget-view+json": {
       "model_id": "12446ce300b144088692b8e6c297e9cf",
       "version_major": 2,
       "version_minor": 0
      },
      "text/plain": [
       "HBox(children=(HTML(value='<p style=\"color:blue\"><b>FileUpload</b></p>', layout=Layout(width='200px')), HBox(c…"
      ]
     },
     "metadata": {},
     "output_type": "display_data"
    },
    {
     "data": {
      "application/vnd.jupyter.widget-view+json": {
       "model_id": "a678a8f817454837ae0c69381b972493",
       "version_major": 2,
       "version_minor": 0
      },
      "text/plain": [
       "HBox(children=(HTML(value='<p style=\"color:blue\"><b>AutoModelRunName</b></p>', layout=Layout(width='200px')), …"
      ]
     },
     "metadata": {},
     "output_type": "display_data"
    },
    {
     "data": {
      "application/vnd.jupyter.widget-view+json": {
       "model_id": "5a3c4a363b104e1688379ed324de4142",
       "version_major": 2,
       "version_minor": 0
      },
      "text/plain": [
       "HBox(children=(HTML(value='<p style=\"color:blue\"><b>DataGrid</b></p>', layout=Layout(width='200px')), HBox(chi…"
      ]
     },
     "metadata": {},
     "output_type": "display_data"
    },
    {
     "name": "stdout",
     "output_type": "stream",
     "text": [
      "path given doesnt exist\n"
     ]
    },
    {
     "data": {
      "application/vnd.jupyter.widget-view+json": {
       "model_id": "7d3123b83e6f4ba9a0be02bf503b6c02",
       "version_major": 2,
       "version_minor": 0
      },
      "text/plain": [
       "VBox(children=(HBox(children=(IntSlider(value=1, max=3), HTML(value='<p><strong>IntSlider</strong>, </p>'), HT…"
      ]
     },
     "metadata": {},
     "output_type": "display_data"
    }
   ],
   "source": [
    "%run __init__.py\n",
    "\n",
    "import datetime\n",
    "import pandas as pd\n",
    "import pathlib\n",
    "import ipywidgets as widgets\n",
    "from markdown import markdown\n",
    "from IPython.display import display, Markdown\n",
    "\n",
    "from ipyautoui.constants import DF_MAP\n",
    "from ipyautoui.autoui import AutoUi, AutoUiBase, WidgetRow, WidgetRowBase, _markdown\n",
    "from ipyautoui._utils import obj_from_string\n",
    "from ipyautoui._auto_logic import *\n",
    "\n",
    "from ipyautoui._custom_widgets import AutoUiFileChooser, AutoUiFileUpload, AutoUiDataGrid, AutoModelRunName\n",
    "from ipyautoui.test_autoui_data import di_test_autologic\n",
    "\n",
    "# TESTING #-----------------------------------------------------\n",
    "#---------------------------------------------------------------\n",
    "\n",
    "\n",
    "def test_mapping(di_test_autologic, df_map=DF_MAP):\n",
    "    for k, v in di_test_autologic.items():\n",
    "        if 'autoui_type' not in v:\n",
    "            queries = get_filter_query(**v)\n",
    "            df_tmp = pd_execute_queries(df_map, queries)\n",
    "            assert len(df_tmp) == 1, '{} --> len(df_tmp) == {}'.format(k, len(df_tmp))\n",
    "            widget_class_string = df_tmp.reset_index().loc[0, 'widget_class_string']\n",
    "        else:\n",
    "            widget_class_string = v['autoui_type']\n",
    "        widget_name = name_from_class_string(widget_class_string)\n",
    "        assert k in widget_name, f'{k} != {widget_name}'\n",
    "    \n",
    "def test_display_WidgetRow_widget(di_test_autologic, df_map=DF_MAP):\n",
    "    li = []\n",
    "    for k, v in di_test_autologic.items():\n",
    "        data = WidgetRowBase(**v)\n",
    "        ui = WidgetRow(data)\n",
    "        assert str(type(ui.widget)) == data.autoui_type, 'WidgetRow not initalised'\n",
    "        if 'ipywidget' in str(type(ui.widget)):\n",
    "            label = f'<b>{k}</b>'\n",
    "        else:\n",
    "            label = f'<p style=\"color:blue\"><b>{k}</b></p>'\n",
    "        try:\n",
    "            display(widgets.HBox([widgets.HTML(label, layout={'width':'200px'}),ui.row]))\n",
    "        except:\n",
    "            AssertionError('widget not formed for class string: {}'.format(ui.autoui_type))\n",
    "            \n",
    "def test_display_AutoUi(di_test_autologic, df_map=DF_MAP):\n",
    "    rows = []\n",
    "    for k, v in di_test_autologic.items():\n",
    "        tmp = v\n",
    "        tmp['name'] = k\n",
    "        \n",
    "        rows.append(tmp)\n",
    "    data = AutoUiBase(**{'rows':rows})\n",
    "    ui = AutoUi(data)\n",
    "    return ui\n",
    "\n",
    "if __name__ == \"__main__\":\n",
    "    test_display_WidgetRow_widget(di_test_autologic)\n",
    "    ui=test_display_AutoUi(di_test_autologic)\n",
    "    display(ui)\n",
    "    #---------------------------------------------------------------"
   ]
  },
  {
   "cell_type": "code",
   "execution_count": null,
   "id": "a4d36f82-900b-422d-899c-fb5dfae11fa9",
   "metadata": {},
   "outputs": [],
   "source": []
  }
 ],
 "metadata": {
  "jupytext": {
   "formats": "ipynb,py"
  },
  "kernelspec": {
   "display_name": "Python 3",
   "language": "python",
   "name": "python3"
  },
  "language_info": {
   "codemirror_mode": {
    "name": "ipython",
    "version": 3
   },
   "file_extension": ".py",
   "mimetype": "text/x-python",
   "name": "python",
   "nbconvert_exporter": "python",
   "pygments_lexer": "ipython3",
   "version": "3.9.4"
  }
 },
 "nbformat": 4,
 "nbformat_minor": 5
}
