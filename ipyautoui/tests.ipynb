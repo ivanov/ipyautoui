{
 "cells": [
  {
   "cell_type": "code",
   "execution_count": 3,
   "id": "0c364f43-59ab-4f50-8c34-20282ec51859",
   "metadata": {
    "lines_to_next_cell": 0
   },
   "outputs": [
    {
     "data": {
      "application/vnd.jupyter.widget-view+json": {
       "model_id": "d810ab2fb27449968c583be80b13f4e6",
       "version_major": 2,
       "version_minor": 0
      },
      "text/plain": [
       "HBox(children=(HTML(value='<b>IntSlider</b>', layout=Layout(width='200px')), HBox(children=(IntSlider(value=1,…"
      ]
     },
     "metadata": {},
     "output_type": "display_data"
    },
    {
     "data": {
      "application/vnd.jupyter.widget-view+json": {
       "model_id": "e824b8cbc24a4f86a96f6596d7a7c839",
       "version_major": 2,
       "version_minor": 0
      },
      "text/plain": [
       "HBox(children=(HTML(value='<b>IntText</b>', layout=Layout(width='200px')), HBox(children=(IntText(value=1), HT…"
      ]
     },
     "metadata": {},
     "output_type": "display_data"
    },
    {
     "data": {
      "application/vnd.jupyter.widget-view+json": {
       "model_id": "54c6163e9521424b841f09b2eedb5f8e",
       "version_major": 2,
       "version_minor": 0
      },
      "text/plain": [
       "HBox(children=(HTML(value='<b>IntRangeSlider</b>', layout=Layout(width='200px')), HBox(children=(IntRangeSlide…"
      ]
     },
     "metadata": {},
     "output_type": "display_data"
    },
    {
     "data": {
      "application/vnd.jupyter.widget-view+json": {
       "model_id": "c3a57658fd7146cd9f46ab77e35c4b52",
       "version_major": 2,
       "version_minor": 0
      },
      "text/plain": [
       "HBox(children=(HTML(value='<b>FloatSlider</b>', layout=Layout(width='200px')), HBox(children=(FloatSlider(valu…"
      ]
     },
     "metadata": {},
     "output_type": "display_data"
    },
    {
     "data": {
      "application/vnd.jupyter.widget-view+json": {
       "model_id": "85bc1d0bce2147029a9372cd6b693a58",
       "version_major": 2,
       "version_minor": 0
      },
      "text/plain": [
       "HBox(children=(HTML(value='<b>FloatText</b>', layout=Layout(width='200px')), HBox(children=(FloatText(value=1.…"
      ]
     },
     "metadata": {},
     "output_type": "display_data"
    },
    {
     "data": {
      "application/vnd.jupyter.widget-view+json": {
       "model_id": "95abcc2da5b2402ebbe907ceca921f5e",
       "version_major": 2,
       "version_minor": 0
      },
      "text/plain": [
       "HBox(children=(HTML(value='<b>FloatRangeSlider</b>', layout=Layout(width='200px')), HBox(children=(FloatRangeS…"
      ]
     },
     "metadata": {},
     "output_type": "display_data"
    },
    {
     "data": {
      "application/vnd.jupyter.widget-view+json": {
       "model_id": "af3c611936bb4ba4925e453157f45c94",
       "version_major": 2,
       "version_minor": 0
      },
      "text/plain": [
       "HBox(children=(HTML(value='<b>Checkbox</b>', layout=Layout(width='200px')), HBox(children=(Checkbox(value=True…"
      ]
     },
     "metadata": {},
     "output_type": "display_data"
    },
    {
     "data": {
      "application/vnd.jupyter.widget-view+json": {
       "model_id": "89f9ea6191004a4d834dbf5e4076f3da",
       "version_major": 2,
       "version_minor": 0
      },
      "text/plain": [
       "HBox(children=(HTML(value='<b>Dropdown</b>', layout=Layout(width='200px')), HBox(children=(Dropdown(index=2, o…"
      ]
     },
     "metadata": {},
     "output_type": "display_data"
    },
    {
     "data": {
      "application/vnd.jupyter.widget-view+json": {
       "model_id": "e9147976dad74ff09c68bdfce5f78852",
       "version_major": 2,
       "version_minor": 0
      },
      "text/plain": [
       "HBox(children=(HTML(value='<b>SelectionRangeSlider</b>', layout=Layout(width='200px')), HBox(children=(Selecti…"
      ]
     },
     "metadata": {},
     "output_type": "display_data"
    },
    {
     "data": {
      "application/vnd.jupyter.widget-view+json": {
       "model_id": "4553cac3fbbd4564a305c5a26a48f164",
       "version_major": 2,
       "version_minor": 0
      },
      "text/plain": [
       "HBox(children=(HTML(value='<b>SelectMultiple</b>', layout=Layout(width='200px')), HBox(children=(SelectMultipl…"
      ]
     },
     "metadata": {},
     "output_type": "display_data"
    },
    {
     "data": {
      "application/vnd.jupyter.widget-view+json": {
       "model_id": "bf4389a0fc994ee991765eb9e85ef03e",
       "version_major": 2,
       "version_minor": 0
      },
      "text/plain": [
       "HBox(children=(HTML(value='<b>Text</b>', layout=Layout(width='200px')), HBox(children=(Text(value='short text'…"
      ]
     },
     "metadata": {},
     "output_type": "display_data"
    },
    {
     "data": {
      "application/vnd.jupyter.widget-view+json": {
       "model_id": "4ef837347c4f4d3a98741ec80e969d54",
       "version_major": 2,
       "version_minor": 0
      },
      "text/plain": [
       "HBox(children=(HTML(value='<b>Textarea</b>', layout=Layout(width='200px')), HBox(children=(Textarea(value='lon…"
      ]
     },
     "metadata": {},
     "output_type": "display_data"
    },
    {
     "data": {
      "application/vnd.jupyter.widget-view+json": {
       "model_id": "4cc9889ed9154ee5ace423b7b6ea898f",
       "version_major": 2,
       "version_minor": 0
      },
      "text/plain": [
       "HBox(children=(HTML(value='<b>Combobox</b>', layout=Layout(width='200px')), HBox(children=(Combobox(value='str…"
      ]
     },
     "metadata": {},
     "output_type": "display_data"
    },
    {
     "data": {
      "application/vnd.jupyter.widget-view+json": {
       "model_id": "809dc31bdb174472b6a5e4d32945baf8",
       "version_major": 2,
       "version_minor": 0
      },
      "text/plain": [
       "HBox(children=(HTML(value='<b>DatePicker</b>', layout=Layout(width='200px')), HBox(children=(DatePicker(value=…"
      ]
     },
     "metadata": {},
     "output_type": "display_data"
    },
    {
     "name": "stdout",
     "output_type": "stream",
     "text": [
      "path given doesnt exist\n"
     ]
    },
    {
     "data": {
      "application/vnd.jupyter.widget-view+json": {
       "model_id": "4b412460b9a34a178cd332e5b4f0b683",
       "version_major": 2,
       "version_minor": 0
      },
      "text/plain": [
       "HBox(children=(HTML(value='<p style=\"color:blue\"><b>FileChooser</b></p>', layout=Layout(width='200px')), HBox(…"
      ]
     },
     "metadata": {},
     "output_type": "display_data"
    },
    {
     "data": {
      "application/vnd.jupyter.widget-view+json": {
       "model_id": "2f29442da0f94d9f8eec17f74428bd08",
       "version_major": 2,
       "version_minor": 0
      },
      "text/plain": [
       "HBox(children=(HTML(value='<p style=\"color:blue\"><b>FileUpload</b></p>', layout=Layout(width='200px')), HBox(c…"
      ]
     },
     "metadata": {},
     "output_type": "display_data"
    },
    {
     "data": {
      "application/vnd.jupyter.widget-view+json": {
       "model_id": "f416138f9eaf4327b8b12068f7884cbf",
       "version_major": 2,
       "version_minor": 0
      },
      "text/plain": [
       "HBox(children=(HTML(value='<p style=\"color:blue\"><b>AutoModelRunName</b></p>', layout=Layout(width='200px')), …"
      ]
     },
     "metadata": {},
     "output_type": "display_data"
    },
    {
     "data": {
      "application/vnd.jupyter.widget-view+json": {
       "model_id": "72425f82abb84e8782eb4d7e3d6f56e3",
       "version_major": 2,
       "version_minor": 0
      },
      "text/plain": [
       "HBox(children=(HTML(value='<p style=\"color:blue\"><b>DataGrid</b></p>', layout=Layout(width='200px')), HBox(chi…"
      ]
     },
     "metadata": {},
     "output_type": "display_data"
    },
    {
     "name": "stdout",
     "output_type": "stream",
     "text": [
      "path given doesnt exist\n"
     ]
    },
    {
     "data": {
      "application/vnd.jupyter.widget-view+json": {
       "model_id": "36065cfd70034bb48c0ff16ac9328dee",
       "version_major": 2,
       "version_minor": 0
      },
      "text/plain": [
       "VBox(children=(HBox(children=(IntSlider(value=1, max=3), HTML(value='<p><strong>IntSlider</strong>, </p>'), HT…"
      ]
     },
     "metadata": {},
     "output_type": "display_data"
    }
   ],
   "source": [
    "%run __init__.py\n",
    "\n",
    "import datetime\n",
    "import pandas as pd\n",
    "import pathlib\n",
    "import ipywidgets as widgets\n",
    "from markdown import markdown\n",
    "from IPython.display import display, Markdown\n",
    "\n",
    "from ipyautoui.constants import DF_MAP\n",
    "from ipyautoui.autoui import AutoUi, AutoUiBase, WidgetRow, WidgetRowBase, _markdown\n",
    "from ipyautoui._utils import obj_from_string\n",
    "from ipyautoui._auto_logic import *\n",
    "\n",
    "from ipyautoui._custom_widgets import AutoUiFileChooser, AutoUiFileUpload, AutoUiDataGrid, AutoModelRunName\n",
    "from ipyautoui.test_autoui_data import di_test_autologic\n",
    "\n",
    "# TESTING #-----------------------------------------------------\n",
    "#---------------------------------------------------------------\n",
    "\n",
    "\n",
    "def test_mapping(di_test_autologic, df_map=DF_MAP):\n",
    "    for k, v in di_test_autologic.items():\n",
    "        if 'autoui_type' not in v:\n",
    "            queries = get_filter_query(**v)\n",
    "            df_tmp = pd_execute_queries(df_map, queries)\n",
    "            assert len(df_tmp) == 1, '{} --> len(df_tmp) == {}'.format(k, len(df_tmp))\n",
    "            widget_class_string = df_tmp.reset_index().loc[0, 'widget_class_string']\n",
    "        else:\n",
    "            widget_class_string = v['autoui_type']\n",
    "        widget_name = name_from_class_string(widget_class_string)\n",
    "        assert k in widget_name, f'{k} != {widget_name}'\n",
    "    \n",
    "def test_display_WidgetRow_widget(di_test_autologic, df_map=DF_MAP):\n",
    "    li = []\n",
    "    for k, v in di_test_autologic.items():\n",
    "        data = WidgetRowBase(**v)\n",
    "        ui = WidgetRow(data)\n",
    "        assert str(type(ui.widget)) == data.autoui_type, 'WidgetRow not initalised'\n",
    "        if 'ipywidget' in str(type(ui.widget)):\n",
    "            label = f'<b>{k}</b>'\n",
    "        else:\n",
    "            label = f'<p style=\"color:blue\"><b>{k}</b></p>'\n",
    "        try:\n",
    "            display(widgets.HBox([widgets.HTML(label, layout={'width':'200px'}),ui.row]))\n",
    "        except:\n",
    "            AssertionError('widget not formed for class string: {}'.format(ui.autoui_type))\n",
    "            \n",
    "def test_display_AutoUi(di_test_autologic, df_map=DF_MAP):\n",
    "    rows = []\n",
    "    for k, v in di_test_autologic.items():\n",
    "        tmp = v\n",
    "        tmp['name'] = k\n",
    "        \n",
    "        rows.append(tmp)\n",
    "    data = AutoUiBase(**{'rows':rows})\n",
    "    ui = AutoUi(data)\n",
    "    return ui\n",
    "\n",
    "        \n",
    "test_mapping(di_test_autologic)\n",
    "test_display_WidgetRow_widget(di_test_autologic)\n",
    "ui=test_display_AutoUi(di_test_autologic)\n",
    "display(ui)\n",
    "#---------------------------------------------------------------"
   ]
  }
 ],
 "metadata": {
  "jupytext": {
   "formats": "ipynb,py"
  },
  "kernelspec": {
   "display_name": "Python 3",
   "language": "python",
   "name": "python3"
  },
  "language_info": {
   "codemirror_mode": {
    "name": "ipython",
    "version": 3
   },
   "file_extension": ".py",
   "mimetype": "text/x-python",
   "name": "python",
   "nbconvert_exporter": "python",
   "pygments_lexer": "ipython3",
   "version": "3.9.4"
  }
 },
 "nbformat": 4,
 "nbformat_minor": 5
}
