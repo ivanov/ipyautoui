{
 "cells": [
  {
   "cell_type": "code",
   "execution_count": 1,
   "id": "b12e7815-b34b-4b2f-88bf-c266d0ac7db3",
   "metadata": {},
   "outputs": [],
   "source": [
    "\n",
    "import sys\n",
    "sys.path.append('/mnt/c/engDev/git_extrnl/pydantic')\n",
    "%run __init__.py\n"
   ]
  },
  {
   "cell_type": "code",
   "execution_count": 2,
   "id": "5818db06-55e1-441a-83a3-9b9326cfb759",
   "metadata": {},
   "outputs": [
    {
     "name": "stderr",
     "output_type": "stream",
     "text": [
      "<ipython-input-2-6a0235c4e01b>:104: DeprecationWarning: Sampling from a set deprecated\n",
      "since Python 3.9 and will be removed in a subsequent version.\n",
      "  run_descriptions = random.sample(words, len(words))\n"
     ]
    },
    {
     "data": {
      "application/vnd.jupyter.widget-view+json": {
       "model_id": "6a4fd77fbb454dbc9563308abd46f6b2",
       "version_major": 2,
       "version_minor": 0
      },
      "text/plain": [
       "Output()"
      ]
     },
     "metadata": {},
     "output_type": "display_data"
    },
    {
     "data": {
      "application/vnd.jupyter.widget-view+json": {
       "model_id": "0d353c54ab3b4ff596379cb4da551d87",
       "version_major": 2,
       "version_minor": 0
      },
      "text/plain": [
       "HBox(children=(VBox(children=(Text(value='', layout=Layout(width='325px')), VBox(children=(Checkbox(value=Fals…"
      ]
     },
     "metadata": {},
     "output_type": "display_data"
    }
   ],
   "source": [
    "\"\"\"\n",
    "\n",
    "Reference:\n",
    "    multi-select widget:\n",
    "        https://gist.github.com/MattJBritton/9dc26109acb4dfe17820cf72d82f1e6f\n",
    "\n",
    "\"\"\"\n",
    "\n",
    "import requests\n",
    "import random\n",
    "import ipywidgets as wid\n",
    "\n",
    "def multi_checkbox_widget(options_dict):\n",
    "    \"\"\" Widget with a search field and lots of checkboxes \"\"\"\n",
    "    search_widget = wid.Text(layout={'width':'325px'})\n",
    "    output_widget = wid.Output()\n",
    "    options = [x for x in options_dict.values()]\n",
    "    options_layout = wid.Layout(\n",
    "        overflow='auto',\n",
    "        border='1px solid black',\n",
    "        width='325px',\n",
    "        height='300px',\n",
    "        flex_flow='column',\n",
    "        display='flex'\n",
    "    )\n",
    "    \n",
    "    #selected_widget = wid.Box(children=[options[0]])\n",
    "    options_widget = wid.VBox(options, layout=options_layout)\n",
    "    #left_widget = wid.VBox(search_widget, selected_widget)\n",
    "    multi_select = wid.VBox([search_widget, options_widget])\n",
    "\n",
    "    @output_widget.capture()\n",
    "    def on_checkbox_change(change):\n",
    "        \n",
    "        selected_recipe = change[\"owner\"].run_description\n",
    "        #print(options_widget.children)\n",
    "        #selected_item = wid.Button(run_description = change[\"new\"])\n",
    "        #selected_widget.children = [] #selected_widget.children + [selected_item]\n",
    "        options_widget.children = sorted([x for x in options_widget.children], key = lambda x: x.value, reverse = True)\n",
    "        \n",
    "    for checkbox in options:\n",
    "        checkbox.observe(on_checkbox_change, names=\"value\")\n",
    "\n",
    "    # Wire the search field to the checkboxes\n",
    "    @output_widget.capture()\n",
    "    def on_text_change(change):\n",
    "        search_input = change['new']\n",
    "        if search_input == '':\n",
    "            # Reset search field\n",
    "            new_options = sorted(options, key = lambda x: x.value, reverse = True)\n",
    "        else:\n",
    "            # Filter by search field using difflib.\n",
    "            #close_matches = difflib.get_close_matches(search_input, list(options_dict.keys()), cutoff=0.0)\n",
    "            close_matches = [x for x in list(options_dict.keys()) if str.lower(search_input.strip('')) in str.lower(x)]\n",
    "            new_options = sorted(\n",
    "                [x for x in options if x.run_description in close_matches], \n",
    "                key = lambda x: x.value, reverse = True\n",
    "            ) #[options_dict[x] for x in close_matches]\n",
    "        options_widget.children = new_options\n",
    "\n",
    "    search_widget.observe(on_text_change, names='value')\n",
    "    display(output_widget)\n",
    "    return multi_select\n",
    "\n",
    "\n",
    "# Get lots of words for our options\n",
    "#words_url = 'https://svnweb.freebsd.org/csrg/share/dict/words?view=co&content-type=text/plain'\n",
    "#response = requests.get(words_url)\n",
    "#response.raise_for_status()\n",
    "#words = response.text\n",
    "words = \"\"\"\n",
    "a\n",
    "AAA\n",
    "AAAS\n",
    "aardvark\n",
    "Aarhus\n",
    "Aaron\n",
    "ABA\n",
    "Ababa\n",
    "aback\n",
    "abacus\n",
    "abalone\n",
    "abandon\n",
    "abase\n",
    "abash\n",
    "abate\n",
    "abbas\n",
    "abbe\n",
    "abbey\n",
    "abbot\n",
    "Abbott\n",
    "abbreviate\n",
    "abc\n",
    "abdicate\n",
    "abdomen\n",
    "abdominal\n",
    "abduct\n",
    "Abe\n",
    "abed\n",
    "Abel\n",
    "\"\"\"\n",
    "words = set([word.lower() for word in words.splitlines()])\n",
    "#run_descriptions = set(list(words)[0:10])#random.sample(words, len(words))\n",
    "run_descriptions = random.sample(words, len(words))\n",
    "options_dict = {\n",
    "    x: wid.Checkbox(\n",
    "        run_description=x, \n",
    "        value=False,\n",
    "        style={\"run_description_width\":\"0px\"}\n",
    "    ) for x in run_descriptions\n",
    "}\n",
    "\n",
    "def f(**args):\n",
    "    \n",
    "    results = [key for key, value in args.items() if value]\n",
    "    display(results)\n",
    "\n",
    "ui = multi_checkbox_widget(options_dict)\n",
    "out = wid.interactive_output(f, options_dict)\n",
    "display(wid.HBox([ui, out]))"
   ]
  },
  {
   "cell_type": "code",
   "execution_count": 23,
   "id": "1bd7c3ce-248f-4d92-a362-5a4aac439466",
   "metadata": {},
   "outputs": [
    {
     "data": {
      "text/plain": [
       "{'',\n",
       " 'a',\n",
       " 'aaa',\n",
       " 'ababa',\n",
       " 'abandon',\n",
       " 'abbas',\n",
       " 'abbott',\n",
       " 'abbreviate',\n",
       " 'abduct',\n",
       " 'abed'}"
      ]
     },
     "execution_count": 23,
     "metadata": {},
     "output_type": "execute_result"
    }
   ],
   "source": [
    "set(list(words)[0:10])"
   ]
  },
  {
   "cell_type": "code",
   "execution_count": 2,
   "id": "cf5d6093-898d-4a7c-bb4e-47b65c1416c8",
   "metadata": {},
   "outputs": [
    {
     "data": {
      "application/vnd.jupyter.widget-view+json": {
       "model_id": "0ccdd36ba31642629a5858ca62395e25",
       "version_major": 2,
       "version_minor": 0
      },
      "text/plain": [
       "HBox(children=(VBox(children=(IntSlider(value=0, description='a'), IntSlider(value=0, description='b'), IntSli…"
      ]
     },
     "metadata": {},
     "output_type": "display_data"
    }
   ],
   "source": [
    "import ipywidgets as widgets\n",
    "a = widgets.IntSlider(run_description='a')\n",
    "b = widgets.IntSlider(run_description='b')\n",
    "c = widgets.IntSlider(run_description='c')\n",
    "def f(a, b, c):\n",
    "    print('{}*{}*{}={}'.format(a, b, c, a*b*c))\n",
    "\n",
    "out = widgets.interactive_output(f, {'a': a, 'b': b, 'c': c})\n",
    "\n",
    "widgets.HBox([widgets.VBox([a, b, c]), out])"
   ]
  },
  {
   "cell_type": "code",
   "execution_count": 4,
   "id": "210b5fbb-3764-40e2-8a8d-31f0a69d2e83",
   "metadata": {},
   "outputs": [],
   "source": [
    "di_dtypes = {\n",
    "    'int':int,\n",
    "    'float':float,\n",
    "    'float':float,\n",
    "    'complex':complex,\n",
    "    'dict':dict,\n",
    "    'list':list,\n",
    "    'bool':bool,\n",
    "    'set':set,\n",
    "    'str':str,\n",
    "    'tuple':tuple,\n",
    "    'type':type,\n",
    "    'none':None\n",
    "}"
   ]
  },
  {
   "cell_type": "code",
   "execution_count": 16,
   "id": "d7e3f230-2e49-4d0a-b3f1-282b57fb11e5",
   "metadata": {},
   "outputs": [
    {
     "data": {
      "text/markdown": [
       "|    | widget_class_string                                                |\n",
       "|---:|:-------------------------------------------------------------------|\n",
       "|  0 | <class 'ipywidgets.widgets.widget_int.IntSlider'>                  |\n",
       "|  1 | <class 'ipywidgets.widgets.widget_int.IntText'>                    |\n",
       "|  2 | <class 'ipywidgets.widgets.widget_int.IntRangeSlider'>             |\n",
       "|  3 | <class 'ipywidgets.widgets.widget_int.IntProgress'>                |\n",
       "|  4 | <class 'ipywidgets.widgets.widget_int.BoundedIntText'>             |\n",
       "|  5 | <class 'ipywidgets.widgets.widget_float.FloatSlider'>              |\n",
       "|  6 | <class 'ipywidgets.widgets.widget_float.FloatText'>                |\n",
       "|  7 | <class 'ipywidgets.widgets.widget_float.FloatRangeSlider'>         |\n",
       "|  8 | <class 'ipywidgets.widgets.widget_float.FloatLogSlider'>           |\n",
       "|  9 | <class 'ipywidgets.widgets.widget_float.FloatProgress'>            |\n",
       "| 10 | <class 'ipywidgets.widgets.widget_float.BoundedFloatText'>         |\n",
       "| 11 | <class 'ipywidgets.widgets.widget_bool.ToggleButton'>              |\n",
       "| 12 | <class 'ipywidgets.widgets.widget_bool.Checkbox'>                  |\n",
       "| 13 | <class 'ipywidgets.widgets.widget_bool.Valid'>                     |\n",
       "| 14 | <class 'ipywidgets.widgets.widget_selection.Dropdown'>             |\n",
       "| 15 | <class 'ipywidgets.widgets.widget_selection.RadioButtons'>         |\n",
       "| 16 | <class 'ipywidgets.widgets.widget_selection.Select'>               |\n",
       "| 17 | <class 'ipywidgets.widgets.widget_selection.SelectionSlider'>      |\n",
       "| 18 | <class 'ipywidgets.widgets.widget_selection.SelectionRangeSlider'> |\n",
       "| 19 | <class 'ipywidgets.widgets.widget_selection.ToggleButtons'>        |\n",
       "| 20 | <class 'ipywidgets.widgets.widget_selection.SelectMultiple'>       |\n",
       "| 21 | <class 'ipywidgets.widgets.widget_string.Text'>                    |\n",
       "| 22 | <class 'ipywidgets.widgets.widget_string.Textarea'>                |\n",
       "| 23 | <class 'ipywidgets.widgets.widget_string.Combobox'>                |\n",
       "| 24 | <class 'ipywidgets.widgets.widget_string.Label'>                   |\n",
       "| 25 | <class 'ipywidgets.widgets.widget_string.HTML'>                    |\n",
       "| 26 | <class 'ipywidgets.widgets.widget_string.HTMLMath'>                |\n",
       "| 27 | <class 'ipywidgets.widgets.widget_media.Image'>                    |\n",
       "| 28 | <class 'ipywidgets.widgets.widget_button.Button'>                  |\n",
       "| 29 | <class 'ipywidgets.widgets.widget_output.Output'>                  |\n",
       "| 30 | <class 'ipywidgets.widgets.widget_date.DatePicker'>                |\n",
       "| 31 | <class 'ipywidgets.widgets.widget_color.ColorPicker'>              |\n",
       "| 32 | <class 'ipywidgets.widgets.widget_upload.FileUpload'>              |"
      ],
      "text/plain": [
       "<IPython.core.display.Markdown object>"
      ]
     },
     "execution_count": 16,
     "metadata": {},
     "output_type": "execute_result"
    }
   ],
   "source": [
    "import ipywidgets as widgets\n",
    "import ipydatagrid as ipg\n",
    "li_widgets = [str(type(widgets.IntSlider())), \n",
    "str(type(widgets.IntText())), \n",
    "str(type(widgets.IntRangeSlider())), \n",
    "str(type(widgets.IntProgress())), \n",
    "str(type(widgets.BoundedIntText())), \n",
    "str(type(widgets.FloatSlider())), \n",
    "str(type(widgets.FloatText())), \n",
    "str(type(widgets.FloatRangeSlider())), \n",
    "str(type(widgets.FloatLogSlider())), \n",
    "str(type(widgets.FloatProgress())), \n",
    "str(type(widgets.BoundedFloatText())), \n",
    "str(type(widgets.ToggleButton())), \n",
    "str(type(widgets.Checkbox())), \n",
    "str(type(widgets.Valid())), \n",
    "str(type(widgets.Dropdown())), \n",
    "str(type(widgets.RadioButtons())), \n",
    "str(type(widgets.Select())), \n",
    "str(type(widgets.SelectionSlider(options=[1,2]))), \n",
    "str(type(widgets.SelectionRangeSlider(options=[1,2]))), \n",
    "str(type(widgets.ToggleButtons())), \n",
    "str(type(widgets.SelectMultiple())), \n",
    "str(type(widgets.Text())), \n",
    "str(type(widgets.Textarea())), \n",
    "str(type(widgets.Combobox())), \n",
    "str(type(widgets.Label())), \n",
    "str(type(widgets.HTML())), \n",
    "str(type(widgets.HTMLMath())), \n",
    "str(type(widgets.Image())), \n",
    "str(type(widgets.Button())), \n",
    "str(type(widgets.Output())), \n",
    "str(type(widgets.DatePicker())), \n",
    "str(type(widgets.ColorPicker())), \n",
    "str(type(widgets.FileUpload())), \n",
    "\n",
    "#str(type(widgets.TagsInput())), \n",
    "#str(type(widgets.ColorsInput())), \n",
    "#str(type(widgets.FloatsInput())), \n",
    "#str(type(widgets.IntsInput())), \n",
    "             ]\n",
    "Markdown(pd.DataFrame.from_dict({'widget_class_string': li_widgets}).to_markdown())"
   ]
  }
 ],
 "metadata": {
  "kernelspec": {
   "display_name": "Python 3",
   "language": "python",
   "name": "python3"
  },
  "language_info": {
   "codemirror_mode": {
    "name": "ipython",
    "version": 3
   },
   "file_extension": ".py",
   "mimetype": "text/x-python",
   "name": "python",
   "nbconvert_exporter": "python",
   "pygments_lexer": "ipython3",
   "version": "3.9.4"
  }
 },
 "nbformat": 4,
 "nbformat_minor": 5
}
