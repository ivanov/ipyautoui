{
 "cells": [
  {
   "cell_type": "markdown",
   "id": "97ccf54f-a55e-4b91-94a3-911f57a403c2",
   "metadata": {},
   "source": [
    "# ipyautoui\n",
    "\n",
    "wrapper that sits on top of ipywidgets and other ipy widget libraries to template / automate the creation of widget forms. Uses pydantic to create defined data-container and serialisation to JSON. Includes example patterns for adding new custom widgets.\n",
    "\n"
   ]
  },
  {
   "cell_type": "markdown",
   "id": "c59fc8f2-7165-4d3e-972e-d384ad5c6691",
   "metadata": {},
   "source": [
    "## Create a UI object\n",
    "\n",
    "ipyautoui creates a row of widgets with a: `name`, `value` and `label`. The `value` is interpreted by the WidgetRowBase class and a widget is widget type is guess by the type of the value and the `kwargs` that can also be passed when initialising the widget. "
   ]
  },
  {
   "cell_type": "code",
   "execution_count": 1,
   "id": "0640d847-6e77-4a4b-9ead-deac47edc035",
   "metadata": {},
   "outputs": [
    {
     "data": {
      "text/plain": [
       "\u001b[0;31mInit signature:\u001b[0m\n",
       "\u001b[0mWidgetRowBase\u001b[0m\u001b[0;34m(\u001b[0m\u001b[0;34m\u001b[0m\n",
       "\u001b[0;34m\u001b[0m    \u001b[0;34m*\u001b[0m\u001b[0;34m,\u001b[0m\u001b[0;34m\u001b[0m\n",
       "\u001b[0;34m\u001b[0m    \u001b[0mvalue\u001b[0m\u001b[0;34m:\u001b[0m \u001b[0mAny\u001b[0m \u001b[0;34m=\u001b[0m \u001b[0;32mNone\u001b[0m\u001b[0;34m,\u001b[0m\u001b[0;34m\u001b[0m\n",
       "\u001b[0;34m\u001b[0m    \u001b[0mkwargs\u001b[0m\u001b[0;34m:\u001b[0m \u001b[0mDict\u001b[0m \u001b[0;34m=\u001b[0m \u001b[0;34m{\u001b[0m\u001b[0;34m}\u001b[0m\u001b[0;34m,\u001b[0m\u001b[0;34m\u001b[0m\n",
       "\u001b[0;34m\u001b[0m    \u001b[0mautoui_type\u001b[0m\u001b[0;34m:\u001b[0m \u001b[0mstr\u001b[0m \u001b[0;34m=\u001b[0m \u001b[0;32mNone\u001b[0m\u001b[0;34m,\u001b[0m\u001b[0;34m\u001b[0m\n",
       "\u001b[0;34m\u001b[0m    \u001b[0mwidget\u001b[0m\u001b[0;34m:\u001b[0m \u001b[0mAny\u001b[0m \u001b[0;34m=\u001b[0m \u001b[0;32mNone\u001b[0m\u001b[0;34m,\u001b[0m\u001b[0;34m\u001b[0m\n",
       "\u001b[0;34m\u001b[0m    \u001b[0mname\u001b[0m\u001b[0;34m:\u001b[0m \u001b[0mstr\u001b[0m \u001b[0;34m=\u001b[0m \u001b[0;34m'name'\u001b[0m\u001b[0;34m,\u001b[0m\u001b[0;34m\u001b[0m\n",
       "\u001b[0;34m\u001b[0m    \u001b[0mlabel\u001b[0m\u001b[0;34m:\u001b[0m \u001b[0mstr\u001b[0m \u001b[0;34m=\u001b[0m \u001b[0;34m'label'\u001b[0m\u001b[0;34m,\u001b[0m\u001b[0;34m\u001b[0m\n",
       "\u001b[0;34m\u001b[0m\u001b[0;34m)\u001b[0m \u001b[0;34m->\u001b[0m \u001b[0;32mNone\u001b[0m\u001b[0;34m\u001b[0m\u001b[0;34m\u001b[0m\u001b[0m\n",
       "\u001b[0;31mDocstring:\u001b[0m     \n",
       "data container for a AutoWidget. \n",
       "this is a data container for all auto-widgets.\n",
       "it inherits pydantic.BaseModel and uses pydantic validation tools to \n",
       "initiate the \"widget\" and the \"autoui_type\" based on the value type and kwargs. \n",
       "using the pydantic \".dict()\" and \".json()\" commands data can be serialised. the \"widget\"\n",
       "parameter is excluded from the \"dict()\" and \"json()\" commands; this means that the \n",
       "output contains strings only and can be written to file.\n",
       "\u001b[0;31mInit docstring:\u001b[0m\n",
       "Create a new model by parsing and validating input data from keyword arguments.\n",
       "\n",
       "Raises ValidationError if the input data cannot be parsed to form a valid model.\n",
       "\u001b[0;31mFile:\u001b[0m           /mnt/c/engDev/git_mf/ipyautoui/ipyautoui/autoui.py\n",
       "\u001b[0;31mType:\u001b[0m           ModelMetaclass\n",
       "\u001b[0;31mSubclasses:\u001b[0m     WidgetRow\n"
      ]
     },
     "metadata": {},
     "output_type": "display_data"
    }
   ],
   "source": [
    "from ipyautoui.autoui import AutoUi, AutoUiBase, WidgetRowBase\n",
    "\n",
    "?WidgetRowBase"
   ]
  },
  {
   "cell_type": "code",
   "execution_count": 2,
   "id": "2896692d-770d-4d67-b17e-7720325ad804",
   "metadata": {},
   "outputs": [
    {
     "data": {
      "application/vnd.jupyter.widget-view+json": {
       "model_id": "c9b54b82b3774570a979bda69a7d88ad",
       "version_major": 2,
       "version_minor": 0
      },
      "text/plain": [
       "VBox(children=(HBox(children=(IntText(value=1), HTML(value='<p><strong>integer</strong>, </p>'), HTML(value='<…"
      ]
     },
     "metadata": {},
     "output_type": "display_data"
    }
   ],
   "source": [
    "rows = [\n",
    "    {'value': 1, 'name':'integer'},\n",
    "    {'value': 'string'}, \n",
    "    {'value': 1, 'kwargs': {'min':0, 'max':4}}\n",
    "]\n",
    "\n",
    "aui = AutoUiBase(rows = rows)\n",
    "ui = AutoUi(aui)\n",
    "ui"
   ]
  },
  {
   "cell_type": "code",
   "execution_count": 3,
   "id": "cfc5361c-76e7-488e-a1e5-45ba8f58410c",
   "metadata": {},
   "outputs": [
    {
     "data": {
      "application/vnd.jupyter.widget-view+json": {
       "model_id": "3fc134533c614f3d93ecd80007b3b9df",
       "version_major": 2,
       "version_minor": 0
      },
      "text/plain": [
       "IntText(value=1)"
      ]
     },
     "metadata": {},
     "output_type": "display_data"
    },
    {
     "name": "stdout",
     "output_type": "stream",
     "text": [
      "1\n"
     ]
    },
    {
     "data": {
      "text/plain": [
       "2"
      ]
     },
     "execution_count": 3,
     "metadata": {},
     "output_type": "execute_result"
    }
   ],
   "source": [
    "# AutoUi class adds the widget attribute\n",
    "# it uses traitlets to ensure that if the widget value\n",
    "# changes the ui.value attribute also changes with it\n",
    "display(ui.rows[0].widget)\n",
    "print(ui.rows[0].widget.value)\n",
    "ui.rows[0].widget.value = 2\n",
    "ui.rows[0].value"
   ]
  },
  {
   "cell_type": "markdown",
   "id": "5a074157-5882-49c9-922b-b79ad3e514de",
   "metadata": {},
   "source": [
    "## Output / transport data from UI"
   ]
  },
  {
   "cell_type": "code",
   "execution_count": 4,
   "id": "fd5ad781-ae63-43c3-a006-eabff474ef8d",
   "metadata": {},
   "outputs": [
    {
     "data": {
      "text/plain": [
       "{'rows': [{'value': 2,\n",
       "   'kwargs': {},\n",
       "   'autoui_type': \"<class 'ipywidgets.widgets.widget_int.IntText'>\",\n",
       "   'name': 'integer',\n",
       "   'label': 'label'},\n",
       "  {'value': 'string',\n",
       "   'kwargs': {},\n",
       "   'autoui_type': \"<class 'ipywidgets.widgets.widget_string.Text'>\",\n",
       "   'name': 'name',\n",
       "   'label': 'label'},\n",
       "  {'value': 1,\n",
       "   'kwargs': {'min': 0, 'max': 4},\n",
       "   'autoui_type': \"<class 'ipywidgets.widgets.widget_int.IntSlider'>\",\n",
       "   'name': 'name',\n",
       "   'label': 'label'}]}"
      ]
     },
     "execution_count": 4,
     "metadata": {},
     "output_type": "execute_result"
    }
   ],
   "source": [
    "## using Pydantic data serialisation amd config option introduced in v1.8.3,\n",
    "# the JSON inconpatible attributes are removed\n",
    "# when the widget is written to dict or JSON. \n",
    "ui.dict()"
   ]
  },
  {
   "cell_type": "markdown",
   "id": "db84dbda-3089-4f8b-bd66-cb753bc1371c",
   "metadata": {},
   "source": [
    "## Reload data back into UI\n",
    "\n",
    "the `autoui_type` saves a class string defining what widget should be used. This is converted to the object using importlib."
   ]
  },
  {
   "cell_type": "code",
   "execution_count": 5,
   "id": "6e903acf-a42f-4337-b2cb-ddfa0c9a92eb",
   "metadata": {},
   "outputs": [
    {
     "data": {
      "application/vnd.jupyter.widget-view+json": {
       "model_id": "595ccfb8e2474392862e9cf6e171168e",
       "version_major": 2,
       "version_minor": 0
      },
      "text/plain": [
       "VBox(children=(HBox(children=(IntText(value=2), HTML(value='<p><strong>integer</strong>, </p>'), HTML(value='<…"
      ]
     },
     "metadata": {},
     "output_type": "display_data"
    }
   ],
   "source": [
    "#  importlib is used to create the widget from the `autoui_type` string characteristic\n",
    "aui = AutoUiBase(**ui.dict())\n",
    "AutoUi(aui)"
   ]
  },
  {
   "cell_type": "markdown",
   "id": "f691b825-07b8-49e2-bff5-84625933a261",
   "metadata": {},
   "source": [
    "## Create custom UI object rows\n",
    "\n",
    "This library mainly relies on ipywidgets, but other libraries can also be used. The AutoUi widget uses traitlets to watch when the `widget.value` changes, wrappers can be made around other widget libraries to allow this behaviour. \n",
    "\n",
    "In this way pandas dataframes using ipydatagrid can also be used.\n",
    "\n",
    "(See `ipyautoui.custom_widgets` for more examples.\n",
    "\n"
   ]
  },
  {
   "cell_type": "code",
   "execution_count": 7,
   "id": "a4740657-598b-4bb7-9ef6-ef4ca3499a33",
   "metadata": {},
   "outputs": [],
   "source": [
    "import pandas as pd\n",
    "rows.append(\n",
    "    {'name':'pandas', 'value': pd.DataFrame({'col1': [1, 2], 'col2': [3, 4]}), 'label': 'example of a custom widget'}\n",
    ")"
   ]
  },
  {
   "cell_type": "code",
   "execution_count": 8,
   "id": "3c72843b-f78c-4161-a034-e45e6df6c670",
   "metadata": {},
   "outputs": [
    {
     "data": {
      "application/vnd.jupyter.widget-view+json": {
       "model_id": "74a68ba06c4a4f6392bb766a681f9fd9",
       "version_major": 2,
       "version_minor": 0
      },
      "text/plain": [
       "VBox(children=(HBox(children=(IntText(value=1), HTML(value='<p><strong>integer</strong>, </p>'), HTML(value='<…"
      ]
     },
     "metadata": {},
     "output_type": "display_data"
    }
   ],
   "source": [
    "\n",
    "aui = AutoUiBase(rows = rows)\n",
    "ui = AutoUi(aui)\n",
    "ui"
   ]
  },
  {
   "cell_type": "markdown",
   "id": "e8df9f56-4528-4c81-8c5d-e61423132681",
   "metadata": {},
   "source": [
    "## Write to file"
   ]
  },
  {
   "cell_type": "code",
   "execution_count": null,
   "id": "f6b70a1b-df61-483a-8e06-94b3186b2b82",
   "metadata": {},
   "outputs": [],
   "source": []
  }
 ],
 "metadata": {
  "jupytext": {
   "formats": "ipynb,md"
  },
  "kernelspec": {
   "display_name": "Python 3",
   "language": "python",
   "name": "python3"
  },
  "language_info": {
   "codemirror_mode": {
    "name": "ipython",
    "version": 3
   },
   "file_extension": ".py",
   "mimetype": "text/x-python",
   "name": "python",
   "nbconvert_exporter": "python",
   "pygments_lexer": "ipython3",
   "version": "3.9.4"
  }
 },
 "nbformat": 4,
 "nbformat_minor": 5
}
