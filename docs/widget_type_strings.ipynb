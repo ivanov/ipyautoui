{
 "cells": [
  {
   "cell_type": "code",
   "execution_count": 2,
   "id": "3fa543a5-d5b8-4112-9068-d885fec6fb3f",
   "metadata": {},
   "outputs": [
    {
     "data": {
      "text/markdown": [
       "|    | widget_class_string                                                |\n",
       "|---:|:-------------------------------------------------------------------|\n",
       "|  0 | <class 'ipywidgets.widgets.widget_int.IntSlider'>                  |\n",
       "|  1 | <class 'ipywidgets.widgets.widget_int.IntText'>                    |\n",
       "|  2 | <class 'ipywidgets.widgets.widget_int.IntRangeSlider'>             |\n",
       "|  3 | <class 'ipywidgets.widgets.widget_int.IntProgress'>                |\n",
       "|  4 | <class 'ipywidgets.widgets.widget_int.BoundedIntText'>             |\n",
       "|  5 | <class 'ipywidgets.widgets.widget_float.FloatSlider'>              |\n",
       "|  6 | <class 'ipywidgets.widgets.widget_float.FloatText'>                |\n",
       "|  7 | <class 'ipywidgets.widgets.widget_float.FloatRangeSlider'>         |\n",
       "|  8 | <class 'ipywidgets.widgets.widget_float.FloatLogSlider'>           |\n",
       "|  9 | <class 'ipywidgets.widgets.widget_float.FloatProgress'>            |\n",
       "| 10 | <class 'ipywidgets.widgets.widget_float.BoundedFloatText'>         |\n",
       "| 11 | <class 'ipywidgets.widgets.widget_bool.ToggleButton'>              |\n",
       "| 12 | <class 'ipywidgets.widgets.widget_bool.Checkbox'>                  |\n",
       "| 13 | <class 'ipywidgets.widgets.widget_bool.Valid'>                     |\n",
       "| 14 | <class 'ipywidgets.widgets.widget_selection.Dropdown'>             |\n",
       "| 15 | <class 'ipywidgets.widgets.widget_selection.RadioButtons'>         |\n",
       "| 16 | <class 'ipywidgets.widgets.widget_selection.Select'>               |\n",
       "| 17 | <class 'ipywidgets.widgets.widget_selection.SelectionSlider'>      |\n",
       "| 18 | <class 'ipywidgets.widgets.widget_selection.SelectionRangeSlider'> |\n",
       "| 19 | <class 'ipywidgets.widgets.widget_selection.ToggleButtons'>        |\n",
       "| 20 | <class 'ipywidgets.widgets.widget_selection.SelectMultiple'>       |\n",
       "| 21 | <class 'ipywidgets.widgets.widget_string.Text'>                    |\n",
       "| 22 | <class 'ipywidgets.widgets.widget_string.Textarea'>                |\n",
       "| 23 | <class 'ipywidgets.widgets.widget_string.Combobox'>                |\n",
       "| 24 | <class 'ipywidgets.widgets.widget_string.Label'>                   |\n",
       "| 25 | <class 'ipywidgets.widgets.widget_string.HTML'>                    |\n",
       "| 26 | <class 'ipywidgets.widgets.widget_string.HTMLMath'>                |\n",
       "| 27 | <class 'ipywidgets.widgets.widget_media.Image'>                    |\n",
       "| 28 | <class 'ipywidgets.widgets.widget_button.Button'>                  |\n",
       "| 29 | <class 'ipywidgets.widgets.widget_output.Output'>                  |\n",
       "| 30 | <class 'ipywidgets.widgets.widget_date.DatePicker'>                |\n",
       "| 31 | <class 'ipywidgets.widgets.widget_color.ColorPicker'>              |\n",
       "| 32 | <class 'ipywidgets.widgets.widget_upload.FileUpload'>              |"
      ],
      "text/plain": [
       "<IPython.core.display.Markdown object>"
      ]
     },
     "execution_count": 2,
     "metadata": {},
     "output_type": "execute_result"
    }
   ],
   "source": [
    "import ipywidgets as widgets\n",
    "import ipydatagrid as ipg\n",
    "import pandas as pd\n",
    "from IPython.display import Markdown\n",
    "li_widgets = [str(type(widgets.IntSlider())), \n",
    "str(type(widgets.IntText())), \n",
    "str(type(widgets.IntRangeSlider())), \n",
    "str(type(widgets.IntProgress())), \n",
    "str(type(widgets.BoundedIntText())), \n",
    "str(type(widgets.FloatSlider())), \n",
    "str(type(widgets.FloatText())), \n",
    "str(type(widgets.FloatRangeSlider())), \n",
    "str(type(widgets.FloatLogSlider())), \n",
    "str(type(widgets.FloatProgress())), \n",
    "str(type(widgets.BoundedFloatText())), \n",
    "str(type(widgets.ToggleButton())), \n",
    "str(type(widgets.Checkbox())), \n",
    "str(type(widgets.Valid())), \n",
    "str(type(widgets.Dropdown())), \n",
    "str(type(widgets.RadioButtons())), \n",
    "str(type(widgets.Select())), \n",
    "str(type(widgets.SelectionSlider(options=[1,2]))), \n",
    "str(type(widgets.SelectionRangeSlider(options=[1,2]))), \n",
    "str(type(widgets.ToggleButtons())), \n",
    "str(type(widgets.SelectMultiple())), \n",
    "str(type(widgets.Text())), \n",
    "str(type(widgets.Textarea())), \n",
    "str(type(widgets.Combobox())), \n",
    "str(type(widgets.Label())), \n",
    "str(type(widgets.HTML())), \n",
    "str(type(widgets.HTMLMath())), \n",
    "str(type(widgets.Image())), \n",
    "str(type(widgets.Button())), \n",
    "str(type(widgets.Output())), \n",
    "str(type(widgets.DatePicker())), \n",
    "str(type(widgets.ColorPicker())), \n",
    "str(type(widgets.FileUpload())), \n",
    "#str(type(widgets.TagsInput())), \n",
    "#str(type(widgets.ColorsInput())), \n",
    "#str(type(widgets.FloatsInput())), \n",
    "#str(type(widgets.IntsInput())), \n",
    "             ]\n",
    "Markdown(pd.DataFrame.from_dict({'widget_class_string': li_widgets}).to_markdown())"
   ]
  }
 ],
 "metadata": {
  "kernelspec": {
   "display_name": "Python 3 (ipykernel)",
   "language": "python",
   "name": "python3"
  },
  "language_info": {
   "codemirror_mode": {
    "name": "ipython",
    "version": 3
   },
   "file_extension": ".py",
   "mimetype": "text/x-python",
   "name": "python",
   "nbconvert_exporter": "python",
   "pygments_lexer": "ipython3",
   "version": "3.9.7"
  }
 },
 "nbformat": 4,
 "nbformat_minor": 5
}
