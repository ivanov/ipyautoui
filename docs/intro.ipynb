{
 "cells": [
  {
   "cell_type": "markdown",
   "id": "4ee45d5c-b7f4-4be2-814d-7a1274cf2c7c",
   "metadata": {},
   "source": [
    "# Documentation Index"
   ]
  },
  {
   "cell_type": "code",
   "execution_count": 3,
   "id": "4f93f259-7f94-4816-bc39-77bb3aa53b0d",
   "metadata": {
    "tags": [
     "remove-input"
    ]
   },
   "outputs": [
    {
     "data": {
      "text/markdown": [
       "\n",
       "# ipyautoui\n",
       "\n",
       "A high-level wrapper library that sits on top of [__ipywidgets__](https://github.com/jupyter-widgets/ipywidgets) ( other ipy- widget libraries), [__pydantic__](https://github.com/samuelcolvin/pydantic/) and Jupycter rich display system to template and automate the creation of widget forms / user-interfaces. The key user-facing classes in this library are __AutoUi__ and __DisplayFiles__:\n",
       "```python\n",
       "from ipyautoui import AutoUi, DisplayFiles\n",
       "```\n",
       "\n",
       "__Note__. This package intends to be high-level and thus so it sits on top of many other pacakges and libraries. As such, it is intentionally a \"heavy\" package with lots of dependencies.\n",
       "\n",
       "## AutoUi\n",
       "\n",
       "- AutoUi uses [__pydantic__](https://github.com/samuelcolvin/pydantic/) to define the schema of User Input form, and then infers the widget to use based on type and user-directives\n",
       "- Within the core package there are also custom high-level widgets (e.g. Array of items), as well as integration's with other popular widget libraries (e.g. ipydatagrid, ipyfilechooser): this both adds useful functionality not provided within the lower-level widget libraries as well as providing a template for how to extend the core functionality of ipyautoui to suit more specific use-cases. \n",
       "- ipyautoui handles observing the values of interface items, and maintains a stateful and validated `.value` parameter for the whole user input form.  \n",
       "- TODO: AutoUi also allows the user to specify the usage of [__ipyvuetify__](https://github.com/widgetti/ipyvuetify) and [__vuetify-jsonschema-form__](https://github.com/koumoul-dev/vuetify-jsonschema-form)\n",
       "    - __note__. this is the recommended approach for simple and generic input forms. Where custom UI objects are required these can be built using the ipyautoui core library. \n",
       "\n",
       "\n",
       "```python\n",
       "from pydantic import BaseModel, Field\n",
       "from ipyautoui import AutoUi\n",
       "\n",
       "class LineGraph(BaseModel):\n",
       "    \"\"\"parameters to define a simple `y=m*x + c` line graph\"\"\"\n",
       "    title: str = Field(default='line equation', description='add chart title here')\n",
       "    m: float = Field(default=2, description='gradient')\n",
       "    c: float = Field(default=5, description='intercept')\n",
       "    x_range: tuple[int, int] = Field(default=(0,5), ge=0, le=50, description='x-range for chart')\n",
       "    y_range: tuple[int, int] = Field(default=(0,5), ge=0, le=50, description='y-range for chart')\n",
       "    \n",
       "lg = LineGraph()\n",
       "ui = AutoUi(pydantic_obj=lg)\n",
       "ui\n",
       "```\n",
       "![](images/autoui-linegraph.png)\n",
       "\n",
       "```python\n",
       "ui.value  # there is a `value` trait that is always kept in-sync with the widget input form\n",
       "# {'title': 'line equation',\n",
       "#  'm': 2,\n",
       "#  'c': 5,\n",
       "#  'x_range': (0, 5),\n",
       "#  'y_range': (0, 5)}\n",
       "\n",
       "#  methods / stored values\n",
       "ui.file #  file data to .json file\n",
       "ui.value #  input form value dict\n",
       "ui.pydantic_obj #  input form pydantic model (note. value is created from this on_change)\n",
       "AutoUi.create_displayfile_renderer #  creates a json-serializable pointer \n",
       "AutoUi.parse_file #  init ui with data from .json file\n",
       "```\n",
       "\n",
       "__Current Limations__: \n",
       "\n",
       "- Doesn't support nested objects or arrays. Coming soon... \n",
       "\n",
       "## DisplayFiles (TODO: name change to display, facilitating display of database data?)\n",
       "\n",
       "- DisplayFiles uses Jupyter's rich display system and large ecosystem of 3rd party packages to create a simple and unified display wrapper to various filetypes.\n",
       "- The renderer for a given file is inferred from the file extension. \n",
       "     - TODO: where the datasource is not a file, the extension is a mapping code that maps a renderer to the datastructure of the data. \n",
       "- Custom renderer's can be \n",
       "\n",
       "\n",
       "\n",
       "\n",
       "## Development installation\n",
       "\n",
       "For a development installation (requires JupyterLab (version >= 3), yarn, and mamba.):\n",
       "\n",
       "```\n",
       "$ git clone https://github.com/jgunstone/ipyautoui\n",
       "$ cd ipyautoui\n",
       "$ mamba env create --file environment-dev.yml\n",
       "```\n"
      ],
      "text/plain": [
       "<IPython.core.display.Markdown object>"
      ]
     },
     "metadata": {},
     "output_type": "display_data"
    }
   ],
   "source": [
    "from IPython.display import Markdown, display\n",
    "display(Markdown(\"../README.md\"))"
   ]
  },
  {
   "cell_type": "code",
   "execution_count": null,
   "id": "079b07da-090e-48a2-94aa-0adfbf2463ed",
   "metadata": {},
   "outputs": [],
   "source": []
  },
  {
   "cell_type": "code",
   "execution_count": null,
   "id": "8b02751c-14f2-4191-ba26-ee6b079ab9a8",
   "metadata": {},
   "outputs": [],
   "source": []
  }
 ],
 "metadata": {
  "kernelspec": {
   "display_name": "Python 3 (ipykernel)",
   "language": "python",
   "name": "python3"
  },
  "language_info": {
   "codemirror_mode": {
    "name": "ipython",
    "version": 3
   },
   "file_extension": ".py",
   "mimetype": "text/x-python",
   "name": "python",
   "nbconvert_exporter": "python",
   "pygments_lexer": "ipython3",
   "version": "3.9.7"
  }
 },
 "nbformat": 4,
 "nbformat_minor": 5
}
