{
 "cells": [
  {
   "cell_type": "markdown",
   "id": "303cc091-ace5-4f4d-8a59-5d71eaa55c66",
   "metadata": {},
   "source": [
    "```{include} ../README.md\n",
    "```"
   ]
  },
  {
   "cell_type": "code",
   "execution_count": 11,
   "id": "beb3c88d-de94-41ea-bb90-c4a9052c7bc0",
   "metadata": {},
   "outputs": [
    {
     "name": "stdout",
     "output_type": "stream",
     "text": [
      "I'm a test_callable\n",
      "{'obj': <function test_callable at 0x7f1f590deee0>}\n"
     ]
    },
    {
     "data": {
      "text/plain": [
       "'{\"obj\": \"__main__.test_callable\"}'"
      ]
     },
     "execution_count": 11,
     "metadata": {},
     "output_type": "execute_result"
    }
   ],
   "source": [
    "import typing \n",
    "from pydantic import BaseModel\n",
    "\n",
    "def obj_to_importstr(obj: typing.Callable)->str:\n",
    "    \"\"\"\n",
    "    given a callable callable object this will return the \n",
    "    import string to. From the string the object can be \n",
    "    initiated again using importlib. This is useful for \n",
    "    defining a function or class in a json serializable manner\n",
    "    \n",
    "    Args:\n",
    "        obj: typing.Callable\n",
    "    Returns: \n",
    "        str: import string\n",
    "        \n",
    "    Example:\n",
    "        >>> obj_from_importstr(pathlib.Path)\n",
    "        'pathlib.Path'\n",
    "    \"\"\"\n",
    "    try:\n",
    "        mod = obj.__module__\n",
    "    except:\n",
    "        raise ValueError(f'{str(obj)} doesnt have a __module__ attribute.')\n",
    "    try: \n",
    "        nm = obj.__name__\n",
    "    except:\n",
    "        raise ValueError(f'{str(obj)} doesnt have a __name__ attribute. (might be a functool.partial?)')\n",
    "\n",
    "    return mod +'.'+ nm\n",
    "\n",
    "def test_callable():\n",
    "    print(\"I'm a test_callable\")\n",
    "\n",
    "\n",
    "from types import FunctionType\n",
    "\n",
    "class Test(BaseModel):\n",
    "    obj: typing.Callable\n",
    "    \n",
    "        \n",
    "    class Config:\n",
    "        json_encoders = {\n",
    "            FunctionType: lambda v: obj_to_importstr(v),\n",
    "        }\n",
    "\n",
    "test_callable()\n",
    "print(Test(obj=test_callable).dict())      \n",
    "Test(obj=test_callable).json()"
   ]
  },
  {
   "cell_type": "code",
   "execution_count": 14,
   "id": "02051b2b-b38e-4ab2-8fce-e1ccf13e6b60",
   "metadata": {},
   "outputs": [
    {
     "data": {
      "text/plain": [
       "PosixPath('mypath.csv')"
      ]
     },
     "execution_count": 14,
     "metadata": {},
     "output_type": "execute_result"
    }
   ],
   "source": [
    "import pathlib\n",
    "pathlib.Path(pathlib.Path('mypath.csv'))"
   ]
  },
  {
   "cell_type": "code",
   "execution_count": null,
   "id": "f5fcd74f-5009-41d6-8173-c5c53bc2b250",
   "metadata": {},
   "outputs": [],
   "source": []
  }
 ],
 "metadata": {
  "kernelspec": {
   "display_name": "Python 3 (ipykernel)",
   "language": "python",
   "name": "python3"
  },
  "language_info": {
   "codemirror_mode": {
    "name": "ipython",
    "version": 3
   },
   "file_extension": ".py",
   "mimetype": "text/x-python",
   "name": "python",
   "nbconvert_exporter": "python",
   "pygments_lexer": "ipython3",
   "version": "3.9.7"
  }
 },
 "nbformat": 4,
 "nbformat_minor": 5
}
