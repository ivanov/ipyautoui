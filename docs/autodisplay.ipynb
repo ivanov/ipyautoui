{
 "cells": [
  {
   "cell_type": "markdown",
   "id": "5119f197-19da-488e-a15f-5c478f55cbef",
   "metadata": {},
   "source": [
    "# AutoDisplay"
   ]
  },
  {
   "cell_type": "code",
   "execution_count": null,
   "id": "7b833bf5-5c24-4e38-8d2e-393558dde75e",
   "metadata": {},
   "outputs": [],
   "source": []
  }
 ],
 "metadata": {
  "kernelspec": {
   "display_name": "Python 3 (ipykernel)",
   "language": "python",
   "name": "python3"
  },
  "language_info": {
   "codemirror_mode": {
    "name": "ipython",
    "version": 3
   },
   "file_extension": ".py",
   "mimetype": "text/x-python",
   "name": "python",
   "nbconvert_exporter": "python",
   "pygments_lexer": "ipython3",
   "version": "3.9.7"
  }
 },
 "nbformat": 4,
 "nbformat_minor": 5
}
