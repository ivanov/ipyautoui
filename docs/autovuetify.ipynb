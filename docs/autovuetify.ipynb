{
 "cells": [
  {
   "cell_type": "code",
   "execution_count": 1,
   "id": "7ba8c00d",
   "metadata": {
    "tags": [
     "remove-input"
    ]
   },
   "outputs": [],
   "source": [
    "%run ../src/ipyautoui/__init__.py\n",
    "%load_ext lab_black"
   ]
  },
  {
   "cell_type": "markdown",
   "id": "ecc7e43a",
   "metadata": {
    "tags": []
   },
   "source": [
    "# AutoVuetify"
   ]
  },
  {
   "cell_type": "markdown",
   "id": "aa67ab0e",
   "metadata": {},
   "source": [
    "`AutoVuetify` works in exactly the same way as `AutoUi`, but instead of using `ipywidgets` to render the JSON schema it uses [ipyvuetify](https://github.com/widgetti/ipyvuetify) and [vuetify-jsonschema-form](https://github.com/koumoul-dev/vuetify-jsonschema-form). \n",
    "\n"
   ]
  },
  {
   "cell_type": "markdown",
   "id": "79c6f3ec-327d-423f-b244-872d5b1b4b15",
   "metadata": {},
   "source": [
    ":::{admonition} [vuetify-jsonschema-form documentation](https://koumoul-dev.github.io/vuetify-jsonschema-form/latest/) is awesome! \n",
    ":class: tip\n",
    "See there docs and the Video below to see what you can do. \n",
    "Once you've created a schema based on those docs it ___should___ work with \n",
    "AutoVuetify\n",
    ":::"
   ]
  },
  {
   "cell_type": "code",
   "execution_count": 2,
   "id": "d5f79a9d-3ff6-40d6-bcb3-ca7258575662",
   "metadata": {
    "tags": [
     "hide-input"
    ]
   },
   "outputs": [
    {
     "data": {
      "text/html": [
       "\n",
       "        <iframe\n",
       "            width=\"560\"\n",
       "            height=\"315\"\n",
       "            src=\"https://videos.koumoul.com/videos/embed/dd75bf3b-8830-4296-be8b-ec2286b76da3?sandbox=allow-same-origin+allow-scripts+allow-popups&frameborder=0\"\n",
       "            frameborder=\"0\"\n",
       "            allowfullscreen\n",
       "            \n",
       "        ></iframe>\n",
       "        "
      ],
      "text/plain": [
       "<IPython.lib.display.IFrame at 0x7f54186296a0>"
      ]
     },
     "execution_count": 2,
     "metadata": {},
     "output_type": "execute_result"
    }
   ],
   "source": [
    "from IPython.display import IFrame\n",
    "\n",
    "IFrame(\n",
    "    width=\"560\",\n",
    "    height=\"315\",\n",
    "    sandbox=\"allow-same-origin allow-scripts allow-popups\",\n",
    "    frameborder=\"0\",\n",
    "    src=\"https://videos.koumoul.com/videos/embed/dd75bf3b-8830-4296-be8b-ec2286b76da3\",\n",
    ")"
   ]
  },
  {
   "cell_type": "markdown",
   "id": "b5dd1ae4-6a9e-4409-bea5-0fde7e8e97d5",
   "metadata": {},
   "source": [
    "```{note} vjsf uses __\"-\"__ in the schema keys for specifying formatting (e.g. \"x-display\")...\n",
    "when you're using pydantic to make the schema, __\"-\"__ cannot be used field names, use __\"_\"__ instead (e.g. \"x_display\") and AutoVuetify does the conversion. \n",
    "```"
   ]
  },
  {
   "cell_type": "markdown",
   "id": "3de4e57c-36b0-4ac9-a2e1-650bd7ebdd0c",
   "metadata": {},
   "source": [
    "```{warning} the code below won't output correctly in HTML \n",
    "Try running with Binder! \n",
    "TODO: make it work with binder\n",
    "```"
   ]
  },
  {
   "cell_type": "code",
   "execution_count": 3,
   "id": "c8630081",
   "metadata": {},
   "outputs": [],
   "source": [
    "from ipyautoui import AutoVuetify\n",
    "import json\n",
    "from pydantic import BaseModel, Field\n",
    "from ipyautoui.constants import DIR_MODULE\n",
    "from ipyautoui._utils import obj_from_string, display_pydantic_json\n",
    "import ipyautoui"
   ]
  },
  {
   "cell_type": "markdown",
   "id": "21a44310",
   "metadata": {},
   "source": [
    "## Creating Simple Widget"
   ]
  },
  {
   "cell_type": "markdown",
   "id": "89a3984e",
   "metadata": {},
   "source": [
    "So let's create a simple pydantic class. Here we have one text field."
   ]
  },
  {
   "cell_type": "code",
   "execution_count": 4,
   "id": "b0cb559e",
   "metadata": {},
   "outputs": [],
   "source": [
    "# create a pydantic model (or a json-schema) defining the fields of interest\n",
    "class AutoUiExample(BaseModel):\n",
    "    text: str = Field(default=\"Test\", description=\"This description is very important\")\n",
    "\n",
    "value = {\"text\": \"this is a value\"}\n",
    "ui = AutoVuetify(schema=AutoUiExample, value=value)\n",
    "#  display(ui) # uncomment"
   ]
  },
  {
   "cell_type": "markdown",
   "id": "9e97be5c",
   "metadata": {
    "tags": []
   },
   "source": [
    "## Writing to JSON"
   ]
  },
  {
   "cell_type": "markdown",
   "id": "c6d93fb4",
   "metadata": {},
   "source": [
    "Let's define the save location."
   ]
  },
  {
   "cell_type": "code",
   "execution_count": 5,
   "id": "ce2e69e0",
   "metadata": {},
   "outputs": [
    {
     "name": "stdout",
     "output_type": "stream",
     "text": [
      "Save Location is: test.simpleaui.json\n"
     ]
    }
   ],
   "source": [
    "import pathlib\n",
    "\n",
    "save_path = pathlib.Path(\".\") / \"test.simpleaui.json\"\n",
    "print(f\"Save Location is: {save_path}\")"
   ]
  },
  {
   "cell_type": "code",
   "execution_count": 6,
   "id": "b4c3a453",
   "metadata": {},
   "outputs": [],
   "source": [
    "ui.file(path=save_path)\n",
    "AutoVuetifyRenderer = AutoVuetify.create_autoui_renderer(\n",
    "    schema=AutoUiExample, fn_onsave=lambda: print(\"done\")\n",
    ")\n",
    "ui_file = AutoVuetifyRenderer(path=save_path)\n",
    "#  display(ui_file) # uncomment"
   ]
  },
  {
   "cell_type": "markdown",
   "id": "925bb996",
   "metadata": {},
   "source": [
    "### A more Complex Example Model"
   ]
  },
  {
   "cell_type": "markdown",
   "id": "a59a323d",
   "metadata": {},
   "source": [
    "Let's look at a complete pydantic model producing all of the possible widgets. \n",
    "within `import ipyautoui.test_schema` there is a class called `TestAutoLogic` that outlines what is possible. \n",
    "Explore the python file below."
   ]
  },
  {
   "cell_type": "code",
   "execution_count": 7,
   "id": "11f51204",
   "metadata": {},
   "outputs": [],
   "source": [
    "from ipyautoui.test_schema import TestAutoLogic  # the schema shown in the file above\n",
    "import ipywidgets as widgets\n",
    "from ipyautoui._utils import display_python_module\n",
    "from IPython.display import Markdown\n",
    "\n",
    "DIR_EXAMPLE = pathlib.Path(\".\")\n",
    "\n",
    "save_path = DIR_EXAMPLE / \"test.complexaui.json\"\n",
    "\n",
    "AutoVuetifyRenderer = AutoVuetify.create_autoui_renderer(\n",
    "    schema=TestAutoLogic, fn_onsave=lambda: print(\"saved\")\n",
    ")\n",
    "ui_complex = AutoVuetifyRenderer(path=save_path)\n",
    "ui_complex.file(path=save_path)\n",
    "s_py = display_python_module(ipyautoui.test_schema, show=False, return_str=True)\n",
    "out_py = widgets.Output()\n",
    "with out_py:\n",
    "    display(Markdown(s_py))\n",
    "\n",
    "\n",
    "s_js = f\"\"\"\n",
    "```json\n",
    "{json.dumps(ui_complex.value, indent=4)}\n",
    "```\n",
    "\"\"\"\n",
    "out_json = widgets.Output()\n",
    "with out_json:\n",
    "    display(Markdown(s_js))\n",
    "\n",
    "tab = widgets.Tab([ui_complex, out_py, out_json])\n",
    "titles = {0: \"AutoUi\", 1: \"pydantic-model\", 2: \"autoui value\"}\n",
    "tab._titles = titles\n",
    "#tab"
   ]
  }
 ],
 "metadata": {
  "kernelspec": {
   "display_name": "Python 3 (ipykernel)",
   "language": "python",
   "name": "python3"
  },
  "language_info": {
   "codemirror_mode": {
    "name": "ipython",
    "version": 3
   },
   "file_extension": ".py",
   "mimetype": "text/x-python",
   "name": "python",
   "nbconvert_exporter": "python",
   "pygments_lexer": "ipython3",
   "version": "3.9.7"
  }
 },
 "nbformat": 4,
 "nbformat_minor": 5
}
